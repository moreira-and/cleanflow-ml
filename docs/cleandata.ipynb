{
 "cells": [
  {
   "cell_type": "markdown",
   "id": "eff67105",
   "metadata": {},
   "source": [
    "# feature_selection "
   ]
  },
  {
   "cell_type": "markdown",
   "id": "703c92a9",
   "metadata": {},
   "source": [
    "## Introdução"
   ]
  },
  {
   "cell_type": "markdown",
   "id": "c63ace81",
   "metadata": {},
   "source": [
    "Estruturar o raciocínio:\n",
    "- **(1) Entendimento conceitual profundo:** por que *feature selection* existe, qual o problema que ela resolve e como o `sklearn.feature_selection` se encaixa.\n",
    "- **(2) Estratégias principais de seleção de features:** visão geral das abordagens dentro do `sklearn`.\n",
    "- **(3) Casos práticos típicos:** exemplos reais que motivam o uso.\n",
    "- **(4) Linha de raciocínio prática:** como um especialista pensa ao escolher métodos e interpretar resultados.\n",
    "- **(5) Demonstração com exemplos em código.  \n",
    "\n",
    "Vou ser bem técnico e aplicar visão de especialista, mas de forma didática.\n",
    "\n",
    "---\n",
    "\n",
    "## (1) Entendimento conceitual profundo\n",
    "\n",
    "**Por que feature selection é necessário?**\n",
    "\n",
    "- **Reduzir overfitting:** Features irrelevantes introduzem ruído no modelo → aumenta o risco do modelo aprender padrões falsos.\n",
    "- **Aumentar a acurácia:** Removendo variáveis inúteis, o modelo foca no que importa.\n",
    "- **Melhorar a interpretabilidade:** Menos variáveis = modelos mais compreensíveis.\n",
    "- **Reduzir custo computacional:** Especialmente em bases grandes.\n",
    "\n",
    "**Problema real:** Muitos datasets vêm com variáveis que não têm relação causal, são redundantes ou apenas carregam ruído.\n",
    "\n",
    "---\n",
    "\n",
    "**Onde a `sklearn.feature_selection` entra?**\n",
    "\n",
    "O `sklearn.feature_selection` fornece métodos prontos para:\n",
    "- **Selecionar** variáveis úteis,\n",
    "- **Rankear** a importância das variáveis,\n",
    "- **Eliminá-las** de forma sistemática, com base em estatísticas ou aprendizado de máquina.\n",
    "\n",
    "A biblioteca te dá ferramentas para aplicar estratégias distintas, dependendo do seu objetivo e do tipo de modelo que pretende construir.\n",
    "\n",
    "---\n",
    "\n",
    "## (2) Estratégias principais de seleção de features no sklearn\n",
    "\n",
    "Dentro do `sklearn.feature_selection`, temos três famílias de métodos:\n",
    "\n",
    "| Estratégia             | Como funciona                                    | Exemplos (`sklearn`)                   |\n",
    "|-------------------------|--------------------------------------------------|----------------------------------------|\n",
    "| **Filter methods**       | Avalia cada feature independentemente do modelo | `SelectKBest`, `VarianceThreshold`    |\n",
    "| **Wrapper methods**      | Usa o desempenho do modelo como critério        | `RFE`, `RFECV`                        |\n",
    "| **Embedded methods**     | Seleção é parte do treinamento do modelo        | `SelectFromModel` com Lasso, árvores  |\n",
    "\n",
    "**Resumo:**  \n",
    "- Filter = Pré-processamento → Estatísticas simples  \n",
    "- Wrapper = Busca guiada → Modelos treinados muitas vezes  \n",
    "- Embedded = Já vem da natureza do modelo → Ex: regularização L1\n",
    "\n",
    "---\n",
    "\n",
    "## (3) Casos práticos típicos\n",
    "\n",
    "**Exemplo 1: Dataset com muitas variáveis categóricas dummies**\n",
    "\n",
    "- Problema: muitas dummies podem ser irrelevantes e confundir o modelo.\n",
    "- Solução: usar `SelectKBest` com teste de qui-quadrado (`chi2`) para manter apenas as mais relevantes.\n",
    "\n",
    "**Exemplo 2: Dataset numérico com alta correlação**\n",
    "\n",
    "- Problema: colinearidade entre variáveis (multicolinearidade) prejudica modelos lineares.\n",
    "- Solução: usar `VarianceThreshold` para eliminar variáveis quase constantes, seguido de análise de correlação manual.\n",
    "\n",
    "**Exemplo 3: Queremos otimizar um modelo de classificação**\n",
    "\n",
    "- Problema: alto número de variáveis gera overfitting.\n",
    "- Solução: usar `RFECV` (Recursive Feature Elimination + validação cruzada) para encontrar o conjunto ótimo de features.\n",
    "\n",
    "---\n",
    "\n",
    "## (4) Linha de raciocínio prática de um especialista\n",
    "\n",
    "**Como um especialista pensa sobre feature selection:**\n",
    "\n",
    "1. **Entender o tipo de dados:**\n",
    "   - Variáveis categóricas ou numéricas?\n",
    "   - Muitas variáveis altamente correlacionadas?\n",
    "   - Muitos valores ausentes?\n",
    "\n",
    "2. **Escolher o método adequado:**\n",
    "   - **Filter:** se quer uma limpeza rápida e preliminar.\n",
    "   - **Wrapper:** se precisa otimizar o desempenho do modelo a qualquer custo computacional.\n",
    "   - **Embedded:** se o modelo naturalmente faz seleção (ex: Lasso, Árvores).\n",
    "\n",
    "3. **Testar diferentes abordagens:**\n",
    "   - Não confiar apenas em um método.\n",
    "   - Comparar os resultados: feature selection pode ser instável (mudanças dependendo da aleatoriedade).\n",
    "\n",
    "4. **Olhar para o modelo, não só para os números:**\n",
    "   - Às vezes manter uma variável \"fraca\" faz sentido se for fácil de explicar para o negócio."
   ]
  },
  {
   "cell_type": "markdown",
   "id": "f14c6d65",
   "metadata": {},
   "source": [
    "## Exemplo 1: Filter Method com SelectKBest"
   ]
  },
  {
   "cell_type": "code",
   "execution_count": null,
   "id": "76f5e3d1",
   "metadata": {
    "vscode": {
     "languageId": "plaintext"
    }
   },
   "outputs": [],
   "source": [
    "from sklearn.datasets import load_breast_cancer\n",
    "from sklearn.feature_selection import SelectKBest, f_classif\n",
    "\n",
    "# Carregar dataset\n",
    "X, y = load_breast_cancer(return_X_y=True)\n",
    "\n",
    "# Selecionar as 5 melhores features\n",
    "selector = SelectKBest(score_func=f_classif, k=5)\n",
    "X_new = selector.fit_transform(X, y)\n",
    "\n",
    "# Ver quais features foram selecionadas\n",
    "selected_features = selector.get_support(indices=True)\n",
    "print(f\"Selected features indices: {selected_features}\")\n"
   ]
  },
  {
   "cell_type": "markdown",
   "id": "06cf1851",
   "metadata": {},
   "source": [
    "Aqui usamos `f_classif`, que é baseado em ANOVA F-test — ótimo para classificação."
   ]
  },
  {
   "cell_type": "markdown",
   "id": "9f77b8fe",
   "metadata": {},
   "source": [
    "## Exemplo 2: Wrapper Method com RFECV"
   ]
  },
  {
   "cell_type": "code",
   "execution_count": null,
   "id": "7d35af2b",
   "metadata": {
    "vscode": {
     "languageId": "plaintext"
    }
   },
   "outputs": [],
   "source": [
    "from sklearn.datasets import make_classification\n",
    "from sklearn.feature_selection import RFECV\n",
    "from sklearn.linear_model import LogisticRegression\n",
    "from sklearn.model_selection import StratifiedKFold\n",
    "\n",
    "# Gerar dataset\n",
    "X, y = make_classification(n_samples=1000, n_features=20, n_informative=5, random_state=42)\n",
    "\n",
    "# Criar modelo\n",
    "model = LogisticRegression()\n",
    "\n",
    "# Recursive Feature Elimination com validação cruzada\n",
    "rfecv = RFECV(\n",
    "    estimator=model,\n",
    "    step=1,\n",
    "    cv=StratifiedKFold(5),\n",
    "    scoring='accuracy'\n",
    ")\n",
    "\n",
    "rfecv.fit(X, y)\n",
    "\n",
    "print(f\"Optimal number of features: {rfecv.n_features_}\")\n",
    "print(f\"Selected features: {rfecv.support_}\")\n"
   ]
  },
  {
   "cell_type": "markdown",
   "id": "0d6259ed",
   "metadata": {},
   "source": [
    "Aqui o algoritmo *elimina recursivamente* a pior feature e treina de novo até encontrar o melhor conjunto de variáveis."
   ]
  },
  {
   "cell_type": "markdown",
   "id": "847a5713",
   "metadata": {},
   "source": [
    "## Exemplo 3: Embedded Method com SelectFromModel"
   ]
  },
  {
   "cell_type": "code",
   "execution_count": null,
   "id": "96b7b5bf",
   "metadata": {
    "vscode": {
     "languageId": "plaintext"
    }
   },
   "outputs": [],
   "source": [
    "from sklearn.ensemble import RandomForestClassifier\n",
    "from sklearn.feature_selection import SelectFromModel\n",
    "\n",
    "# Treinar modelo de árvore\n",
    "model = RandomForestClassifier(n_estimators=100)\n",
    "model.fit(X, y)\n",
    "\n",
    "# Selecionar features importantes\n",
    "sfm = SelectFromModel(model, threshold=\"mean\")\n",
    "X_selected = sfm.transform(X)\n",
    "\n",
    "print(f\"Shape antes: {X.shape}, depois da seleção: {X_selected.shape}\")\n"
   ]
  },
  {
   "cell_type": "markdown",
   "id": "90622017",
   "metadata": {},
   "source": [
    "O Random Forest calcula importâncias de features internamente → podemos eliminar as menos importantes automaticamente."
   ]
  },
  {
   "cell_type": "markdown",
   "id": "a4384758",
   "metadata": {},
   "source": [
    "## Conclusão"
   ]
  },
  {
   "cell_type": "markdown",
   "id": "4d4a3fe1",
   "metadata": {},
   "source": [
    "🔵 **Feature selection não é uma etapa isolada**: ela é interativa, dependendo do modelo, da métrica de avaliação e até da interpretação para o negócio.\n",
    "\n",
    "🔵 **Especialistas experimentam, avaliam e interpretam**, não apenas rodam um algoritmo.\n",
    "\n",
    "🔵 **`sklearn.feature_selection` é poderoso** porque cobre todos os principais tipos de técnicas, prontas para integrar no pipeline.\n",
    "\n",
    "---\n",
    "\n",
    "Se quiser, posso te mostrar ainda:\n",
    "- Como **integrar esses métodos em Pipelines do sklearn** (recomendado para projetos sérios).\n",
    "- Um **fluxograma de decisão** para saber qual método escolher em qual situação.\n",
    "- Casos mais avançados (ex: L1-based feature selection combinada com Random Forests).\n",
    "\n",
    "Quer que eu siga para algum desses? 🚀  \n",
    "(Ou se quiser, posso também sugerir projetos práticos para você treinar isso de verdade.)"
   ]
  }
 ],
 "metadata": {
  "language_info": {
   "name": "python"
  }
 },
 "nbformat": 4,
 "nbformat_minor": 5
}
