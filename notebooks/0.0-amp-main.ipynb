{
 "cells": [
  {
   "cell_type": "markdown",
   "id": "9f58e5c2",
   "metadata": {},
   "source": [
    "## Import libraries"
   ]
  },
  {
   "cell_type": "code",
   "execution_count": 2,
   "id": "e16446b8",
   "metadata": {},
   "outputs": [
    {
     "name": "stderr",
     "output_type": "stream",
     "text": [
      "\u001b[32m2025-07-14 21:48:39.924\u001b[0m | \u001b[1mINFO    \u001b[0m | \u001b[36msrc.config\u001b[0m:\u001b[36m<module>\u001b[0m:\u001b[36m11\u001b[0m - \u001b[1mPROJ_ROOT path is: C:\\Repositories\\time-series-prediction-rnn\u001b[0m\n"
     ]
    }
   ],
   "source": [
    "import sys\n",
    "import os\n",
    "\n",
    "# Adiciona a pasta raiz do projeto ao sys.path\n",
    "project_root = os.path.abspath(os.path.join(os.getcwd(), '..'))\n",
    "if project_root not in sys.path:\n",
    "    sys.path.insert(0, project_root)\n",
    "\n",
    "import src.config as config\n"
   ]
  },
  {
   "cell_type": "markdown",
   "id": "9bfd6425",
   "metadata": {},
   "source": [
    "## ETL — Extract, Transform, Load of Raw Dataset\n",
    "\n",
    "This section is responsible for the Extraction phase of the ETL process, pulling historical financial data from multiple sources as defined in the configuration file [dataset.yaml](../configs/dataset.yaml).\n",
    "\n",
    "- Data Storage: Each dataset is stored locally in the data/raw/ directory, organized and saved individually as .csv files for traceability and versioning.\n",
    "- Data Cleaning:\n",
    "  - Missing values are treated using a standard cleaning strategy.\n",
    "  - Features with low variance (threshold < 0.01) are removed to reduce noise and improve modeling efficiency. In this execution, no low-variance columns were found."
   ]
  },
  {
   "cell_type": "code",
   "execution_count": 2,
   "id": "7fdcd420",
   "metadata": {},
   "outputs": [
    {
     "name": "stdout",
     "output_type": "stream",
     "text": [
      "\u001b[32m2025-07-11 20:15:45.881\u001b[0m | \u001b[1mINFO    \u001b[0m | \u001b[36msrc.dataset\u001b[0m:\u001b[36mmain\u001b[0m:\u001b[36m33\u001b[0m - \u001b[1mStarting raw data loading...\u001b[0m\n",
      "\u001b[32m2025-07-11 20:15:45.881\u001b[0m | \u001b[1mINFO    \u001b[0m | \u001b[36msrc.dataset\u001b[0m:\u001b[36mmain\u001b[0m:\u001b[36m39\u001b[0m - \u001b[1mRequesting information between 2016-07-13 and 2025-07-11\u001b[0m\n",
      "\u001b[32m2025-07-11 20:15:45.895\u001b[0m | \u001b[1mINFO    \u001b[0m | \u001b[36msrc.utils.dataset.dataset_loading_strategy\u001b[0m:\u001b[36m_load_from_yfinance\u001b[0m:\u001b[36m56\u001b[0m - \u001b[1mDownloading IndBovespa (^BVSP) from yfinance...\u001b[0m\n"
     ]
    },
    {
     "name": "stderr",
     "output_type": "stream",
     "text": [
      "[*********************100%***********************]  1 of 1 completed\n"
     ]
    },
    {
     "name": "stdout",
     "output_type": "stream",
     "text": [
      "\u001b[32m2025-07-11 20:15:49.005\u001b[0m | \u001b[1mINFO    \u001b[0m | \u001b[36msrc.utils.dataset.dataset_loading_strategy\u001b[0m:\u001b[36m_load_from_yfinance\u001b[0m:\u001b[36m56\u001b[0m - \u001b[1mDownloading IndNasdaq (^IXIC) from yfinance...\u001b[0m\n"
     ]
    },
    {
     "name": "stderr",
     "output_type": "stream",
     "text": [
      "[*********************100%***********************]  1 of 1 completed\n"
     ]
    },
    {
     "name": "stdout",
     "output_type": "stream",
     "text": [
      "\u001b[32m2025-07-11 20:15:51.736\u001b[0m | \u001b[1mINFO    \u001b[0m | \u001b[36msrc.utils.dataset.dataset_loading_strategy\u001b[0m:\u001b[36m_load_from_yfinance\u001b[0m:\u001b[36m56\u001b[0m - \u001b[1mDownloading IndSp500 (^GSPC) from yfinance...\u001b[0m\n"
     ]
    },
    {
     "name": "stderr",
     "output_type": "stream",
     "text": [
      "[*********************100%***********************]  1 of 1 completed\n"
     ]
    },
    {
     "name": "stdout",
     "output_type": "stream",
     "text": [
      "\u001b[32m2025-07-11 20:15:54.448\u001b[0m | \u001b[1mINFO    \u001b[0m | \u001b[36msrc.utils.dataset.dataset_loading_strategy\u001b[0m:\u001b[36m_load_from_yfinance\u001b[0m:\u001b[36m56\u001b[0m - \u001b[1mDownloading IndDji (^DJI) from yfinance...\u001b[0m\n"
     ]
    },
    {
     "name": "stderr",
     "output_type": "stream",
     "text": [
      "[*********************100%***********************]  1 of 1 completed\n"
     ]
    },
    {
     "name": "stdout",
     "output_type": "stream",
     "text": [
      "\u001b[32m2025-07-11 20:15:57.152\u001b[0m | \u001b[1mINFO    \u001b[0m | \u001b[36msrc.utils.dataset.dataset_loading_strategy\u001b[0m:\u001b[36m_load_from_yfinance\u001b[0m:\u001b[36m56\u001b[0m - \u001b[1mDownloading BtcUsd (BTC-USD) from yfinance...\u001b[0m\n"
     ]
    },
    {
     "name": "stderr",
     "output_type": "stream",
     "text": [
      "[*********************100%***********************]  1 of 1 completed\n"
     ]
    },
    {
     "name": "stdout",
     "output_type": "stream",
     "text": [
      "\u001b[32m2025-07-11 20:16:00.410\u001b[0m | \u001b[1mINFO    \u001b[0m | \u001b[36msrc.utils.dataset.dataset_loading_strategy\u001b[0m:\u001b[36m_load_from_yfinance\u001b[0m:\u001b[36m56\u001b[0m - \u001b[1mDownloading EurUsd (EURUSD=X) from yfinance...\u001b[0m\n"
     ]
    },
    {
     "name": "stderr",
     "output_type": "stream",
     "text": [
      "[*********************100%***********************]  1 of 1 completed\n"
     ]
    },
    {
     "name": "stdout",
     "output_type": "stream",
     "text": [
      "\u001b[32m2025-07-11 20:16:03.343\u001b[0m | \u001b[1mINFO    \u001b[0m | \u001b[36msrc.utils.dataset.dataset_loading_strategy\u001b[0m:\u001b[36m_load_from_yfinance\u001b[0m:\u001b[36m56\u001b[0m - \u001b[1mDownloading FutOuro (GC=F) from yfinance...\u001b[0m\n"
     ]
    },
    {
     "name": "stderr",
     "output_type": "stream",
     "text": [
      "[*********************100%***********************]  1 of 1 completed\n"
     ]
    },
    {
     "name": "stdout",
     "output_type": "stream",
     "text": [
      "\u001b[32m2025-07-11 20:16:06.170\u001b[0m | \u001b[1mINFO    \u001b[0m | \u001b[36msrc.utils.dataset.dataset_loading_strategy\u001b[0m:\u001b[36m_load_from_yfinance\u001b[0m:\u001b[36m56\u001b[0m - \u001b[1mDownloading FutPrata (SI=F) from yfinance...\u001b[0m\n"
     ]
    },
    {
     "name": "stderr",
     "output_type": "stream",
     "text": [
      "[*********************100%***********************]  1 of 1 completed\n"
     ]
    },
    {
     "name": "stdout",
     "output_type": "stream",
     "text": [
      "\u001b[32m2025-07-11 20:16:08.765\u001b[0m | \u001b[1mINFO    \u001b[0m | \u001b[36msrc.utils.dataset.dataset_loading_strategy\u001b[0m:\u001b[36m_load_from_yfinance\u001b[0m:\u001b[36m56\u001b[0m - \u001b[1mDownloading futCobre (HG=F) from yfinance...\u001b[0m\n"
     ]
    },
    {
     "name": "stderr",
     "output_type": "stream",
     "text": [
      "[*********************100%***********************]  1 of 1 completed\n"
     ]
    },
    {
     "name": "stdout",
     "output_type": "stream",
     "text": [
      "\u001b[32m2025-07-11 20:16:11.490\u001b[0m | \u001b[1mINFO    \u001b[0m | \u001b[36msrc.utils.dataset.dataset_loading_strategy\u001b[0m:\u001b[36m_load_from_yfinance\u001b[0m:\u001b[36m56\u001b[0m - \u001b[1mDownloading FutPetroleo (CL=F) from yfinance...\u001b[0m\n"
     ]
    },
    {
     "name": "stderr",
     "output_type": "stream",
     "text": [
      "[*********************100%***********************]  1 of 1 completed\n"
     ]
    },
    {
     "name": "stdout",
     "output_type": "stream",
     "text": [
      "\u001b[32m2025-07-11 20:16:14.281\u001b[0m | \u001b[1mINFO    \u001b[0m | \u001b[36msrc.utils.dataset.dataset_loading_strategy\u001b[0m:\u001b[36m_load_from_yfinance\u001b[0m:\u001b[36m56\u001b[0m - \u001b[1mDownloading FutOleo (HO=F) from yfinance...\u001b[0m\n"
     ]
    },
    {
     "name": "stderr",
     "output_type": "stream",
     "text": [
      "[*********************100%***********************]  1 of 1 completed\n"
     ]
    },
    {
     "name": "stdout",
     "output_type": "stream",
     "text": [
      "\u001b[32m2025-07-11 20:16:17.096\u001b[0m | \u001b[1mINFO    \u001b[0m | \u001b[36msrc.utils.dataset.dataset_loading_strategy\u001b[0m:\u001b[36m_load_from_yfinance\u001b[0m:\u001b[36m56\u001b[0m - \u001b[1mDownloading FutGasNatural (NG=F) from yfinance...\u001b[0m\n"
     ]
    },
    {
     "name": "stderr",
     "output_type": "stream",
     "text": [
      "[*********************100%***********************]  1 of 1 completed\n"
     ]
    },
    {
     "name": "stdout",
     "output_type": "stream",
     "text": [
      "\u001b[32m2025-07-11 20:16:19.954\u001b[0m | \u001b[1mINFO    \u001b[0m | \u001b[36msrc.utils.dataset.dataset_loading_strategy\u001b[0m:\u001b[36m_load_from_yfinance\u001b[0m:\u001b[36m56\u001b[0m - \u001b[1mDownloading FutGasolina (RB=F) from yfinance...\u001b[0m\n"
     ]
    },
    {
     "name": "stderr",
     "output_type": "stream",
     "text": [
      "[*********************100%***********************]  1 of 1 completed\n"
     ]
    },
    {
     "name": "stdout",
     "output_type": "stream",
     "text": [
      "\u001b[32m2025-07-11 20:16:22.687\u001b[0m | \u001b[1mINFO    \u001b[0m | \u001b[36msrc.utils.dataset.dataset_loading_strategy\u001b[0m:\u001b[36m_load_from_yfinance\u001b[0m:\u001b[36m56\u001b[0m - \u001b[1mDownloading FutAcucar (SB=F) from yfinance...\u001b[0m\n"
     ]
    },
    {
     "name": "stderr",
     "output_type": "stream",
     "text": [
      "[*********************100%***********************]  1 of 1 completed\n"
     ]
    },
    {
     "name": "stdout",
     "output_type": "stream",
     "text": [
      "\u001b[32m2025-07-11 20:16:25.433\u001b[0m | \u001b[1mINFO    \u001b[0m | \u001b[36msrc.utils.dataset.dataset_loading_strategy\u001b[0m:\u001b[36m_load_from_yfinance\u001b[0m:\u001b[36m56\u001b[0m - \u001b[1mDownloading FutMilho (ZC=F) from yfinance...\u001b[0m\n"
     ]
    },
    {
     "name": "stderr",
     "output_type": "stream",
     "text": [
      "[*********************100%***********************]  1 of 1 completed\n"
     ]
    },
    {
     "name": "stdout",
     "output_type": "stream",
     "text": [
      "\u001b[32m2025-07-11 20:16:28.089\u001b[0m | \u001b[1mINFO    \u001b[0m | \u001b[36msrc.utils.dataset.dataset_loading_strategy\u001b[0m:\u001b[36m_load_from_yfinance\u001b[0m:\u001b[36m56\u001b[0m - \u001b[1mDownloading FutArroz (ZR=F) from yfinance...\u001b[0m\n"
     ]
    },
    {
     "name": "stderr",
     "output_type": "stream",
     "text": [
      "[*********************100%***********************]  1 of 1 completed\n"
     ]
    },
    {
     "name": "stdout",
     "output_type": "stream",
     "text": [
      "\u001b[32m2025-07-11 20:16:30.738\u001b[0m | \u001b[1mINFO    \u001b[0m | \u001b[36msrc.utils.dataset.dataset_loading_strategy\u001b[0m:\u001b[36m_load_from_yfinance\u001b[0m:\u001b[36m56\u001b[0m - \u001b[1mDownloading FutSoja (ZS=F) from yfinance...\u001b[0m\n"
     ]
    },
    {
     "name": "stderr",
     "output_type": "stream",
     "text": [
      "[*********************100%***********************]  1 of 1 completed\n"
     ]
    },
    {
     "name": "stdout",
     "output_type": "stream",
     "text": [
      "\u001b[32m2025-07-11 20:16:33.352\u001b[0m | \u001b[1mINFO    \u001b[0m | \u001b[36msrc.utils.dataset.dataset_loading_strategy\u001b[0m:\u001b[36m_load_from_yfinance\u001b[0m:\u001b[36m56\u001b[0m - \u001b[1mDownloading FutCafe (KC=F) from yfinance...\u001b[0m\n"
     ]
    },
    {
     "name": "stderr",
     "output_type": "stream",
     "text": [
      "[*********************100%***********************]  1 of 1 completed\n"
     ]
    },
    {
     "name": "stdout",
     "output_type": "stream",
     "text": [
      "\u001b[32m2025-07-11 20:16:35.934\u001b[0m | \u001b[1mINFO    \u001b[0m | \u001b[36msrc.utils.dataset.dataset_loading_strategy\u001b[0m:\u001b[36m_load_from_yfinance\u001b[0m:\u001b[36m56\u001b[0m - \u001b[1mDownloading FutGado (LE=F) from yfinance...\u001b[0m\n"
     ]
    },
    {
     "name": "stderr",
     "output_type": "stream",
     "text": [
      "[*********************100%***********************]  1 of 1 completed\n"
     ]
    },
    {
     "name": "stdout",
     "output_type": "stream",
     "text": [
      "\u001b[32m2025-07-11 20:16:38.638\u001b[0m | \u001b[1mINFO    \u001b[0m | \u001b[36msrc.utils.dataset.dataset_loading_strategy\u001b[0m:\u001b[36m_load_from_yfinance\u001b[0m:\u001b[36m56\u001b[0m - \u001b[1mDownloading FutPorco (HE=F) from yfinance...\u001b[0m\n"
     ]
    },
    {
     "name": "stderr",
     "output_type": "stream",
     "text": [
      "[*********************100%***********************]  1 of 1 completed\n"
     ]
    },
    {
     "name": "stdout",
     "output_type": "stream",
     "text": [
      "\u001b[32m2025-07-11 20:16:41.424\u001b[0m | \u001b[1mINFO    \u001b[0m | \u001b[36msrc.utils.dataset.dataset_loading_strategy\u001b[0m:\u001b[36m_load_from_yfinance\u001b[0m:\u001b[36m56\u001b[0m - \u001b[1mDownloading FutAlgodao (CT=F) from yfinance...\u001b[0m\n"
     ]
    },
    {
     "name": "stderr",
     "output_type": "stream",
     "text": [
      "[*********************100%***********************]  1 of 1 completed\n"
     ]
    },
    {
     "name": "stdout",
     "output_type": "stream",
     "text": [
      "\u001b[32m2025-07-11 20:16:44.173\u001b[0m | \u001b[1mINFO    \u001b[0m | \u001b[36msrc.utils.dataset.dataset_loading_strategy\u001b[0m:\u001b[36m_load_from_yfinance\u001b[0m:\u001b[36m56\u001b[0m - \u001b[1mDownloading JurosFuturo (ZB=F) from yfinance...\u001b[0m\n"
     ]
    },
    {
     "name": "stderr",
     "output_type": "stream",
     "text": [
      "[*********************100%***********************]  1 of 1 completed\n"
     ]
    },
    {
     "name": "stdout",
     "output_type": "stream",
     "text": [
      "\u001b[32m2025-07-11 20:16:46.986\u001b[0m | \u001b[1mINFO    \u001b[0m | \u001b[36msrc.utils.dataset.dataset_loading_strategy\u001b[0m:\u001b[36mload\u001b[0m:\u001b[36m81\u001b[0m - \u001b[1mDownloading SELIC (11) from the Central Bank of Brazil API...\u001b[0m\n",
      "\u001b[32m2025-07-11 20:17:05.283\u001b[0m | \u001b[1mINFO    \u001b[0m | \u001b[36msrc.utils.dataset.dataset_loading_strategy\u001b[0m:\u001b[36mload\u001b[0m:\u001b[36m81\u001b[0m - \u001b[1mDownloading CDI (12) from the Central Bank of Brazil API...\u001b[0m\n",
      "\u001b[32m2025-07-11 20:17:26.378\u001b[0m | \u001b[1mINFO    \u001b[0m | \u001b[36msrc.utils.dataset.dataset_loading_strategy\u001b[0m:\u001b[36mload\u001b[0m:\u001b[36m81\u001b[0m - \u001b[1mDownloading SELIC_Anual (1178) from the Central Bank of Brazil API...\u001b[0m\n",
      "\u001b[32m2025-07-11 20:17:44.762\u001b[0m | \u001b[1mINFO    \u001b[0m | \u001b[36msrc.utils.dataset.dataset_loading_strategy\u001b[0m:\u001b[36mload\u001b[0m:\u001b[36m81\u001b[0m - \u001b[1mDownloading SELIC_Meta_Anual (432) from the Central Bank of Brazil API...\u001b[0m\n",
      "\u001b[32m2025-07-11 20:18:14.944\u001b[0m | \u001b[33m\u001b[1mWARNING \u001b[0m | \u001b[36msrc.utils.dataset.dataset_loading_strategy\u001b[0m:\u001b[36m_request_bcb_series\u001b[0m:\u001b[36m118\u001b[0m - \u001b[33m\u001b[1mErro ao conectar à API do BCB: Expecting value: line 1 column 1 (char 0)\u001b[0m\n",
      "\u001b[32m2025-07-11 20:18:14.945\u001b[0m | \u001b[33m\u001b[1mWARNING \u001b[0m | \u001b[36msrc.utils.dataset.dataset_loading_strategy\u001b[0m:\u001b[36m_load_single_ticker\u001b[0m:\u001b[36m94\u001b[0m - \u001b[33m\u001b[1mNo data returned for SELIC_Meta_Anual (432)\u001b[0m\n",
      "\u001b[32m2025-07-11 20:18:16.950\u001b[0m | \u001b[1mINFO    \u001b[0m | \u001b[36msrc.utils.dataset.dataset_loading_strategy\u001b[0m:\u001b[36mload\u001b[0m:\u001b[36m81\u001b[0m - \u001b[1mDownloading IPCA_Mensal (433) from the Central Bank of Brazil API...\u001b[0m\n",
      "\u001b[32m2025-07-11 20:18:20.239\u001b[0m | \u001b[1mINFO    \u001b[0m | \u001b[36msrc.utils.dataset.dataset_loading_strategy\u001b[0m:\u001b[36mload\u001b[0m:\u001b[36m81\u001b[0m - \u001b[1mDownloading IGP_M_Mensal (189) from the Central Bank of Brazil API...\u001b[0m\n",
      "\u001b[32m2025-07-11 20:18:22.864\u001b[0m | \u001b[1mINFO    \u001b[0m | \u001b[36msrc.utils.dataset.dataset_loading_strategy\u001b[0m:\u001b[36mload\u001b[0m:\u001b[36m81\u001b[0m - \u001b[1mDownloading INCC_Mensal (192) from the Central Bank of Brazil API...\u001b[0m\n",
      "\u001b[32m2025-07-11 20:18:25.478\u001b[0m | \u001b[1mINFO    \u001b[0m | \u001b[36msrc.utils.dataset.dataset_loading_strategy\u001b[0m:\u001b[36mload\u001b[0m:\u001b[36m81\u001b[0m - \u001b[1mDownloading Indice_Condicoes_Econ_BR (27574) from the Central Bank of Brazil API...\u001b[0m\n",
      "\u001b[32m2025-07-11 20:18:28.262\u001b[0m | \u001b[1mINFO    \u001b[0m | \u001b[36msrc.utils.dataset.dataset_loading_strategy\u001b[0m:\u001b[36mload\u001b[0m:\u001b[36m81\u001b[0m - \u001b[1mDownloading Indice_Condicoes_Econ_BR_USD (29042) from the Central Bank of Brazil API...\u001b[0m\n",
      "\u001b[32m2025-07-11 20:18:30.829\u001b[0m | \u001b[1mINFO    \u001b[0m | \u001b[36msrc.utils.dataset.dataset_loading_strategy\u001b[0m:\u001b[36mload\u001b[0m:\u001b[36m81\u001b[0m - \u001b[1mDownloading Salario_Minimo (1619) from the Central Bank of Brazil API...\u001b[0m\n",
      "\u001b[32m2025-07-11 20:18:33.442\u001b[0m | \u001b[1mINFO    \u001b[0m | \u001b[36msrc.utils.dataset.dataset_loading_strategy\u001b[0m:\u001b[36mload\u001b[0m:\u001b[36m81\u001b[0m - \u001b[1mDownloading IBC_BR (24363) from the Central Bank of Brazil API...\u001b[0m\n",
      "\u001b[32m2025-07-11 20:18:36.269\u001b[0m | \u001b[1mINFO    \u001b[0m | \u001b[36msrc.utils.dataset.dataset_loading_strategy\u001b[0m:\u001b[36mload\u001b[0m:\u001b[36m81\u001b[0m - \u001b[1mDownloading Populacao_BR (21774) from the Central Bank of Brazil API...\u001b[0m\n",
      "\u001b[32m2025-07-11 20:18:38.706\u001b[0m | \u001b[1mINFO    \u001b[0m | \u001b[36msrc.utils.dataset.dataset_loading_strategy\u001b[0m:\u001b[36mload\u001b[0m:\u001b[36m81\u001b[0m - \u001b[1mDownloading PIB_Trimestral_Real (4380) from the Central Bank of Brazil API...\u001b[0m\n",
      "\u001b[32m2025-07-11 20:18:41.313\u001b[0m | \u001b[1mINFO    \u001b[0m | \u001b[36msrc.utils.dataset.dataset_loading_strategy\u001b[0m:\u001b[36mload\u001b[0m:\u001b[36m81\u001b[0m - \u001b[1mDownloading PIB_Anual_Corrente (7326) from the Central Bank of Brazil API...\u001b[0m\n",
      "\u001b[32m2025-07-11 20:18:43.720\u001b[0m | \u001b[1mINFO    \u001b[0m | \u001b[36msrc.utils.dataset.dataset_loading_strategy\u001b[0m:\u001b[36mload\u001b[0m:\u001b[36m81\u001b[0m - \u001b[1mDownloading Deflator_Implicito_PIB (1211) from the Central Bank of Brazil API...\u001b[0m\n",
      "\u001b[32m2025-07-11 20:18:46.064\u001b[0m | \u001b[1mINFO    \u001b[0m | \u001b[36msrc.utils.dataset.dataset_loading_strategy\u001b[0m:\u001b[36mload\u001b[0m:\u001b[36m136\u001b[0m - \u001b[1mDownloading BRL_USD (DEXBZUS) from DataReader...\u001b[0m\n",
      "\u001b[32m2025-07-11 20:18:50.168\u001b[0m | \u001b[1mINFO    \u001b[0m | \u001b[36msrc.utils.dataset.dataset_loading_strategy\u001b[0m:\u001b[36mload\u001b[0m:\u001b[36m136\u001b[0m - \u001b[1mDownloading CPI_USA (CPIAUCSL) from DataReader...\u001b[0m\n",
      "\u001b[32m2025-07-11 20:18:52.678\u001b[0m | \u001b[1mINFO    \u001b[0m | \u001b[36msrc.dataset\u001b[0m:\u001b[36mmain\u001b[0m:\u001b[36m58\u001b[0m - \u001b[1mSaved Yfinance_IndBovespa dataset to C:\\Repositories\\time-series-prediction-rnn\\data\\raw\\Yfinance_IndBovespa.csv\u001b[0m\n",
      "\u001b[32m2025-07-11 20:18:52.720\u001b[0m | \u001b[1mINFO    \u001b[0m | \u001b[36msrc.dataset\u001b[0m:\u001b[36mmain\u001b[0m:\u001b[36m58\u001b[0m - \u001b[1mSaved Yfinance_IndNasdaq dataset to C:\\Repositories\\time-series-prediction-rnn\\data\\raw\\Yfinance_IndNasdaq.csv\u001b[0m\n",
      "\u001b[32m2025-07-11 20:18:52.728\u001b[0m | \u001b[1mINFO    \u001b[0m | \u001b[36msrc.dataset\u001b[0m:\u001b[36mmain\u001b[0m:\u001b[36m58\u001b[0m - \u001b[1mSaved Yfinance_IndSp500 dataset to C:\\Repositories\\time-series-prediction-rnn\\data\\raw\\Yfinance_IndSp500.csv\u001b[0m\n",
      "\u001b[32m2025-07-11 20:18:52.745\u001b[0m | \u001b[1mINFO    \u001b[0m | \u001b[36msrc.dataset\u001b[0m:\u001b[36mmain\u001b[0m:\u001b[36m58\u001b[0m - \u001b[1mSaved Yfinance_IndDji dataset to C:\\Repositories\\time-series-prediction-rnn\\data\\raw\\Yfinance_IndDji.csv\u001b[0m\n",
      "\u001b[32m2025-07-11 20:18:52.778\u001b[0m | \u001b[1mINFO    \u001b[0m | \u001b[36msrc.dataset\u001b[0m:\u001b[36mmain\u001b[0m:\u001b[36m58\u001b[0m - \u001b[1mSaved Yfinance_BtcUsd dataset to C:\\Repositories\\time-series-prediction-rnn\\data\\raw\\Yfinance_BtcUsd.csv\u001b[0m\n",
      "\u001b[32m2025-07-11 20:18:52.795\u001b[0m | \u001b[1mINFO    \u001b[0m | \u001b[36msrc.dataset\u001b[0m:\u001b[36mmain\u001b[0m:\u001b[36m58\u001b[0m - \u001b[1mSaved Yfinance_EurUsd dataset to C:\\Repositories\\time-series-prediction-rnn\\data\\raw\\Yfinance_EurUsd.csv\u001b[0m\n",
      "\u001b[32m2025-07-11 20:18:52.825\u001b[0m | \u001b[1mINFO    \u001b[0m | \u001b[36msrc.dataset\u001b[0m:\u001b[36mmain\u001b[0m:\u001b[36m58\u001b[0m - \u001b[1mSaved Yfinance_FutOuro dataset to C:\\Repositories\\time-series-prediction-rnn\\data\\raw\\Yfinance_FutOuro.csv\u001b[0m\n",
      "\u001b[32m2025-07-11 20:18:52.845\u001b[0m | \u001b[1mINFO    \u001b[0m | \u001b[36msrc.dataset\u001b[0m:\u001b[36mmain\u001b[0m:\u001b[36m58\u001b[0m - \u001b[1mSaved Yfinance_FutPrata dataset to C:\\Repositories\\time-series-prediction-rnn\\data\\raw\\Yfinance_FutPrata.csv\u001b[0m\n",
      "\u001b[32m2025-07-11 20:18:52.862\u001b[0m | \u001b[1mINFO    \u001b[0m | \u001b[36msrc.dataset\u001b[0m:\u001b[36mmain\u001b[0m:\u001b[36m58\u001b[0m - \u001b[1mSaved Yfinance_futCobre dataset to C:\\Repositories\\time-series-prediction-rnn\\data\\raw\\Yfinance_futCobre.csv\u001b[0m\n",
      "\u001b[32m2025-07-11 20:18:52.878\u001b[0m | \u001b[1mINFO    \u001b[0m | \u001b[36msrc.dataset\u001b[0m:\u001b[36mmain\u001b[0m:\u001b[36m58\u001b[0m - \u001b[1mSaved Yfinance_FutPetroleo dataset to C:\\Repositories\\time-series-prediction-rnn\\data\\raw\\Yfinance_FutPetroleo.csv\u001b[0m\n",
      "\u001b[32m2025-07-11 20:18:52.911\u001b[0m | \u001b[1mINFO    \u001b[0m | \u001b[36msrc.dataset\u001b[0m:\u001b[36mmain\u001b[0m:\u001b[36m58\u001b[0m - \u001b[1mSaved Yfinance_FutOleo dataset to C:\\Repositories\\time-series-prediction-rnn\\data\\raw\\Yfinance_FutOleo.csv\u001b[0m\n",
      "\u001b[32m2025-07-11 20:18:52.928\u001b[0m | \u001b[1mINFO    \u001b[0m | \u001b[36msrc.dataset\u001b[0m:\u001b[36mmain\u001b[0m:\u001b[36m58\u001b[0m - \u001b[1mSaved Yfinance_FutGasNatural dataset to C:\\Repositories\\time-series-prediction-rnn\\data\\raw\\Yfinance_FutGasNatural.csv\u001b[0m\n",
      "\u001b[32m2025-07-11 20:18:52.945\u001b[0m | \u001b[1mINFO    \u001b[0m | \u001b[36msrc.dataset\u001b[0m:\u001b[36mmain\u001b[0m:\u001b[36m58\u001b[0m - \u001b[1mSaved Yfinance_FutGasolina dataset to C:\\Repositories\\time-series-prediction-rnn\\data\\raw\\Yfinance_FutGasolina.csv\u001b[0m\n",
      "\u001b[32m2025-07-11 20:18:52.977\u001b[0m | \u001b[1mINFO    \u001b[0m | \u001b[36msrc.dataset\u001b[0m:\u001b[36mmain\u001b[0m:\u001b[36m58\u001b[0m - \u001b[1mSaved Yfinance_FutAcucar dataset to C:\\Repositories\\time-series-prediction-rnn\\data\\raw\\Yfinance_FutAcucar.csv\u001b[0m\n",
      "\u001b[32m2025-07-11 20:18:52.994\u001b[0m | \u001b[1mINFO    \u001b[0m | \u001b[36msrc.dataset\u001b[0m:\u001b[36mmain\u001b[0m:\u001b[36m58\u001b[0m - \u001b[1mSaved Yfinance_FutMilho dataset to C:\\Repositories\\time-series-prediction-rnn\\data\\raw\\Yfinance_FutMilho.csv\u001b[0m\n",
      "\u001b[32m2025-07-11 20:18:53.010\u001b[0m | \u001b[1mINFO    \u001b[0m | \u001b[36msrc.dataset\u001b[0m:\u001b[36mmain\u001b[0m:\u001b[36m58\u001b[0m - \u001b[1mSaved Yfinance_FutArroz dataset to C:\\Repositories\\time-series-prediction-rnn\\data\\raw\\Yfinance_FutArroz.csv\u001b[0m\n",
      "\u001b[32m2025-07-11 20:18:53.028\u001b[0m | \u001b[1mINFO    \u001b[0m | \u001b[36msrc.dataset\u001b[0m:\u001b[36mmain\u001b[0m:\u001b[36m58\u001b[0m - \u001b[1mSaved Yfinance_FutSoja dataset to C:\\Repositories\\time-series-prediction-rnn\\data\\raw\\Yfinance_FutSoja.csv\u001b[0m\n",
      "\u001b[32m2025-07-11 20:18:53.045\u001b[0m | \u001b[1mINFO    \u001b[0m | \u001b[36msrc.dataset\u001b[0m:\u001b[36mmain\u001b[0m:\u001b[36m58\u001b[0m - \u001b[1mSaved Yfinance_FutCafe dataset to C:\\Repositories\\time-series-prediction-rnn\\data\\raw\\Yfinance_FutCafe.csv\u001b[0m\n",
      "\u001b[32m2025-07-11 20:18:53.062\u001b[0m | \u001b[1mINFO    \u001b[0m | \u001b[36msrc.dataset\u001b[0m:\u001b[36mmain\u001b[0m:\u001b[36m58\u001b[0m - \u001b[1mSaved Yfinance_FutGado dataset to C:\\Repositories\\time-series-prediction-rnn\\data\\raw\\Yfinance_FutGado.csv\u001b[0m\n",
      "\u001b[32m2025-07-11 20:18:53.094\u001b[0m | \u001b[1mINFO    \u001b[0m | \u001b[36msrc.dataset\u001b[0m:\u001b[36mmain\u001b[0m:\u001b[36m58\u001b[0m - \u001b[1mSaved Yfinance_FutPorco dataset to C:\\Repositories\\time-series-prediction-rnn\\data\\raw\\Yfinance_FutPorco.csv\u001b[0m\n",
      "\u001b[32m2025-07-11 20:18:53.120\u001b[0m | \u001b[1mINFO    \u001b[0m | \u001b[36msrc.dataset\u001b[0m:\u001b[36mmain\u001b[0m:\u001b[36m58\u001b[0m - \u001b[1mSaved Yfinance_FutAlgodao dataset to C:\\Repositories\\time-series-prediction-rnn\\data\\raw\\Yfinance_FutAlgodao.csv\u001b[0m\n",
      "\u001b[32m2025-07-11 20:18:53.128\u001b[0m | \u001b[1mINFO    \u001b[0m | \u001b[36msrc.dataset\u001b[0m:\u001b[36mmain\u001b[0m:\u001b[36m58\u001b[0m - \u001b[1mSaved Yfinance_JurosFuturo dataset to C:\\Repositories\\time-series-prediction-rnn\\data\\raw\\Yfinance_JurosFuturo.csv\u001b[0m\n",
      "\u001b[32m2025-07-11 20:18:53.145\u001b[0m | \u001b[1mINFO    \u001b[0m | \u001b[36msrc.dataset\u001b[0m:\u001b[36mmain\u001b[0m:\u001b[36m58\u001b[0m - \u001b[1mSaved Bcb_SELIC dataset to C:\\Repositories\\time-series-prediction-rnn\\data\\raw\\Bcb_SELIC.csv\u001b[0m\n",
      "\u001b[32m2025-07-11 20:18:53.160\u001b[0m | \u001b[1mINFO    \u001b[0m | \u001b[36msrc.dataset\u001b[0m:\u001b[36mmain\u001b[0m:\u001b[36m58\u001b[0m - \u001b[1mSaved Bcb_CDI dataset to C:\\Repositories\\time-series-prediction-rnn\\data\\raw\\Bcb_CDI.csv\u001b[0m\n",
      "\u001b[32m2025-07-11 20:18:53.161\u001b[0m | \u001b[1mINFO    \u001b[0m | \u001b[36msrc.dataset\u001b[0m:\u001b[36mmain\u001b[0m:\u001b[36m58\u001b[0m - \u001b[1mSaved Bcb_SELIC_Anual dataset to C:\\Repositories\\time-series-prediction-rnn\\data\\raw\\Bcb_SELIC_Anual.csv\u001b[0m\n",
      "\u001b[32m2025-07-11 20:18:53.161\u001b[0m | \u001b[1mINFO    \u001b[0m | \u001b[36msrc.dataset\u001b[0m:\u001b[36mmain\u001b[0m:\u001b[36m58\u001b[0m - \u001b[1mSaved Bcb_IPCA_Mensal dataset to C:\\Repositories\\time-series-prediction-rnn\\data\\raw\\Bcb_IPCA_Mensal.csv\u001b[0m\n",
      "\u001b[32m2025-07-11 20:18:53.178\u001b[0m | \u001b[1mINFO    \u001b[0m | \u001b[36msrc.dataset\u001b[0m:\u001b[36mmain\u001b[0m:\u001b[36m58\u001b[0m - \u001b[1mSaved Bcb_IGP_M_Mensal dataset to C:\\Repositories\\time-series-prediction-rnn\\data\\raw\\Bcb_IGP_M_Mensal.csv\u001b[0m\n",
      "\u001b[32m2025-07-11 20:18:53.178\u001b[0m | \u001b[1mINFO    \u001b[0m | \u001b[36msrc.dataset\u001b[0m:\u001b[36mmain\u001b[0m:\u001b[36m58\u001b[0m - \u001b[1mSaved Bcb_INCC_Mensal dataset to C:\\Repositories\\time-series-prediction-rnn\\data\\raw\\Bcb_INCC_Mensal.csv\u001b[0m\n",
      "\u001b[32m2025-07-11 20:18:53.178\u001b[0m | \u001b[1mINFO    \u001b[0m | \u001b[36msrc.dataset\u001b[0m:\u001b[36mmain\u001b[0m:\u001b[36m58\u001b[0m - \u001b[1mSaved Bcb_Indice_Condicoes_Econ_BR dataset to C:\\Repositories\\time-series-prediction-rnn\\data\\raw\\Bcb_Indice_Condicoes_Econ_BR.csv\u001b[0m\n",
      "\u001b[32m2025-07-11 20:18:53.195\u001b[0m | \u001b[1mINFO    \u001b[0m | \u001b[36msrc.dataset\u001b[0m:\u001b[36mmain\u001b[0m:\u001b[36m58\u001b[0m - \u001b[1mSaved Bcb_Indice_Condicoes_Econ_BR_USD dataset to C:\\Repositories\\time-series-prediction-rnn\\data\\raw\\Bcb_Indice_Condicoes_Econ_BR_USD.csv\u001b[0m\n",
      "\u001b[32m2025-07-11 20:18:53.195\u001b[0m | \u001b[1mINFO    \u001b[0m | \u001b[36msrc.dataset\u001b[0m:\u001b[36mmain\u001b[0m:\u001b[36m58\u001b[0m - \u001b[1mSaved Bcb_Salario_Minimo dataset to C:\\Repositories\\time-series-prediction-rnn\\data\\raw\\Bcb_Salario_Minimo.csv\u001b[0m\n",
      "\u001b[32m2025-07-11 20:18:53.195\u001b[0m | \u001b[1mINFO    \u001b[0m | \u001b[36msrc.dataset\u001b[0m:\u001b[36mmain\u001b[0m:\u001b[36m58\u001b[0m - \u001b[1mSaved Bcb_IBC_BR dataset to C:\\Repositories\\time-series-prediction-rnn\\data\\raw\\Bcb_IBC_BR.csv\u001b[0m\n",
      "\u001b[32m2025-07-11 20:18:53.212\u001b[0m | \u001b[1mINFO    \u001b[0m | \u001b[36msrc.dataset\u001b[0m:\u001b[36mmain\u001b[0m:\u001b[36m58\u001b[0m - \u001b[1mSaved Bcb_Populacao_BR dataset to C:\\Repositories\\time-series-prediction-rnn\\data\\raw\\Bcb_Populacao_BR.csv\u001b[0m\n",
      "\u001b[32m2025-07-11 20:18:53.216\u001b[0m | \u001b[1mINFO    \u001b[0m | \u001b[36msrc.dataset\u001b[0m:\u001b[36mmain\u001b[0m:\u001b[36m58\u001b[0m - \u001b[1mSaved Bcb_PIB_Trimestral_Real dataset to C:\\Repositories\\time-series-prediction-rnn\\data\\raw\\Bcb_PIB_Trimestral_Real.csv\u001b[0m\n",
      "\u001b[32m2025-07-11 20:18:53.221\u001b[0m | \u001b[1mINFO    \u001b[0m | \u001b[36msrc.dataset\u001b[0m:\u001b[36mmain\u001b[0m:\u001b[36m58\u001b[0m - \u001b[1mSaved Bcb_PIB_Anual_Corrente dataset to C:\\Repositories\\time-series-prediction-rnn\\data\\raw\\Bcb_PIB_Anual_Corrente.csv\u001b[0m\n",
      "\u001b[32m2025-07-11 20:18:53.228\u001b[0m | \u001b[1mINFO    \u001b[0m | \u001b[36msrc.dataset\u001b[0m:\u001b[36mmain\u001b[0m:\u001b[36m58\u001b[0m - \u001b[1mSaved Bcb_Deflator_Implicito_PIB dataset to C:\\Repositories\\time-series-prediction-rnn\\data\\raw\\Bcb_Deflator_Implicito_PIB.csv\u001b[0m\n",
      "\u001b[32m2025-07-11 20:18:53.228\u001b[0m | \u001b[1mINFO    \u001b[0m | \u001b[36msrc.dataset\u001b[0m:\u001b[36mmain\u001b[0m:\u001b[36m58\u001b[0m - \u001b[1mSaved DataReader_BRL_USD dataset to C:\\Repositories\\time-series-prediction-rnn\\data\\raw\\DataReader_BRL_USD.csv\u001b[0m\n",
      "\u001b[32m2025-07-11 20:18:53.245\u001b[0m | \u001b[1mINFO    \u001b[0m | \u001b[36msrc.dataset\u001b[0m:\u001b[36mmain\u001b[0m:\u001b[36m58\u001b[0m - \u001b[1mSaved DataReader_CPI_USA dataset to C:\\Repositories\\time-series-prediction-rnn\\data\\raw\\DataReader_CPI_USA.csv\u001b[0m\n"
     ]
    },
    {
     "name": "stderr",
     "output_type": "stream",
     "text": [
      "INFO:src.utils.dataset.clean_strategy:Executing CleanMissingValues...\n",
      "INFO:src.utils.dataset.clean_strategy:Executing CleanLowVariance with threshold=0.01...\n",
      "INFO:src.utils.dataset.clean_strategy:Columns removed due to low variance: Index([], dtype='object')\n"
     ]
    },
    {
     "name": "stdout",
     "output_type": "stream",
     "text": [
      "            Close_^BVSP  High_^BVSP  Low_^BVSP  Open_^BVSP  Volume_^BVSP  \\\n",
      "2025-07-05          NaN         NaN        NaN         NaN           NaN   \n",
      "2025-07-06          NaN         NaN        NaN         NaN           NaN   \n",
      "2025-07-07     139490.0    141342.0   139295.0    141265.0     6117300.0   \n",
      "2025-07-08     139303.0    139591.0   138770.0    139491.0     6750100.0   \n",
      "2025-07-09     137481.0    139331.0   137299.0    139303.0     7584500.0   \n",
      "2025-07-10     136743.0    137472.0   136015.0    137472.0     9566200.0   \n",
      "2025-07-11          NaN         NaN        NaN         NaN           NaN   \n",
      "\n",
      "             Close_^IXIC    High_^IXIC     Low_^IXIC    Open_^IXIC  \\\n",
      "2025-07-05           NaN           NaN           NaN           NaN   \n",
      "2025-07-06           NaN           NaN           NaN           NaN   \n",
      "2025-07-07  20412.519531  20511.820312  20323.019531  20490.550781   \n",
      "2025-07-08  20418.460938  20480.890625  20377.359375  20466.929688   \n",
      "2025-07-09  20611.339844  20645.410156  20486.380859  20522.089844   \n",
      "2025-07-10  20630.660156  20655.390625  20495.140625  20636.480469   \n",
      "2025-07-11           NaN           NaN           NaN           NaN   \n",
      "\n",
      "            Volume_^IXIC  ...  Indice_Condicoes_Econ_BR  \\\n",
      "2025-07-05           NaN  ...                       NaN   \n",
      "2025-07-06           NaN  ...                       NaN   \n",
      "2025-07-07  8.345710e+09  ...                       NaN   \n",
      "2025-07-08  8.437480e+09  ...                       NaN   \n",
      "2025-07-09  9.978310e+09  ...                       NaN   \n",
      "2025-07-10  9.781380e+09  ...                       NaN   \n",
      "2025-07-11           NaN  ...                       NaN   \n",
      "\n",
      "            Indice_Condicoes_Econ_BR_USD  Salario_Minimo  IBC_BR  \\\n",
      "2025-07-05                           NaN             NaN     NaN   \n",
      "2025-07-06                           NaN             NaN     NaN   \n",
      "2025-07-07                           NaN             NaN     NaN   \n",
      "2025-07-08                           NaN             NaN     NaN   \n",
      "2025-07-09                           NaN             NaN     NaN   \n",
      "2025-07-10                           NaN             NaN     NaN   \n",
      "2025-07-11                           NaN             NaN     NaN   \n",
      "\n",
      "            Populacao_BR  PIB_Trimestral_Real  PIB_Anual_Corrente  \\\n",
      "2025-07-05           NaN                  NaN                 NaN   \n",
      "2025-07-06           NaN                  NaN                 NaN   \n",
      "2025-07-07           NaN                  NaN                 NaN   \n",
      "2025-07-08           NaN                  NaN                 NaN   \n",
      "2025-07-09           NaN                  NaN                 NaN   \n",
      "2025-07-10           NaN                  NaN                 NaN   \n",
      "2025-07-11           NaN                  NaN                 NaN   \n",
      "\n",
      "            Deflator_Implicito_PIB  DEXBZUS  CPIAUCSL  \n",
      "2025-07-05                     NaN      NaN       NaN  \n",
      "2025-07-06                     NaN      NaN       NaN  \n",
      "2025-07-07                     NaN      NaN       NaN  \n",
      "2025-07-08                     NaN      NaN       NaN  \n",
      "2025-07-09                     NaN      NaN       NaN  \n",
      "2025-07-10                     NaN      NaN       NaN  \n",
      "2025-07-11                     NaN      NaN       NaN  \n",
      "\n",
      "[7 rows x 126 columns]\n",
      "\u001b[32m2025-07-11 20:18:53.761\u001b[0m | \u001b[32m\u001b[1mSUCCESS \u001b[0m | \u001b[36msrc.dataset\u001b[0m:\u001b[36mmain\u001b[0m:\u001b[36m69\u001b[0m - \u001b[32m\u001b[1mRaw data successfully loaded...\u001b[0m\n",
      "            Close_^BVSP  High_^BVSP  Low_^BVSP  Open_^BVSP  Volume_^BVSP  \\\n",
      "2025-07-02    -0.003569    0.002534  -0.003392    0.005264      0.388641   \n",
      "2025-07-03     0.013499    0.008961   0.004820   -0.003833     -0.309774   \n",
      "2025-07-04     0.003903    0.001649   0.011118    0.013499     -0.652379   \n",
      "2025-07-07    -0.014052   -0.001378  -0.009261    0.002391      1.893298   \n",
      "2025-07-08    -0.001341   -0.012388  -0.003769   -0.012558      0.103444   \n",
      "2025-07-09    -0.013079   -0.001863  -0.010600   -0.001348      0.123613   \n",
      "2025-07-10    -0.005368   -0.013342  -0.009352   -0.013144      0.261283   \n",
      "\n",
      "            Close_^IXIC  High_^IXIC  Low_^IXIC  Open_^IXIC  Volume_^IXIC  ...  \\\n",
      "2025-07-02     0.009416    0.002860   0.003796   -0.005236     -0.029306  ...   \n",
      "2025-07-03     0.010198    0.011143   0.014790    0.015521     -0.262669  ...   \n",
      "2025-07-04     0.000000    0.000000   0.000000    0.000000      0.000000  ...   \n",
      "2025-07-07    -0.009154   -0.005464  -0.007676   -0.000347      0.350895  ...   \n",
      "2025-07-08     0.000291   -0.001508   0.002674   -0.001153      0.010996  ...   \n",
      "2025-07-09     0.009446    0.008033   0.005350    0.002695      0.182617  ...   \n",
      "2025-07-10     0.000937    0.000483   0.000428    0.005574     -0.019736  ...   \n",
      "\n",
      "            Indice_Condicoes_Econ_BR  Indice_Condicoes_Econ_BR_USD  \\\n",
      "2025-07-02                       0.0                           0.0   \n",
      "2025-07-03                       0.0                           0.0   \n",
      "2025-07-04                       0.0                           0.0   \n",
      "2025-07-07                       0.0                           0.0   \n",
      "2025-07-08                       0.0                           0.0   \n",
      "2025-07-09                       0.0                           0.0   \n",
      "2025-07-10                       0.0                           0.0   \n",
      "\n",
      "            Salario_Minimo  IBC_BR  Populacao_BR  PIB_Trimestral_Real  \\\n",
      "2025-07-02             0.0     0.0           0.0                  0.0   \n",
      "2025-07-03             0.0     0.0           0.0                  0.0   \n",
      "2025-07-04             0.0     0.0           0.0                  0.0   \n",
      "2025-07-07             0.0     0.0           0.0                  0.0   \n",
      "2025-07-08             0.0     0.0           0.0                  0.0   \n",
      "2025-07-09             0.0     0.0           0.0                  0.0   \n",
      "2025-07-10             0.0     0.0           0.0                  0.0   \n",
      "\n",
      "            PIB_Anual_Corrente  Deflator_Implicito_PIB   DEXBZUS  CPIAUCSL  \n",
      "2025-07-02                 0.0                     0.0 -0.005551       0.0  \n",
      "2025-07-03                 0.0                     0.0 -0.001989       0.0  \n",
      "2025-07-04                 0.0                     0.0  0.000000       0.0  \n",
      "2025-07-07                 0.0                     0.0  0.000000       0.0  \n",
      "2025-07-08                 0.0                     0.0  0.000000       0.0  \n",
      "2025-07-09                 0.0                     0.0  0.000000       0.0  \n",
      "2025-07-10                 0.0                     0.0  0.000000       0.0  \n",
      "\n",
      "[7 rows x 126 columns]\n"
     ]
    },
    {
     "name": "stderr",
     "output_type": "stream",
     "text": [
      "c:\\Repositories\\time-series-prediction-rnn\\.venv\\Lib\\site-packages\\sklearn\\utils\\validation.py:1408: DataConversionWarning: A column-vector y was passed when a 1d array was expected. Please change the shape of y to (n_samples, ), for example using ravel().\n",
      "  y = column_or_1d(y, warn=True)\n",
      "c:\\Repositories\\time-series-prediction-rnn\\.venv\\Lib\\site-packages\\sklearn\\feature_selection\\_univariate_selection.py:112: RuntimeWarning: divide by zero encountered in divide\n",
      "  f = msb / msw\n",
      "INFO:src.utils.dataset.clean_strategy:Columns removed by f_classif: ['Volume_HO=F']\n",
      "c:\\Repositories\\time-series-prediction-rnn\\.venv\\Lib\\site-packages\\sklearn\\utils\\validation.py:1408: DataConversionWarning: A column-vector y was passed when a 1d array was expected. Please change the shape of y to (n_samples, ), for example using ravel().\n",
      "  y = column_or_1d(y, warn=True)\n",
      "INFO:src.utils.dataset.clean_strategy:Columns removed by f_regression: ['IGP_M_Mensal']\n"
     ]
    },
    {
     "name": "stdout",
     "output_type": "stream",
     "text": [
      "            Close_^BVSP  Volume_^BVSP  Volume_^GSPC  Volume_BTC-USD  \\\n",
      "2025-07-02    -0.003569      0.388641     -0.100330        0.275171   \n",
      "2025-07-03     0.013499     -0.309774     -0.401650       -0.102294   \n",
      "2025-07-04     0.003903     -0.652379      0.000000       -0.156022   \n",
      "2025-07-07    -0.014052      1.893298      0.550198        0.065685   \n",
      "2025-07-08    -0.001341      0.103444      0.095917       -0.024958   \n",
      "2025-07-09    -0.013079      0.123613     -0.161297        0.308142   \n",
      "2025-07-10    -0.005368      0.261283      0.115099        0.655720   \n",
      "\n",
      "            Volume_GC=F  Volume_CL=F  IPCA_Mensal  IGP_M_Mensal month_name  \\\n",
      "2025-07-02    -0.894879     0.372941          0.0           0.0       July   \n",
      "2025-07-03    -1.000000    -1.000000          0.0           0.0       July   \n",
      "2025-07-04     0.000000     0.000000          0.0           0.0       July   \n",
      "2025-07-07     0.000000     0.000000          0.0           0.0       July   \n",
      "2025-07-08     2.578740    -0.339593          0.0           0.0       July   \n",
      "2025-07-09    -0.874587     0.018478          0.0           0.0       July   \n",
      "2025-07-10     0.000000     0.000000          0.0           0.0       July   \n",
      "\n",
      "            week_of_month  ... Open_ZR=F  Volume_ZR=F  Volume_ZS=F  \\\n",
      "2025-07-02              1  ... -0.003555          0.0    -0.228776   \n",
      "2025-07-03              1  ... -0.000396          0.0    -1.000000   \n",
      "2025-07-04              1  ...  0.000000          0.0     0.000000   \n",
      "2025-07-07              2  ... -0.011895          0.0     0.000000   \n",
      "2025-07-08              2  ...  0.017657         -1.0    -0.805216   \n",
      "2025-07-09              2  ...  0.009069          0.0    -0.924686   \n",
      "2025-07-10              2  ... -0.016803          0.0     0.000000   \n",
      "\n",
      "            Volume_KC=F  Volume_LE=F  Volume_HE=F  Volume_CT=F  Volume_ZB=F  \\\n",
      "2025-07-02        -0.88    -0.139286    -0.168096         -1.0    -0.096774   \n",
      "2025-07-03        -1.00    -1.000000    -1.000000          0.0    -1.000000   \n",
      "2025-07-04         0.00     0.000000     0.000000          0.0     0.000000   \n",
      "2025-07-07         0.00     0.000000     0.000000          0.0     0.000000   \n",
      "2025-07-08        -1.00     0.948997    -0.361394          0.0    -0.252763   \n",
      "2025-07-09         0.00    -0.171438    -0.141758          0.0     0.120144   \n",
      "2025-07-10         0.00     0.000000     0.000000          0.0     0.000000   \n",
      "\n",
      "            Volume_HG=F  INCC_Mensal  \n",
      "2025-07-02    -0.210369          0.0  \n",
      "2025-07-03    -1.000000          0.0  \n",
      "2025-07-04     0.000000          0.0  \n",
      "2025-07-07     0.000000          0.0  \n",
      "2025-07-08     0.284123          0.0  \n",
      "2025-07-09    -0.070499          0.0  \n",
      "2025-07-10     0.000000          0.0  \n",
      "\n",
      "[7 rows x 34 columns]\n",
      "            Close_^BVSP  Volume_^BVSP  Volume_^GSPC  Volume_BTC-USD  \\\n",
      "2025-07-02    -0.003569      0.388641     -0.100330        0.275171   \n",
      "2025-07-03     0.013499     -0.309774     -0.401650       -0.102294   \n",
      "2025-07-04     0.003903     -0.652379      0.000000       -0.156022   \n",
      "2025-07-07    -0.014052      1.893298      0.550198        0.065685   \n",
      "2025-07-08    -0.001341      0.103444      0.095917       -0.024958   \n",
      "2025-07-09    -0.013079      0.123613     -0.161297        0.308142   \n",
      "2025-07-10    -0.005368      0.261283      0.115099        0.655720   \n",
      "\n",
      "            Volume_GC=F  Volume_CL=F  IPCA_Mensal  IGP_M_Mensal month_name  \\\n",
      "2025-07-02    -0.894879     0.372941          0.0           0.0       July   \n",
      "2025-07-03    -1.000000    -1.000000          0.0           0.0       July   \n",
      "2025-07-04     0.000000     0.000000          0.0           0.0       July   \n",
      "2025-07-07     0.000000     0.000000          0.0           0.0       July   \n",
      "2025-07-08     2.578740    -0.339593          0.0           0.0       July   \n",
      "2025-07-09    -0.874587     0.018478          0.0           0.0       July   \n",
      "2025-07-10     0.000000     0.000000          0.0           0.0       July   \n",
      "\n",
      "            week_of_month  ... Open_ZR=F  Volume_ZR=F  Volume_ZS=F  \\\n",
      "2025-07-02              1  ... -0.003555          0.0    -0.228776   \n",
      "2025-07-03              1  ... -0.000396          0.0    -1.000000   \n",
      "2025-07-04              1  ...  0.000000          0.0     0.000000   \n",
      "2025-07-07              2  ... -0.011895          0.0     0.000000   \n",
      "2025-07-08              2  ...  0.017657         -1.0    -0.805216   \n",
      "2025-07-09              2  ...  0.009069          0.0    -0.924686   \n",
      "2025-07-10              2  ... -0.016803          0.0     0.000000   \n",
      "\n",
      "            Volume_KC=F  Volume_LE=F  Volume_HE=F  Volume_CT=F  Volume_ZB=F  \\\n",
      "2025-07-02        -0.88    -0.139286    -0.168096         -1.0    -0.096774   \n",
      "2025-07-03        -1.00    -1.000000    -1.000000          0.0    -1.000000   \n",
      "2025-07-04         0.00     0.000000     0.000000          0.0     0.000000   \n",
      "2025-07-07         0.00     0.000000     0.000000          0.0     0.000000   \n",
      "2025-07-08        -1.00     0.948997    -0.361394          0.0    -0.252763   \n",
      "2025-07-09         0.00    -0.171438    -0.141758          0.0     0.120144   \n",
      "2025-07-10         0.00     0.000000     0.000000          0.0     0.000000   \n",
      "\n",
      "            Volume_HG=F  INCC_Mensal  \n",
      "2025-07-02    -0.210369          0.0  \n",
      "2025-07-03    -1.000000          0.0  \n",
      "2025-07-04     0.000000          0.0  \n",
      "2025-07-07     0.000000          0.0  \n",
      "2025-07-08     0.284123          0.0  \n",
      "2025-07-09    -0.070499          0.0  \n",
      "2025-07-10     0.000000          0.0  \n",
      "\n",
      "[7 rows x 34 columns]\n",
      "\u001b[32m2025-07-11 20:18:56.177\u001b[0m | \u001b[32m\u001b[1mSUCCESS \u001b[0m | \u001b[36msrc.dataset\u001b[0m:\u001b[36mmain\u001b[0m:\u001b[36m109\u001b[0m - \u001b[32m\u001b[1mClean data successfully loaded...\u001b[0m\n",
      "\u001b[32m2025-07-11 20:18:56.177\u001b[0m | \u001b[1mINFO    \u001b[0m | \u001b[36msrc.dataset\u001b[0m:\u001b[36mmain\u001b[0m:\u001b[36m113\u001b[0m - \u001b[1mTotal time taken: 190.30 seconds\u001b[0m\n"
     ]
    }
   ],
   "source": [
    "from src import dataset\n",
    "\n",
    "dataset.main(\n",
    "    # ---- REPLACE DEFAULT AS APPROPRIATE ----\n",
    "    asset = '^BVSP',\n",
    "    asset_focus = 'Close',\n",
    "    years = 9\n",
    "    # -----------------------------------------\n",
    "    )"
   ]
  },
  {
   "cell_type": "markdown",
   "id": "31fce4b8",
   "metadata": {},
   "source": [
    "## Feature Engineering — Time Series Preparation\n",
    "\n",
    "This part of the pipeline is responsible for transforming the cleaned dataset into structured features suitable for training time series models. It includes the following key steps:\n",
    "- Feature Generation: Constructs relevant features based on historical market data.\n",
    "- Dataset Splitting: The dataset is split into training and testing sets using a consistent strategy to preserve temporal structure.\n",
    "- Time Series Windowing: Converts the sequential data into overlapping windows, enabling the model to learn temporal dependencies.\n",
    "- Saving Artifacts: Both training and testing sets are stored for reproducibility, along with the transformation pipelines applied during preprocessing."
   ]
  },
  {
   "cell_type": "code",
   "execution_count": 3,
   "id": "64946194",
   "metadata": {},
   "outputs": [
    {
     "name": "stdout",
     "output_type": "stream",
     "text": [
      "\u001b[32m2025-07-14 21:48:51.881\u001b[0m | \u001b[1mINFO    \u001b[0m | \u001b[36msrc.features\u001b[0m:\u001b[36mmain\u001b[0m:\u001b[36m36\u001b[0m - \u001b[1mGenerating features from dataset...\u001b[0m\n",
      "\u001b[32m2025-07-14 21:48:51.911\u001b[0m | \u001b[1mINFO    \u001b[0m | \u001b[36msrc.utils.features.splitter_strategy\u001b[0m:\u001b[36msplit\u001b[0m:\u001b[36m16\u001b[0m - \u001b[1mSplitting dataset into training and testing sets...\u001b[0m\n",
      "\u001b[32m2025-07-14 21:48:51.937\u001b[0m | \u001b[1mINFO    \u001b[0m | \u001b[36msrc.utils.features.generator_strategy\u001b[0m:\u001b[36mgenerate\u001b[0m:\u001b[36m18\u001b[0m - \u001b[1mGenerating Timeseries from dataset...\u001b[0m\n",
      "\u001b[32m2025-07-14 21:48:52.020\u001b[0m | \u001b[32m\u001b[1mSUCCESS \u001b[0m | \u001b[36msrc.features\u001b[0m:\u001b[36mmain\u001b[0m:\u001b[36m51\u001b[0m - \u001b[32m\u001b[1mSaving train features in C:\\Repositories\\time-series-prediction-rnn\\data\\processed...\u001b[0m\n",
      "\u001b[32m2025-07-14 21:48:52.111\u001b[0m | \u001b[32m\u001b[1mSUCCESS \u001b[0m | \u001b[36msrc.features\u001b[0m:\u001b[36mmain\u001b[0m:\u001b[36m55\u001b[0m - \u001b[32m\u001b[1mSaving test features in C:\\Repositories\\time-series-prediction-rnn\\data\\processed...\u001b[0m\n",
      "\u001b[32m2025-07-14 21:48:52.117\u001b[0m | \u001b[32m\u001b[1mSUCCESS \u001b[0m | \u001b[36msrc.features\u001b[0m:\u001b[36mmain\u001b[0m:\u001b[36m59\u001b[0m - \u001b[32m\u001b[1mFeatures generation complete.\u001b[0m\n",
      "\u001b[32m2025-07-14 21:48:52.117\u001b[0m | \u001b[1mINFO    \u001b[0m | \u001b[36msrc.features\u001b[0m:\u001b[36mmain\u001b[0m:\u001b[36m61\u001b[0m - \u001b[1mSaving transformers...\u001b[0m\n",
      "\u001b[32m2025-07-14 21:48:52.119\u001b[0m | \u001b[1mINFO    \u001b[0m | \u001b[36msrc.utils.features.splitter_strategy\u001b[0m:\u001b[36msplit\u001b[0m:\u001b[36m16\u001b[0m - \u001b[1mSplitting dataset into training and testing sets...\u001b[0m\n",
      "\u001b[32m2025-07-14 21:48:52.125\u001b[0m | \u001b[1mINFO    \u001b[0m | \u001b[36msrc.features\u001b[0m:\u001b[36mmain\u001b[0m:\u001b[36m77\u001b[0m - \u001b[1mTotal time taken: 0.24 seconds\u001b[0m\n"
     ]
    }
   ],
   "source": [
    "from src import config\n",
    "from src import features\n",
    "\n",
    "features.main(\n",
    "    # ---- REPLACE DEFAULT PATHS AS APPROPRIATE ----\n",
    "    dataset_path = config.PROCESSED_DATA_DIR / \"dataset.csv\",\n",
    "    train_dir = config.PROCESSED_DATA_DIR,\n",
    "    test_dir = config.PROCESSED_DATA_DIR,\n",
    "    targets = [\"^BVSP\"],\n",
    "    train_size_ratio = 0.95,\n",
    "    batch_size = 1,\n",
    "    sequence_length = 32\n",
    "    # -----------------------------------------\n",
    ")"
   ]
  },
  {
   "cell_type": "markdown",
   "id": "2a66434c",
   "metadata": {},
   "source": [
    "## Modeling\n",
    "\n",
    "The modeling process begins with loading the training dataset. Next, the base model is constructed, and both the compilation and training strategies are defined. With the pipeline structure in place, the model is trained over 100 epochs using an iterative approach to adjust the weights.\n",
    "\n",
    "During training, key metrics are monitored, including accuracy, loss (error), validation accuracy and loss (on unseen data), as well as the learning rate."
   ]
  },
  {
   "cell_type": "code",
   "execution_count": 4,
   "id": "6ff11608",
   "metadata": {},
   "outputs": [
    {
     "name": "stdout",
     "output_type": "stream",
     "text": [
      "\u001b[32m2025-07-14 21:48:54.623\u001b[0m | \u001b[1mINFO    \u001b[0m | \u001b[36msrc.modeling.train\u001b[0m:\u001b[36mmain\u001b[0m:\u001b[36m46\u001b[0m - \u001b[1mLoading training dataset...\u001b[0m\n",
      "\u001b[32m2025-07-14 21:48:54.661\u001b[0m | \u001b[1mINFO    \u001b[0m | \u001b[36msrc.modeling.train\u001b[0m:\u001b[36mmain\u001b[0m:\u001b[36m54\u001b[0m - \u001b[1mSelecting builder strategy...\u001b[0m\n",
      "\u001b[32m2025-07-14 21:48:54.661\u001b[0m | \u001b[1mINFO    \u001b[0m | \u001b[36msrc.modeling.train\u001b[0m:\u001b[36mmain\u001b[0m:\u001b[36m59\u001b[0m - \u001b[1mBuilding new model...\u001b[0m\n",
      "\u001b[32m2025-07-14 21:48:54.661\u001b[0m | \u001b[1mINFO    \u001b[0m | \u001b[36msrc.modeling.train\u001b[0m:\u001b[36mmain\u001b[0m:\u001b[36m65\u001b[0m - \u001b[1mSelecting compile strategy...\u001b[0m\n",
      "\u001b[32m2025-07-14 21:48:54.661\u001b[0m | \u001b[1mINFO    \u001b[0m | \u001b[36msrc.modeling.train\u001b[0m:\u001b[36mmain\u001b[0m:\u001b[36m68\u001b[0m - \u001b[1mSelecting training strategy...\u001b[0m\n",
      "\u001b[32m2025-07-14 21:48:54.661\u001b[0m | \u001b[1mINFO    \u001b[0m | \u001b[36msrc.modeling.train\u001b[0m:\u001b[36mmain\u001b[0m:\u001b[36m76\u001b[0m - \u001b[1mBuilding model training pipeline template...\u001b[0m\n",
      "\u001b[32m2025-07-14 21:48:54.661\u001b[0m | \u001b[1mINFO    \u001b[0m | \u001b[36msrc.modeling.train\u001b[0m:\u001b[36mmain\u001b[0m:\u001b[36m83\u001b[0m - \u001b[1mTraining model...\u001b[0m\n",
      "Epoch 1/256\n",
      "\u001b[1m35/35\u001b[0m \u001b[32m━━━━━━━━━━━━━━━━━━━━\u001b[0m\u001b[37m\u001b[0m \u001b[1m13s\u001b[0m 103ms/step - loss: 0.4931 - mae: 0.8068 - mse: 19.1284 - r2_score: -0.0115 - rmse: 1.6758 - smape: 178.0676 - val_loss: 0.2684 - val_mae: 0.5429 - val_mse: 0.6377 - val_r2_score: 0.0079 - val_rmse: 0.7962 - val_smape: 179.2979 - learning_rate: 0.0010\n",
      "Epoch 2/256\n",
      "\u001b[1m35/35\u001b[0m \u001b[32m━━━━━━━━━━━━━━━━━━━━\u001b[0m\u001b[37m\u001b[0m \u001b[1m2s\u001b[0m 60ms/step - loss: 0.4892 - mae: 0.8050 - mse: 19.1191 - r2_score: -0.0063 - rmse: 1.6723 - smape: 181.5022 - val_loss: 0.2680 - val_mae: 0.5447 - val_mse: 0.6437 - val_r2_score: -0.0019 - val_rmse: 0.8000 - val_smape: 186.5299 - learning_rate: 0.0010\n",
      "Epoch 3/256\n",
      "\u001b[1m35/35\u001b[0m \u001b[32m━━━━━━━━━━━━━━━━━━━━\u001b[0m\u001b[37m\u001b[0m \u001b[1m2s\u001b[0m 62ms/step - loss: 0.4870 - mae: 0.8036 - mse: 19.1250 - r2_score: -0.0073 - rmse: 1.6734 - smape: 186.4720 - val_loss: 0.2664 - val_mae: 0.5439 - val_mse: 0.6424 - val_r2_score: -3.5992e-04 - val_rmse: 0.7993 - val_smape: 184.2076 - learning_rate: 0.0010\n",
      "Epoch 4/256\n",
      "\u001b[1m35/35\u001b[0m \u001b[32m━━━━━━━━━━━━━━━━━━━━\u001b[0m\u001b[37m\u001b[0m \u001b[1m2s\u001b[0m 61ms/step - loss: 0.4847 - mae: 0.8033 - mse: 19.1194 - r2_score: -0.0047 - rmse: 1.6718 - smape: 184.3608 - val_loss: 0.2643 - val_mae: 0.5428 - val_mse: 0.6386 - val_r2_score: 0.0062 - val_rmse: 0.7968 - val_smape: 177.1390 - learning_rate: 0.0010\n",
      "Epoch 5/256\n",
      "\u001b[1m35/35\u001b[0m \u001b[32m━━━━━━━━━━━━━━━━━━━━\u001b[0m\u001b[37m\u001b[0m \u001b[1m2s\u001b[0m 62ms/step - loss: 0.4824 - mae: 0.8019 - mse: 19.1161 - r2_score: 1.6647e-04 - rmse: 1.6692 - smape: 180.1485 - val_loss: 0.2624 - val_mae: 0.5413 - val_mse: 0.6366 - val_r2_score: 0.0105 - val_rmse: 0.7953 - val_smape: 172.3139 - learning_rate: 0.0010\n",
      "Epoch 6/256\n",
      "\u001b[1m35/35\u001b[0m \u001b[32m━━━━━━━━━━━━━━━━━━━━\u001b[0m\u001b[37m\u001b[0m \u001b[1m2s\u001b[0m 70ms/step - loss: 0.4808 - mae: 0.8018 - mse: 19.1158 - r2_score: 6.8359e-04 - rmse: 1.6690 - smape: 178.7206 - val_loss: 0.2625 - val_mae: 0.5425 - val_mse: 0.6407 - val_r2_score: 0.0022 - val_rmse: 0.7983 - val_smape: 177.8320 - learning_rate: 0.0010\n",
      "Epoch 7/256\n",
      "\u001b[1m35/35\u001b[0m \u001b[32m━━━━━━━━━━━━━━━━━━━━\u001b[0m\u001b[37m\u001b[0m \u001b[1m2s\u001b[0m 62ms/step - loss: 0.4795 - mae: 0.7999 - mse: 19.1132 - r2_score: -7.3264e-04 - rmse: 1.6695 - smape: 175.6353 - val_loss: 0.2613 - val_mae: 0.5410 - val_mse: 0.6334 - val_r2_score: 0.0146 - val_rmse: 0.7935 - val_smape: 166.1308 - learning_rate: 0.0010\n",
      "Epoch 8/256\n",
      "\u001b[1m35/35\u001b[0m \u001b[32m━━━━━━━━━━━━━━━━━━━━\u001b[0m\u001b[37m\u001b[0m \u001b[1m2s\u001b[0m 64ms/step - loss: 0.4751 - mae: 0.7948 - mse: 19.1114 - r2_score: 0.0089 - rmse: 1.6647 - smape: 166.9118 - val_loss: 0.2593 - val_mae: 0.5405 - val_mse: 0.6255 - val_r2_score: 0.0272 - val_rmse: 0.7885 - val_smape: 165.8480 - learning_rate: 0.0010\n",
      "Epoch 9/256\n",
      "\u001b[1m35/35\u001b[0m \u001b[32m━━━━━━━━━━━━━━━━━━━━\u001b[0m\u001b[37m\u001b[0m \u001b[1m2s\u001b[0m 64ms/step - loss: 0.4709 - mae: 0.7937 - mse: 19.0898 - r2_score: 0.0189 - rmse: 1.6588 - smape: 165.8354 - val_loss: 0.2594 - val_mae: 0.5370 - val_mse: 0.6243 - val_r2_score: 0.0286 - val_rmse: 0.7878 - val_smape: 152.4039 - learning_rate: 0.0010\n",
      "Epoch 10/256\n",
      "\u001b[1m35/35\u001b[0m \u001b[32m━━━━━━━━━━━━━━━━━━━━\u001b[0m\u001b[37m\u001b[0m \u001b[1m2s\u001b[0m 65ms/step - loss: 0.4665 - mae: 0.7862 - mse: 19.0853 - r2_score: 0.0274 - rmse: 1.6551 - smape: 158.0671 - val_loss: 0.2589 - val_mae: 0.5393 - val_mse: 0.6221 - val_r2_score: 0.0288 - val_rmse: 0.7870 - val_smape: 160.5793 - learning_rate: 0.0010\n",
      "Epoch 11/256\n",
      "\u001b[1m35/35\u001b[0m \u001b[32m━━━━━━━━━━━━━━━━━━━━\u001b[0m\u001b[37m\u001b[0m \u001b[1m3s\u001b[0m 69ms/step - loss: 0.4595 - mae: 0.7788 - mse: 19.0652 - r2_score: 0.0492 - rmse: 1.6434 - smape: 155.2316 - val_loss: 0.2637 - val_mae: 0.5464 - val_mse: 0.6340 - val_r2_score: 0.0133 - val_rmse: 0.7939 - val_smape: 150.8916 - learning_rate: 0.0010\n",
      "Epoch 12/256\n",
      "\u001b[1m35/35\u001b[0m \u001b[32m━━━━━━━━━━━━━━━━━━━━\u001b[0m\u001b[37m\u001b[0m \u001b[1m2s\u001b[0m 66ms/step - loss: 0.4554 - mae: 0.7715 - mse: 19.0516 - r2_score: 0.0610 - rmse: 1.6386 - smape: 152.1634 - val_loss: 0.2651 - val_mae: 0.5508 - val_mse: 0.6387 - val_r2_score: 0.0057 - val_rmse: 0.7969 - val_smape: 152.9737 - learning_rate: 0.0010\n",
      "Epoch 13/256\n",
      "\u001b[1m35/35\u001b[0m \u001b[32m━━━━━━━━━━━━━━━━━━━━\u001b[0m\u001b[37m\u001b[0m \u001b[1m2s\u001b[0m 65ms/step - loss: 0.4462 - mae: 0.7632 - mse: 18.9945 - r2_score: 0.0925 - rmse: 1.6192 - smape: 148.5161 - val_loss: 0.2713 - val_mae: 0.5628 - val_mse: 0.6504 - val_r2_score: -0.0131 - val_rmse: 0.8043 - val_smape: 151.9196 - learning_rate: 0.0010\n",
      "Epoch 14/256\n",
      "\u001b[1m35/35\u001b[0m \u001b[32m━━━━━━━━━━━━━━━━━━━━\u001b[0m\u001b[37m\u001b[0m \u001b[1m2s\u001b[0m 65ms/step - loss: 0.4444 - mae: 0.7624 - mse: 19.0108 - r2_score: 0.0859 - rmse: 1.6219 - smape: 146.2448 - val_loss: 0.2733 - val_mae: 0.5674 - val_mse: 0.6531 - val_r2_score: -0.0229 - val_rmse: 0.8070 - val_smape: 149.8118 - learning_rate: 0.0010\n",
      "Epoch 15/256\n",
      "\u001b[1m35/35\u001b[0m \u001b[32m━━━━━━━━━━━━━━━━━━━━\u001b[0m\u001b[37m\u001b[0m \u001b[1m2s\u001b[0m 65ms/step - loss: 0.4396 - mae: 0.7566 - mse: 19.0085 - r2_score: 0.1073 - rmse: 1.6121 - smape: 142.8999 - val_loss: 0.2740 - val_mae: 0.5717 - val_mse: 0.6471 - val_r2_score: -0.0146 - val_rmse: 0.8034 - val_smape: 148.9333 - learning_rate: 0.0010\n",
      "Epoch 16/256\n",
      "\u001b[1m35/35\u001b[0m \u001b[32m━━━━━━━━━━━━━━━━━━━━\u001b[0m\u001b[37m\u001b[0m \u001b[1m2s\u001b[0m 64ms/step - loss: 0.4305 - mae: 0.7454 - mse: 18.9738 - r2_score: 0.1366 - rmse: 1.5937 - smape: 140.4696 - val_loss: 0.2752 - val_mae: 0.5690 - val_mse: 0.6597 - val_r2_score: -0.0316 - val_rmse: 0.8108 - val_smape: 146.2363 - learning_rate: 0.0010\n",
      "Epoch 17/256\n",
      "\u001b[1m35/35\u001b[0m \u001b[32m━━━━━━━━━━━━━━━━━━━━\u001b[0m\u001b[37m\u001b[0m \u001b[1m3s\u001b[0m 72ms/step - loss: 0.4295 - mae: 0.7460 - mse: 18.9442 - r2_score: 0.1313 - rmse: 1.5952 - smape: 140.0279 - val_loss: 0.2831 - val_mae: 0.5868 - val_mse: 0.6687 - val_r2_score: -0.0465 - val_rmse: 0.8164 - val_smape: 146.3067 - learning_rate: 0.0010\n",
      "Epoch 18/256\n",
      "\u001b[1m35/35\u001b[0m \u001b[32m━━━━━━━━━━━━━━━━━━━━\u001b[0m\u001b[37m\u001b[0m \u001b[1m2s\u001b[0m 65ms/step - loss: 0.4169 - mae: 0.7243 - mse: 18.9270 - r2_score: 0.1607 - rmse: 1.5803 - smape: 133.6746 - val_loss: 0.2759 - val_mae: 0.5765 - val_mse: 0.6528 - val_r2_score: -0.0223 - val_rmse: 0.8068 - val_smape: 150.2142 - learning_rate: 0.0010\n",
      "Epoch 19/256\n",
      "\u001b[1m35/35\u001b[0m \u001b[32m━━━━━━━━━━━━━━━━━━━━\u001b[0m\u001b[37m\u001b[0m \u001b[1m2s\u001b[0m 65ms/step - loss: 0.4137 - mae: 0.7186 - mse: 18.9252 - r2_score: 0.1772 - rmse: 1.5720 - smape: 134.2982 - val_loss: 0.2729 - val_mae: 0.5640 - val_mse: 0.6602 - val_r2_score: -0.0288 - val_rmse: 0.8104 - val_smape: 144.2508 - learning_rate: 0.0010\n",
      "Epoch 20/256\n",
      "\u001b[1m35/35\u001b[0m \u001b[32m━━━━━━━━━━━━━━━━━━━━\u001b[0m\u001b[37m\u001b[0m \u001b[1m3s\u001b[0m 65ms/step - loss: 0.4095 - mae: 0.7144 - mse: 18.8821 - r2_score: 0.1878 - rmse: 1.5643 - smape: 133.2758 - val_loss: 0.2785 - val_mae: 0.5721 - val_mse: 0.6704 - val_r2_score: -0.0449 - val_rmse: 0.8167 - val_smape: 145.5357 - learning_rate: 0.0010\n",
      "Epoch 21/256\n",
      "\u001b[1m35/35\u001b[0m \u001b[32m━━━━━━━━━━━━━━━━━━━━\u001b[0m\u001b[37m\u001b[0m \u001b[1m3s\u001b[0m 70ms/step - loss: 0.4072 - mae: 0.7143 - mse: 18.8313 - r2_score: 0.1903 - rmse: 1.5607 - smape: 133.6183 - val_loss: 0.2808 - val_mae: 0.5773 - val_mse: 0.6692 - val_r2_score: -0.0463 - val_rmse: 0.8166 - val_smape: 147.3438 - learning_rate: 0.0010\n",
      "Epoch 22/256\n",
      "\u001b[1m35/35\u001b[0m \u001b[32m━━━━━━━━━━━━━━━━━━━━\u001b[0m\u001b[37m\u001b[0m \u001b[1m2s\u001b[0m 65ms/step - loss: 0.4023 - mae: 0.7053 - mse: 18.8397 - r2_score: 0.2074 - rmse: 1.5512 - smape: 131.8779 - val_loss: 0.2867 - val_mae: 0.5862 - val_mse: 0.6804 - val_r2_score: -0.0641 - val_rmse: 0.8234 - val_smape: 146.1142 - learning_rate: 0.0010\n",
      "Epoch 23/256\n",
      "\u001b[1m35/35\u001b[0m \u001b[32m━━━━━━━━━━━━━━━━━━━━\u001b[0m\u001b[37m\u001b[0m \u001b[1m3s\u001b[0m 65ms/step - loss: 0.4013 - mae: 0.7028 - mse: 18.8741 - r2_score: 0.2024 - rmse: 1.5534 - smape: 130.2592 - val_loss: 0.2944 - val_mae: 0.5980 - val_mse: 0.6933 - val_r2_score: -0.0864 - val_rmse: 0.8315 - val_smape: 146.6031 - learning_rate: 0.0010\n",
      "Epoch 24/256\n",
      "\u001b[1m35/35\u001b[0m \u001b[32m━━━━━━━━━━━━━━━━━━━━\u001b[0m\u001b[37m\u001b[0m \u001b[1m2s\u001b[0m 64ms/step - loss: 0.3926 - mae: 0.6934 - mse: 18.8176 - r2_score: 0.2331 - rmse: 1.5338 - smape: 128.3782 - val_loss: 0.2913 - val_mae: 0.5897 - val_mse: 0.6991 - val_r2_score: -0.0947 - val_rmse: 0.8349 - val_smape: 145.9832 - learning_rate: 0.0010\n",
      "Epoch 25/256\n",
      "\u001b[1m35/35\u001b[0m \u001b[32m━━━━━━━━━━━━━━━━━━━━\u001b[0m\u001b[37m\u001b[0m \u001b[1m2s\u001b[0m 65ms/step - loss: 0.3927 - mae: 0.6953 - mse: 18.8118 - r2_score: 0.2399 - rmse: 1.5321 - smape: 128.0451 - val_loss: 0.2934 - val_mae: 0.5933 - val_mse: 0.7051 - val_r2_score: -0.1057 - val_rmse: 0.8386 - val_smape: 141.9203 - learning_rate: 0.0010\n",
      "Epoch 26/256\n",
      "\u001b[1m35/35\u001b[0m \u001b[32m━━━━━━━━━━━━━━━━━━━━\u001b[0m\u001b[37m\u001b[0m \u001b[1m3s\u001b[0m 69ms/step - loss: 0.3844 - mae: 0.6813 - mse: 18.7653 - r2_score: 0.2563 - rmse: 1.5208 - smape: 123.9202 - val_loss: 0.2924 - val_mae: 0.5923 - val_mse: 0.6925 - val_r2_score: -0.0846 - val_rmse: 0.8309 - val_smape: 144.6167 - learning_rate: 0.0010\n",
      "Epoch 27/256\n",
      "\u001b[1m35/35\u001b[0m \u001b[32m━━━━━━━━━━━━━━━━━━━━\u001b[0m\u001b[37m\u001b[0m \u001b[1m3s\u001b[0m 64ms/step - loss: 0.3849 - mae: 0.6847 - mse: 18.7956 - r2_score: 0.2584 - rmse: 1.5196 - smape: 127.2984 - val_loss: 0.2819 - val_mae: 0.5815 - val_mse: 0.6696 - val_r2_score: -0.0454 - val_rmse: 0.8166 - val_smape: 145.0639 - learning_rate: 5.0000e-04\n",
      "Epoch 28/256\n",
      "\u001b[1m35/35\u001b[0m \u001b[32m━━━━━━━━━━━━━━━━━━━━\u001b[0m\u001b[37m\u001b[0m \u001b[1m2s\u001b[0m 68ms/step - loss: 0.3801 - mae: 0.6760 - mse: 18.7174 - r2_score: 0.2574 - rmse: 1.5182 - smape: 123.2857 - val_loss: 0.2835 - val_mae: 0.5853 - val_mse: 0.6696 - val_r2_score: -0.0469 - val_rmse: 0.8168 - val_smape: 144.0566 - learning_rate: 5.0000e-04\n",
      "Epoch 29/256\n",
      "\u001b[1m35/35\u001b[0m \u001b[32m━━━━━━━━━━━━━━━━━━━━\u001b[0m\u001b[37m\u001b[0m \u001b[1m2s\u001b[0m 67ms/step - loss: 0.3740 - mae: 0.6729 - mse: 18.7523 - r2_score: 0.2812 - rmse: 1.5009 - smape: 123.0390 - val_loss: 0.2891 - val_mae: 0.5935 - val_mse: 0.6833 - val_r2_score: -0.0669 - val_rmse: 0.8249 - val_smape: 143.5711 - learning_rate: 5.0000e-04\n",
      "Epoch 30/256\n",
      "\u001b[1m35/35\u001b[0m \u001b[32m━━━━━━━━━━━━━━━━━━━━\u001b[0m\u001b[37m\u001b[0m \u001b[1m3s\u001b[0m 71ms/step - loss: 0.3702 - mae: 0.6649 - mse: 18.6590 - r2_score: 0.2887 - rmse: 1.4972 - smape: 121.1622 - val_loss: 0.2902 - val_mae: 0.5938 - val_mse: 0.6908 - val_r2_score: -0.0771 - val_rmse: 0.8291 - val_smape: 144.1101 - learning_rate: 5.0000e-04\n",
      "Epoch 31/256\n",
      "\u001b[1m35/35\u001b[0m \u001b[32m━━━━━━━━━━━━━━━━━━━━\u001b[0m\u001b[37m\u001b[0m \u001b[1m2s\u001b[0m 66ms/step - loss: 0.3718 - mae: 0.6639 - mse: 18.7008 - r2_score: 0.2786 - rmse: 1.5036 - smape: 120.4089 - val_loss: 0.2953 - val_mae: 0.6006 - val_mse: 0.7006 - val_r2_score: -0.0926 - val_rmse: 0.8350 - val_smape: 142.7610 - learning_rate: 5.0000e-04\n",
      "Epoch 32/256\n",
      "\u001b[1m35/35\u001b[0m \u001b[32m━━━━━━━━━━━━━━━━━━━━\u001b[0m\u001b[37m\u001b[0m \u001b[1m2s\u001b[0m 65ms/step - loss: 0.3547 - mae: 0.6431 - mse: 18.6030 - r2_score: 0.3250 - rmse: 1.4739 - smape: 116.3092 - val_loss: 0.2972 - val_mae: 0.6030 - val_mse: 0.7030 - val_r2_score: -0.0972 - val_rmse: 0.8366 - val_smape: 143.9436 - learning_rate: 5.0000e-04\n",
      "Epoch 33/256\n",
      "\u001b[1m35/35\u001b[0m \u001b[32m━━━━━━━━━━━━━━━━━━━━\u001b[0m\u001b[37m\u001b[0m \u001b[1m2s\u001b[0m 70ms/step - loss: 0.3540 - mae: 0.6456 - mse: 18.6801 - r2_score: 0.3271 - rmse: 1.4749 - smape: 116.8397 - val_loss: 0.2964 - val_mae: 0.6003 - val_mse: 0.7015 - val_r2_score: -0.0938 - val_rmse: 0.8355 - val_smape: 142.3853 - learning_rate: 5.0000e-04\n",
      "Epoch 34/256\n",
      "\u001b[1m35/35\u001b[0m \u001b[32m━━━━━━━━━━━━━━━━━━━━\u001b[0m\u001b[37m\u001b[0m \u001b[1m2s\u001b[0m 67ms/step - loss: 0.3545 - mae: 0.6460 - mse: 18.6422 - r2_score: 0.3281 - rmse: 1.4723 - smape: 118.0411 - val_loss: 0.2962 - val_mae: 0.6006 - val_mse: 0.7062 - val_r2_score: -0.1013 - val_rmse: 0.8383 - val_smape: 143.5060 - learning_rate: 5.0000e-04\n",
      "Epoch 35/256\n",
      "\u001b[1m35/35\u001b[0m \u001b[32m━━━━━━━━━━━━━━━━━━━━\u001b[0m\u001b[37m\u001b[0m \u001b[1m2s\u001b[0m 63ms/step - loss: 0.3539 - mae: 0.6438 - mse: 18.6368 - r2_score: 0.3231 - rmse: 1.4755 - smape: 116.6380 - val_loss: 0.2945 - val_mae: 0.5961 - val_mse: 0.7041 - val_r2_score: -0.0976 - val_rmse: 0.8370 - val_smape: 144.0005 - learning_rate: 5.0000e-04\n",
      "Epoch 36/256\n",
      "\u001b[1m35/35\u001b[0m \u001b[32m━━━━━━━━━━━━━━━━━━━━\u001b[0m\u001b[37m\u001b[0m \u001b[1m2s\u001b[0m 62ms/step - loss: 0.3546 - mae: 0.6470 - mse: 18.6259 - r2_score: 0.3271 - rmse: 1.4741 - smape: 118.2499 - val_loss: 0.3007 - val_mae: 0.6041 - val_mse: 0.7142 - val_r2_score: -0.1136 - val_rmse: 0.8430 - val_smape: 143.0467 - learning_rate: 5.0000e-04\n",
      "Epoch 37/256\n",
      "\u001b[1m35/35\u001b[0m \u001b[32m━━━━━━━━━━━━━━━━━━━━\u001b[0m\u001b[37m\u001b[0m \u001b[1m2s\u001b[0m 64ms/step - loss: 0.3511 - mae: 0.6400 - mse: 18.6447 - r2_score: 0.3332 - rmse: 1.4703 - smape: 116.2859 - val_loss: 0.3021 - val_mae: 0.6079 - val_mse: 0.7170 - val_r2_score: -0.1183 - val_rmse: 0.8448 - val_smape: 145.0034 - learning_rate: 5.0000e-04\n",
      "Epoch 38/256\n",
      "\u001b[1m35/35\u001b[0m \u001b[32m━━━━━━━━━━━━━━━━━━━━\u001b[0m\u001b[37m\u001b[0m \u001b[1m2s\u001b[0m 69ms/step - loss: 0.3502 - mae: 0.6357 - mse: 18.6611 - r2_score: 0.3357 - rmse: 1.4655 - smape: 114.2121 - val_loss: 0.2950 - val_mae: 0.5970 - val_mse: 0.6952 - val_r2_score: -0.0840 - val_rmse: 0.8318 - val_smape: 143.7329 - learning_rate: 5.0000e-04\n",
      "Epoch 39/256\n",
      "\u001b[1m35/35\u001b[0m \u001b[32m━━━━━━━━━━━━━━━━━━━━\u001b[0m\u001b[37m\u001b[0m \u001b[1m3s\u001b[0m 80ms/step - loss: 0.3452 - mae: 0.6310 - mse: 18.6428 - r2_score: 0.3507 - rmse: 1.4582 - smape: 116.2253 - val_loss: 0.3033 - val_mae: 0.6091 - val_mse: 0.7187 - val_r2_score: -0.1211 - val_rmse: 0.8458 - val_smape: 142.5764 - learning_rate: 5.0000e-04\n",
      "Epoch 40/256\n",
      "\u001b[1m35/35\u001b[0m \u001b[32m━━━━━━━━━━━━━━━━━━━━\u001b[0m\u001b[37m\u001b[0m \u001b[1m5s\u001b[0m 65ms/step - loss: 0.3448 - mae: 0.6275 - mse: 18.6236 - r2_score: 0.3503 - rmse: 1.4583 - smape: 113.3512 - val_loss: 0.2994 - val_mae: 0.6034 - val_mse: 0.7133 - val_r2_score: -0.1110 - val_rmse: 0.8423 - val_smape: 144.1612 - learning_rate: 5.0000e-04\n",
      "Epoch 41/256\n",
      "\u001b[1m35/35\u001b[0m \u001b[32m━━━━━━━━━━━━━━━━━━━━\u001b[0m\u001b[37m\u001b[0m \u001b[1m2s\u001b[0m 63ms/step - loss: 0.3511 - mae: 0.6390 - mse: 18.6979 - r2_score: 0.3287 - rmse: 1.4750 - smape: 115.1196 - val_loss: 0.3055 - val_mae: 0.6088 - val_mse: 0.7329 - val_r2_score: -0.1403 - val_rmse: 0.8535 - val_smape: 142.0369 - learning_rate: 5.0000e-04\n",
      "Epoch 42/256\n",
      "\u001b[1m35/35\u001b[0m \u001b[32m━━━━━━━━━━━━━━━━━━━━\u001b[0m\u001b[37m\u001b[0m \u001b[1m2s\u001b[0m 67ms/step - loss: 0.3405 - mae: 0.6255 - mse: 18.6314 - r2_score: 0.3538 - rmse: 1.4532 - smape: 113.9142 - val_loss: 0.2992 - val_mae: 0.6041 - val_mse: 0.7097 - val_r2_score: -0.1038 - val_rmse: 0.8398 - val_smape: 143.3157 - learning_rate: 5.0000e-04\n",
      "Epoch 43/256\n",
      "\u001b[1m35/35\u001b[0m \u001b[32m━━━━━━━━━━━━━━━━━━━━\u001b[0m\u001b[37m\u001b[0m \u001b[1m2s\u001b[0m 62ms/step - loss: 0.3364 - mae: 0.6193 - mse: 18.5065 - r2_score: 0.3737 - rmse: 1.4380 - smape: 112.1853 - val_loss: 0.3029 - val_mae: 0.6091 - val_mse: 0.7216 - val_r2_score: -0.1226 - val_rmse: 0.8469 - val_smape: 144.7930 - learning_rate: 2.5000e-04\n",
      "Epoch 44/256\n",
      "\u001b[1m35/35\u001b[0m \u001b[32m━━━━━━━━━━━━━━━━━━━━\u001b[0m\u001b[37m\u001b[0m \u001b[1m3s\u001b[0m 62ms/step - loss: 0.3382 - mae: 0.6228 - mse: 18.5656 - r2_score: 0.3617 - rmse: 1.4482 - smape: 114.0319 - val_loss: 0.3035 - val_mae: 0.6074 - val_mse: 0.7258 - val_r2_score: -0.1293 - val_rmse: 0.8494 - val_smape: 142.2447 - learning_rate: 2.5000e-04\n",
      "Epoch 45/256\n",
      "\u001b[1m35/35\u001b[0m \u001b[32m━━━━━━━━━━━━━━━━━━━━\u001b[0m\u001b[37m\u001b[0m \u001b[1m2s\u001b[0m 67ms/step - loss: 0.3264 - mae: 0.6065 - mse: 18.5004 - r2_score: 0.3896 - rmse: 1.4290 - smape: 109.6504 - val_loss: 0.3058 - val_mae: 0.6093 - val_mse: 0.7343 - val_r2_score: -0.1418 - val_rmse: 0.8542 - val_smape: 142.4333 - learning_rate: 2.5000e-04\n",
      "Epoch 46/256\n",
      "\u001b[1m35/35\u001b[0m \u001b[32m━━━━━━━━━━━━━━━━━━━━\u001b[0m\u001b[37m\u001b[0m \u001b[1m2s\u001b[0m 63ms/step - loss: 0.3325 - mae: 0.6171 - mse: 18.5524 - r2_score: 0.3722 - rmse: 1.4426 - smape: 111.8266 - val_loss: 0.3045 - val_mae: 0.6070 - val_mse: 0.7298 - val_r2_score: -0.1350 - val_rmse: 0.8516 - val_smape: 141.8135 - learning_rate: 2.5000e-04\n",
      "Epoch 47/256\n",
      "\u001b[1m35/35\u001b[0m \u001b[32m━━━━━━━━━━━━━━━━━━━━\u001b[0m\u001b[37m\u001b[0m \u001b[1m2s\u001b[0m 63ms/step - loss: 0.3302 - mae: 0.6132 - mse: 18.4980 - r2_score: 0.3729 - rmse: 1.4393 - smape: 112.2912 - val_loss: 0.3070 - val_mae: 0.6117 - val_mse: 0.7394 - val_r2_score: -0.1478 - val_rmse: 0.8568 - val_smape: 143.3743 - learning_rate: 2.5000e-04\n",
      "Epoch 48/256\n",
      "\u001b[1m35/35\u001b[0m \u001b[32m━━━━━━━━━━━━━━━━━━━━\u001b[0m\u001b[37m\u001b[0m \u001b[1m2s\u001b[0m 62ms/step - loss: 0.3360 - mae: 0.6200 - mse: 18.5452 - r2_score: 0.3555 - rmse: 1.4544 - smape: 112.1290 - val_loss: 0.3061 - val_mae: 0.6115 - val_mse: 0.7360 - val_r2_score: -0.1436 - val_rmse: 0.8550 - val_smape: 145.4753 - learning_rate: 2.5000e-04\n",
      "Epoch 49/256\n",
      "\u001b[1m35/35\u001b[0m \u001b[32m━━━━━━━━━━━━━━━━━━━━\u001b[0m\u001b[37m\u001b[0m \u001b[1m2s\u001b[0m 68ms/step - loss: 0.3270 - mae: 0.6059 - mse: 18.5830 - r2_score: 0.3872 - rmse: 1.4313 - smape: 111.0055 - val_loss: 0.3068 - val_mae: 0.6108 - val_mse: 0.7381 - val_r2_score: -0.1485 - val_rmse: 0.8566 - val_smape: 145.0782 - learning_rate: 2.5000e-04\n",
      "Epoch 50/256\n",
      "\u001b[1m35/35\u001b[0m \u001b[32m━━━━━━━━━━━━━━━━━━━━\u001b[0m\u001b[37m\u001b[0m \u001b[1m2s\u001b[0m 62ms/step - loss: 0.3254 - mae: 0.6056 - mse: 18.4569 - r2_score: 0.3942 - rmse: 1.4227 - smape: 110.3048 - val_loss: 0.3089 - val_mae: 0.6119 - val_mse: 0.7441 - val_r2_score: -0.1590 - val_rmse: 0.8603 - val_smape: 143.4112 - learning_rate: 2.5000e-04\n",
      "Epoch 51/256\n",
      "\u001b[1m35/35\u001b[0m \u001b[32m━━━━━━━━━━━━━━━━━━━━\u001b[0m\u001b[37m\u001b[0m \u001b[1m2s\u001b[0m 63ms/step - loss: 0.3290 - mae: 0.6147 - mse: 18.5254 - r2_score: 0.3932 - rmse: 1.4257 - smape: 112.7171 - val_loss: 0.3092 - val_mae: 0.6134 - val_mse: 0.7456 - val_r2_score: -0.1612 - val_rmse: 0.8611 - val_smape: 144.1282 - learning_rate: 2.5000e-04\n",
      "Epoch 52/256\n",
      "\u001b[1m35/35\u001b[0m \u001b[32m━━━━━━━━━━━━━━━━━━━━\u001b[0m\u001b[37m\u001b[0m \u001b[1m2s\u001b[0m 67ms/step - loss: 0.3181 - mae: 0.5990 - mse: 18.5255 - r2_score: 0.4076 - rmse: 1.4156 - smape: 110.8538 - val_loss: 0.3102 - val_mae: 0.6159 - val_mse: 0.7501 - val_r2_score: -0.1659 - val_rmse: 0.8633 - val_smape: 143.2414 - learning_rate: 2.5000e-04\n",
      "Epoch 53/256\n",
      "\u001b[1m35/35\u001b[0m \u001b[32m━━━━━━━━━━━━━━━━━━━━\u001b[0m\u001b[37m\u001b[0m \u001b[1m3s\u001b[0m 63ms/step - loss: 0.3123 - mae: 0.5878 - mse: 18.4481 - r2_score: 0.4195 - rmse: 1.4058 - smape: 108.6176 - val_loss: 0.3104 - val_mae: 0.6152 - val_mse: 0.7477 - val_r2_score: -0.1633 - val_rmse: 0.8621 - val_smape: 142.3533 - learning_rate: 2.5000e-04\n",
      "Epoch 54/256\n",
      "\u001b[1m35/35\u001b[0m \u001b[32m━━━━━━━━━━━━━━━━━━━━\u001b[0m\u001b[37m\u001b[0m \u001b[1m2s\u001b[0m 62ms/step - loss: 0.3259 - mae: 0.6068 - mse: 18.5269 - r2_score: 0.3953 - rmse: 1.4225 - smape: 111.0700 - val_loss: 0.3076 - val_mae: 0.6100 - val_mse: 0.7404 - val_r2_score: -0.1521 - val_rmse: 0.8579 - val_smape: 142.5858 - learning_rate: 2.5000e-04\n",
      "Epoch 55/256\n",
      "\u001b[1m35/35\u001b[0m \u001b[32m━━━━━━━━━━━━━━━━━━━━\u001b[0m\u001b[37m\u001b[0m \u001b[1m2s\u001b[0m 63ms/step - loss: 0.3164 - mae: 0.5905 - mse: 18.4982 - r2_score: 0.4119 - rmse: 1.4106 - smape: 108.5186 - val_loss: 0.3114 - val_mae: 0.6156 - val_mse: 0.7525 - val_r2_score: -0.1695 - val_rmse: 0.8646 - val_smape: 141.7043 - learning_rate: 2.5000e-04\n",
      "Epoch 56/256\n",
      "\u001b[1m35/35\u001b[0m \u001b[32m━━━━━━━━━━━━━━━━━━━━\u001b[0m\u001b[37m\u001b[0m \u001b[1m2s\u001b[0m 68ms/step - loss: 0.3196 - mae: 0.5961 - mse: 18.5749 - r2_score: 0.3973 - rmse: 1.4257 - smape: 109.3845 - val_loss: 0.3135 - val_mae: 0.6180 - val_mse: 0.7598 - val_r2_score: -0.1823 - val_rmse: 0.8691 - val_smape: 142.9136 - learning_rate: 2.5000e-04\n",
      "Epoch 57/256\n",
      "\u001b[1m35/35\u001b[0m \u001b[32m━━━━━━━━━━━━━━━━━━━━\u001b[0m\u001b[37m\u001b[0m \u001b[1m2s\u001b[0m 64ms/step - loss: 0.3231 - mae: 0.6023 - mse: 18.5389 - r2_score: 0.3978 - rmse: 1.4214 - smape: 111.1506 - val_loss: 0.3111 - val_mae: 0.6169 - val_mse: 0.7516 - val_r2_score: -0.1693 - val_rmse: 0.8644 - val_smape: 142.7405 - learning_rate: 2.5000e-04\n",
      "Epoch 58/256\n",
      "\u001b[1m35/35\u001b[0m \u001b[32m━━━━━━━━━━━━━━━━━━━━\u001b[0m\u001b[37m\u001b[0m \u001b[1m2s\u001b[0m 62ms/step - loss: 0.3180 - mae: 0.5952 - mse: 18.5271 - r2_score: 0.4180 - rmse: 1.4072 - smape: 107.8875 - val_loss: 0.3126 - val_mae: 0.6178 - val_mse: 0.7551 - val_r2_score: -0.1758 - val_rmse: 0.8666 - val_smape: 141.9137 - learning_rate: 2.5000e-04\n",
      "Epoch 59/256\n",
      "\u001b[1m35/35\u001b[0m \u001b[32m━━━━━━━━━━━━━━━━━━━━\u001b[0m\u001b[37m\u001b[0m \u001b[1m2s\u001b[0m 69ms/step - loss: 0.3164 - mae: 0.5932 - mse: 18.4697 - r2_score: 0.4103 - rmse: 1.4126 - smape: 108.8088 - val_loss: 0.3139 - val_mae: 0.6190 - val_mse: 0.7598 - val_r2_score: -0.1841 - val_rmse: 0.8694 - val_smape: 142.4734 - learning_rate: 1.2500e-04\n",
      "Epoch 60/256\n",
      "\u001b[1m35/35\u001b[0m \u001b[32m━━━━━━━━━━━━━━━━━━━━\u001b[0m\u001b[37m\u001b[0m \u001b[1m2s\u001b[0m 65ms/step - loss: 0.3126 - mae: 0.5869 - mse: 18.4912 - r2_score: 0.4099 - rmse: 1.4139 - smape: 106.9299 - val_loss: 0.3137 - val_mae: 0.6196 - val_mse: 0.7593 - val_r2_score: -0.1825 - val_rmse: 0.8690 - val_smape: 142.9196 - learning_rate: 1.2500e-04\n",
      "Epoch 61/256\n",
      "\u001b[1m35/35\u001b[0m \u001b[32m━━━━━━━━━━━━━━━━━━━━\u001b[0m\u001b[37m\u001b[0m \u001b[1m2s\u001b[0m 62ms/step - loss: 0.3174 - mae: 0.5928 - mse: 18.4593 - r2_score: 0.4143 - rmse: 1.4088 - smape: 108.0041 - val_loss: 0.3129 - val_mae: 0.6182 - val_mse: 0.7577 - val_r2_score: -0.1789 - val_rmse: 0.8679 - val_smape: 142.7593 - learning_rate: 1.2500e-04\n",
      "Epoch 62/256\n",
      "\u001b[1m35/35\u001b[0m \u001b[32m━━━━━━━━━━━━━━━━━━━━\u001b[0m\u001b[37m\u001b[0m \u001b[1m2s\u001b[0m 69ms/step - loss: 0.3107 - mae: 0.5855 - mse: 18.3652 - r2_score: 0.4337 - rmse: 1.3924 - smape: 107.6123 - val_loss: 0.3119 - val_mae: 0.6164 - val_mse: 0.7568 - val_r2_score: -0.1765 - val_rmse: 0.8671 - val_smape: 142.9110 - learning_rate: 1.2500e-04\n",
      "Epoch 63/256\n",
      "\u001b[1m35/35\u001b[0m \u001b[32m━━━━━━━━━━━━━━━━━━━━\u001b[0m\u001b[37m\u001b[0m \u001b[1m2s\u001b[0m 62ms/step - loss: 0.3132 - mae: 0.5888 - mse: 18.4802 - r2_score: 0.4255 - rmse: 1.4005 - smape: 107.6429 - val_loss: 0.3107 - val_mae: 0.6154 - val_mse: 0.7517 - val_r2_score: -0.1692 - val_rmse: 0.8644 - val_smape: 143.2930 - learning_rate: 1.2500e-04\n",
      "Epoch 64/256\n",
      "\u001b[1m35/35\u001b[0m \u001b[32m━━━━━━━━━━━━━━━━━━━━\u001b[0m\u001b[37m\u001b[0m \u001b[1m2s\u001b[0m 64ms/step - loss: 0.3096 - mae: 0.5825 - mse: 18.3807 - r2_score: 0.4395 - rmse: 1.3899 - smape: 107.1552 - val_loss: 0.3140 - val_mae: 0.6199 - val_mse: 0.7613 - val_r2_score: -0.1845 - val_rmse: 0.8699 - val_smape: 143.0714 - learning_rate: 1.2500e-04\n",
      "Epoch 65/256\n",
      "\u001b[1m35/35\u001b[0m \u001b[32m━━━━━━━━━━━━━━━━━━━━\u001b[0m\u001b[37m\u001b[0m \u001b[1m2s\u001b[0m 67ms/step - loss: 0.3089 - mae: 0.5827 - mse: 18.3866 - r2_score: 0.4321 - rmse: 1.3930 - smape: 106.9164 - val_loss: 0.3116 - val_mae: 0.6168 - val_mse: 0.7544 - val_r2_score: -0.1728 - val_rmse: 0.8658 - val_smape: 143.1388 - learning_rate: 1.2500e-04\n",
      "Epoch 66/256\n",
      "\u001b[1m35/35\u001b[0m \u001b[32m━━━━━━━━━━━━━━━━━━━━\u001b[0m\u001b[37m\u001b[0m \u001b[1m2s\u001b[0m 64ms/step - loss: 0.3220 - mae: 0.6022 - mse: 18.5161 - r2_score: 0.3978 - rmse: 1.4195 - smape: 108.8748 - val_loss: 0.3094 - val_mae: 0.6152 - val_mse: 0.7482 - val_r2_score: -0.1631 - val_rmse: 0.8622 - val_smape: 144.2679 - learning_rate: 1.2500e-04\n",
      "Epoch 67/256\n",
      "\u001b[1m35/35\u001b[0m \u001b[32m━━━━━━━━━━━━━━━━━━━━\u001b[0m\u001b[37m\u001b[0m \u001b[1m2s\u001b[0m 62ms/step - loss: 0.3131 - mae: 0.5896 - mse: 18.3720 - r2_score: 0.4172 - rmse: 1.4053 - smape: 107.4824 - val_loss: 0.3107 - val_mae: 0.6151 - val_mse: 0.7529 - val_r2_score: -0.1713 - val_rmse: 0.8651 - val_smape: 143.0009 - learning_rate: 1.2500e-04\n",
      "Epoch 68/256\n",
      "\u001b[1m35/35\u001b[0m \u001b[32m━━━━━━━━━━━━━━━━━━━━\u001b[0m\u001b[37m\u001b[0m \u001b[1m2s\u001b[0m 68ms/step - loss: 0.3064 - mae: 0.5771 - mse: 18.3565 - r2_score: 0.4419 - rmse: 1.3880 - smape: 107.1136 - val_loss: 0.3132 - val_mae: 0.6180 - val_mse: 0.7597 - val_r2_score: -0.1818 - val_rmse: 0.8690 - val_smape: 142.4045 - learning_rate: 1.2500e-04\n",
      "Epoch 69/256\n",
      "\u001b[1m35/35\u001b[0m \u001b[32m━━━━━━━━━━━━━━━━━━━━\u001b[0m\u001b[37m\u001b[0m \u001b[1m2s\u001b[0m 63ms/step - loss: 0.3048 - mae: 0.5766 - mse: 18.4811 - r2_score: 0.4317 - rmse: 1.3960 - smape: 105.9977 - val_loss: 0.3132 - val_mae: 0.6181 - val_mse: 0.7593 - val_r2_score: -0.1814 - val_rmse: 0.8688 - val_smape: 142.1400 - learning_rate: 1.2500e-04\n",
      "Epoch 70/256\n",
      "\u001b[1m35/35\u001b[0m \u001b[32m━━━━━━━━━━━━━━━━━━━━\u001b[0m\u001b[37m\u001b[0m \u001b[1m2s\u001b[0m 63ms/step - loss: 0.3102 - mae: 0.5870 - mse: 18.4771 - r2_score: 0.4385 - rmse: 1.3910 - smape: 107.1874 - val_loss: 0.3092 - val_mae: 0.6130 - val_mse: 0.7494 - val_r2_score: -0.1650 - val_rmse: 0.8629 - val_smape: 142.5786 - learning_rate: 1.2500e-04\n",
      "Epoch 71/256\n",
      "\u001b[1m35/35\u001b[0m \u001b[32m━━━━━━━━━━━━━━━━━━━━\u001b[0m\u001b[37m\u001b[0m \u001b[1m2s\u001b[0m 68ms/step - loss: 0.3087 - mae: 0.5873 - mse: 18.3443 - r2_score: 0.4418 - rmse: 1.3856 - smape: 109.2143 - val_loss: 0.3090 - val_mae: 0.6124 - val_mse: 0.7480 - val_r2_score: -0.1636 - val_rmse: 0.8622 - val_smape: 142.9358 - learning_rate: 1.2500e-04\n",
      "Epoch 72/256\n",
      "\u001b[1m35/35\u001b[0m \u001b[32m━━━━━━━━━━━━━━━━━━━━\u001b[0m\u001b[37m\u001b[0m \u001b[1m3s\u001b[0m 62ms/step - loss: 0.3145 - mae: 0.5924 - mse: 18.3780 - r2_score: 0.4153 - rmse: 1.4080 - smape: 107.1300 - val_loss: 0.3100 - val_mae: 0.6141 - val_mse: 0.7516 - val_r2_score: -0.1688 - val_rmse: 0.8643 - val_smape: 142.3945 - learning_rate: 1.2500e-04\n",
      "Epoch 73/256\n",
      "\u001b[1m35/35\u001b[0m \u001b[32m━━━━━━━━━━━━━━━━━━━━\u001b[0m\u001b[37m\u001b[0m \u001b[1m3s\u001b[0m 63ms/step - loss: 0.3112 - mae: 0.5876 - mse: 18.4597 - r2_score: 0.4198 - rmse: 1.4066 - smape: 107.9844 - val_loss: 0.3109 - val_mae: 0.6153 - val_mse: 0.7523 - val_r2_score: -0.1706 - val_rmse: 0.8648 - val_smape: 141.8409 - learning_rate: 1.2500e-04\n",
      "Epoch 74/256\n",
      "\u001b[1m35/35\u001b[0m \u001b[32m━━━━━━━━━━━━━━━━━━━━\u001b[0m\u001b[37m\u001b[0m \u001b[1m2s\u001b[0m 67ms/step - loss: 0.3083 - mae: 0.5784 - mse: 18.3692 - r2_score: 0.4411 - rmse: 1.3914 - smape: 105.6907 - val_loss: 0.3126 - val_mae: 0.6178 - val_mse: 0.7566 - val_r2_score: -0.1781 - val_rmse: 0.8674 - val_smape: 142.0634 - learning_rate: 1.2500e-04\n",
      "\u001b[32m2025-07-14 21:52:03.506\u001b[0m | \u001b[1mINFO    \u001b[0m | \u001b[36msrc.modeling.train\u001b[0m:\u001b[36mmain\u001b[0m:\u001b[36m85\u001b[0m - \u001b[1mModel training complete.\u001b[0m\n"
     ]
    },
    {
     "name": "stderr",
     "output_type": "stream",
     "text": [
      "2025/07/14 21:52:03 INFO mlflow.tracking.fluent: Experiment with name '0.0-amp-main-notebook' does not exist. Creating a new experiment.\n"
     ]
    },
    {
     "name": "stdout",
     "output_type": "stream",
     "text": [
      "\u001b[32m2025-07-14 21:52:03.510\u001b[0m | \u001b[1mINFO    \u001b[0m | \u001b[36msrc.modeling.train\u001b[0m:\u001b[36mmain\u001b[0m:\u001b[36m89\u001b[0m - \u001b[1mSaving 'default_model.keras' in 'C:\\Repositories\\time-series-prediction-rnn\\models'...\u001b[0m\n",
      "\u001b[32m2025-07-14 21:52:03.585\u001b[0m | \u001b[32m\u001b[1mSUCCESS \u001b[0m | \u001b[36msrc.modeling.train\u001b[0m:\u001b[36mmain\u001b[0m:\u001b[36m93\u001b[0m - \u001b[32m\u001b[1mModeling training complete.\u001b[0m\n",
      "\u001b[32m2025-07-14 21:52:03.585\u001b[0m | \u001b[1mINFO    \u001b[0m | \u001b[36msrc.modeling.train\u001b[0m:\u001b[36mmain\u001b[0m:\u001b[36m96\u001b[0m - \u001b[1mElapsed time: 188.96 seconds\u001b[0m\n",
      "\u001b[32m2025-07-14 21:52:03.588\u001b[0m | \u001b[1mINFO    \u001b[0m | \u001b[36msrc.modeling.train\u001b[0m:\u001b[36mmain\u001b[0m:\u001b[36m98\u001b[0m - \u001b[1mLogging experiment into mlflow.\u001b[0m\n",
      "\u001b[32m2025-07-14 21:52:03.613\u001b[0m | \u001b[1mINFO    \u001b[0m | \u001b[36msrc.utils.log.log_strategy\u001b[0m:\u001b[36mrun\u001b[0m:\u001b[36m251\u001b[0m - \u001b[1mStarting MLflow run 'training_run'\u001b[0m\n",
      "\u001b[1m3/3\u001b[0m \u001b[32m━━━━━━━━━━━━━━━━━━━━\u001b[0m\u001b[37m\u001b[0m \u001b[1m2s\u001b[0m 582ms/step\n",
      "\u001b[1m3/3\u001b[0m \u001b[32m━━━━━━━━━━━━━━━━━━━━\u001b[0m\u001b[37m\u001b[0m \u001b[1m0s\u001b[0m 24ms/step\n"
     ]
    },
    {
     "name": "stderr",
     "output_type": "stream",
     "text": [
      "2025/07/14 21:52:08 INFO mlflow.pyfunc: Inferring model signature from input example\n"
     ]
    },
    {
     "name": "stdout",
     "output_type": "stream",
     "text": [
      "\u001b[32m2025-07-14 21:52:08.142\u001b[0m | \u001b[1mINFO    \u001b[0m | \u001b[36msrc.utils.features.generator_strategy\u001b[0m:\u001b[36mgenerate\u001b[0m:\u001b[36m18\u001b[0m - \u001b[1mGenerating Timeseries from dataset...\u001b[0m\n"
     ]
    },
    {
     "name": "stderr",
     "output_type": "stream",
     "text": [
      "c:\\Repositories\\time-series-prediction-rnn\\.venv\\Lib\\site-packages\\mlflow\\types\\utils.py:452: UserWarning: Hint: Inferred schema contains integer column(s). Integer columns in Python cannot represent missing values. If your input data contains missing values at inference time, it will be encoded as floats and will cause a schema enforcement error. The best way to avoid this problem is to infer the model schema based on a realistic data sample (training dataset) that includes missing values. Alternatively, you can declare integer columns as doubles (float64) whenever these columns may have missing values. See `Handling Integers With Missing Values <https://www.mlflow.org/docs/latest/models.html#handling-integers-with-missing-values>`_ for more details.\n",
      "  warnings.warn(\n",
      "c:\\Repositories\\time-series-prediction-rnn\\.venv\\Lib\\site-packages\\keras\\src\\trainers\\data_adapters\\py_dataset_adapter.py:121: UserWarning: Your `PyDataset` class should call `super().__init__(**kwargs)` in its constructor. `**kwargs` can include `workers`, `use_multiprocessing`, `max_queue_size`. Do not pass these arguments to `fit()`, as they will be ignored.\n",
      "  self._warn_if_super_not_called()\n"
     ]
    },
    {
     "name": "stdout",
     "output_type": "stream",
     "text": [
      "\u001b[32m2025-07-14 21:52:08.470\u001b[0m | \u001b[1mINFO    \u001b[0m | \u001b[36msrc.utils.features.generator_strategy\u001b[0m:\u001b[36mgenerate\u001b[0m:\u001b[36m18\u001b[0m - \u001b[1mGenerating Timeseries from dataset...\u001b[0m\n",
      "\u001b[1m65/65\u001b[0m \u001b[32m━━━━━━━━━━━━━━━━━━━━\u001b[0m\u001b[37m\u001b[0m \u001b[1m2s\u001b[0m 10ms/step\n"
     ]
    },
    {
     "name": "stderr",
     "output_type": "stream",
     "text": [
      "c:\\Repositories\\time-series-prediction-rnn\\.venv\\Lib\\site-packages\\tqdm\\auto.py:21: TqdmWarning: IProgress not found. Please update jupyter and ipywidgets. See https://ipywidgets.readthedocs.io/en/stable/user_install.html\n",
      "  from .autonotebook import tqdm as notebook_tqdm\n",
      "Downloading artifacts: 100%|██████████| 1/1 [00:00<00:00, 1001.51it/s]\n",
      "Downloading artifacts: 100%|██████████| 1/1 [00:00<00:00, 999.36it/s]\n",
      "Downloading artifacts: 100%|██████████| 1/1 [00:00<00:00, 499.08it/s]\n",
      "2025/07/14 21:52:22 WARNING mlflow.utils.environment: Encountered an unexpected error while inferring pip requirements (model URI: C:\\Users\\SAMSUNG\\AppData\\Local\\Temp\\tmpgnesxofp\\model, flavor: python_function). Fall back to return ['cloudpickle==3.1.1']. Set logging level to DEBUG to see the full traceback. \n",
      "Downloading artifacts: 100%|██████████| 10/10 [00:00<00:00, 956.08it/s]\n"
     ]
    },
    {
     "name": "stdout",
     "output_type": "stream",
     "text": [
      "\u001b[32m2025-07-14 21:52:23.241\u001b[0m | \u001b[1mINFO    \u001b[0m | \u001b[36msrc.utils.features.generator_strategy\u001b[0m:\u001b[36mgenerate\u001b[0m:\u001b[36m18\u001b[0m - \u001b[1mGenerating Timeseries from dataset...\u001b[0m\n"
     ]
    },
    {
     "name": "stderr",
     "output_type": "stream",
     "text": [
      "c:\\Repositories\\time-series-prediction-rnn\\.venv\\Lib\\site-packages\\keras\\src\\trainers\\data_adapters\\py_dataset_adapter.py:121: UserWarning: Your `PyDataset` class should call `super().__init__(**kwargs)` in its constructor. `**kwargs` can include `workers`, `use_multiprocessing`, `max_queue_size`. Do not pass these arguments to `fit()`, as they will be ignored.\n",
      "  self._warn_if_super_not_called()\n"
     ]
    },
    {
     "name": "stdout",
     "output_type": "stream",
     "text": [
      "\u001b[1m65/65\u001b[0m \u001b[32m━━━━━━━━━━━━━━━━━━━━\u001b[0m\u001b[37m\u001b[0m \u001b[1m2s\u001b[0m 11ms/step\n",
      "\u001b[32m2025-07-14 21:52:25.251\u001b[0m | \u001b[1mINFO    \u001b[0m | \u001b[36msrc.utils.log.log_strategy\u001b[0m:\u001b[36mlog_param\u001b[0m:\u001b[36m228\u001b[0m - \u001b[1mLogging training parameters...\u001b[0m\n"
     ]
    },
    {
     "name": "stderr",
     "output_type": "stream",
     "text": [
      "Successfully registered model 'regression-pipeline'.\n",
      "Created version '1' of model 'regression-pipeline'.\n"
     ]
    },
    {
     "name": "stdout",
     "output_type": "stream",
     "text": [
      "\u001b[32m2025-07-14 21:52:25.301\u001b[0m | \u001b[1mINFO    \u001b[0m | \u001b[36msrc.utils.log.log_strategy\u001b[0m:\u001b[36mlog_metrics\u001b[0m:\u001b[36m198\u001b[0m - \u001b[1mLogging training metrics...\u001b[0m\n",
      "\u001b[32m2025-07-14 21:52:30.083\u001b[0m | \u001b[32m\u001b[1mSUCCESS \u001b[0m | \u001b[36msrc.utils.log.log_strategy\u001b[0m:\u001b[36mrun\u001b[0m:\u001b[36m375\u001b[0m - \u001b[32m\u001b[1mMLflow logging completed.\u001b[0m\n",
      "\u001b[32m2025-07-14 21:52:30.087\u001b[0m | \u001b[32m\u001b[1mSUCCESS \u001b[0m | \u001b[36msrc.modeling.train\u001b[0m:\u001b[36mmain\u001b[0m:\u001b[36m114\u001b[0m - \u001b[32m\u001b[1mExperiment logged successfully.\u001b[0m\n"
     ]
    }
   ],
   "source": [
    "from src import config\n",
    "from src.modeling import train\n",
    "\n",
    "train.main(\n",
    "    # ---- REPLACE DEFAULT PATHS AS APPROPRIATE ----\n",
    "    X_path = config.PROCESSED_DATA_DIR / \"X_train.npy\",\n",
    "    y_path = config.PROCESSED_DATA_DIR / \"y_train.npy\",\n",
    "    # -----------------------------------------\n",
    "    optimizer =  None,  # Use default optimizer\n",
    "    loss = None,  # Use default loss\n",
    "    metrics = None,  # Use default metrics\n",
    "    # -----------------------------------------\n",
    "    epochs = 2**8,    \n",
    "    validation_len = 2**7,\n",
    "    batch_size = 2**6,    \n",
    "    # -----------------------------------------\n",
    "    experiment_name = \"0.0-amp-main-notebook\",\n",
    ")"
   ]
  },
  {
   "cell_type": "markdown",
   "id": "ab6162b6",
   "metadata": {},
   "source": [
    "## Predict\n",
    "\n",
    "In the prediction stage, the trained model is loaded along with the input data. The model then performs inference, generating predictions based on the provided data.\n"
   ]
  },
  {
   "cell_type": "code",
   "execution_count": 5,
   "id": "55f922aa",
   "metadata": {},
   "outputs": [
    {
     "name": "stdout",
     "output_type": "stream",
     "text": [
      "\u001b[32m2025-07-14 21:52:30.119\u001b[0m | \u001b[1mINFO    \u001b[0m | \u001b[36msrc.modeling.predict\u001b[0m:\u001b[36mmain\u001b[0m:\u001b[36m27\u001b[0m - \u001b[1mPerforming inference for model...\u001b[0m\n",
      "\u001b[32m2025-07-14 21:52:30.390\u001b[0m | \u001b[1mINFO    \u001b[0m | \u001b[36msrc.modeling.predict\u001b[0m:\u001b[36mmain\u001b[0m:\u001b[36m42\u001b[0m - \u001b[1mInput data shape: (32, 34)\u001b[0m\n",
      "\u001b[32m2025-07-14 21:52:30.396\u001b[0m | \u001b[1mINFO    \u001b[0m | \u001b[36msrc.utils.features.generator_strategy\u001b[0m:\u001b[36mgenerate\u001b[0m:\u001b[36m18\u001b[0m - \u001b[1mGenerating Timeseries from dataset...\u001b[0m\n"
     ]
    },
    {
     "name": "stderr",
     "output_type": "stream",
     "text": [
      "c:\\Repositories\\time-series-prediction-rnn\\.venv\\Lib\\site-packages\\keras\\src\\trainers\\data_adapters\\py_dataset_adapter.py:121: UserWarning: Your `PyDataset` class should call `super().__init__(**kwargs)` in its constructor. `**kwargs` can include `workers`, `use_multiprocessing`, `max_queue_size`. Do not pass these arguments to `fit()`, as they will be ignored.\n",
      "  self._warn_if_super_not_called()\n"
     ]
    },
    {
     "name": "stdout",
     "output_type": "stream",
     "text": [
      "\u001b[1m1/1\u001b[0m \u001b[32m━━━━━━━━━━━━━━━━━━━━\u001b[0m\u001b[37m\u001b[0m \u001b[1m2s\u001b[0m 2s/step\n",
      "            Close_^BVSP  Volume_^BVSP       type\n",
      "2025-07-10    -0.005368      0.261283       True\n",
      "2025-07-11    -0.004066     -0.226244       True\n",
      "2025-07-12     0.003419     -0.018848  Predicted\n",
      "\u001b[32m2025-07-14 21:52:32.486\u001b[0m | \u001b[32m\u001b[1mSUCCESS \u001b[0m | \u001b[36msrc.modeling.predict\u001b[0m:\u001b[36mmain\u001b[0m:\u001b[36m77\u001b[0m - \u001b[32m\u001b[1mInference complete.\u001b[0m\n"
     ]
    }
   ],
   "source": [
    "from src import config\n",
    "from src.modeling import predict\n",
    "\n",
    "predict.main(\n",
    "    # ---- REPLACE DEFAULT PATHS AS APPROPRIATE ----\n",
    "    input_path = config.PROCESSED_DATA_DIR / \"dataset.csv\"\n",
    "    ,preprocessor_path = config.PROCESSED_DATA_DIR / \"preprocessor.pkl\"\n",
    "    ,postprocessor_path = config.PROCESSED_DATA_DIR / \"postprocessor.pkl\"\n",
    "    ,output_path = config.PREDICTED_DATA_DIR / \"dataset_report.csv\"\n",
    "    ,model_path = config.MODELS_DIR / \"default_model.keras\"  # Select the best model  \n",
    "    # -----------------------------------------\n",
    ")"
   ]
  },
  {
   "cell_type": "markdown",
   "id": "340ef876",
   "metadata": {},
   "source": [
    "## Plot\n",
    "\n",
    "Open the [Power BI Report]((../reports/pbi/amp-fynance.pbip)) and refresh data."
   ]
  }
 ],
 "metadata": {
  "kernelspec": {
   "display_name": ".venv",
   "language": "python",
   "name": "python3"
  },
  "language_info": {
   "codemirror_mode": {
    "name": "ipython",
    "version": 3
   },
   "file_extension": ".py",
   "mimetype": "text/x-python",
   "name": "python",
   "nbconvert_exporter": "python",
   "pygments_lexer": "ipython3",
   "version": "3.12.10"
  }
 },
 "nbformat": 4,
 "nbformat_minor": 5
}
