{
 "cells": [
  {
   "cell_type": "markdown",
   "id": "9f58e5c2",
   "metadata": {},
   "source": [
    "## Import libraries"
   ]
  },
  {
   "cell_type": "code",
   "execution_count": 1,
   "id": "42021f93",
   "metadata": {},
   "outputs": [
    {
     "name": "stderr",
     "output_type": "stream",
     "text": [
      "\u001b[32m2025-06-14 11:06:19.916\u001b[0m | \u001b[1mINFO    \u001b[0m | \u001b[36msrc.config\u001b[0m:\u001b[36m<module>\u001b[0m:\u001b[36m11\u001b[0m - \u001b[1mPROJ_ROOT path is: C:\\Repositories\\ds-lstm-ibov\u001b[0m\n"
     ]
    }
   ],
   "source": [
    "import src.config as config"
   ]
  },
  {
   "cell_type": "markdown",
   "id": "9bfd6425",
   "metadata": {},
   "source": [
    "## ETL — Extract, Transform, Load of Raw Dataset\n",
    "\n",
    "This section is responsible for the Extraction phase of the ETL process, pulling historical financial data from multiple sources as defined in the configuration file [dataset.yaml](../configs/dataset.yaml).\n",
    "\n",
    "- Data Storage: Each dataset is stored locally in the data/raw/ directory, organized and saved individually as .csv files for traceability and versioning.\n",
    "- Data Cleaning:\n",
    "  - Missing values are treated using a standard cleaning strategy.\n",
    "  - Features with low variance (threshold < 0.01) are removed to reduce noise and improve modeling efficiency. In this execution, no low-variance columns were found."
   ]
  },
  {
   "cell_type": "code",
   "execution_count": 2,
   "id": "7fdcd420",
   "metadata": {},
   "outputs": [
    {
     "name": "stdout",
     "output_type": "stream",
     "text": [
      "\u001b[32m2025-06-14 11:06:23.146\u001b[0m | \u001b[1mINFO    \u001b[0m | \u001b[36msrc.dataset\u001b[0m:\u001b[36mmain\u001b[0m:\u001b[36m31\u001b[0m - \u001b[1mStarting raw data loading...\u001b[0m\n",
      "\u001b[32m2025-06-14 11:06:23.146\u001b[0m | \u001b[1mINFO    \u001b[0m | \u001b[36msrc.dataset\u001b[0m:\u001b[36mmain\u001b[0m:\u001b[36m37\u001b[0m - \u001b[1mRequesting information between 2015-06-17 and 2025-06-14\u001b[0m\n",
      "\u001b[32m2025-06-14 11:06:23.146\u001b[0m | \u001b[1mINFO    \u001b[0m | \u001b[36msrc.utils.dataset.dataset_loading_strategy\u001b[0m:\u001b[36m_load_from_yfinance\u001b[0m:\u001b[36m56\u001b[0m - \u001b[1mDownloading BOVESPA (^BVSP) from yfinance...\u001b[0m\n"
     ]
    },
    {
     "name": "stderr",
     "output_type": "stream",
     "text": [
      "[*********************100%***********************]  1 of 1 completed\n"
     ]
    },
    {
     "name": "stdout",
     "output_type": "stream",
     "text": [
      "\u001b[32m2025-06-14 11:06:27.091\u001b[0m | \u001b[1mINFO    \u001b[0m | \u001b[36msrc.utils.dataset.dataset_loading_strategy\u001b[0m:\u001b[36m_load_from_yfinance\u001b[0m:\u001b[36m56\u001b[0m - \u001b[1mDownloading S&P500 (^GSPC) from yfinance...\u001b[0m\n"
     ]
    },
    {
     "name": "stderr",
     "output_type": "stream",
     "text": [
      "[*********************100%***********************]  1 of 1 completed\n"
     ]
    },
    {
     "name": "stdout",
     "output_type": "stream",
     "text": [
      "\u001b[32m2025-06-14 11:06:29.992\u001b[0m | \u001b[1mINFO    \u001b[0m | \u001b[36msrc.utils.dataset.dataset_loading_strategy\u001b[0m:\u001b[36m_load_from_yfinance\u001b[0m:\u001b[36m56\u001b[0m - \u001b[1mDownloading BITCOIN (BTC-USD) from yfinance...\u001b[0m\n"
     ]
    },
    {
     "name": "stderr",
     "output_type": "stream",
     "text": [
      "[*********************100%***********************]  1 of 1 completed\n"
     ]
    },
    {
     "name": "stdout",
     "output_type": "stream",
     "text": [
      "\u001b[32m2025-06-14 11:06:32.935\u001b[0m | \u001b[1mINFO    \u001b[0m | \u001b[36msrc.utils.dataset.dataset_loading_strategy\u001b[0m:\u001b[36m_load_from_yfinance\u001b[0m:\u001b[36m56\u001b[0m - \u001b[1mDownloading OURO (GC=F) from yfinance...\u001b[0m\n"
     ]
    },
    {
     "name": "stderr",
     "output_type": "stream",
     "text": [
      "[*********************100%***********************]  1 of 1 completed\n"
     ]
    },
    {
     "name": "stdout",
     "output_type": "stream",
     "text": [
      "\u001b[32m2025-06-14 11:06:35.968\u001b[0m | \u001b[1mINFO    \u001b[0m | \u001b[36msrc.utils.dataset.dataset_loading_strategy\u001b[0m:\u001b[36m_load_from_yfinance\u001b[0m:\u001b[36m56\u001b[0m - \u001b[1mDownloading PETROLEO (CL=F) from yfinance...\u001b[0m\n"
     ]
    },
    {
     "name": "stderr",
     "output_type": "stream",
     "text": [
      "[*********************100%***********************]  1 of 1 completed\n"
     ]
    },
    {
     "name": "stdout",
     "output_type": "stream",
     "text": [
      "\u001b[32m2025-06-14 11:06:39.250\u001b[0m | \u001b[1mINFO    \u001b[0m | \u001b[36msrc.utils.dataset.dataset_loading_strategy\u001b[0m:\u001b[36m_load_from_yfinance\u001b[0m:\u001b[36m56\u001b[0m - \u001b[1mDownloading ACUCAR (SB=F) from yfinance...\u001b[0m\n"
     ]
    },
    {
     "name": "stderr",
     "output_type": "stream",
     "text": [
      "[*********************100%***********************]  1 of 1 completed\n"
     ]
    },
    {
     "name": "stdout",
     "output_type": "stream",
     "text": [
      "\u001b[32m2025-06-14 11:06:42.097\u001b[0m | \u001b[1mINFO    \u001b[0m | \u001b[36msrc.utils.dataset.dataset_loading_strategy\u001b[0m:\u001b[36mload\u001b[0m:\u001b[36m81\u001b[0m - \u001b[1mDownloading SELIC (11) from the Central Bank of Brazil API...\u001b[0m\n",
      "\u001b[32m2025-06-14 11:07:04.766\u001b[0m | \u001b[1mINFO    \u001b[0m | \u001b[36msrc.utils.dataset.dataset_loading_strategy\u001b[0m:\u001b[36mload\u001b[0m:\u001b[36m81\u001b[0m - \u001b[1mDownloading CDI (12) from the Central Bank of Brazil API...\u001b[0m\n",
      "\u001b[32m2025-06-14 11:07:26.085\u001b[0m | \u001b[1mINFO    \u001b[0m | \u001b[36msrc.utils.dataset.dataset_loading_strategy\u001b[0m:\u001b[36mload\u001b[0m:\u001b[36m81\u001b[0m - \u001b[1mDownloading SELIC_Anual (1178) from the Central Bank of Brazil API...\u001b[0m\n",
      "\u001b[32m2025-06-14 11:07:47.442\u001b[0m | \u001b[1mINFO    \u001b[0m | \u001b[36msrc.utils.dataset.dataset_loading_strategy\u001b[0m:\u001b[36mload\u001b[0m:\u001b[36m81\u001b[0m - \u001b[1mDownloading SELIC_Meta_Anual (432) from the Central Bank of Brazil API...\u001b[0m\n",
      "\u001b[32m2025-06-14 11:07:49.862\u001b[0m | \u001b[1mINFO    \u001b[0m | \u001b[36msrc.utils.dataset.dataset_loading_strategy\u001b[0m:\u001b[36mload\u001b[0m:\u001b[36m81\u001b[0m - \u001b[1mDownloading IPCA_Mensal (433) from the Central Bank of Brazil API...\u001b[0m\n",
      "\u001b[32m2025-06-14 11:07:52.075\u001b[0m | \u001b[1mINFO    \u001b[0m | \u001b[36msrc.utils.dataset.dataset_loading_strategy\u001b[0m:\u001b[36mload\u001b[0m:\u001b[36m81\u001b[0m - \u001b[1mDownloading IGP_M_Mensal (189) from the Central Bank of Brazil API...\u001b[0m\n",
      "\u001b[32m2025-06-14 11:07:54.351\u001b[0m | \u001b[1mINFO    \u001b[0m | \u001b[36msrc.utils.dataset.dataset_loading_strategy\u001b[0m:\u001b[36mload\u001b[0m:\u001b[36m81\u001b[0m - \u001b[1mDownloading INCC_Mensal (192) from the Central Bank of Brazil API...\u001b[0m\n",
      "\u001b[32m2025-06-14 11:07:56.545\u001b[0m | \u001b[1mINFO    \u001b[0m | \u001b[36msrc.utils.dataset.dataset_loading_strategy\u001b[0m:\u001b[36mload\u001b[0m:\u001b[36m81\u001b[0m - \u001b[1mDownloading Indice_Condicoes_Econ_BR (27574) from the Central Bank of Brazil API...\u001b[0m\n",
      "\u001b[32m2025-06-14 11:07:59.039\u001b[0m | \u001b[1mINFO    \u001b[0m | \u001b[36msrc.utils.dataset.dataset_loading_strategy\u001b[0m:\u001b[36mload\u001b[0m:\u001b[36m81\u001b[0m - \u001b[1mDownloading Indice_Condicoes_Econ_BR_USD (29042) from the Central Bank of Brazil API...\u001b[0m\n",
      "\u001b[32m2025-06-14 11:08:01.307\u001b[0m | \u001b[1mINFO    \u001b[0m | \u001b[36msrc.utils.dataset.dataset_loading_strategy\u001b[0m:\u001b[36mload\u001b[0m:\u001b[36m81\u001b[0m - \u001b[1mDownloading Salario_Minimo (1619) from the Central Bank of Brazil API...\u001b[0m\n",
      "\u001b[32m2025-06-14 11:08:03.550\u001b[0m | \u001b[1mINFO    \u001b[0m | \u001b[36msrc.utils.dataset.dataset_loading_strategy\u001b[0m:\u001b[36mload\u001b[0m:\u001b[36m81\u001b[0m - \u001b[1mDownloading IBC_BR (24363) from the Central Bank of Brazil API...\u001b[0m\n",
      "\u001b[32m2025-06-14 11:08:05.850\u001b[0m | \u001b[1mINFO    \u001b[0m | \u001b[36msrc.utils.dataset.dataset_loading_strategy\u001b[0m:\u001b[36mload\u001b[0m:\u001b[36m81\u001b[0m - \u001b[1mDownloading Populacao_BR (21774) from the Central Bank of Brazil API...\u001b[0m\n",
      "\u001b[32m2025-06-14 11:08:08.095\u001b[0m | \u001b[1mINFO    \u001b[0m | \u001b[36msrc.utils.dataset.dataset_loading_strategy\u001b[0m:\u001b[36mload\u001b[0m:\u001b[36m81\u001b[0m - \u001b[1mDownloading PIB_Trimestral_Real (4380) from the Central Bank of Brazil API...\u001b[0m\n",
      "\u001b[32m2025-06-14 11:08:10.355\u001b[0m | \u001b[1mINFO    \u001b[0m | \u001b[36msrc.utils.dataset.dataset_loading_strategy\u001b[0m:\u001b[36mload\u001b[0m:\u001b[36m81\u001b[0m - \u001b[1mDownloading PIB_Anual_Corrente (7326) from the Central Bank of Brazil API...\u001b[0m\n",
      "\u001b[32m2025-06-14 11:08:12.570\u001b[0m | \u001b[1mINFO    \u001b[0m | \u001b[36msrc.utils.dataset.dataset_loading_strategy\u001b[0m:\u001b[36mload\u001b[0m:\u001b[36m81\u001b[0m - \u001b[1mDownloading Deflator_Implicito_PIB (1211) from the Central Bank of Brazil API...\u001b[0m\n",
      "\u001b[32m2025-06-14 11:08:14.817\u001b[0m | \u001b[1mINFO    \u001b[0m | \u001b[36msrc.utils.dataset.dataset_loading_strategy\u001b[0m:\u001b[36mload\u001b[0m:\u001b[36m136\u001b[0m - \u001b[1mDownloading BRL_USD (DEXBZUS) from DataReader...\u001b[0m\n",
      "\u001b[32m2025-06-14 11:08:18.167\u001b[0m | \u001b[1mINFO    \u001b[0m | \u001b[36msrc.utils.dataset.dataset_loading_strategy\u001b[0m:\u001b[36mload\u001b[0m:\u001b[36m136\u001b[0m - \u001b[1mDownloading CPI_USA (CPIAUCSL) from DataReader...\u001b[0m\n",
      "\u001b[32m2025-06-14 11:08:20.538\u001b[0m | \u001b[1mINFO    \u001b[0m | \u001b[36msrc.dataset\u001b[0m:\u001b[36mmain\u001b[0m:\u001b[36m55\u001b[0m - \u001b[1mSaved Yfinance_BOVESPA dataset to C:\\Repositories\\ds-lstm-ibov\\data\\raw\\Yfinance_BOVESPA.csv\u001b[0m\n",
      "\u001b[32m2025-06-14 11:08:20.574\u001b[0m | \u001b[1mINFO    \u001b[0m | \u001b[36msrc.dataset\u001b[0m:\u001b[36mmain\u001b[0m:\u001b[36m55\u001b[0m - \u001b[1mSaved Yfinance_S&P500 dataset to C:\\Repositories\\ds-lstm-ibov\\data\\raw\\Yfinance_S&P500.csv\u001b[0m\n",
      "\u001b[32m2025-06-14 11:08:20.607\u001b[0m | \u001b[1mINFO    \u001b[0m | \u001b[36msrc.dataset\u001b[0m:\u001b[36mmain\u001b[0m:\u001b[36m55\u001b[0m - \u001b[1mSaved Yfinance_BITCOIN dataset to C:\\Repositories\\ds-lstm-ibov\\data\\raw\\Yfinance_BITCOIN.csv\u001b[0m\n",
      "\u001b[32m2025-06-14 11:08:20.639\u001b[0m | \u001b[1mINFO    \u001b[0m | \u001b[36msrc.dataset\u001b[0m:\u001b[36mmain\u001b[0m:\u001b[36m55\u001b[0m - \u001b[1mSaved Yfinance_OURO dataset to C:\\Repositories\\ds-lstm-ibov\\data\\raw\\Yfinance_OURO.csv\u001b[0m\n",
      "\u001b[32m2025-06-14 11:08:20.678\u001b[0m | \u001b[1mINFO    \u001b[0m | \u001b[36msrc.dataset\u001b[0m:\u001b[36mmain\u001b[0m:\u001b[36m55\u001b[0m - \u001b[1mSaved Yfinance_PETROLEO dataset to C:\\Repositories\\ds-lstm-ibov\\data\\raw\\Yfinance_PETROLEO.csv\u001b[0m\n",
      "\u001b[32m2025-06-14 11:08:20.702\u001b[0m | \u001b[1mINFO    \u001b[0m | \u001b[36msrc.dataset\u001b[0m:\u001b[36mmain\u001b[0m:\u001b[36m55\u001b[0m - \u001b[1mSaved Yfinance_ACUCAR dataset to C:\\Repositories\\ds-lstm-ibov\\data\\raw\\Yfinance_ACUCAR.csv\u001b[0m\n",
      "\u001b[32m2025-06-14 11:08:20.706\u001b[0m | \u001b[1mINFO    \u001b[0m | \u001b[36msrc.dataset\u001b[0m:\u001b[36mmain\u001b[0m:\u001b[36m55\u001b[0m - \u001b[1mSaved Bcb_SELIC dataset to C:\\Repositories\\ds-lstm-ibov\\data\\raw\\Bcb_SELIC.csv\u001b[0m\n",
      "\u001b[32m2025-06-14 11:08:20.706\u001b[0m | \u001b[1mINFO    \u001b[0m | \u001b[36msrc.dataset\u001b[0m:\u001b[36mmain\u001b[0m:\u001b[36m55\u001b[0m - \u001b[1mSaved Bcb_CDI dataset to C:\\Repositories\\ds-lstm-ibov\\data\\raw\\Bcb_CDI.csv\u001b[0m\n",
      "\u001b[32m2025-06-14 11:08:20.721\u001b[0m | \u001b[1mINFO    \u001b[0m | \u001b[36msrc.dataset\u001b[0m:\u001b[36mmain\u001b[0m:\u001b[36m55\u001b[0m - \u001b[1mSaved Bcb_SELIC_Anual dataset to C:\\Repositories\\ds-lstm-ibov\\data\\raw\\Bcb_SELIC_Anual.csv\u001b[0m\n",
      "\u001b[32m2025-06-14 11:08:20.737\u001b[0m | \u001b[1mINFO    \u001b[0m | \u001b[36msrc.dataset\u001b[0m:\u001b[36mmain\u001b[0m:\u001b[36m55\u001b[0m - \u001b[1mSaved Bcb_SELIC_Meta_Anual dataset to C:\\Repositories\\ds-lstm-ibov\\data\\raw\\Bcb_SELIC_Meta_Anual.csv\u001b[0m\n",
      "\u001b[32m2025-06-14 11:08:20.737\u001b[0m | \u001b[1mINFO    \u001b[0m | \u001b[36msrc.dataset\u001b[0m:\u001b[36mmain\u001b[0m:\u001b[36m55\u001b[0m - \u001b[1mSaved Bcb_IPCA_Mensal dataset to C:\\Repositories\\ds-lstm-ibov\\data\\raw\\Bcb_IPCA_Mensal.csv\u001b[0m\n",
      "\u001b[32m2025-06-14 11:08:20.737\u001b[0m | \u001b[1mINFO    \u001b[0m | \u001b[36msrc.dataset\u001b[0m:\u001b[36mmain\u001b[0m:\u001b[36m55\u001b[0m - \u001b[1mSaved Bcb_IGP_M_Mensal dataset to C:\\Repositories\\ds-lstm-ibov\\data\\raw\\Bcb_IGP_M_Mensal.csv\u001b[0m\n",
      "\u001b[32m2025-06-14 11:08:20.755\u001b[0m | \u001b[1mINFO    \u001b[0m | \u001b[36msrc.dataset\u001b[0m:\u001b[36mmain\u001b[0m:\u001b[36m55\u001b[0m - \u001b[1mSaved Bcb_INCC_Mensal dataset to C:\\Repositories\\ds-lstm-ibov\\data\\raw\\Bcb_INCC_Mensal.csv\u001b[0m\n",
      "\u001b[32m2025-06-14 11:08:20.756\u001b[0m | \u001b[1mINFO    \u001b[0m | \u001b[36msrc.dataset\u001b[0m:\u001b[36mmain\u001b[0m:\u001b[36m55\u001b[0m - \u001b[1mSaved Bcb_Indice_Condicoes_Econ_BR dataset to C:\\Repositories\\ds-lstm-ibov\\data\\raw\\Bcb_Indice_Condicoes_Econ_BR.csv\u001b[0m\n",
      "\u001b[32m2025-06-14 11:08:20.756\u001b[0m | \u001b[1mINFO    \u001b[0m | \u001b[36msrc.dataset\u001b[0m:\u001b[36mmain\u001b[0m:\u001b[36m55\u001b[0m - \u001b[1mSaved Bcb_Indice_Condicoes_Econ_BR_USD dataset to C:\\Repositories\\ds-lstm-ibov\\data\\raw\\Bcb_Indice_Condicoes_Econ_BR_USD.csv\u001b[0m\n",
      "\u001b[32m2025-06-14 11:08:20.756\u001b[0m | \u001b[1mINFO    \u001b[0m | \u001b[36msrc.dataset\u001b[0m:\u001b[36mmain\u001b[0m:\u001b[36m55\u001b[0m - \u001b[1mSaved Bcb_Salario_Minimo dataset to C:\\Repositories\\ds-lstm-ibov\\data\\raw\\Bcb_Salario_Minimo.csv\u001b[0m\n",
      "\u001b[32m2025-06-14 11:08:20.773\u001b[0m | \u001b[1mINFO    \u001b[0m | \u001b[36msrc.dataset\u001b[0m:\u001b[36mmain\u001b[0m:\u001b[36m55\u001b[0m - \u001b[1mSaved Bcb_IBC_BR dataset to C:\\Repositories\\ds-lstm-ibov\\data\\raw\\Bcb_IBC_BR.csv\u001b[0m\n",
      "\u001b[32m2025-06-14 11:08:20.780\u001b[0m | \u001b[1mINFO    \u001b[0m | \u001b[36msrc.dataset\u001b[0m:\u001b[36mmain\u001b[0m:\u001b[36m55\u001b[0m - \u001b[1mSaved Bcb_Populacao_BR dataset to C:\\Repositories\\ds-lstm-ibov\\data\\raw\\Bcb_Populacao_BR.csv\u001b[0m\n",
      "\u001b[32m2025-06-14 11:08:20.787\u001b[0m | \u001b[1mINFO    \u001b[0m | \u001b[36msrc.dataset\u001b[0m:\u001b[36mmain\u001b[0m:\u001b[36m55\u001b[0m - \u001b[1mSaved Bcb_PIB_Trimestral_Real dataset to C:\\Repositories\\ds-lstm-ibov\\data\\raw\\Bcb_PIB_Trimestral_Real.csv\u001b[0m\n",
      "\u001b[32m2025-06-14 11:08:20.795\u001b[0m | \u001b[1mINFO    \u001b[0m | \u001b[36msrc.dataset\u001b[0m:\u001b[36mmain\u001b[0m:\u001b[36m55\u001b[0m - \u001b[1mSaved Bcb_PIB_Anual_Corrente dataset to C:\\Repositories\\ds-lstm-ibov\\data\\raw\\Bcb_PIB_Anual_Corrente.csv\u001b[0m\n",
      "\u001b[32m2025-06-14 11:08:20.806\u001b[0m | \u001b[1mINFO    \u001b[0m | \u001b[36msrc.dataset\u001b[0m:\u001b[36mmain\u001b[0m:\u001b[36m55\u001b[0m - \u001b[1mSaved Bcb_Deflator_Implicito_PIB dataset to C:\\Repositories\\ds-lstm-ibov\\data\\raw\\Bcb_Deflator_Implicito_PIB.csv\u001b[0m\n",
      "\u001b[32m2025-06-14 11:08:20.824\u001b[0m | \u001b[1mINFO    \u001b[0m | \u001b[36msrc.dataset\u001b[0m:\u001b[36mmain\u001b[0m:\u001b[36m55\u001b[0m - \u001b[1mSaved DataReader_BRL_USD dataset to C:\\Repositories\\ds-lstm-ibov\\data\\raw\\DataReader_BRL_USD.csv\u001b[0m\n",
      "\u001b[32m2025-06-14 11:08:20.831\u001b[0m | \u001b[1mINFO    \u001b[0m | \u001b[36msrc.dataset\u001b[0m:\u001b[36mmain\u001b[0m:\u001b[36m55\u001b[0m - \u001b[1mSaved DataReader_CPI_USA dataset to C:\\Repositories\\ds-lstm-ibov\\data\\raw\\DataReader_CPI_USA.csv\u001b[0m\n"
     ]
    },
    {
     "name": "stderr",
     "output_type": "stream",
     "text": [
      "INFO:src.utils.dataset.clean_strategy:Executing CleanMissingValues...\n",
      "INFO:src.utils.dataset.clean_strategy:Executing CleanLowVariance with threshold=0.01...\n",
      "INFO:src.utils.dataset.clean_strategy:Columns removed due to low variance: Index([], dtype='object')\n"
     ]
    },
    {
     "name": "stdout",
     "output_type": "stream",
     "text": [
      "\u001b[32m2025-06-14 11:08:21.067\u001b[0m | \u001b[32m\u001b[1mSUCCESS \u001b[0m | \u001b[36msrc.dataset\u001b[0m:\u001b[36mmain\u001b[0m:\u001b[36m63\u001b[0m - \u001b[32m\u001b[1mRaw data successfully loaded...\u001b[0m\n",
      "\u001b[32m2025-06-14 11:08:21.289\u001b[0m | \u001b[32m\u001b[1mSUCCESS \u001b[0m | \u001b[36msrc.dataset\u001b[0m:\u001b[36mmain\u001b[0m:\u001b[36m83\u001b[0m - \u001b[32m\u001b[1mClean data successfully loaded...\u001b[0m\n",
      "\u001b[32m2025-06-14 11:08:21.289\u001b[0m | \u001b[1mINFO    \u001b[0m | \u001b[36msrc.dataset\u001b[0m:\u001b[36mmain\u001b[0m:\u001b[36m87\u001b[0m - \u001b[1mTotal time taken: 118.14 seconds\u001b[0m\n"
     ]
    }
   ],
   "source": [
    "from src import dataset\n",
    "\n",
    "dataset.main(\n",
    "    # ---- REPLACE DEFAULT PATHS AS APPROPRIATE ----\n",
    "    asset = '^BVSP',\n",
    "    asset_focus = 'Close',\n",
    "    years = 10\n",
    "    # -----------------------------------------\n",
    "    )"
   ]
  },
  {
   "cell_type": "markdown",
   "id": "31fce4b8",
   "metadata": {},
   "source": [
    "## Feature Engineering — Time Series Preparation\n",
    "\n",
    "This part of the pipeline is responsible for transforming the cleaned dataset into structured features suitable for training time series models. It includes the following key steps:\n",
    "- Feature Generation: Constructs relevant features based on historical market data.\n",
    "- Dataset Splitting: The dataset is split into training and testing sets using a consistent strategy to preserve temporal structure.\n",
    "- Time Series Windowing: Converts the sequential data into overlapping windows, enabling the model to learn temporal dependencies.\n",
    "- Saving Artifacts: Both training and testing sets are stored for reproducibility, along with the transformation pipelines applied during preprocessing."
   ]
  },
  {
   "cell_type": "code",
   "execution_count": 3,
   "id": "64946194",
   "metadata": {},
   "outputs": [
    {
     "name": "stdout",
     "output_type": "stream",
     "text": [
      "\u001b[32m2025-06-14 11:08:30.868\u001b[0m | \u001b[1mINFO    \u001b[0m | \u001b[36msrc.features\u001b[0m:\u001b[36mmain\u001b[0m:\u001b[36m31\u001b[0m - \u001b[1mGenerating features from dataset...\u001b[0m\n",
      "\u001b[32m2025-06-14 11:08:30.918\u001b[0m | \u001b[1mINFO    \u001b[0m | \u001b[36msrc.utils.features.splitter_strategy\u001b[0m:\u001b[36msplit\u001b[0m:\u001b[36m15\u001b[0m - \u001b[1mSplitting dataset into training and testing sets...\u001b[0m\n",
      "\u001b[32m2025-06-14 11:08:30.934\u001b[0m | \u001b[1mINFO    \u001b[0m | \u001b[36msrc.utils.features.generator_strategy\u001b[0m:\u001b[36mgenerate\u001b[0m:\u001b[36m18\u001b[0m - \u001b[1mGenerating Timeseries from dataset...\u001b[0m\n",
      "\u001b[32m2025-06-14 11:08:31.001\u001b[0m | \u001b[32m\u001b[1mSUCCESS \u001b[0m | \u001b[36msrc.features\u001b[0m:\u001b[36mmain\u001b[0m:\u001b[36m46\u001b[0m - \u001b[32m\u001b[1mSaving train features in C:\\Repositories\\ds-lstm-ibov\\data\\processed...\u001b[0m\n",
      "\u001b[32m2025-06-14 11:08:31.018\u001b[0m | \u001b[32m\u001b[1mSUCCESS \u001b[0m | \u001b[36msrc.features\u001b[0m:\u001b[36mmain\u001b[0m:\u001b[36m50\u001b[0m - \u001b[32m\u001b[1mSaving test features in C:\\Repositories\\ds-lstm-ibov\\data\\processed...\u001b[0m\n",
      "\u001b[32m2025-06-14 11:08:31.018\u001b[0m | \u001b[32m\u001b[1mSUCCESS \u001b[0m | \u001b[36msrc.features\u001b[0m:\u001b[36mmain\u001b[0m:\u001b[36m54\u001b[0m - \u001b[32m\u001b[1mFeatures generation complete.\u001b[0m\n",
      "\u001b[32m2025-06-14 11:08:31.018\u001b[0m | \u001b[1mINFO    \u001b[0m | \u001b[36msrc.features\u001b[0m:\u001b[36mmain\u001b[0m:\u001b[36m56\u001b[0m - \u001b[1mSaving transformers...\u001b[0m\n",
      "\u001b[32m2025-06-14 11:08:31.018\u001b[0m | \u001b[1mINFO    \u001b[0m | \u001b[36msrc.utils.features.splitter_strategy\u001b[0m:\u001b[36msplit\u001b[0m:\u001b[36m15\u001b[0m - \u001b[1mSplitting dataset into training and testing sets...\u001b[0m\n",
      "\u001b[32m2025-06-14 11:08:31.018\u001b[0m | \u001b[1mINFO    \u001b[0m | \u001b[36msrc.features\u001b[0m:\u001b[36mmain\u001b[0m:\u001b[36m72\u001b[0m - \u001b[1mTotal time taken: 0.15 seconds\u001b[0m\n"
     ]
    }
   ],
   "source": [
    "from src import features\n",
    "\n",
    "features.main(\n",
    "    # ---- REPLACE DEFAULT PATHS AS APPROPRIATE ----\n",
    "    input_path = config.PROCESSED_DATA_DIR / \"dataset.csv\",\n",
    "    train_dir = config.PROCESSED_DATA_DIR,\n",
    "    test_dir = config.PROCESSED_DATA_DIR,\n",
    "    # -----------------------------------------\n",
    ")"
   ]
  },
  {
   "cell_type": "markdown",
   "id": "2a66434c",
   "metadata": {},
   "source": [
    "## Modeling\n",
    "\n",
    "The modeling process begins with loading the training dataset. Next, the base model is constructed, and both the compilation and training strategies are defined. With the pipeline structure in place, the model is trained over 100 epochs using an iterative approach to adjust the weights.\n",
    "\n",
    "During training, key metrics are monitored, including accuracy, loss (error), validation accuracy and loss (on unseen data), as well as the learning rate."
   ]
  },
  {
   "cell_type": "code",
   "execution_count": 4,
   "id": "6ff11608",
   "metadata": {},
   "outputs": [
    {
     "name": "stdout",
     "output_type": "stream",
     "text": [
      "\u001b[32m2025-06-14 11:08:31.057\u001b[0m | \u001b[1mINFO    \u001b[0m | \u001b[36msrc.modeling.train\u001b[0m:\u001b[36mmain\u001b[0m:\u001b[36m29\u001b[0m - \u001b[1mLoading training dataset...\u001b[0m\n",
      "\u001b[32m2025-06-14 11:08:31.084\u001b[0m | \u001b[1mINFO    \u001b[0m | \u001b[36msrc.modeling.train\u001b[0m:\u001b[36mmain\u001b[0m:\u001b[36m37\u001b[0m - \u001b[1mBuilding model...\u001b[0m\n",
      "\u001b[32m2025-06-14 11:08:31.084\u001b[0m | \u001b[1mINFO    \u001b[0m | \u001b[36msrc.modeling.train\u001b[0m:\u001b[36mmain\u001b[0m:\u001b[36m43\u001b[0m - \u001b[1mSelecting compile strategy...\u001b[0m\n",
      "\u001b[32m2025-06-14 11:08:31.084\u001b[0m | \u001b[1mINFO    \u001b[0m | \u001b[36msrc.modeling.train\u001b[0m:\u001b[36mmain\u001b[0m:\u001b[36m46\u001b[0m - \u001b[1mSelecting training strategy...\u001b[0m\n",
      "\u001b[32m2025-06-14 11:08:31.084\u001b[0m | \u001b[1mINFO    \u001b[0m | \u001b[36msrc.modeling.train\u001b[0m:\u001b[36mmain\u001b[0m:\u001b[36m49\u001b[0m - \u001b[1mBuilding model training pipeline template...\u001b[0m\n",
      "\u001b[32m2025-06-14 11:08:31.084\u001b[0m | \u001b[1mINFO    \u001b[0m | \u001b[36msrc.modeling.train\u001b[0m:\u001b[36mmain\u001b[0m:\u001b[36m56\u001b[0m - \u001b[1mTraining model...\u001b[0m\n",
      "Epoch 1/100\n",
      "\u001b[1m3281/3281\u001b[0m \u001b[32m━━━━━━━━━━━━━━━━━━━━\u001b[0m\u001b[37m\u001b[0m \u001b[1m50s\u001b[0m 13ms/step - accuracy: 0.6417 - loss: 0.1580 - val_accuracy: 0.3096 - val_loss: 0.0655 - learning_rate: 0.0010\n",
      "Epoch 2/100\n",
      "\u001b[1m3281/3281\u001b[0m \u001b[32m━━━━━━━━━━━━━━━━━━━━\u001b[0m\u001b[37m\u001b[0m \u001b[1m49s\u001b[0m 15ms/step - accuracy: 0.6449 - loss: 0.0434 - val_accuracy: 0.3205 - val_loss: 0.0587 - learning_rate: 0.0010\n",
      "Epoch 3/100\n",
      "\u001b[1m3281/3281\u001b[0m \u001b[32m━━━━━━━━━━━━━━━━━━━━\u001b[0m\u001b[37m\u001b[0m \u001b[1m53s\u001b[0m 16ms/step - accuracy: 0.6849 - loss: 0.0389 - val_accuracy: 0.3726 - val_loss: 0.0603 - learning_rate: 0.0010\n",
      "Epoch 4/100\n",
      "\u001b[1m3281/3281\u001b[0m \u001b[32m━━━━━━━━━━━━━━━━━━━━\u001b[0m\u001b[37m\u001b[0m \u001b[1m50s\u001b[0m 15ms/step - accuracy: 0.6863 - loss: 0.0344 - val_accuracy: 0.3397 - val_loss: 0.0478 - learning_rate: 0.0010\n",
      "Epoch 5/100\n",
      "\u001b[1m3281/3281\u001b[0m \u001b[32m━━━━━━━━━━━━━━━━━━━━\u001b[0m\u001b[37m\u001b[0m \u001b[1m64s\u001b[0m 19ms/step - accuracy: 0.6956 - loss: 0.0361 - val_accuracy: 0.3507 - val_loss: 0.0536 - learning_rate: 0.0010\n",
      "Epoch 6/100\n",
      "\u001b[1m3281/3281\u001b[0m \u001b[32m━━━━━━━━━━━━━━━━━━━━\u001b[0m\u001b[37m\u001b[0m \u001b[1m54s\u001b[0m 16ms/step - accuracy: 0.6982 - loss: 0.0331 - val_accuracy: 0.3151 - val_loss: 0.0641 - learning_rate: 0.0010\n",
      "Epoch 7/100\n",
      "\u001b[1m3281/3281\u001b[0m \u001b[32m━━━━━━━━━━━━━━━━━━━━\u001b[0m\u001b[37m\u001b[0m \u001b[1m60s\u001b[0m 18ms/step - accuracy: 0.7033 - loss: 0.0350 - val_accuracy: 0.2658 - val_loss: 0.0770 - learning_rate: 0.0010\n",
      "Epoch 8/100\n",
      "\u001b[1m3281/3281\u001b[0m \u001b[32m━━━━━━━━━━━━━━━━━━━━\u001b[0m\u001b[37m\u001b[0m \u001b[1m52s\u001b[0m 16ms/step - accuracy: 0.6797 - loss: 0.0352 - val_accuracy: 0.2877 - val_loss: 0.0510 - learning_rate: 0.0010\n",
      "Epoch 9/100\n",
      "\u001b[1m3281/3281\u001b[0m \u001b[32m━━━━━━━━━━━━━━━━━━━━\u001b[0m\u001b[37m\u001b[0m \u001b[1m46s\u001b[0m 14ms/step - accuracy: 0.7018 - loss: 0.0326 - val_accuracy: 0.3808 - val_loss: 0.0462 - learning_rate: 0.0010\n",
      "Epoch 10/100\n",
      "\u001b[1m3281/3281\u001b[0m \u001b[32m━━━━━━━━━━━━━━━━━━━━\u001b[0m\u001b[37m\u001b[0m \u001b[1m61s\u001b[0m 18ms/step - accuracy: 0.6998 - loss: 0.0329 - val_accuracy: 0.3671 - val_loss: 0.0513 - learning_rate: 0.0010\n",
      "Epoch 11/100\n",
      "\u001b[1m3281/3281\u001b[0m \u001b[32m━━━━━━━━━━━━━━━━━━━━\u001b[0m\u001b[37m\u001b[0m \u001b[1m67s\u001b[0m 20ms/step - accuracy: 0.6908 - loss: 0.0308 - val_accuracy: 0.3973 - val_loss: 0.0510 - learning_rate: 0.0010\n",
      "Epoch 12/100\n",
      "\u001b[1m3281/3281\u001b[0m \u001b[32m━━━━━━━━━━━━━━━━━━━━\u001b[0m\u001b[37m\u001b[0m \u001b[1m97s\u001b[0m 25ms/step - accuracy: 0.7062 - loss: 0.0320 - val_accuracy: 0.3671 - val_loss: 0.0941 - learning_rate: 0.0010\n",
      "Epoch 13/100\n",
      "\u001b[1m3281/3281\u001b[0m \u001b[32m━━━━━━━━━━━━━━━━━━━━\u001b[0m\u001b[37m\u001b[0m \u001b[1m69s\u001b[0m 21ms/step - accuracy: 0.7022 - loss: 0.0324 - val_accuracy: 0.3151 - val_loss: 0.0581 - learning_rate: 0.0010\n",
      "Epoch 14/100\n",
      "\u001b[1m3281/3281\u001b[0m \u001b[32m━━━━━━━━━━━━━━━━━━━━\u001b[0m\u001b[37m\u001b[0m \u001b[1m52s\u001b[0m 16ms/step - accuracy: 0.7014 - loss: 0.0298 - val_accuracy: 0.3014 - val_loss: 0.0427 - learning_rate: 0.0010\n",
      "Epoch 15/100\n",
      "\u001b[1m3281/3281\u001b[0m \u001b[32m━━━━━━━━━━━━━━━━━━━━\u001b[0m\u001b[37m\u001b[0m \u001b[1m56s\u001b[0m 17ms/step - accuracy: 0.6911 - loss: 0.0296 - val_accuracy: 0.3589 - val_loss: 0.0472 - learning_rate: 0.0010\n",
      "Epoch 16/100\n",
      "\u001b[1m3281/3281\u001b[0m \u001b[32m━━━━━━━━━━━━━━━━━━━━\u001b[0m\u001b[37m\u001b[0m \u001b[1m66s\u001b[0m 20ms/step - accuracy: 0.7142 - loss: 0.0300 - val_accuracy: 0.3123 - val_loss: 0.0523 - learning_rate: 0.0010\n",
      "Epoch 17/100\n",
      "\u001b[1m3281/3281\u001b[0m \u001b[32m━━━━━━━━━━━━━━━━━━━━\u001b[0m\u001b[37m\u001b[0m \u001b[1m66s\u001b[0m 20ms/step - accuracy: 0.7131 - loss: 0.0301 - val_accuracy: 0.3616 - val_loss: 0.0458 - learning_rate: 0.0010\n",
      "Epoch 18/100\n",
      "\u001b[1m3281/3281\u001b[0m \u001b[32m━━━━━━━━━━━━━━━━━━━━\u001b[0m\u001b[37m\u001b[0m \u001b[1m51s\u001b[0m 16ms/step - accuracy: 0.6909 - loss: 0.0292 - val_accuracy: 0.3479 - val_loss: 0.0698 - learning_rate: 0.0010\n",
      "Epoch 19/100\n",
      "\u001b[1m3281/3281\u001b[0m \u001b[32m━━━━━━━━━━━━━━━━━━━━\u001b[0m\u001b[37m\u001b[0m \u001b[1m50s\u001b[0m 15ms/step - accuracy: 0.7129 - loss: 0.0310 - val_accuracy: 0.3233 - val_loss: 0.0713 - learning_rate: 0.0010\n",
      "Epoch 20/100\n",
      "\u001b[1m3281/3281\u001b[0m \u001b[32m━━━━━━━━━━━━━━━━━━━━\u001b[0m\u001b[37m\u001b[0m \u001b[1m53s\u001b[0m 16ms/step - accuracy: 0.7106 - loss: 0.0295 - val_accuracy: 0.3671 - val_loss: 0.0438 - learning_rate: 0.0010\n",
      "Epoch 21/100\n",
      "\u001b[1m3281/3281\u001b[0m \u001b[32m━━━━━━━━━━━━━━━━━━━━\u001b[0m\u001b[37m\u001b[0m \u001b[1m51s\u001b[0m 15ms/step - accuracy: 0.7149 - loss: 0.0309 - val_accuracy: 0.3671 - val_loss: 0.0525 - learning_rate: 0.0010\n",
      "Epoch 22/100\n",
      "\u001b[1m3281/3281\u001b[0m \u001b[32m━━━━━━━━━━━━━━━━━━━━\u001b[0m\u001b[37m\u001b[0m \u001b[1m51s\u001b[0m 16ms/step - accuracy: 0.7053 - loss: 0.0309 - val_accuracy: 0.3890 - val_loss: 0.0488 - learning_rate: 0.0010\n",
      "Epoch 23/100\n",
      "\u001b[1m3281/3281\u001b[0m \u001b[32m━━━━━━━━━━━━━━━━━━━━\u001b[0m\u001b[37m\u001b[0m \u001b[1m52s\u001b[0m 16ms/step - accuracy: 0.7143 - loss: 0.0315 - val_accuracy: 0.3507 - val_loss: 0.0453 - learning_rate: 0.0010\n",
      "Epoch 24/100\n",
      "\u001b[1m3278/3281\u001b[0m \u001b[32m━━━━━━━━━━━━━━━━━━━\u001b[0m\u001b[37m━\u001b[0m \u001b[1m0s\u001b[0m 16ms/step - accuracy: 0.7105 - loss: 0.0310\n",
      "Epoch 24: ReduceLROnPlateau reducing learning rate to 0.0005000000237487257.\n",
      "\u001b[1m3281/3281\u001b[0m \u001b[32m━━━━━━━━━━━━━━━━━━━━\u001b[0m\u001b[37m\u001b[0m \u001b[1m52s\u001b[0m 16ms/step - accuracy: 0.7105 - loss: 0.0310 - val_accuracy: 0.3178 - val_loss: 0.0467 - learning_rate: 0.0010\n",
      "Epoch 25/100\n",
      "\u001b[1m3281/3281\u001b[0m \u001b[32m━━━━━━━━━━━━━━━━━━━━\u001b[0m\u001b[37m\u001b[0m \u001b[1m59s\u001b[0m 18ms/step - accuracy: 0.7013 - loss: 0.0278 - val_accuracy: 0.3425 - val_loss: 0.0622 - learning_rate: 5.0000e-04\n",
      "Epoch 26/100\n",
      "\u001b[1m3281/3281\u001b[0m \u001b[32m━━━━━━━━━━━━━━━━━━━━\u001b[0m\u001b[37m\u001b[0m \u001b[1m51s\u001b[0m 16ms/step - accuracy: 0.7111 - loss: 0.0256 - val_accuracy: 0.3616 - val_loss: 0.0421 - learning_rate: 5.0000e-04\n",
      "Epoch 27/100\n",
      "\u001b[1m3281/3281\u001b[0m \u001b[32m━━━━━━━━━━━━━━━━━━━━\u001b[0m\u001b[37m\u001b[0m \u001b[1m105s\u001b[0m 22ms/step - accuracy: 0.7053 - loss: 0.0237 - val_accuracy: 0.3616 - val_loss: 0.0430 - learning_rate: 5.0000e-04\n",
      "Epoch 28/100\n",
      "\u001b[1m3281/3281\u001b[0m \u001b[32m━━━━━━━━━━━━━━━━━━━━\u001b[0m\u001b[37m\u001b[0m \u001b[1m80s\u001b[0m 22ms/step - accuracy: 0.7085 - loss: 0.0269 - val_accuracy: 0.3205 - val_loss: 0.0582 - learning_rate: 5.0000e-04\n",
      "Epoch 29/100\n",
      "\u001b[1m3281/3281\u001b[0m \u001b[32m━━━━━━━━━━━━━━━━━━━━\u001b[0m\u001b[37m\u001b[0m \u001b[1m54s\u001b[0m 16ms/step - accuracy: 0.7138 - loss: 0.0264 - val_accuracy: 0.3151 - val_loss: 0.0632 - learning_rate: 5.0000e-04\n",
      "Epoch 30/100\n",
      "\u001b[1m3281/3281\u001b[0m \u001b[32m━━━━━━━━━━━━━━━━━━━━\u001b[0m\u001b[37m\u001b[0m \u001b[1m53s\u001b[0m 16ms/step - accuracy: 0.7242 - loss: 0.0231 - val_accuracy: 0.3753 - val_loss: 0.0434 - learning_rate: 5.0000e-04\n",
      "Epoch 31/100\n",
      "\u001b[1m3281/3281\u001b[0m \u001b[32m━━━━━━━━━━━━━━━━━━━━\u001b[0m\u001b[37m\u001b[0m \u001b[1m53s\u001b[0m 16ms/step - accuracy: 0.7229 - loss: 0.0250 - val_accuracy: 0.3260 - val_loss: 0.0638 - learning_rate: 5.0000e-04\n",
      "Epoch 32/100\n",
      "\u001b[1m3281/3281\u001b[0m \u001b[32m━━━━━━━━━━━━━━━━━━━━\u001b[0m\u001b[37m\u001b[0m \u001b[1m52s\u001b[0m 16ms/step - accuracy: 0.7184 - loss: 0.0240 - val_accuracy: 0.3781 - val_loss: 0.0342 - learning_rate: 5.0000e-04\n",
      "Epoch 33/100\n",
      "\u001b[1m3281/3281\u001b[0m \u001b[32m━━━━━━━━━━━━━━━━━━━━\u001b[0m\u001b[37m\u001b[0m \u001b[1m51s\u001b[0m 16ms/step - accuracy: 0.7217 - loss: 0.0268 - val_accuracy: 0.2767 - val_loss: 0.0868 - learning_rate: 5.0000e-04\n",
      "Epoch 34/100\n",
      "\u001b[1m3281/3281\u001b[0m \u001b[32m━━━━━━━━━━━━━━━━━━━━\u001b[0m\u001b[37m\u001b[0m \u001b[1m80s\u001b[0m 15ms/step - accuracy: 0.7387 - loss: 0.0226 - val_accuracy: 0.3260 - val_loss: 0.0472 - learning_rate: 5.0000e-04\n",
      "Epoch 35/100\n",
      "\u001b[1m3281/3281\u001b[0m \u001b[32m━━━━━━━━━━━━━━━━━━━━\u001b[0m\u001b[37m\u001b[0m \u001b[1m93s\u001b[0m 18ms/step - accuracy: 0.7132 - loss: 0.0255 - val_accuracy: 0.3644 - val_loss: 0.0352 - learning_rate: 5.0000e-04\n",
      "Epoch 36/100\n",
      "\u001b[1m3281/3281\u001b[0m \u001b[32m━━━━━━━━━━━━━━━━━━━━\u001b[0m\u001b[37m\u001b[0m \u001b[1m66s\u001b[0m 20ms/step - accuracy: 0.7227 - loss: 0.0242 - val_accuracy: 0.3726 - val_loss: 0.0435 - learning_rate: 5.0000e-04\n",
      "Epoch 37/100\n",
      "\u001b[1m3281/3281\u001b[0m \u001b[32m━━━━━━━━━━━━━━━━━━━━\u001b[0m\u001b[37m\u001b[0m \u001b[1m78s\u001b[0m 19ms/step - accuracy: 0.7216 - loss: 0.0231 - val_accuracy: 0.3562 - val_loss: 0.0354 - learning_rate: 5.0000e-04\n",
      "Epoch 38/100\n",
      "\u001b[1m3281/3281\u001b[0m \u001b[32m━━━━━━━━━━━━━━━━━━━━\u001b[0m\u001b[37m\u001b[0m \u001b[1m82s\u001b[0m 19ms/step - accuracy: 0.7384 - loss: 0.0232 - val_accuracy: 0.3726 - val_loss: 0.0370 - learning_rate: 5.0000e-04\n",
      "Epoch 39/100\n",
      "\u001b[1m3281/3281\u001b[0m \u001b[32m━━━━━━━━━━━━━━━━━━━━\u001b[0m\u001b[37m\u001b[0m \u001b[1m64s\u001b[0m 20ms/step - accuracy: 0.7041 - loss: 0.0241 - val_accuracy: 0.3534 - val_loss: 0.0353 - learning_rate: 5.0000e-04\n",
      "Epoch 40/100\n",
      "\u001b[1m3281/3281\u001b[0m \u001b[32m━━━━━━━━━━━━━━━━━━━━\u001b[0m\u001b[37m\u001b[0m \u001b[1m71s\u001b[0m 22ms/step - accuracy: 0.7335 - loss: 0.0215 - val_accuracy: 0.3781 - val_loss: 0.0340 - learning_rate: 5.0000e-04\n",
      "Epoch 41/100\n",
      "\u001b[1m3281/3281\u001b[0m \u001b[32m━━━━━━━━━━━━━━━━━━━━\u001b[0m\u001b[37m\u001b[0m \u001b[1m75s\u001b[0m 19ms/step - accuracy: 0.7286 - loss: 0.0211 - val_accuracy: 0.3945 - val_loss: 0.0358 - learning_rate: 5.0000e-04\n",
      "Epoch 42/100\n",
      "\u001b[1m3281/3281\u001b[0m \u001b[32m━━━━━━━━━━━━━━━━━━━━\u001b[0m\u001b[37m\u001b[0m \u001b[1m71s\u001b[0m 22ms/step - accuracy: 0.7202 - loss: 0.0231 - val_accuracy: 0.3589 - val_loss: 0.0352 - learning_rate: 5.0000e-04\n",
      "Epoch 43/100\n",
      "\u001b[1m3281/3281\u001b[0m \u001b[32m━━━━━━━━━━━━━━━━━━━━\u001b[0m\u001b[37m\u001b[0m \u001b[1m78s\u001b[0m 21ms/step - accuracy: 0.7190 - loss: 0.0239 - val_accuracy: 0.3425 - val_loss: 0.0416 - learning_rate: 5.0000e-04\n",
      "Epoch 44/100\n",
      "\u001b[1m3281/3281\u001b[0m \u001b[32m━━━━━━━━━━━━━━━━━━━━\u001b[0m\u001b[37m\u001b[0m \u001b[1m57s\u001b[0m 17ms/step - accuracy: 0.7334 - loss: 0.0234 - val_accuracy: 0.3425 - val_loss: 0.0455 - learning_rate: 5.0000e-04\n",
      "Epoch 45/100\n",
      "\u001b[1m3281/3281\u001b[0m \u001b[32m━━━━━━━━━━━━━━━━━━━━\u001b[0m\u001b[37m\u001b[0m \u001b[1m58s\u001b[0m 18ms/step - accuracy: 0.7181 - loss: 0.0235 - val_accuracy: 0.3781 - val_loss: 0.0436 - learning_rate: 5.0000e-04\n",
      "Epoch 46/100\n",
      "\u001b[1m3281/3281\u001b[0m \u001b[32m━━━━━━━━━━━━━━━━━━━━\u001b[0m\u001b[37m\u001b[0m \u001b[1m39s\u001b[0m 12ms/step - accuracy: 0.7317 - loss: 0.0218 - val_accuracy: 0.3699 - val_loss: 0.0487 - learning_rate: 5.0000e-04\n",
      "Epoch 47/100\n",
      "\u001b[1m3281/3281\u001b[0m \u001b[32m━━━━━━━━━━━━━━━━━━━━\u001b[0m\u001b[37m\u001b[0m \u001b[1m48s\u001b[0m 15ms/step - accuracy: 0.7160 - loss: 0.0229 - val_accuracy: 0.3863 - val_loss: 0.0317 - learning_rate: 5.0000e-04\n",
      "Epoch 48/100\n",
      "\u001b[1m3281/3281\u001b[0m \u001b[32m━━━━━━━━━━━━━━━━━━━━\u001b[0m\u001b[37m\u001b[0m \u001b[1m39s\u001b[0m 12ms/step - accuracy: 0.7232 - loss: 0.0244 - val_accuracy: 0.3315 - val_loss: 0.0764 - learning_rate: 5.0000e-04\n",
      "Epoch 49/100\n",
      "\u001b[1m3281/3281\u001b[0m \u001b[32m━━━━━━━━━━━━━━━━━━━━\u001b[0m\u001b[37m\u001b[0m \u001b[1m38s\u001b[0m 12ms/step - accuracy: 0.7267 - loss: 0.0248 - val_accuracy: 0.3479 - val_loss: 0.0425 - learning_rate: 5.0000e-04\n",
      "Epoch 50/100\n",
      "\u001b[1m3281/3281\u001b[0m \u001b[32m━━━━━━━━━━━━━━━━━━━━\u001b[0m\u001b[37m\u001b[0m \u001b[1m40s\u001b[0m 12ms/step - accuracy: 0.7161 - loss: 0.0246 - val_accuracy: 0.3370 - val_loss: 0.0490 - learning_rate: 5.0000e-04\n",
      "Epoch 51/100\n",
      "\u001b[1m3281/3281\u001b[0m \u001b[32m━━━━━━━━━━━━━━━━━━━━\u001b[0m\u001b[37m\u001b[0m \u001b[1m39s\u001b[0m 12ms/step - accuracy: 0.7221 - loss: 0.0234 - val_accuracy: 0.3781 - val_loss: 0.0377 - learning_rate: 5.0000e-04\n",
      "Epoch 52/100\n",
      "\u001b[1m3281/3281\u001b[0m \u001b[32m━━━━━━━━━━━━━━━━━━━━\u001b[0m\u001b[37m\u001b[0m \u001b[1m49s\u001b[0m 15ms/step - accuracy: 0.7286 - loss: 0.0220 - val_accuracy: 0.4000 - val_loss: 0.0340 - learning_rate: 5.0000e-04\n",
      "Epoch 53/100\n",
      "\u001b[1m3281/3281\u001b[0m \u001b[32m━━━━━━━━━━━━━━━━━━━━\u001b[0m\u001b[37m\u001b[0m \u001b[1m47s\u001b[0m 14ms/step - accuracy: 0.7221 - loss: 0.0216 - val_accuracy: 0.3781 - val_loss: 0.0316 - learning_rate: 5.0000e-04\n",
      "Epoch 54/100\n",
      "\u001b[1m3281/3281\u001b[0m \u001b[32m━━━━━━━━━━━━━━━━━━━━\u001b[0m\u001b[37m\u001b[0m \u001b[1m84s\u001b[0m 15ms/step - accuracy: 0.7267 - loss: 0.0217 - val_accuracy: 0.3699 - val_loss: 0.0353 - learning_rate: 5.0000e-04\n",
      "Epoch 55/100\n",
      "\u001b[1m3281/3281\u001b[0m \u001b[32m━━━━━━━━━━━━━━━━━━━━\u001b[0m\u001b[37m\u001b[0m \u001b[1m56s\u001b[0m 17ms/step - accuracy: 0.7325 - loss: 0.0225 - val_accuracy: 0.4110 - val_loss: 0.0394 - learning_rate: 5.0000e-04\n",
      "Epoch 56/100\n",
      "\u001b[1m3281/3281\u001b[0m \u001b[32m━━━━━━━━━━━━━━━━━━━━\u001b[0m\u001b[37m\u001b[0m \u001b[1m50s\u001b[0m 15ms/step - accuracy: 0.7148 - loss: 0.0220 - val_accuracy: 0.3644 - val_loss: 0.0371 - learning_rate: 5.0000e-04\n",
      "Epoch 57/100\n",
      "\u001b[1m3281/3281\u001b[0m \u001b[32m━━━━━━━━━━━━━━━━━━━━\u001b[0m\u001b[37m\u001b[0m \u001b[1m49s\u001b[0m 15ms/step - accuracy: 0.7236 - loss: 0.0227 - val_accuracy: 0.3644 - val_loss: 0.0424 - learning_rate: 5.0000e-04\n",
      "Epoch 58/100\n",
      "\u001b[1m3281/3281\u001b[0m \u001b[32m━━━━━━━━━━━━━━━━━━━━\u001b[0m\u001b[37m\u001b[0m \u001b[1m82s\u001b[0m 15ms/step - accuracy: 0.7272 - loss: 0.0234 - val_accuracy: 0.3178 - val_loss: 0.0470 - learning_rate: 5.0000e-04\n",
      "Epoch 59/100\n",
      "\u001b[1m3281/3281\u001b[0m \u001b[32m━━━━━━━━━━━━━━━━━━━━\u001b[0m\u001b[37m\u001b[0m \u001b[1m83s\u001b[0m 15ms/step - accuracy: 0.7298 - loss: 0.0249 - val_accuracy: 0.3507 - val_loss: 0.0447 - learning_rate: 5.0000e-04\n",
      "Epoch 60/100\n",
      "\u001b[1m3281/3281\u001b[0m \u001b[32m━━━━━━━━━━━━━━━━━━━━\u001b[0m\u001b[37m\u001b[0m \u001b[1m49s\u001b[0m 15ms/step - accuracy: 0.7083 - loss: 0.0233 - val_accuracy: 0.3644 - val_loss: 0.0374 - learning_rate: 5.0000e-04\n",
      "Epoch 61/100\n",
      "\u001b[1m3281/3281\u001b[0m \u001b[32m━━━━━━━━━━━━━━━━━━━━\u001b[0m\u001b[37m\u001b[0m \u001b[1m49s\u001b[0m 15ms/step - accuracy: 0.7308 - loss: 0.0248 - val_accuracy: 0.3699 - val_loss: 0.0364 - learning_rate: 5.0000e-04\n",
      "Epoch 62/100\n",
      "\u001b[1m3281/3281\u001b[0m \u001b[32m━━━━━━━━━━━━━━━━━━━━\u001b[0m\u001b[37m\u001b[0m \u001b[1m49s\u001b[0m 15ms/step - accuracy: 0.7167 - loss: 0.0230 - val_accuracy: 0.3918 - val_loss: 0.0384 - learning_rate: 5.0000e-04\n",
      "Epoch 63/100\n",
      "\u001b[1m3277/3281\u001b[0m \u001b[32m━━━━━━━━━━━━━━━━━━━\u001b[0m\u001b[37m━\u001b[0m \u001b[1m0s\u001b[0m 14ms/step - accuracy: 0.7190 - loss: 0.0228\n",
      "Epoch 63: ReduceLROnPlateau reducing learning rate to 0.0002500000118743628.\n",
      "\u001b[1m3281/3281\u001b[0m \u001b[32m━━━━━━━━━━━━━━━━━━━━\u001b[0m\u001b[37m\u001b[0m \u001b[1m49s\u001b[0m 15ms/step - accuracy: 0.7190 - loss: 0.0228 - val_accuracy: 0.3342 - val_loss: 0.0425 - learning_rate: 5.0000e-04\n",
      "Epoch 64/100\n",
      "\u001b[1m3281/3281\u001b[0m \u001b[32m━━━━━━━━━━━━━━━━━━━━\u001b[0m\u001b[37m\u001b[0m \u001b[1m49s\u001b[0m 15ms/step - accuracy: 0.7289 - loss: 0.0211 - val_accuracy: 0.3507 - val_loss: 0.0467 - learning_rate: 2.5000e-04\n",
      "Epoch 65/100\n",
      "\u001b[1m3281/3281\u001b[0m \u001b[32m━━━━━━━━━━━━━━━━━━━━\u001b[0m\u001b[37m\u001b[0m \u001b[1m51s\u001b[0m 16ms/step - accuracy: 0.7196 - loss: 0.0203 - val_accuracy: 0.3753 - val_loss: 0.0328 - learning_rate: 2.5000e-04\n",
      "Epoch 66/100\n",
      "\u001b[1m3281/3281\u001b[0m \u001b[32m━━━━━━━━━━━━━━━━━━━━\u001b[0m\u001b[37m\u001b[0m \u001b[1m49s\u001b[0m 15ms/step - accuracy: 0.7036 - loss: 0.0214 - val_accuracy: 0.3260 - val_loss: 0.0495 - learning_rate: 2.5000e-04\n",
      "Epoch 67/100\n",
      "\u001b[1m3281/3281\u001b[0m \u001b[32m━━━━━━━━━━━━━━━━━━━━\u001b[0m\u001b[37m\u001b[0m \u001b[1m49s\u001b[0m 15ms/step - accuracy: 0.6993 - loss: 0.0208 - val_accuracy: 0.3699 - val_loss: 0.0393 - learning_rate: 2.5000e-04\n",
      "Epoch 68/100\n",
      "\u001b[1m3281/3281\u001b[0m \u001b[32m━━━━━━━━━━━━━━━━━━━━\u001b[0m\u001b[37m\u001b[0m \u001b[1m49s\u001b[0m 15ms/step - accuracy: 0.7220 - loss: 0.0203 - val_accuracy: 0.3781 - val_loss: 0.0343 - learning_rate: 2.5000e-04\n",
      "Epoch 69/100\n",
      "\u001b[1m3281/3281\u001b[0m \u001b[32m━━━━━━━━━━━━━━━━━━━━\u001b[0m\u001b[37m\u001b[0m \u001b[1m49s\u001b[0m 15ms/step - accuracy: 0.7356 - loss: 0.0200 - val_accuracy: 0.3781 - val_loss: 0.0293 - learning_rate: 2.5000e-04\n",
      "Epoch 70/100\n",
      "\u001b[1m3281/3281\u001b[0m \u001b[32m━━━━━━━━━━━━━━━━━━━━\u001b[0m\u001b[37m\u001b[0m \u001b[1m49s\u001b[0m 15ms/step - accuracy: 0.7281 - loss: 0.0188 - val_accuracy: 0.3918 - val_loss: 0.0288 - learning_rate: 2.5000e-04\n",
      "Epoch 71/100\n",
      "\u001b[1m3281/3281\u001b[0m \u001b[32m━━━━━━━━━━━━━━━━━━━━\u001b[0m\u001b[37m\u001b[0m \u001b[1m49s\u001b[0m 15ms/step - accuracy: 0.7228 - loss: 0.0219 - val_accuracy: 0.3699 - val_loss: 0.0360 - learning_rate: 2.5000e-04\n",
      "Epoch 72/100\n",
      "\u001b[1m3281/3281\u001b[0m \u001b[32m━━━━━━━━━━━━━━━━━━━━\u001b[0m\u001b[37m\u001b[0m \u001b[1m49s\u001b[0m 15ms/step - accuracy: 0.7314 - loss: 0.0197 - val_accuracy: 0.3753 - val_loss: 0.0292 - learning_rate: 2.5000e-04\n",
      "Epoch 73/100\n",
      "\u001b[1m3281/3281\u001b[0m \u001b[32m━━━━━━━━━━━━━━━━━━━━\u001b[0m\u001b[37m\u001b[0m \u001b[1m49s\u001b[0m 15ms/step - accuracy: 0.7336 - loss: 0.0203 - val_accuracy: 0.3315 - val_loss: 0.0454 - learning_rate: 2.5000e-04\n",
      "Epoch 74/100\n",
      "\u001b[1m3281/3281\u001b[0m \u001b[32m━━━━━━━━━━━━━━━━━━━━\u001b[0m\u001b[37m\u001b[0m \u001b[1m49s\u001b[0m 15ms/step - accuracy: 0.7392 - loss: 0.0189 - val_accuracy: 0.3753 - val_loss: 0.0316 - learning_rate: 2.5000e-04\n",
      "Epoch 75/100\n",
      "\u001b[1m3281/3281\u001b[0m \u001b[32m━━━━━━━━━━━━━━━━━━━━\u001b[0m\u001b[37m\u001b[0m \u001b[1m49s\u001b[0m 15ms/step - accuracy: 0.7330 - loss: 0.0204 - val_accuracy: 0.3671 - val_loss: 0.0304 - learning_rate: 2.5000e-04\n",
      "Epoch 76/100\n",
      "\u001b[1m3281/3281\u001b[0m \u001b[32m━━━━━━━━━━━━━━━━━━━━\u001b[0m\u001b[37m\u001b[0m \u001b[1m49s\u001b[0m 15ms/step - accuracy: 0.7292 - loss: 0.0213 - val_accuracy: 0.3781 - val_loss: 0.0305 - learning_rate: 2.5000e-04\n",
      "Epoch 77/100\n",
      "\u001b[1m3281/3281\u001b[0m \u001b[32m━━━━━━━━━━━━━━━━━━━━\u001b[0m\u001b[37m\u001b[0m \u001b[1m49s\u001b[0m 15ms/step - accuracy: 0.7226 - loss: 0.0214 - val_accuracy: 0.3616 - val_loss: 0.0325 - learning_rate: 2.5000e-04\n",
      "Epoch 78/100\n",
      "\u001b[1m3281/3281\u001b[0m \u001b[32m━━━━━━━━━━━━━━━━━━━━\u001b[0m\u001b[37m\u001b[0m \u001b[1m49s\u001b[0m 15ms/step - accuracy: 0.7179 - loss: 0.0204 - val_accuracy: 0.3836 - val_loss: 0.0341 - learning_rate: 2.5000e-04\n",
      "Epoch 79/100\n",
      "\u001b[1m3281/3281\u001b[0m \u001b[32m━━━━━━━━━━━━━━━━━━━━\u001b[0m\u001b[37m\u001b[0m \u001b[1m49s\u001b[0m 15ms/step - accuracy: 0.7265 - loss: 0.0182 - val_accuracy: 0.3507 - val_loss: 0.0511 - learning_rate: 2.5000e-04\n",
      "Epoch 80/100\n",
      "\u001b[1m3280/3281\u001b[0m \u001b[32m━━━━━━━━━━━━━━━━━━━\u001b[0m\u001b[37m━\u001b[0m \u001b[1m0s\u001b[0m 14ms/step - accuracy: 0.7305 - loss: 0.0191\n",
      "Epoch 80: ReduceLROnPlateau reducing learning rate to 0.0001250000059371814.\n",
      "\u001b[1m3281/3281\u001b[0m \u001b[32m━━━━━━━━━━━━━━━━━━━━\u001b[0m\u001b[37m\u001b[0m \u001b[1m49s\u001b[0m 15ms/step - accuracy: 0.7305 - loss: 0.0191 - val_accuracy: 0.3699 - val_loss: 0.0322 - learning_rate: 2.5000e-04\n",
      "Epoch 81/100\n",
      "\u001b[1m3281/3281\u001b[0m \u001b[32m━━━━━━━━━━━━━━━━━━━━\u001b[0m\u001b[37m\u001b[0m \u001b[1m49s\u001b[0m 15ms/step - accuracy: 0.7412 - loss: 0.0181 - val_accuracy: 0.3342 - val_loss: 0.0424 - learning_rate: 1.2500e-04\n",
      "Epoch 82/100\n",
      "\u001b[1m3281/3281\u001b[0m \u001b[32m━━━━━━━━━━━━━━━━━━━━\u001b[0m\u001b[37m\u001b[0m \u001b[1m49s\u001b[0m 15ms/step - accuracy: 0.7414 - loss: 0.0182 - val_accuracy: 0.3699 - val_loss: 0.0315 - learning_rate: 1.2500e-04\n",
      "Epoch 83/100\n",
      "\u001b[1m3281/3281\u001b[0m \u001b[32m━━━━━━━━━━━━━━━━━━━━\u001b[0m\u001b[37m\u001b[0m \u001b[1m49s\u001b[0m 15ms/step - accuracy: 0.7451 - loss: 0.0194 - val_accuracy: 0.3589 - val_loss: 0.0328 - learning_rate: 1.2500e-04\n",
      "Epoch 84/100\n",
      "\u001b[1m3281/3281\u001b[0m \u001b[32m━━━━━━━━━━━━━━━━━━━━\u001b[0m\u001b[37m\u001b[0m \u001b[1m49s\u001b[0m 15ms/step - accuracy: 0.7263 - loss: 0.0185 - val_accuracy: 0.3562 - val_loss: 0.0406 - learning_rate: 1.2500e-04\n",
      "Epoch 85/100\n",
      "\u001b[1m3281/3281\u001b[0m \u001b[32m━━━━━━━━━━━━━━━━━━━━\u001b[0m\u001b[37m\u001b[0m \u001b[1m49s\u001b[0m 15ms/step - accuracy: 0.7408 - loss: 0.0173 - val_accuracy: 0.3781 - val_loss: 0.0376 - learning_rate: 1.2500e-04\n",
      "Epoch 86/100\n",
      "\u001b[1m3281/3281\u001b[0m \u001b[32m━━━━━━━━━━━━━━━━━━━━\u001b[0m\u001b[37m\u001b[0m \u001b[1m49s\u001b[0m 15ms/step - accuracy: 0.7375 - loss: 0.0187 - val_accuracy: 0.3753 - val_loss: 0.0395 - learning_rate: 1.2500e-04\n",
      "Epoch 87/100\n",
      "\u001b[1m3281/3281\u001b[0m \u001b[32m━━━━━━━━━━━━━━━━━━━━\u001b[0m\u001b[37m\u001b[0m \u001b[1m50s\u001b[0m 15ms/step - accuracy: 0.7248 - loss: 0.0183 - val_accuracy: 0.3534 - val_loss: 0.0329 - learning_rate: 1.2500e-04\n",
      "Epoch 88/100\n",
      "\u001b[1m3281/3281\u001b[0m \u001b[32m━━━━━━━━━━━━━━━━━━━━\u001b[0m\u001b[37m\u001b[0m \u001b[1m80s\u001b[0m 15ms/step - accuracy: 0.7192 - loss: 0.0177 - val_accuracy: 0.3781 - val_loss: 0.0310 - learning_rate: 1.2500e-04\n",
      "Epoch 89/100\n",
      "\u001b[1m3281/3281\u001b[0m \u001b[32m━━━━━━━━━━━━━━━━━━━━\u001b[0m\u001b[37m\u001b[0m \u001b[1m49s\u001b[0m 15ms/step - accuracy: 0.7262 - loss: 0.0183 - val_accuracy: 0.3890 - val_loss: 0.0397 - learning_rate: 1.2500e-04\n",
      "Epoch 90/100\n",
      "\u001b[1m3277/3281\u001b[0m \u001b[32m━━━━━━━━━━━━━━━━━━━\u001b[0m\u001b[37m━\u001b[0m \u001b[1m0s\u001b[0m 15ms/step - accuracy: 0.7401 - loss: 0.0179\n",
      "Epoch 90: ReduceLROnPlateau reducing learning rate to 6.25000029685907e-05.\n",
      "\u001b[1m3281/3281\u001b[0m \u001b[32m━━━━━━━━━━━━━━━━━━━━\u001b[0m\u001b[37m\u001b[0m \u001b[1m50s\u001b[0m 15ms/step - accuracy: 0.7401 - loss: 0.0179 - val_accuracy: 0.3644 - val_loss: 0.0348 - learning_rate: 1.2500e-04\n",
      "\u001b[32m2025-06-14 12:34:04.027\u001b[0m | \u001b[1mINFO    \u001b[0m | \u001b[36msrc.modeling.train\u001b[0m:\u001b[36mmain\u001b[0m:\u001b[36m65\u001b[0m - \u001b[1mSaving 'Sequential_epoch89_loss0.0186.keras' in 'C:\\Repositories\\ds-lstm-ibov\\models'...\u001b[0m\n",
      "\u001b[32m2025-06-14 12:34:04.245\u001b[0m | \u001b[32m\u001b[1mSUCCESS \u001b[0m | \u001b[36msrc.modeling.train\u001b[0m:\u001b[36mmain\u001b[0m:\u001b[36m69\u001b[0m - \u001b[32m\u001b[1mModeling training complete.\u001b[0m\n",
      "\u001b[32m2025-06-14 12:34:04.245\u001b[0m | \u001b[1mINFO    \u001b[0m | \u001b[36msrc.modeling.train\u001b[0m:\u001b[36mmain\u001b[0m:\u001b[36m72\u001b[0m - \u001b[1mElapsed time: 5133.19 seconds\u001b[0m\n"
     ]
    }
   ],
   "source": [
    "from src.modeling import train\n",
    "\n",
    "train.main(\n",
    "    # ---- REPLACE DEFAULT PATHS AS APPROPRIATE ----\n",
    "    X_path = config.PROCESSED_DATA_DIR / \"X_train.npy\",\n",
    "    y_path = config.PROCESSED_DATA_DIR / \"y_train.npy\"\n",
    "    # -----------------------------------------\n",
    ")"
   ]
  },
  {
   "cell_type": "markdown",
   "id": "ab6162b6",
   "metadata": {},
   "source": [
    "## Predict\n",
    "\n",
    "In the prediction stage, the trained model is loaded along with the input data. The model then performs inference, generating predictions based on the provided data.\n"
   ]
  },
  {
   "cell_type": "code",
   "execution_count": 7,
   "id": "55f922aa",
   "metadata": {},
   "outputs": [
    {
     "name": "stdout",
     "output_type": "stream",
     "text": [
      "\u001b[32m2025-06-14 12:36:57.549\u001b[0m | \u001b[1mINFO    \u001b[0m | \u001b[36msrc.modeling.predict\u001b[0m:\u001b[36mmain\u001b[0m:\u001b[36m27\u001b[0m - \u001b[1mPerforming inference for model...\u001b[0m\n",
      "\u001b[32m2025-06-14 12:36:57.644\u001b[0m | \u001b[1mINFO    \u001b[0m | \u001b[36msrc.modeling.predict\u001b[0m:\u001b[36mmain\u001b[0m:\u001b[36m31\u001b[0m - \u001b[1mInput data shape: (8, 45)\u001b[0m\n",
      "\u001b[32m2025-06-14 12:36:57.654\u001b[0m | \u001b[1mINFO    \u001b[0m | \u001b[36msrc.utils.features.generator_strategy\u001b[0m:\u001b[36mgenerate\u001b[0m:\u001b[36m18\u001b[0m - \u001b[1mGenerating Timeseries from dataset...\u001b[0m\n"
     ]
    },
    {
     "name": "stderr",
     "output_type": "stream",
     "text": [
      "c:\\Repositories\\ds-lstm-ibov\\.venv\\Lib\\site-packages\\keras\\src\\trainers\\data_adapters\\py_dataset_adapter.py:121: UserWarning: Your `PyDataset` class should call `super().__init__(**kwargs)` in its constructor. `**kwargs` can include `workers`, `use_multiprocessing`, `max_queue_size`. Do not pass these arguments to `fit()`, as they will be ignored.\n",
      "  self._warn_if_super_not_called()\n"
     ]
    },
    {
     "name": "stdout",
     "output_type": "stream",
     "text": [
      "\u001b[1m1/1\u001b[0m \u001b[32m━━━━━━━━━━━━━━━━━━━━\u001b[0m\u001b[37m\u001b[0m \u001b[1m2s\u001b[0m 2s/step\n",
      "\u001b[32m2025-06-14 12:36:59.870\u001b[0m | \u001b[32m\u001b[1mSUCCESS \u001b[0m | \u001b[36msrc.modeling.predict\u001b[0m:\u001b[36mmain\u001b[0m:\u001b[36m66\u001b[0m - \u001b[32m\u001b[1mInference complete.\u001b[0m\n"
     ]
    }
   ],
   "source": [
    "from src.modeling import predict\n",
    "predict.main(\n",
    "    # ---- REPLACE DEFAULT PATHS AS APPROPRIATE ----\n",
    "    input_path = config.PROCESSED_DATA_DIR / \"dataset.csv\",\n",
    "    preprocessor_path = config.PROCESSED_DATA_DIR / \"preprocessor.pkl\",\n",
    "    model_path = config.MODELS_DIR / \"Sequential_epoch89_loss0.0186.keras\",  # Select the best model  \n",
    "    postprocessor_path = config.PROCESSED_DATA_DIR / \"postprocessor.pkl\",\n",
    "    output_path = config.PROCESSED_DATA_DIR / \"dataset_report.csv\",\n",
    "    # -----------------------------------------\n",
    ")"
   ]
  },
  {
   "cell_type": "markdown",
   "id": "340ef876",
   "metadata": {},
   "source": [
    "## Plot\n",
    "\n",
    "Open the [Power BI Report]((../reports/pbi/amp-fynance.pbip)) and refresh data."
   ]
  }
 ],
 "metadata": {
  "kernelspec": {
   "display_name": ".venv",
   "language": "python",
   "name": "python3"
  },
  "language_info": {
   "codemirror_mode": {
    "name": "ipython",
    "version": 3
   },
   "file_extension": ".py",
   "mimetype": "text/x-python",
   "name": "python",
   "nbconvert_exporter": "python",
   "pygments_lexer": "ipython3",
   "version": "3.12.9"
  }
 },
 "nbformat": 4,
 "nbformat_minor": 5
}
