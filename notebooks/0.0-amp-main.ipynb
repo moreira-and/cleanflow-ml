{
 "cells": [
  {
   "cell_type": "markdown",
   "id": "9f58e5c2",
   "metadata": {},
   "source": [
    "## Import libraries"
   ]
  },
  {
   "cell_type": "code",
   "execution_count": null,
   "id": "42021f93",
   "metadata": {},
   "outputs": [],
   "source": [
    "import src.config as config"
   ]
  },
  {
   "cell_type": "markdown",
   "id": "9bfd6425",
   "metadata": {},
   "source": [
    "## ETL — Extract, Transform, Load of Raw Dataset\n",
    "\n",
    "This section is responsible for the Extraction phase of the ETL process, pulling historical financial data from multiple sources as defined in the configuration file [dataset.yaml](../configs/dataset.yaml).\n",
    "\n",
    "- Data Storage: Each dataset is stored locally in the data/raw/ directory, organized and saved individually as .csv files for traceability and versioning.\n",
    "- Data Cleaning:\n",
    "  - Missing values are treated using a standard cleaning strategy.\n",
    "  - Features with low variance (threshold < 0.01) are removed to reduce noise and improve modeling efficiency. In this execution, no low-variance columns were found."
   ]
  },
  {
   "cell_type": "code",
   "execution_count": null,
   "id": "7fdcd420",
   "metadata": {},
   "outputs": [],
   "source": [
    "from src import dataset\n",
    "\n",
    "dataset.main(\n",
    "    # ---- REPLACE DEFAULT AS APPROPRIATE ----\n",
    "    asset = '^BVSP',\n",
    "    asset_focus = 'Close',\n",
    "    years = 9\n",
    "    # -----------------------------------------\n",
    "    )"
   ]
  },
  {
   "cell_type": "markdown",
   "id": "31fce4b8",
   "metadata": {},
   "source": [
    "## Feature Engineering — Time Series Preparation\n",
    "\n",
    "This part of the pipeline is responsible for transforming the cleaned dataset into structured features suitable for training time series models. It includes the following key steps:\n",
    "- Feature Generation: Constructs relevant features based on historical market data.\n",
    "- Dataset Splitting: The dataset is split into training and testing sets using a consistent strategy to preserve temporal structure.\n",
    "- Time Series Windowing: Converts the sequential data into overlapping windows, enabling the model to learn temporal dependencies.\n",
    "- Saving Artifacts: Both training and testing sets are stored for reproducibility, along with the transformation pipelines applied during preprocessing."
   ]
  },
  {
   "cell_type": "code",
   "execution_count": 1,
   "id": "64946194",
   "metadata": {},
   "outputs": [
    {
     "name": "stderr",
     "output_type": "stream",
     "text": [
      "\u001b[32m2025-06-23 09:30:16.661\u001b[0m | \u001b[1mINFO    \u001b[0m | \u001b[36msrc.config\u001b[0m:\u001b[36m<module>\u001b[0m:\u001b[36m11\u001b[0m - \u001b[1mPROJ_ROOT path is: C:\\Repositories\\ds-lstm-ibov\u001b[0m\n"
     ]
    },
    {
     "name": "stdout",
     "output_type": "stream",
     "text": [
      "\u001b[32m2025-06-23 09:30:23.256\u001b[0m | \u001b[1mINFO    \u001b[0m | \u001b[36msrc.features\u001b[0m:\u001b[36mmain\u001b[0m:\u001b[36m32\u001b[0m - \u001b[1mGenerating features from dataset...\u001b[0m\n",
      "\u001b[32m2025-06-23 09:30:23.330\u001b[0m | \u001b[1mINFO    \u001b[0m | \u001b[36msrc.utils.features.splitter_strategy\u001b[0m:\u001b[36msplit\u001b[0m:\u001b[36m15\u001b[0m - \u001b[1mSplitting dataset into training and testing sets...\u001b[0m\n",
      "\u001b[32m2025-06-23 09:30:23.356\u001b[0m | \u001b[1mINFO    \u001b[0m | \u001b[36msrc.utils.features.generator_strategy\u001b[0m:\u001b[36mgenerate\u001b[0m:\u001b[36m18\u001b[0m - \u001b[1mGenerating Timeseries from dataset...\u001b[0m\n",
      "\u001b[32m2025-06-23 09:30:23.472\u001b[0m | \u001b[32m\u001b[1mSUCCESS \u001b[0m | \u001b[36msrc.features\u001b[0m:\u001b[36mmain\u001b[0m:\u001b[36m47\u001b[0m - \u001b[32m\u001b[1mSaving train features in C:\\Repositories\\ds-lstm-ibov\\data\\processed...\u001b[0m\n",
      "\u001b[32m2025-06-23 09:30:23.625\u001b[0m | \u001b[32m\u001b[1mSUCCESS \u001b[0m | \u001b[36msrc.features\u001b[0m:\u001b[36mmain\u001b[0m:\u001b[36m51\u001b[0m - \u001b[32m\u001b[1mSaving test features in C:\\Repositories\\ds-lstm-ibov\\data\\processed...\u001b[0m\n",
      "\u001b[32m2025-06-23 09:30:23.629\u001b[0m | \u001b[32m\u001b[1mSUCCESS \u001b[0m | \u001b[36msrc.features\u001b[0m:\u001b[36mmain\u001b[0m:\u001b[36m55\u001b[0m - \u001b[32m\u001b[1mFeatures generation complete.\u001b[0m\n",
      "\u001b[32m2025-06-23 09:30:23.629\u001b[0m | \u001b[1mINFO    \u001b[0m | \u001b[36msrc.features\u001b[0m:\u001b[36mmain\u001b[0m:\u001b[36m57\u001b[0m - \u001b[1mSaving transformers...\u001b[0m\n",
      "\u001b[32m2025-06-23 09:30:23.630\u001b[0m | \u001b[1mINFO    \u001b[0m | \u001b[36msrc.utils.features.splitter_strategy\u001b[0m:\u001b[36msplit\u001b[0m:\u001b[36m15\u001b[0m - \u001b[1mSplitting dataset into training and testing sets...\u001b[0m\n",
      "\u001b[32m2025-06-23 09:30:23.635\u001b[0m | \u001b[1mINFO    \u001b[0m | \u001b[36msrc.features\u001b[0m:\u001b[36mmain\u001b[0m:\u001b[36m73\u001b[0m - \u001b[1mTotal time taken: 0.38 seconds\u001b[0m\n"
     ]
    }
   ],
   "source": [
    "from src import config\n",
    "from src import features\n",
    "\n",
    "features.main(\n",
    "    # ---- REPLACE DEFAULT PATHS AS APPROPRIATE ----\n",
    "    input_path = config.PROCESSED_DATA_DIR / \"dataset.csv\",\n",
    "    train_dir = config.PROCESSED_DATA_DIR,\n",
    "    test_dir = config.PROCESSED_DATA_DIR,\n",
    "    sequence_length = 20\n",
    "    # -----------------------------------------\n",
    ")"
   ]
  },
  {
   "cell_type": "markdown",
   "id": "2a66434c",
   "metadata": {},
   "source": [
    "## Modeling\n",
    "\n",
    "The modeling process begins with loading the training dataset. Next, the base model is constructed, and both the compilation and training strategies are defined. With the pipeline structure in place, the model is trained over 100 epochs using an iterative approach to adjust the weights.\n",
    "\n",
    "During training, key metrics are monitored, including accuracy, loss (error), validation accuracy and loss (on unseen data), as well as the learning rate."
   ]
  },
  {
   "cell_type": "code",
   "execution_count": 2,
   "id": "6ff11608",
   "metadata": {},
   "outputs": [
    {
     "name": "stdout",
     "output_type": "stream",
     "text": [
      "\u001b[32m2025-06-23 09:30:26.821\u001b[0m | \u001b[1mINFO    \u001b[0m | \u001b[36msrc.modeling.train\u001b[0m:\u001b[36mmain\u001b[0m:\u001b[36m32\u001b[0m - \u001b[1mLoading training dataset...\u001b[0m\n",
      "\u001b[32m2025-06-23 09:30:26.855\u001b[0m | \u001b[1mINFO    \u001b[0m | \u001b[36msrc.modeling.train\u001b[0m:\u001b[36mmain\u001b[0m:\u001b[36m42\u001b[0m - \u001b[1mBuilding model...\u001b[0m\n",
      "\u001b[32m2025-06-23 09:30:26.855\u001b[0m | \u001b[1mINFO    \u001b[0m | \u001b[36msrc.modeling.train\u001b[0m:\u001b[36mmain\u001b[0m:\u001b[36m48\u001b[0m - \u001b[1mSelecting compile strategy...\u001b[0m\n",
      "\u001b[32m2025-06-23 09:30:26.855\u001b[0m | \u001b[1mINFO    \u001b[0m | \u001b[36msrc.modeling.train\u001b[0m:\u001b[36mmain\u001b[0m:\u001b[36m51\u001b[0m - \u001b[1mSelecting training strategy...\u001b[0m\n",
      "\u001b[32m2025-06-23 09:30:26.855\u001b[0m | \u001b[1mINFO    \u001b[0m | \u001b[36msrc.modeling.train\u001b[0m:\u001b[36mmain\u001b[0m:\u001b[36m54\u001b[0m - \u001b[1mBuilding model training pipeline template...\u001b[0m\n",
      "\u001b[32m2025-06-23 09:30:26.855\u001b[0m | \u001b[1mINFO    \u001b[0m | \u001b[36msrc.modeling.train\u001b[0m:\u001b[36mmain\u001b[0m:\u001b[36m61\u001b[0m - \u001b[1mTraining model...\u001b[0m\n",
      "Epoch 1/200\n",
      "\u001b[1m184/184\u001b[0m \u001b[32m━━━━━━━━━━━━━━━━━━━━\u001b[0m\u001b[37m\u001b[0m \u001b[1m7s\u001b[0m 17ms/step - loss: 0.2690 - mae: 0.5757 - mse: 0.7160 - r2_score: -0.1908 - rmse: 0.7489 - smape: 154.8423 - val_loss: 0.3994 - val_mae: 0.7380 - val_mse: 1.1720 - val_r2_score: -0.0058 - val_rmse: 1.0372 - val_smape: 149.9421 - learning_rate: 0.0010\n",
      "Epoch 2/200\n",
      "\u001b[1m184/184\u001b[0m \u001b[32m━━━━━━━━━━━━━━━━━━━━\u001b[0m\u001b[37m\u001b[0m \u001b[1m3s\u001b[0m 14ms/step - loss: 0.2354 - mae: 0.5253 - mse: 0.6286 - r2_score: 0.0271 - rmse: 0.6912 - smape: 141.8578 - val_loss: 0.3844 - val_mae: 0.7200 - val_mse: 1.1278 - val_r2_score: 0.0354 - val_rmse: 1.0156 - val_smape: 142.1239 - learning_rate: 0.0010\n",
      "Epoch 3/200\n",
      "\u001b[1m184/184\u001b[0m \u001b[32m━━━━━━━━━━━━━━━━━━━━\u001b[0m\u001b[37m\u001b[0m \u001b[1m3s\u001b[0m 15ms/step - loss: 0.2204 - mae: 0.5042 - mse: 0.5863 - r2_score: 0.0703 - rmse: 0.6694 - smape: 134.1428 - val_loss: 0.3789 - val_mae: 0.7151 - val_mse: 1.1105 - val_r2_score: 0.0510 - val_rmse: 1.0075 - val_smape: 140.6492 - learning_rate: 0.0010\n",
      "Epoch 4/200\n",
      "\u001b[1m184/184\u001b[0m \u001b[32m━━━━━━━━━━━━━━━━━━━━\u001b[0m\u001b[37m\u001b[0m \u001b[1m5s\u001b[0m 15ms/step - loss: 0.2090 - mae: 0.4861 - mse: 0.5530 - r2_score: 0.1250 - rmse: 0.6500 - smape: 129.9564 - val_loss: 0.3807 - val_mae: 0.7175 - val_mse: 1.1146 - val_r2_score: 0.0444 - val_rmse: 1.0096 - val_smape: 138.6727 - learning_rate: 0.0010\n",
      "Epoch 5/200\n",
      "\u001b[1m184/184\u001b[0m \u001b[32m━━━━━━━━━━━━━━━━━━━━\u001b[0m\u001b[37m\u001b[0m \u001b[1m3s\u001b[0m 16ms/step - loss: 0.2008 - mae: 0.4734 - mse: 0.5323 - r2_score: 0.1564 - rmse: 0.6360 - smape: 126.0700 - val_loss: 0.3823 - val_mae: 0.7214 - val_mse: 1.1126 - val_r2_score: 0.0384 - val_rmse: 1.0110 - val_smape: 139.7278 - learning_rate: 0.0010\n",
      "Epoch 6/200\n",
      "\u001b[1m184/184\u001b[0m \u001b[32m━━━━━━━━━━━━━━━━━━━━\u001b[0m\u001b[37m\u001b[0m \u001b[1m3s\u001b[0m 16ms/step - loss: 0.1957 - mae: 0.4661 - mse: 0.5153 - r2_score: 0.1698 - rmse: 0.6289 - smape: 125.8538 - val_loss: 0.3899 - val_mae: 0.7310 - val_mse: 1.1311 - val_r2_score: 0.0150 - val_rmse: 1.0209 - val_smape: 138.2060 - learning_rate: 0.0010\n",
      "Epoch 7/200\n",
      "\u001b[1m184/184\u001b[0m \u001b[32m━━━━━━━━━━━━━━━━━━━━\u001b[0m\u001b[37m\u001b[0m \u001b[1m3s\u001b[0m 15ms/step - loss: 0.1878 - mae: 0.4551 - mse: 0.4915 - r2_score: 0.2037 - rmse: 0.6153 - smape: 124.0767 - val_loss: 0.3967 - val_mae: 0.7367 - val_mse: 1.1545 - val_r2_score: -0.0067 - val_rmse: 1.0298 - val_smape: 135.4438 - learning_rate: 0.0010\n",
      "Epoch 8/200\n",
      "\u001b[1m184/184\u001b[0m \u001b[32m━━━━━━━━━━━━━━━━━━━━\u001b[0m\u001b[37m\u001b[0m \u001b[1m3s\u001b[0m 16ms/step - loss: 0.1828 - mae: 0.4476 - mse: 0.4738 - r2_score: 0.2073 - rmse: 0.6089 - smape: 122.7380 - val_loss: 0.3899 - val_mae: 0.7335 - val_mse: 1.1268 - val_r2_score: 0.0106 - val_rmse: 1.0206 - val_smape: 139.2606 - learning_rate: 0.0010\n",
      "Epoch 9/200\n",
      "\u001b[1m184/184\u001b[0m \u001b[32m━━━━━━━━━━━━━━━━━━━━\u001b[0m\u001b[37m\u001b[0m \u001b[1m3s\u001b[0m 15ms/step - loss: 0.1782 - mae: 0.4440 - mse: 0.4591 - r2_score: 0.2295 - rmse: 0.5997 - smape: 122.6107 - val_loss: 0.3866 - val_mae: 0.7245 - val_mse: 1.1222 - val_r2_score: 0.0139 - val_rmse: 1.0175 - val_smape: 136.8517 - learning_rate: 0.0010\n",
      "Epoch 10/200\n",
      "\u001b[1m184/184\u001b[0m \u001b[32m━━━━━━━━━━━━━━━━━━━━\u001b[0m\u001b[37m\u001b[0m \u001b[1m3s\u001b[0m 15ms/step - loss: 0.1740 - mae: 0.4376 - mse: 0.4454 - r2_score: 0.2258 - rmse: 0.5943 - smape: 119.3777 - val_loss: 0.4027 - val_mae: 0.7463 - val_mse: 1.1666 - val_r2_score: -0.0246 - val_rmse: 1.0374 - val_smape: 136.3802 - learning_rate: 0.0010\n",
      "Epoch 11/200\n",
      "\u001b[1m184/184\u001b[0m \u001b[32m━━━━━━━━━━━━━━━━━━━━\u001b[0m\u001b[37m\u001b[0m \u001b[1m3s\u001b[0m 15ms/step - loss: 0.1683 - mae: 0.4273 - mse: 0.4272 - r2_score: 0.2507 - rmse: 0.5831 - smape: 117.2792 - val_loss: 0.3944 - val_mae: 0.7337 - val_mse: 1.1438 - val_r2_score: -0.0151 - val_rmse: 1.0291 - val_smape: 134.2890 - learning_rate: 0.0010\n",
      "Epoch 12/200\n",
      "\u001b[1m184/184\u001b[0m \u001b[32m━━━━━━━━━━━━━━━━━━━━\u001b[0m\u001b[37m\u001b[0m \u001b[1m3s\u001b[0m 15ms/step - loss: 0.1589 - mae: 0.4117 - mse: 0.4052 - r2_score: 0.3005 - rmse: 0.5644 - smape: 114.6170 - val_loss: 0.3972 - val_mae: 0.7373 - val_mse: 1.1567 - val_r2_score: -0.0191 - val_rmse: 1.0332 - val_smape: 133.8944 - learning_rate: 0.0010\n",
      "Epoch 13/200\n",
      "\u001b[1m184/184\u001b[0m \u001b[32m━━━━━━━━━━━━━━━━━━━━\u001b[0m\u001b[37m\u001b[0m \u001b[1m3s\u001b[0m 15ms/step - loss: 0.1547 - mae: 0.4066 - mse: 0.3853 - r2_score: 0.3280 - rmse: 0.5542 - smape: 112.9990 - val_loss: 0.3880 - val_mae: 0.7277 - val_mse: 1.1242 - val_r2_score: 0.0081 - val_rmse: 1.0178 - val_smape: 133.9625 - learning_rate: 0.0010\n",
      "Epoch 14/200\n",
      "\u001b[1m184/184\u001b[0m \u001b[32m━━━━━━━━━━━━━━━━━━━━\u001b[0m\u001b[37m\u001b[0m \u001b[1m5s\u001b[0m 16ms/step - loss: 0.1508 - mae: 0.3999 - mse: 0.3752 - r2_score: 0.3314 - rmse: 0.5482 - smape: 110.0464 - val_loss: 0.3899 - val_mae: 0.7287 - val_mse: 1.1358 - val_r2_score: 0.0080 - val_rmse: 1.0196 - val_smape: 133.9875 - learning_rate: 5.0000e-04\n",
      "Epoch 15/200\n",
      "\u001b[1m184/184\u001b[0m \u001b[32m━━━━━━━━━━━━━━━━━━━━\u001b[0m\u001b[37m\u001b[0m \u001b[1m5s\u001b[0m 16ms/step - loss: 0.1443 - mae: 0.3893 - mse: 0.3590 - r2_score: 0.3582 - rmse: 0.5362 - smape: 110.1586 - val_loss: 0.3954 - val_mae: 0.7349 - val_mse: 1.1482 - val_r2_score: -0.0084 - val_rmse: 1.0267 - val_smape: 133.9160 - learning_rate: 5.0000e-04\n",
      "Epoch 16/200\n",
      "\u001b[1m184/184\u001b[0m \u001b[32m━━━━━━━━━━━━━━━━━━━━\u001b[0m\u001b[37m\u001b[0m \u001b[1m3s\u001b[0m 16ms/step - loss: 0.1409 - mae: 0.3835 - mse: 0.3490 - r2_score: 0.3788 - rmse: 0.5280 - smape: 107.8907 - val_loss: 0.3948 - val_mae: 0.7321 - val_mse: 1.1525 - val_r2_score: -0.0103 - val_rmse: 1.0286 - val_smape: 132.3138 - learning_rate: 5.0000e-04\n",
      "Epoch 17/200\n",
      "\u001b[1m184/184\u001b[0m \u001b[32m━━━━━━━━━━━━━━━━━━━━\u001b[0m\u001b[37m\u001b[0m \u001b[1m3s\u001b[0m 15ms/step - loss: 0.1366 - mae: 0.3779 - mse: 0.3338 - r2_score: 0.3909 - rmse: 0.5194 - smape: 106.3373 - val_loss: 0.4017 - val_mae: 0.7432 - val_mse: 1.1640 - val_r2_score: -0.0255 - val_rmse: 1.0335 - val_smape: 133.2887 - learning_rate: 5.0000e-04\n",
      "Epoch 18/200\n",
      "\u001b[1m184/184\u001b[0m \u001b[32m━━━━━━━━━━━━━━━━━━━━\u001b[0m\u001b[37m\u001b[0m \u001b[1m6s\u001b[0m 18ms/step - loss: 0.1340 - mae: 0.3757 - mse: 0.3238 - r2_score: 0.3968 - rmse: 0.5149 - smape: 105.8686 - val_loss: 0.3988 - val_mae: 0.7375 - val_mse: 1.1659 - val_r2_score: -0.0258 - val_rmse: 1.0347 - val_smape: 132.3832 - learning_rate: 5.0000e-04\n",
      "Epoch 19/200\n",
      "\u001b[1m184/184\u001b[0m \u001b[32m━━━━━━━━━━━━━━━━━━━━\u001b[0m\u001b[37m\u001b[0m \u001b[1m3s\u001b[0m 15ms/step - loss: 0.1356 - mae: 0.3780 - mse: 0.3239 - r2_score: 0.3876 - rmse: 0.5173 - smape: 106.0220 - val_loss: 0.4042 - val_mae: 0.7455 - val_mse: 1.1733 - val_r2_score: -0.0443 - val_rmse: 1.0414 - val_smape: 133.0451 - learning_rate: 5.0000e-04\n",
      "Epoch 20/200\n",
      "\u001b[1m184/184\u001b[0m \u001b[32m━━━━━━━━━━━━━━━━━━━━\u001b[0m\u001b[37m\u001b[0m \u001b[1m3s\u001b[0m 16ms/step - loss: 0.1312 - mae: 0.3692 - mse: 0.3171 - r2_score: 0.4147 - rmse: 0.5068 - smape: 104.7674 - val_loss: 0.4087 - val_mae: 0.7510 - val_mse: 1.1880 - val_r2_score: -0.0491 - val_rmse: 1.0458 - val_smape: 133.9650 - learning_rate: 5.0000e-04\n",
      "Epoch 21/200\n",
      "\u001b[1m184/184\u001b[0m \u001b[32m━━━━━━━━━━━━━━━━━━━━\u001b[0m\u001b[37m\u001b[0m \u001b[1m5s\u001b[0m 15ms/step - loss: 0.1275 - mae: 0.3653 - mse: 0.3051 - r2_score: 0.4398 - rmse: 0.4982 - smape: 104.4809 - val_loss: 0.4068 - val_mae: 0.7494 - val_mse: 1.1810 - val_r2_score: -0.0441 - val_rmse: 1.0414 - val_smape: 133.9248 - learning_rate: 5.0000e-04\n",
      "Epoch 22/200\n",
      "\u001b[1m184/184\u001b[0m \u001b[32m━━━━━━━━━━━━━━━━━━━━\u001b[0m\u001b[37m\u001b[0m \u001b[1m3s\u001b[0m 17ms/step - loss: 0.1275 - mae: 0.3643 - mse: 0.3040 - r2_score: 0.4289 - rmse: 0.4987 - smape: 102.7128 - val_loss: 0.4149 - val_mae: 0.7572 - val_mse: 1.2067 - val_r2_score: -0.0644 - val_rmse: 1.0528 - val_smape: 132.7703 - learning_rate: 5.0000e-04\n",
      "Epoch 23/200\n",
      "\u001b[1m184/184\u001b[0m \u001b[32m━━━━━━━━━━━━━━━━━━━━\u001b[0m\u001b[37m\u001b[0m \u001b[1m3s\u001b[0m 15ms/step - loss: 0.1256 - mae: 0.3639 - mse: 0.2947 - r2_score: 0.4268 - rmse: 0.4969 - smape: 103.6949 - val_loss: 0.4183 - val_mae: 0.7627 - val_mse: 1.2145 - val_r2_score: -0.0707 - val_rmse: 1.0554 - val_smape: 134.0362 - learning_rate: 5.0000e-04\n",
      "Epoch 24/200\n",
      "\u001b[1m184/184\u001b[0m \u001b[32m━━━━━━━━━━━━━━━━━━━━\u001b[0m\u001b[37m\u001b[0m \u001b[1m6s\u001b[0m 17ms/step - loss: 0.1222 - mae: 0.3567 - mse: 0.2889 - r2_score: 0.4533 - rmse: 0.4874 - smape: 101.2557 - val_loss: 0.4188 - val_mae: 0.7632 - val_mse: 1.2147 - val_r2_score: -0.0795 - val_rmse: 1.0577 - val_smape: 133.1473 - learning_rate: 2.5000e-04\n",
      "Epoch 25/200\n",
      "\u001b[1m184/184\u001b[0m \u001b[32m━━━━━━━━━━━━━━━━━━━━\u001b[0m\u001b[37m\u001b[0m \u001b[1m3s\u001b[0m 16ms/step - loss: 0.1206 - mae: 0.3536 - mse: 0.2822 - r2_score: 0.4574 - rmse: 0.4842 - smape: 101.5938 - val_loss: 0.4204 - val_mae: 0.7655 - val_mse: 1.2195 - val_r2_score: -0.0802 - val_rmse: 1.0591 - val_smape: 133.8087 - learning_rate: 2.5000e-04\n",
      "Epoch 26/200\n",
      "\u001b[1m184/184\u001b[0m \u001b[32m━━━━━━━━━━━━━━━━━━━━\u001b[0m\u001b[37m\u001b[0m \u001b[1m3s\u001b[0m 16ms/step - loss: 0.1189 - mae: 0.3511 - mse: 0.2804 - r2_score: 0.4619 - rmse: 0.4807 - smape: 101.1886 - val_loss: 0.4204 - val_mae: 0.7653 - val_mse: 1.2179 - val_r2_score: -0.0839 - val_rmse: 1.0596 - val_smape: 133.3664 - learning_rate: 2.5000e-04\n",
      "Epoch 27/200\n",
      "\u001b[1m184/184\u001b[0m \u001b[32m━━━━━━━━━━━━━━━━━━━━\u001b[0m\u001b[37m\u001b[0m \u001b[1m3s\u001b[0m 15ms/step - loss: 0.1171 - mae: 0.3490 - mse: 0.2722 - r2_score: 0.4586 - rmse: 0.4790 - smape: 100.6436 - val_loss: 0.4229 - val_mae: 0.7693 - val_mse: 1.2254 - val_r2_score: -0.0913 - val_rmse: 1.0629 - val_smape: 133.4940 - learning_rate: 2.5000e-04\n",
      "Epoch 28/200\n",
      "\u001b[1m184/184\u001b[0m \u001b[32m━━━━━━━━━━━━━━━━━━━━\u001b[0m\u001b[37m\u001b[0m \u001b[1m5s\u001b[0m 15ms/step - loss: 0.1164 - mae: 0.3478 - mse: 0.2730 - r2_score: 0.4737 - rmse: 0.4748 - smape: 100.4807 - val_loss: 0.4227 - val_mae: 0.7694 - val_mse: 1.2228 - val_r2_score: -0.0913 - val_rmse: 1.0620 - val_smape: 133.1823 - learning_rate: 2.5000e-04\n",
      "Epoch 29/200\n",
      "\u001b[1m184/184\u001b[0m \u001b[32m━━━━━━━━━━━━━━━━━━━━\u001b[0m\u001b[37m\u001b[0m \u001b[1m3s\u001b[0m 16ms/step - loss: 0.1133 - mae: 0.3425 - mse: 0.2618 - r2_score: 0.4847 - rmse: 0.4690 - smape: 99.4225 - val_loss: 0.4188 - val_mae: 0.7644 - val_mse: 1.2102 - val_r2_score: -0.0782 - val_rmse: 1.0563 - val_smape: 133.0789 - learning_rate: 2.5000e-04\n",
      "Epoch 30/200\n",
      "\u001b[1m184/184\u001b[0m \u001b[32m━━━━━━━━━━━━━━━━━━━━\u001b[0m\u001b[37m\u001b[0m \u001b[1m3s\u001b[0m 17ms/step - loss: 0.1124 - mae: 0.3421 - mse: 0.2609 - r2_score: 0.4882 - rmse: 0.4671 - smape: 100.0359 - val_loss: 0.4242 - val_mae: 0.7695 - val_mse: 1.2320 - val_r2_score: -0.0983 - val_rmse: 1.0658 - val_smape: 132.8914 - learning_rate: 2.5000e-04\n",
      "Epoch 31/200\n",
      "\u001b[1m184/184\u001b[0m \u001b[32m━━━━━━━━━━━━━━━━━━━━\u001b[0m\u001b[37m\u001b[0m \u001b[1m3s\u001b[0m 17ms/step - loss: 0.1126 - mae: 0.3407 - mse: 0.2593 - r2_score: 0.4862 - rmse: 0.4671 - smape: 99.1959 - val_loss: 0.4224 - val_mae: 0.7676 - val_mse: 1.2245 - val_r2_score: -0.0924 - val_rmse: 1.0622 - val_smape: 132.5129 - learning_rate: 2.5000e-04\n",
      "Epoch 32/200\n",
      "\u001b[1m184/184\u001b[0m \u001b[32m━━━━━━━━━━━━━━━━━━━━\u001b[0m\u001b[37m\u001b[0m \u001b[1m3s\u001b[0m 16ms/step - loss: 0.1127 - mae: 0.3417 - mse: 0.2622 - r2_score: 0.4871 - rmse: 0.4685 - smape: 98.5078 - val_loss: 0.4238 - val_mae: 0.7686 - val_mse: 1.2274 - val_r2_score: -0.0989 - val_rmse: 1.0651 - val_smape: 132.3950 - learning_rate: 2.5000e-04\n",
      "Epoch 33/200\n",
      "\u001b[1m184/184\u001b[0m \u001b[32m━━━━━━━━━━━━━━━━━━━━\u001b[0m\u001b[37m\u001b[0m \u001b[1m3s\u001b[0m 16ms/step - loss: 0.1109 - mae: 0.3383 - mse: 0.2585 - r2_score: 0.4971 - rmse: 0.4624 - smape: 98.6074 - val_loss: 0.4249 - val_mae: 0.7712 - val_mse: 1.2283 - val_r2_score: -0.0989 - val_rmse: 1.0651 - val_smape: 132.8868 - learning_rate: 2.5000e-04\n",
      "Epoch 34/200\n",
      "\u001b[1m184/184\u001b[0m \u001b[32m━━━━━━━━━━━━━━━━━━━━\u001b[0m\u001b[37m\u001b[0m \u001b[1m3s\u001b[0m 15ms/step - loss: 0.1116 - mae: 0.3393 - mse: 0.2555 - r2_score: 0.4969 - rmse: 0.4640 - smape: 98.4897 - val_loss: 0.4281 - val_mae: 0.7746 - val_mse: 1.2366 - val_r2_score: -0.1072 - val_rmse: 1.0694 - val_smape: 132.7814 - learning_rate: 1.2500e-04\n",
      "Epoch 35/200\n",
      "\u001b[1m184/184\u001b[0m \u001b[32m━━━━━━━━━━━━━━━━━━━━\u001b[0m\u001b[37m\u001b[0m \u001b[1m3s\u001b[0m 16ms/step - loss: 0.1095 - mae: 0.3375 - mse: 0.2486 - r2_score: 0.5012 - rmse: 0.4586 - smape: 97.9882 - val_loss: 0.4252 - val_mae: 0.7715 - val_mse: 1.2268 - val_r2_score: -0.0979 - val_rmse: 1.0653 - val_smape: 132.4494 - learning_rate: 1.2500e-04\n",
      "Epoch 36/200\n",
      "\u001b[1m184/184\u001b[0m \u001b[32m━━━━━━━━━━━━━━━━━━━━\u001b[0m\u001b[37m\u001b[0m \u001b[1m3s\u001b[0m 16ms/step - loss: 0.1095 - mae: 0.3346 - mse: 0.2549 - r2_score: 0.5092 - rmse: 0.4593 - smape: 96.8916 - val_loss: 0.4282 - val_mae: 0.7750 - val_mse: 1.2363 - val_r2_score: -0.1083 - val_rmse: 1.0697 - val_smape: 132.6189 - learning_rate: 1.2500e-04\n",
      "Epoch 37/200\n",
      "\u001b[1m184/184\u001b[0m \u001b[32m━━━━━━━━━━━━━━━━━━━━\u001b[0m\u001b[37m\u001b[0m \u001b[1m3s\u001b[0m 16ms/step - loss: 0.1082 - mae: 0.3340 - mse: 0.2472 - r2_score: 0.5057 - rmse: 0.4577 - smape: 97.5394 - val_loss: 0.4281 - val_mae: 0.7743 - val_mse: 1.2369 - val_r2_score: -0.1080 - val_rmse: 1.0701 - val_smape: 132.4891 - learning_rate: 1.2500e-04\n",
      "Epoch 38/200\n",
      "\u001b[1m184/184\u001b[0m \u001b[32m━━━━━━━━━━━━━━━━━━━━\u001b[0m\u001b[37m\u001b[0m \u001b[1m3s\u001b[0m 15ms/step - loss: 0.1092 - mae: 0.3350 - mse: 0.2510 - r2_score: 0.5100 - rmse: 0.4571 - smape: 97.5471 - val_loss: 0.4267 - val_mae: 0.7729 - val_mse: 1.2335 - val_r2_score: -0.1085 - val_rmse: 1.0694 - val_smape: 132.6632 - learning_rate: 1.2500e-04\n",
      "Epoch 39/200\n",
      "\u001b[1m184/184\u001b[0m \u001b[32m━━━━━━━━━━━━━━━━━━━━\u001b[0m\u001b[37m\u001b[0m \u001b[1m3s\u001b[0m 17ms/step - loss: 0.1077 - mae: 0.3331 - mse: 0.2433 - r2_score: 0.5118 - rmse: 0.4540 - smape: 97.1747 - val_loss: 0.4297 - val_mae: 0.7773 - val_mse: 1.2419 - val_r2_score: -0.1182 - val_rmse: 1.0735 - val_smape: 132.9178 - learning_rate: 1.2500e-04\n",
      "Epoch 40/200\n",
      "\u001b[1m184/184\u001b[0m \u001b[32m━━━━━━━━━━━━━━━━━━━━\u001b[0m\u001b[37m\u001b[0m \u001b[1m3s\u001b[0m 15ms/step - loss: 0.1068 - mae: 0.3323 - mse: 0.2442 - r2_score: 0.5154 - rmse: 0.4531 - smape: 97.1827 - val_loss: 0.4325 - val_mae: 0.7807 - val_mse: 1.2485 - val_r2_score: -0.1278 - val_rmse: 1.0768 - val_smape: 132.7515 - learning_rate: 1.2500e-04\n",
      "Epoch 41/200\n",
      "\u001b[1m184/184\u001b[0m \u001b[32m━━━━━━━━━━━━━━━━━━━━\u001b[0m\u001b[37m\u001b[0m \u001b[1m3s\u001b[0m 16ms/step - loss: 0.1071 - mae: 0.3309 - mse: 0.2449 - r2_score: 0.5132 - rmse: 0.4539 - smape: 96.2584 - val_loss: 0.4319 - val_mae: 0.7793 - val_mse: 1.2493 - val_r2_score: -0.1291 - val_rmse: 1.0770 - val_smape: 132.7218 - learning_rate: 1.2500e-04\n",
      "Epoch 42/200\n",
      "\u001b[1m184/184\u001b[0m \u001b[32m━━━━━━━━━━━━━━━━━━━━\u001b[0m\u001b[37m\u001b[0m \u001b[1m3s\u001b[0m 16ms/step - loss: 0.1069 - mae: 0.3305 - mse: 0.2453 - r2_score: 0.5253 - rmse: 0.4523 - smape: 95.6933 - val_loss: 0.4300 - val_mae: 0.7767 - val_mse: 1.2445 - val_r2_score: -0.1199 - val_rmse: 1.0746 - val_smape: 132.4562 - learning_rate: 1.2500e-04\n",
      "Epoch 43/200\n",
      "\u001b[1m184/184\u001b[0m \u001b[32m━━━━━━━━━━━━━━━━━━━━\u001b[0m\u001b[37m\u001b[0m \u001b[1m3s\u001b[0m 15ms/step - loss: 0.1051 - mae: 0.3277 - mse: 0.2394 - r2_score: 0.5243 - rmse: 0.4483 - smape: 96.1697 - val_loss: 0.4338 - val_mae: 0.7817 - val_mse: 1.2562 - val_r2_score: -0.1335 - val_rmse: 1.0792 - val_smape: 132.8545 - learning_rate: 1.2500e-04\n",
      "Epoch 44/200\n",
      "\u001b[1m184/184\u001b[0m \u001b[32m━━━━━━━━━━━━━━━━━━━━\u001b[0m\u001b[37m\u001b[0m \u001b[1m3s\u001b[0m 16ms/step - loss: 0.1066 - mae: 0.3306 - mse: 0.2425 - r2_score: 0.5185 - rmse: 0.4512 - smape: 96.6338 - val_loss: 0.4331 - val_mae: 0.7810 - val_mse: 1.2535 - val_r2_score: -0.1300 - val_rmse: 1.0780 - val_smape: 132.8615 - learning_rate: 6.2500e-05\n",
      "Epoch 45/200\n",
      "\u001b[1m184/184\u001b[0m \u001b[32m━━━━━━━━━━━━━━━━━━━━\u001b[0m\u001b[37m\u001b[0m \u001b[1m3s\u001b[0m 15ms/step - loss: 0.1059 - mae: 0.3294 - mse: 0.2419 - r2_score: 0.5246 - rmse: 0.4495 - smape: 96.3496 - val_loss: 0.4339 - val_mae: 0.7817 - val_mse: 1.2570 - val_r2_score: -0.1336 - val_rmse: 1.0798 - val_smape: 132.4142 - learning_rate: 6.2500e-05\n",
      "Epoch 46/200\n",
      "\u001b[1m184/184\u001b[0m \u001b[32m━━━━━━━━━━━━━━━━━━━━\u001b[0m\u001b[37m\u001b[0m \u001b[1m3s\u001b[0m 16ms/step - loss: 0.1050 - mae: 0.3286 - mse: 0.2413 - r2_score: 0.5182 - rmse: 0.4492 - smape: 96.5190 - val_loss: 0.4342 - val_mae: 0.7818 - val_mse: 1.2579 - val_r2_score: -0.1346 - val_rmse: 1.0802 - val_smape: 132.7880 - learning_rate: 6.2500e-05\n",
      "Epoch 47/200\n",
      "\u001b[1m184/184\u001b[0m \u001b[32m━━━━━━━━━━━━━━━━━━━━\u001b[0m\u001b[37m\u001b[0m \u001b[1m3s\u001b[0m 16ms/step - loss: 0.1039 - mae: 0.3275 - mse: 0.2346 - r2_score: 0.5228 - rmse: 0.4476 - smape: 96.3561 - val_loss: 0.4338 - val_mae: 0.7816 - val_mse: 1.2544 - val_r2_score: -0.1320 - val_rmse: 1.0791 - val_smape: 132.8610 - learning_rate: 6.2500e-05\n",
      "Epoch 48/200\n",
      "\u001b[1m184/184\u001b[0m \u001b[32m━━━━━━━━━━━━━━━━━━━━\u001b[0m\u001b[37m\u001b[0m \u001b[1m5s\u001b[0m 15ms/step - loss: 0.1052 - mae: 0.3276 - mse: 0.2458 - r2_score: 0.5290 - rmse: 0.4487 - smape: 95.6286 - val_loss: 0.4335 - val_mae: 0.7815 - val_mse: 1.2518 - val_r2_score: -0.1319 - val_rmse: 1.0786 - val_smape: 132.9923 - learning_rate: 6.2500e-05\n",
      "Epoch 49/200\n",
      "\u001b[1m184/184\u001b[0m \u001b[32m━━━━━━━━━━━━━━━━━━━━\u001b[0m\u001b[37m\u001b[0m \u001b[1m3s\u001b[0m 16ms/step - loss: 0.1042 - mae: 0.3270 - mse: 0.2336 - r2_score: 0.5311 - rmse: 0.4458 - smape: 96.2506 - val_loss: 0.4353 - val_mae: 0.7832 - val_mse: 1.2577 - val_r2_score: -0.1371 - val_rmse: 1.0811 - val_smape: 132.5566 - learning_rate: 6.2500e-05\n",
      "Epoch 50/200\n",
      "\u001b[1m184/184\u001b[0m \u001b[32m━━━━━━━━━━━━━━━━━━━━\u001b[0m\u001b[37m\u001b[0m \u001b[1m3s\u001b[0m 15ms/step - loss: 0.1042 - mae: 0.3267 - mse: 0.2371 - r2_score: 0.5286 - rmse: 0.4463 - smape: 95.3544 - val_loss: 0.4332 - val_mae: 0.7810 - val_mse: 1.2524 - val_r2_score: -0.1302 - val_rmse: 1.0783 - val_smape: 132.4053 - learning_rate: 6.2500e-05\n",
      "Epoch 51/200\n",
      "\u001b[1m184/184\u001b[0m \u001b[32m━━━━━━━━━━━━━━━━━━━━\u001b[0m\u001b[37m\u001b[0m \u001b[1m3s\u001b[0m 16ms/step - loss: 0.1034 - mae: 0.3256 - mse: 0.2327 - r2_score: 0.5377 - rmse: 0.4438 - smape: 95.3932 - val_loss: 0.4340 - val_mae: 0.7819 - val_mse: 1.2548 - val_r2_score: -0.1323 - val_rmse: 1.0795 - val_smape: 132.7362 - learning_rate: 6.2500e-05\n",
      "Epoch 52/200\n",
      "\u001b[1m184/184\u001b[0m \u001b[32m━━━━━━━━━━━━━━━━━━━━\u001b[0m\u001b[37m\u001b[0m \u001b[1m3s\u001b[0m 16ms/step - loss: 0.1049 - mae: 0.3287 - mse: 0.2418 - r2_score: 0.5275 - rmse: 0.4477 - smape: 96.6056 - val_loss: 0.4330 - val_mae: 0.7812 - val_mse: 1.2524 - val_r2_score: -0.1299 - val_rmse: 1.0782 - val_smape: 132.7464 - learning_rate: 6.2500e-05\n",
      "Epoch 53/200\n",
      "\u001b[1m184/184\u001b[0m \u001b[32m━━━━━━━━━━━━━━━━━━━━\u001b[0m\u001b[37m\u001b[0m \u001b[1m3s\u001b[0m 15ms/step - loss: 0.1028 - mae: 0.3253 - mse: 0.2330 - r2_score: 0.5355 - rmse: 0.4432 - smape: 96.3316 - val_loss: 0.4339 - val_mae: 0.7822 - val_mse: 1.2544 - val_r2_score: -0.1324 - val_rmse: 1.0791 - val_smape: 132.7655 - learning_rate: 6.2500e-05\n",
      "Epoch 54/200\n",
      "\u001b[1m184/184\u001b[0m \u001b[32m━━━━━━━━━━━━━━━━━━━━\u001b[0m\u001b[37m\u001b[0m \u001b[1m3s\u001b[0m 16ms/step - loss: 0.1043 - mae: 0.3279 - mse: 0.2343 - r2_score: 0.5255 - rmse: 0.4464 - smape: 96.5077 - val_loss: 0.4354 - val_mae: 0.7839 - val_mse: 1.2593 - val_r2_score: -0.1365 - val_rmse: 1.0810 - val_smape: 132.9645 - learning_rate: 3.1250e-05\n",
      "Epoch 55/200\n",
      "\u001b[1m184/184\u001b[0m \u001b[32m━━━━━━━━━━━━━━━━━━━━\u001b[0m\u001b[37m\u001b[0m \u001b[1m3s\u001b[0m 16ms/step - loss: 0.1035 - mae: 0.3246 - mse: 0.2376 - r2_score: 0.5287 - rmse: 0.4446 - smape: 95.7278 - val_loss: 0.4362 - val_mae: 0.7846 - val_mse: 1.2609 - val_r2_score: -0.1381 - val_rmse: 1.0818 - val_smape: 132.8657 - learning_rate: 3.1250e-05\n",
      "Epoch 56/200\n",
      "\u001b[1m184/184\u001b[0m \u001b[32m━━━━━━━━━━━━━━━━━━━━\u001b[0m\u001b[37m\u001b[0m \u001b[1m3s\u001b[0m 15ms/step - loss: 0.1010 - mae: 0.3216 - mse: 0.2283 - r2_score: 0.5421 - rmse: 0.4389 - smape: 95.5064 - val_loss: 0.4364 - val_mae: 0.7850 - val_mse: 1.2609 - val_r2_score: -0.1404 - val_rmse: 1.0823 - val_smape: 132.8756 - learning_rate: 3.1250e-05\n",
      "Epoch 57/200\n",
      "\u001b[1m184/184\u001b[0m \u001b[32m━━━━━━━━━━━━━━━━━━━━\u001b[0m\u001b[37m\u001b[0m \u001b[1m3s\u001b[0m 16ms/step - loss: 0.1022 - mae: 0.3249 - mse: 0.2307 - r2_score: 0.5193 - rmse: 0.4443 - smape: 95.9185 - val_loss: 0.4353 - val_mae: 0.7837 - val_mse: 1.2570 - val_r2_score: -0.1371 - val_rmse: 1.0808 - val_smape: 132.7533 - learning_rate: 3.1250e-05\n",
      "Epoch 58/200\n",
      "\u001b[1m184/184\u001b[0m \u001b[32m━━━━━━━━━━━━━━━━━━━━\u001b[0m\u001b[37m\u001b[0m \u001b[1m3s\u001b[0m 17ms/step - loss: 0.1033 - mae: 0.3252 - mse: 0.2316 - r2_score: 0.5269 - rmse: 0.4445 - smape: 96.4483 - val_loss: 0.4352 - val_mae: 0.7833 - val_mse: 1.2571 - val_r2_score: -0.1368 - val_rmse: 1.0809 - val_smape: 132.6205 - learning_rate: 3.1250e-05\n",
      "Epoch 59/200\n",
      "\u001b[1m184/184\u001b[0m \u001b[32m━━━━━━━━━━━━━━━━━━━━\u001b[0m\u001b[37m\u001b[0m \u001b[1m5s\u001b[0m 15ms/step - loss: 0.1006 - mae: 0.3205 - mse: 0.2260 - r2_score: 0.5468 - rmse: 0.4376 - smape: 94.5296 - val_loss: 0.4352 - val_mae: 0.7832 - val_mse: 1.2564 - val_r2_score: -0.1358 - val_rmse: 1.0805 - val_smape: 132.5773 - learning_rate: 3.1250e-05\n",
      "Epoch 60/200\n",
      "\u001b[1m184/184\u001b[0m \u001b[32m━━━━━━━━━━━━━━━━━━━━\u001b[0m\u001b[37m\u001b[0m \u001b[1m5s\u001b[0m 16ms/step - loss: 0.1036 - mae: 0.3252 - mse: 0.2353 - r2_score: 0.5280 - rmse: 0.4450 - smape: 95.3490 - val_loss: 0.4342 - val_mae: 0.7822 - val_mse: 1.2536 - val_r2_score: -0.1330 - val_rmse: 1.0793 - val_smape: 132.5207 - learning_rate: 3.1250e-05\n",
      "Epoch 61/200\n",
      "\u001b[1m184/184\u001b[0m \u001b[32m━━━━━━━━━━━━━━━━━━━━\u001b[0m\u001b[37m\u001b[0m \u001b[1m3s\u001b[0m 16ms/step - loss: 0.1029 - mae: 0.3239 - mse: 0.2322 - r2_score: 0.5293 - rmse: 0.4444 - smape: 95.6971 - val_loss: 0.4353 - val_mae: 0.7835 - val_mse: 1.2565 - val_r2_score: -0.1365 - val_rmse: 1.0807 - val_smape: 132.5289 - learning_rate: 3.1250e-05\n",
      "Epoch 62/200\n",
      "\u001b[1m184/184\u001b[0m \u001b[32m━━━━━━━━━━━━━━━━━━━━\u001b[0m\u001b[37m\u001b[0m \u001b[1m3s\u001b[0m 16ms/step - loss: 0.1021 - mae: 0.3237 - mse: 0.2288 - r2_score: 0.5405 - rmse: 0.4407 - smape: 95.7895 - val_loss: 0.4351 - val_mae: 0.7830 - val_mse: 1.2566 - val_r2_score: -0.1356 - val_rmse: 1.0805 - val_smape: 132.3199 - learning_rate: 3.1250e-05\n",
      "Epoch 63/200\n",
      "\u001b[1m184/184\u001b[0m \u001b[32m━━━━━━━━━━━━━━━━━━━━\u001b[0m\u001b[37m\u001b[0m \u001b[1m3s\u001b[0m 15ms/step - loss: 0.0986 - mae: 0.3190 - mse: 0.2199 - r2_score: 0.5521 - rmse: 0.4336 - smape: 95.0923 - val_loss: 0.4358 - val_mae: 0.7837 - val_mse: 1.2585 - val_r2_score: -0.1385 - val_rmse: 1.0815 - val_smape: 132.3051 - learning_rate: 3.1250e-05\n",
      "Epoch 64/200\n",
      "\u001b[1m184/184\u001b[0m \u001b[32m━━━━━━━━━━━━━━━━━━━━\u001b[0m\u001b[37m\u001b[0m \u001b[1m3s\u001b[0m 16ms/step - loss: 0.1002 - mae: 0.3217 - mse: 0.2247 - r2_score: 0.5364 - rmse: 0.4387 - smape: 95.0489 - val_loss: 0.4349 - val_mae: 0.7825 - val_mse: 1.2557 - val_r2_score: -0.1359 - val_rmse: 1.0803 - val_smape: 132.2346 - learning_rate: 1.5625e-05\n",
      "Epoch 65/200\n",
      "\u001b[1m184/184\u001b[0m \u001b[32m━━━━━━━━━━━━━━━━━━━━\u001b[0m\u001b[37m\u001b[0m \u001b[1m3s\u001b[0m 16ms/step - loss: 0.1012 - mae: 0.3209 - mse: 0.2290 - r2_score: 0.5487 - rmse: 0.4372 - smape: 94.4989 - val_loss: 0.4348 - val_mae: 0.7824 - val_mse: 1.2560 - val_r2_score: -0.1358 - val_rmse: 1.0805 - val_smape: 132.2216 - learning_rate: 1.5625e-05\n",
      "Epoch 66/200\n",
      "\u001b[1m184/184\u001b[0m \u001b[32m━━━━━━━━━━━━━━━━━━━━\u001b[0m\u001b[37m\u001b[0m \u001b[1m3s\u001b[0m 15ms/step - loss: 0.1010 - mae: 0.3212 - mse: 0.2298 - r2_score: 0.5393 - rmse: 0.4400 - smape: 95.4759 - val_loss: 0.4348 - val_mae: 0.7824 - val_mse: 1.2563 - val_r2_score: -0.1359 - val_rmse: 1.0806 - val_smape: 132.2294 - learning_rate: 1.5625e-05\n",
      "Epoch 67/200\n",
      "\u001b[1m184/184\u001b[0m \u001b[32m━━━━━━━━━━━━━━━━━━━━\u001b[0m\u001b[37m\u001b[0m \u001b[1m3s\u001b[0m 15ms/step - loss: 0.1026 - mae: 0.3236 - mse: 0.2315 - r2_score: 0.5366 - rmse: 0.4424 - smape: 95.0636 - val_loss: 0.4346 - val_mae: 0.7822 - val_mse: 1.2559 - val_r2_score: -0.1354 - val_rmse: 1.0804 - val_smape: 132.3548 - learning_rate: 1.5625e-05\n",
      "Epoch 68/200\n",
      "\u001b[1m184/184\u001b[0m \u001b[32m━━━━━━━━━━━━━━━━━━━━\u001b[0m\u001b[37m\u001b[0m \u001b[1m3s\u001b[0m 16ms/step - loss: 0.1017 - mae: 0.3225 - mse: 0.2276 - r2_score: 0.5393 - rmse: 0.4395 - smape: 95.4157 - val_loss: 0.4355 - val_mae: 0.7832 - val_mse: 1.2582 - val_r2_score: -0.1377 - val_rmse: 1.0814 - val_smape: 132.4246 - learning_rate: 1.5625e-05\n",
      "Epoch 69/200\n",
      "\u001b[1m184/184\u001b[0m \u001b[32m━━━━━━━━━━━━━━━━━━━━\u001b[0m\u001b[37m\u001b[0m \u001b[1m5s\u001b[0m 16ms/step - loss: 0.1020 - mae: 0.3226 - mse: 0.2292 - r2_score: 0.5402 - rmse: 0.4408 - smape: 95.2952 - val_loss: 0.4358 - val_mae: 0.7833 - val_mse: 1.2595 - val_r2_score: -0.1390 - val_rmse: 1.0820 - val_smape: 132.2655 - learning_rate: 1.5625e-05\n",
      "Epoch 70/200\n",
      "\u001b[1m184/184\u001b[0m \u001b[32m━━━━━━━━━━━━━━━━━━━━\u001b[0m\u001b[37m\u001b[0m \u001b[1m3s\u001b[0m 15ms/step - loss: 0.1018 - mae: 0.3216 - mse: 0.2292 - r2_score: 0.5361 - rmse: 0.4402 - smape: 94.9720 - val_loss: 0.4359 - val_mae: 0.7835 - val_mse: 1.2597 - val_r2_score: -0.1392 - val_rmse: 1.0820 - val_smape: 132.2707 - learning_rate: 1.5625e-05\n",
      "Epoch 71/200\n",
      "\u001b[1m184/184\u001b[0m \u001b[32m━━━━━━━━━━━━━━━━━━━━\u001b[0m\u001b[37m\u001b[0m \u001b[1m3s\u001b[0m 16ms/step - loss: 0.1015 - mae: 0.3226 - mse: 0.2261 - r2_score: 0.5327 - rmse: 0.4412 - smape: 95.6402 - val_loss: 0.4363 - val_mae: 0.7841 - val_mse: 1.2612 - val_r2_score: -0.1402 - val_rmse: 1.0826 - val_smape: 132.2725 - learning_rate: 1.5625e-05\n",
      "Epoch 72/200\n",
      "\u001b[1m184/184\u001b[0m \u001b[32m━━━━━━━━━━━━━━━━━━━━\u001b[0m\u001b[37m\u001b[0m \u001b[1m3s\u001b[0m 16ms/step - loss: 0.1024 - mae: 0.3231 - mse: 0.2312 - r2_score: 0.5384 - rmse: 0.4415 - smape: 94.9871 - val_loss: 0.4358 - val_mae: 0.7837 - val_mse: 1.2598 - val_r2_score: -0.1387 - val_rmse: 1.0819 - val_smape: 132.3334 - learning_rate: 1.5625e-05\n",
      "Epoch 73/200\n",
      "\u001b[1m184/184\u001b[0m \u001b[32m━━━━━━━━━━━━━━━━━━━━\u001b[0m\u001b[37m\u001b[0m \u001b[1m3s\u001b[0m 16ms/step - loss: 0.1039 - mae: 0.3251 - mse: 0.2349 - r2_score: 0.5312 - rmse: 0.4451 - smape: 95.3773 - val_loss: 0.4360 - val_mae: 0.7840 - val_mse: 1.2604 - val_r2_score: -0.1393 - val_rmse: 1.0822 - val_smape: 132.4906 - learning_rate: 1.5625e-05\n",
      "Epoch 74/200\n",
      "\u001b[1m184/184\u001b[0m \u001b[32m━━━━━━━━━━━━━━━━━━━━\u001b[0m\u001b[37m\u001b[0m \u001b[1m3s\u001b[0m 16ms/step - loss: 0.1015 - mae: 0.3226 - mse: 0.2271 - r2_score: 0.5437 - rmse: 0.4393 - smape: 95.4510 - val_loss: 0.4361 - val_mae: 0.7840 - val_mse: 1.2603 - val_r2_score: -0.1395 - val_rmse: 1.0823 - val_smape: 132.3762 - learning_rate: 7.8125e-06\n",
      "Epoch 75/200\n",
      "\u001b[1m184/184\u001b[0m \u001b[32m━━━━━━━━━━━━━━━━━━━━\u001b[0m\u001b[37m\u001b[0m \u001b[1m3s\u001b[0m 15ms/step - loss: 0.1013 - mae: 0.3220 - mse: 0.2284 - r2_score: 0.5361 - rmse: 0.4401 - smape: 95.1439 - val_loss: 0.4361 - val_mae: 0.7840 - val_mse: 1.2604 - val_r2_score: -0.1395 - val_rmse: 1.0823 - val_smape: 132.3397 - learning_rate: 7.8125e-06\n",
      "Epoch 76/200\n",
      "\u001b[1m184/184\u001b[0m \u001b[32m━━━━━━━━━━━━━━━━━━━━\u001b[0m\u001b[37m\u001b[0m \u001b[1m5s\u001b[0m 16ms/step - loss: 0.1008 - mae: 0.3223 - mse: 0.2274 - r2_score: 0.5392 - rmse: 0.4385 - smape: 95.0758 - val_loss: 0.4361 - val_mae: 0.7840 - val_mse: 1.2604 - val_r2_score: -0.1396 - val_rmse: 1.0823 - val_smape: 132.3319 - learning_rate: 7.8125e-06\n",
      "Epoch 77/200\n",
      "\u001b[1m184/184\u001b[0m \u001b[32m━━━━━━━━━━━━━━━━━━━━\u001b[0m\u001b[37m\u001b[0m \u001b[1m3s\u001b[0m 16ms/step - loss: 0.1013 - mae: 0.3208 - mse: 0.2301 - r2_score: 0.5426 - rmse: 0.4398 - smape: 94.6016 - val_loss: 0.4359 - val_mae: 0.7838 - val_mse: 1.2601 - val_r2_score: -0.1391 - val_rmse: 1.0822 - val_smape: 132.3085 - learning_rate: 7.8125e-06\n",
      "Epoch 78/200\n",
      "\u001b[1m184/184\u001b[0m \u001b[32m━━━━━━━━━━━━━━━━━━━━\u001b[0m\u001b[37m\u001b[0m \u001b[1m3s\u001b[0m 16ms/step - loss: 0.1011 - mae: 0.3222 - mse: 0.2265 - r2_score: 0.5404 - rmse: 0.4386 - smape: 95.2250 - val_loss: 0.4361 - val_mae: 0.7840 - val_mse: 1.2605 - val_r2_score: -0.1397 - val_rmse: 1.0823 - val_smape: 132.2684 - learning_rate: 7.8125e-06\n",
      "Epoch 79/200\n",
      "\u001b[1m184/184\u001b[0m \u001b[32m━━━━━━━━━━━━━━━━━━━━\u001b[0m\u001b[37m\u001b[0m \u001b[1m3s\u001b[0m 16ms/step - loss: 0.1014 - mae: 0.3218 - mse: 0.2288 - r2_score: 0.5396 - rmse: 0.4393 - smape: 94.6557 - val_loss: 0.4363 - val_mae: 0.7841 - val_mse: 1.2607 - val_r2_score: -0.1403 - val_rmse: 1.0825 - val_smape: 132.2111 - learning_rate: 7.8125e-06\n",
      "Epoch 80/200\n",
      "\u001b[1m184/184\u001b[0m \u001b[32m━━━━━━━━━━━━━━━━━━━━\u001b[0m\u001b[37m\u001b[0m \u001b[1m3s\u001b[0m 16ms/step - loss: 0.1002 - mae: 0.3216 - mse: 0.2247 - r2_score: 0.5430 - rmse: 0.4371 - smape: 95.6433 - val_loss: 0.4363 - val_mae: 0.7841 - val_mse: 1.2608 - val_r2_score: -0.1404 - val_rmse: 1.0825 - val_smape: 132.2446 - learning_rate: 7.8125e-06\n",
      "Epoch 81/200\n",
      "\u001b[1m184/184\u001b[0m \u001b[32m━━━━━━━━━━━━━━━━━━━━\u001b[0m\u001b[37m\u001b[0m \u001b[1m3s\u001b[0m 16ms/step - loss: 0.1003 - mae: 0.3212 - mse: 0.2237 - r2_score: 0.5341 - rmse: 0.4378 - smape: 95.2356 - val_loss: 0.4360 - val_mae: 0.7839 - val_mse: 1.2601 - val_r2_score: -0.1397 - val_rmse: 1.0822 - val_smape: 132.2698 - learning_rate: 7.8125e-06\n",
      "Epoch 82/200\n",
      "\u001b[1m184/184\u001b[0m \u001b[32m━━━━━━━━━━━━━━━━━━━━\u001b[0m\u001b[37m\u001b[0m \u001b[1m3s\u001b[0m 16ms/step - loss: 0.0993 - mae: 0.3180 - mse: 0.2228 - r2_score: 0.5456 - rmse: 0.4345 - smape: 93.8244 - val_loss: 0.4356 - val_mae: 0.7835 - val_mse: 1.2589 - val_r2_score: -0.1383 - val_rmse: 1.0817 - val_smape: 132.2665 - learning_rate: 7.8125e-06\n",
      "Epoch 83/200\n",
      "\u001b[1m184/184\u001b[0m \u001b[32m━━━━━━━━━━━━━━━━━━━━\u001b[0m\u001b[37m\u001b[0m \u001b[1m5s\u001b[0m 16ms/step - loss: 0.1007 - mae: 0.3197 - mse: 0.2279 - r2_score: 0.5443 - rmse: 0.4379 - smape: 94.1874 - val_loss: 0.4355 - val_mae: 0.7832 - val_mse: 1.2584 - val_r2_score: -0.1378 - val_rmse: 1.0814 - val_smape: 132.1406 - learning_rate: 7.8125e-06\n",
      "Epoch 84/200\n",
      "\u001b[1m184/184\u001b[0m \u001b[32m━━━━━━━━━━━━━━━━━━━━\u001b[0m\u001b[37m\u001b[0m \u001b[1m3s\u001b[0m 16ms/step - loss: 0.0987 - mae: 0.3159 - mse: 0.2207 - r2_score: 0.5478 - rmse: 0.4332 - smape: 93.8879 - val_loss: 0.4354 - val_mae: 0.7832 - val_mse: 1.2583 - val_r2_score: -0.1378 - val_rmse: 1.0813 - val_smape: 132.1268 - learning_rate: 3.9063e-06\n",
      "Epoch 85/200\n",
      "\u001b[1m184/184\u001b[0m \u001b[32m━━━━━━━━━━━━━━━━━━━━\u001b[0m\u001b[37m\u001b[0m \u001b[1m5s\u001b[0m 16ms/step - loss: 0.1029 - mae: 0.3246 - mse: 0.2311 - r2_score: 0.5322 - rmse: 0.4430 - smape: 95.3730 - val_loss: 0.4353 - val_mae: 0.7830 - val_mse: 1.2580 - val_r2_score: -0.1376 - val_rmse: 1.0812 - val_smape: 132.1559 - learning_rate: 3.9063e-06\n",
      "Epoch 86/200\n",
      "\u001b[1m184/184\u001b[0m \u001b[32m━━━━━━━━━━━━━━━━━━━━\u001b[0m\u001b[37m\u001b[0m \u001b[1m5s\u001b[0m 18ms/step - loss: 0.1007 - mae: 0.3223 - mse: 0.2257 - r2_score: 0.5413 - rmse: 0.4367 - smape: 95.5620 - val_loss: 0.4355 - val_mae: 0.7832 - val_mse: 1.2585 - val_r2_score: -0.1382 - val_rmse: 1.0814 - val_smape: 132.1613 - learning_rate: 3.9063e-06\n",
      "Epoch 87/200\n",
      "\u001b[1m184/184\u001b[0m \u001b[32m━━━━━━━━━━━━━━━━━━━━\u001b[0m\u001b[37m\u001b[0m \u001b[1m3s\u001b[0m 19ms/step - loss: 0.1029 - mae: 0.3260 - mse: 0.2315 - r2_score: 0.5231 - rmse: 0.4451 - smape: 96.0227 - val_loss: 0.4355 - val_mae: 0.7833 - val_mse: 1.2585 - val_r2_score: -0.1384 - val_rmse: 1.0814 - val_smape: 132.2154 - learning_rate: 3.9063e-06\n",
      "Epoch 88/200\n",
      "\u001b[1m184/184\u001b[0m \u001b[32m━━━━━━━━━━━━━━━━━━━━\u001b[0m\u001b[37m\u001b[0m \u001b[1m3s\u001b[0m 16ms/step - loss: 0.0994 - mae: 0.3185 - mse: 0.2238 - r2_score: 0.5485 - rmse: 0.4354 - smape: 94.1839 - val_loss: 0.4356 - val_mae: 0.7835 - val_mse: 1.2590 - val_r2_score: -0.1390 - val_rmse: 1.0817 - val_smape: 132.2311 - learning_rate: 3.9063e-06\n",
      "Epoch 89/200\n",
      "\u001b[1m184/184\u001b[0m \u001b[32m━━━━━━━━━━━━━━━━━━━━\u001b[0m\u001b[37m\u001b[0m \u001b[1m3s\u001b[0m 16ms/step - loss: 0.1002 - mae: 0.3215 - mse: 0.2240 - r2_score: 0.5428 - rmse: 0.4369 - smape: 95.4030 - val_loss: 0.4358 - val_mae: 0.7837 - val_mse: 1.2595 - val_r2_score: -0.1394 - val_rmse: 1.0819 - val_smape: 132.2240 - learning_rate: 3.9063e-06\n",
      "Epoch 90/200\n",
      "\u001b[1m184/184\u001b[0m \u001b[32m━━━━━━━━━━━━━━━━━━━━\u001b[0m\u001b[37m\u001b[0m \u001b[1m5s\u001b[0m 16ms/step - loss: 0.0996 - mae: 0.3201 - mse: 0.2225 - r2_score: 0.5402 - rmse: 0.4365 - smape: 95.3613 - val_loss: 0.4359 - val_mae: 0.7838 - val_mse: 1.2598 - val_r2_score: -0.1396 - val_rmse: 1.0820 - val_smape: 132.1948 - learning_rate: 3.9063e-06\n",
      "Epoch 91/200\n",
      "\u001b[1m184/184\u001b[0m \u001b[32m━━━━━━━━━━━━━━━━━━━━\u001b[0m\u001b[37m\u001b[0m \u001b[1m3s\u001b[0m 16ms/step - loss: 0.1005 - mae: 0.3214 - mse: 0.2270 - r2_score: 0.5389 - rmse: 0.4385 - smape: 95.0858 - val_loss: 0.4361 - val_mae: 0.7840 - val_mse: 1.2606 - val_r2_score: -0.1403 - val_rmse: 1.0823 - val_smape: 132.1526 - learning_rate: 3.9063e-06\n",
      "Epoch 92/200\n",
      "\u001b[1m184/184\u001b[0m \u001b[32m━━━━━━━━━━━━━━━━━━━━\u001b[0m\u001b[37m\u001b[0m \u001b[1m5s\u001b[0m 16ms/step - loss: 0.1029 - mae: 0.3247 - mse: 0.2342 - r2_score: 0.5291 - rmse: 0.4441 - smape: 95.1902 - val_loss: 0.4361 - val_mae: 0.7841 - val_mse: 1.2604 - val_r2_score: -0.1404 - val_rmse: 1.0824 - val_smape: 132.1781 - learning_rate: 3.9063e-06\n",
      "Epoch 93/200\n",
      "\u001b[1m184/184\u001b[0m \u001b[32m━━━━━━━━━━━━━━━━━━━━\u001b[0m\u001b[37m\u001b[0m \u001b[1m3s\u001b[0m 16ms/step - loss: 0.1006 - mae: 0.3210 - mse: 0.2255 - r2_score: 0.5396 - rmse: 0.4388 - smape: 94.8802 - val_loss: 0.4361 - val_mae: 0.7840 - val_mse: 1.2603 - val_r2_score: -0.1402 - val_rmse: 1.0823 - val_smape: 132.1662 - learning_rate: 3.9063e-06\n",
      "Epoch 94/200\n",
      "\u001b[1m184/184\u001b[0m \u001b[32m━━━━━━━━━━━━━━━━━━━━\u001b[0m\u001b[37m\u001b[0m \u001b[1m3s\u001b[0m 16ms/step - loss: 0.1001 - mae: 0.3195 - mse: 0.2253 - r2_score: 0.5466 - rmse: 0.4368 - smape: 94.6806 - val_loss: 0.4360 - val_mae: 0.7840 - val_mse: 1.2601 - val_r2_score: -0.1402 - val_rmse: 1.0823 - val_smape: 132.1856 - learning_rate: 1.9531e-06\n",
      "Epoch 95/200\n",
      "\u001b[1m184/184\u001b[0m \u001b[32m━━━━━━━━━━━━━━━━━━━━\u001b[0m\u001b[37m\u001b[0m \u001b[1m3s\u001b[0m 16ms/step - loss: 0.1003 - mae: 0.3185 - mse: 0.2333 - r2_score: 0.5509 - rmse: 0.4371 - smape: 93.6062 - val_loss: 0.4361 - val_mae: 0.7840 - val_mse: 1.2602 - val_r2_score: -0.1402 - val_rmse: 1.0823 - val_smape: 132.1799 - learning_rate: 1.9531e-06\n",
      "Epoch 96/200\n",
      "\u001b[1m184/184\u001b[0m \u001b[32m━━━━━━━━━━━━━━━━━━━━\u001b[0m\u001b[37m\u001b[0m \u001b[1m3s\u001b[0m 16ms/step - loss: 0.1005 - mae: 0.3204 - mse: 0.2257 - r2_score: 0.5421 - rmse: 0.4376 - smape: 94.6593 - val_loss: 0.4361 - val_mae: 0.7840 - val_mse: 1.2602 - val_r2_score: -0.1403 - val_rmse: 1.0823 - val_smape: 132.1575 - learning_rate: 1.9531e-06\n",
      "Epoch 97/200\n",
      "\u001b[1m184/184\u001b[0m \u001b[32m━━━━━━━━━━━━━━━━━━━━\u001b[0m\u001b[37m\u001b[0m \u001b[1m3s\u001b[0m 16ms/step - loss: 0.0991 - mae: 0.3180 - mse: 0.2248 - r2_score: 0.5486 - rmse: 0.4347 - smape: 93.8920 - val_loss: 0.4360 - val_mae: 0.7840 - val_mse: 1.2601 - val_r2_score: -0.1401 - val_rmse: 1.0822 - val_smape: 132.1763 - learning_rate: 1.9531e-06\n",
      "Epoch 98/200\n",
      "\u001b[1m184/184\u001b[0m \u001b[32m━━━━━━━━━━━━━━━━━━━━\u001b[0m\u001b[37m\u001b[0m \u001b[1m3s\u001b[0m 15ms/step - loss: 0.0992 - mae: 0.3173 - mse: 0.2221 - r2_score: 0.5459 - rmse: 0.4339 - smape: 94.2131 - val_loss: 0.4360 - val_mae: 0.7840 - val_mse: 1.2601 - val_r2_score: -0.1402 - val_rmse: 1.0823 - val_smape: 132.1898 - learning_rate: 1.9531e-06\n",
      "Epoch 99/200\n",
      "\u001b[1m184/184\u001b[0m \u001b[32m━━━━━━━━━━━━━━━━━━━━\u001b[0m\u001b[37m\u001b[0m \u001b[1m5s\u001b[0m 15ms/step - loss: 0.1011 - mae: 0.3243 - mse: 0.2249 - r2_score: 0.5360 - rmse: 0.4404 - smape: 95.9635 - val_loss: 0.4360 - val_mae: 0.7840 - val_mse: 1.2602 - val_r2_score: -0.1403 - val_rmse: 1.0823 - val_smape: 132.1864 - learning_rate: 1.9531e-06\n",
      "Epoch 100/200\n",
      "\u001b[1m184/184\u001b[0m \u001b[32m━━━━━━━━━━━━━━━━━━━━\u001b[0m\u001b[37m\u001b[0m \u001b[1m3s\u001b[0m 16ms/step - loss: 0.1013 - mae: 0.3227 - mse: 0.2278 - r2_score: 0.5482 - rmse: 0.4368 - smape: 94.9911 - val_loss: 0.4360 - val_mae: 0.7839 - val_mse: 1.2601 - val_r2_score: -0.1401 - val_rmse: 1.0823 - val_smape: 132.1709 - learning_rate: 1.9531e-06\n",
      "Epoch 101/200\n",
      "\u001b[1m184/184\u001b[0m \u001b[32m━━━━━━━━━━━━━━━━━━━━\u001b[0m\u001b[37m\u001b[0m \u001b[1m3s\u001b[0m 16ms/step - loss: 0.0995 - mae: 0.3198 - mse: 0.2218 - r2_score: 0.5438 - rmse: 0.4363 - smape: 95.9452 - val_loss: 0.4360 - val_mae: 0.7840 - val_mse: 1.2602 - val_r2_score: -0.1403 - val_rmse: 1.0823 - val_smape: 132.1815 - learning_rate: 1.9531e-06\n",
      "Epoch 102/200\n",
      "\u001b[1m184/184\u001b[0m \u001b[32m━━━━━━━━━━━━━━━━━━━━\u001b[0m\u001b[37m\u001b[0m \u001b[1m3s\u001b[0m 16ms/step - loss: 0.1017 - mae: 0.3224 - mse: 0.2312 - r2_score: 0.5391 - rmse: 0.4406 - smape: 95.2768 - val_loss: 0.4360 - val_mae: 0.7840 - val_mse: 1.2602 - val_r2_score: -0.1403 - val_rmse: 1.0823 - val_smape: 132.1700 - learning_rate: 1.9531e-06\n",
      "Epoch 103/200\n",
      "\u001b[1m184/184\u001b[0m \u001b[32m━━━━━━━━━━━━━━━━━━━━\u001b[0m\u001b[37m\u001b[0m \u001b[1m3s\u001b[0m 16ms/step - loss: 0.0991 - mae: 0.3177 - mse: 0.2222 - r2_score: 0.5483 - rmse: 0.4348 - smape: 93.8198 - val_loss: 0.4360 - val_mae: 0.7840 - val_mse: 1.2602 - val_r2_score: -0.1404 - val_rmse: 1.0824 - val_smape: 132.1628 - learning_rate: 1.9531e-06\n"
     ]
    },
    {
     "name": "stderr",
     "output_type": "stream",
     "text": [
      "WARNING:root:Malformed experiment 'mlruns'. Detailed error Yaml file 'C:\\Repositories\\ds-lstm-ibov\\mlruns\\mlruns\\meta.yaml' does not exist.\n",
      "Traceback (most recent call last):\n",
      "  File \"c:\\Repositories\\ds-lstm-ibov\\.venv\\Lib\\site-packages\\mlflow\\store\\tracking\\file_store.py\", line 329, in search_experiments\n",
      "    exp = self._get_experiment(exp_id, view_type)\n",
      "          ^^^^^^^^^^^^^^^^^^^^^^^^^^^^^^^^^^^^^^^\n",
      "  File \"c:\\Repositories\\ds-lstm-ibov\\.venv\\Lib\\site-packages\\mlflow\\store\\tracking\\file_store.py\", line 427, in _get_experiment\n",
      "    meta = FileStore._read_yaml(experiment_dir, FileStore.META_DATA_FILE_NAME)\n",
      "           ^^^^^^^^^^^^^^^^^^^^^^^^^^^^^^^^^^^^^^^^^^^^^^^^^^^^^^^^^^^^^^^^^^^\n",
      "  File \"c:\\Repositories\\ds-lstm-ibov\\.venv\\Lib\\site-packages\\mlflow\\store\\tracking\\file_store.py\", line 1373, in _read_yaml\n",
      "    return _read_helper(root, file_name, attempts_remaining=retries)\n",
      "           ^^^^^^^^^^^^^^^^^^^^^^^^^^^^^^^^^^^^^^^^^^^^^^^^^^^^^^^^^\n",
      "  File \"c:\\Repositories\\ds-lstm-ibov\\.venv\\Lib\\site-packages\\mlflow\\store\\tracking\\file_store.py\", line 1366, in _read_helper\n",
      "    result = read_yaml(root, file_name)\n",
      "             ^^^^^^^^^^^^^^^^^^^^^^^^^^\n",
      "  File \"c:\\Repositories\\ds-lstm-ibov\\.venv\\Lib\\site-packages\\mlflow\\utils\\file_utils.py\", line 310, in read_yaml\n",
      "    raise MissingConfigException(f\"Yaml file '{file_path}' does not exist.\")\n",
      "mlflow.exceptions.MissingConfigException: Yaml file 'C:\\Repositories\\ds-lstm-ibov\\mlruns\\mlruns\\meta.yaml' does not exist.\n"
     ]
    },
    {
     "name": "stdout",
     "output_type": "stream",
     "text": [
      "\u001b[32m2025-06-23 09:36:15.948\u001b[0m | \u001b[1mINFO    \u001b[0m | \u001b[36msrc.modeling.train\u001b[0m:\u001b[36mmain\u001b[0m:\u001b[36m70\u001b[0m - \u001b[1mSaving 'Sequential_epoch102_loss0.1278.keras' in 'C:\\Repositories\\ds-lstm-ibov\\models'...\u001b[0m\n"
     ]
    },
    {
     "name": "stderr",
     "output_type": "stream",
     "text": [
      "2025/06/23 09:36:16 WARNING mlflow.keras.save: You are saving a Keras model without specifying model signature.\n",
      "2025/06/23 09:36:33 WARNING mlflow.utils.environment: Encountered an unexpected error while inferring pip requirements (model URI: C:\\Users\\SAMSUNG\\AppData\\Local\\Temp\\tmpk5du9mgn\\model, flavor: keras). Fall back to return ['keras==3.9.2']. Set logging level to DEBUG to see the full traceback. \n",
      "2025/06/23 09:36:33 WARNING mlflow.models.model: Model logged without a signature and input example. Please set `input_example` parameter when logging the model to auto infer the model signature.\n",
      "Registered model 'RegressionSimpleModelBuilder' already exists. Creating a new version of this model...\n",
      "Created version '2' of model 'RegressionSimpleModelBuilder'.\n"
     ]
    },
    {
     "name": "stdout",
     "output_type": "stream",
     "text": [
      "\u001b[32m2025-06-23 09:36:38.289\u001b[0m | \u001b[32m\u001b[1mSUCCESS \u001b[0m | \u001b[36msrc.modeling.train\u001b[0m:\u001b[36mmain\u001b[0m:\u001b[36m88\u001b[0m - \u001b[32m\u001b[1mModeling training complete.\u001b[0m\n",
      "\u001b[32m2025-06-23 09:36:38.289\u001b[0m | \u001b[1mINFO    \u001b[0m | \u001b[36msrc.modeling.train\u001b[0m:\u001b[36mmain\u001b[0m:\u001b[36m91\u001b[0m - \u001b[1mElapsed time: 371.47 seconds\u001b[0m\n"
     ]
    }
   ],
   "source": [
    "from src import config\n",
    "from src.modeling import train\n",
    "\n",
    "train.main(\n",
    "    # ---- REPLACE DEFAULT PATHS AS APPROPRIATE ----\n",
    "    X_path = config.PROCESSED_DATA_DIR / \"X_train.npy\",\n",
    "    y_path = config.PROCESSED_DATA_DIR / \"y_train.npy\",\n",
    "    batch_size = 16,\n",
    "    validation_split = 0.1,\n",
    "    # -----------------------------------------\n",
    ")"
   ]
  },
  {
   "cell_type": "markdown",
   "id": "ab6162b6",
   "metadata": {},
   "source": [
    "## Predict\n",
    "\n",
    "In the prediction stage, the trained model is loaded along with the input data. The model then performs inference, generating predictions based on the provided data.\n"
   ]
  },
  {
   "cell_type": "code",
   "execution_count": 3,
   "id": "55f922aa",
   "metadata": {},
   "outputs": [
    {
     "name": "stdout",
     "output_type": "stream",
     "text": [
      "\u001b[32m2025-06-23 09:36:38.345\u001b[0m | \u001b[1mINFO    \u001b[0m | \u001b[36msrc.modeling.predict\u001b[0m:\u001b[36mmain\u001b[0m:\u001b[36m28\u001b[0m - \u001b[1mPerforming inference for model...\u001b[0m\n",
      "\u001b[32m2025-06-23 09:36:38.404\u001b[0m | \u001b[1mINFO    \u001b[0m | \u001b[36msrc.modeling.predict\u001b[0m:\u001b[36mmain\u001b[0m:\u001b[36m32\u001b[0m - \u001b[1mInput data shape: (101, 50)\u001b[0m\n",
      "\u001b[32m2025-06-23 09:36:38.467\u001b[0m | \u001b[1mINFO    \u001b[0m | \u001b[36msrc.utils.features.generator_strategy\u001b[0m:\u001b[36mgenerate\u001b[0m:\u001b[36m18\u001b[0m - \u001b[1mGenerating Timeseries from dataset...\u001b[0m\n"
     ]
    },
    {
     "name": "stderr",
     "output_type": "stream",
     "text": [
      "c:\\Repositories\\ds-lstm-ibov\\.venv\\Lib\\site-packages\\keras\\src\\trainers\\data_adapters\\py_dataset_adapter.py:121: UserWarning: Your `PyDataset` class should call `super().__init__(**kwargs)` in its constructor. `**kwargs` can include `workers`, `use_multiprocessing`, `max_queue_size`. Do not pass these arguments to `fit()`, as they will be ignored.\n",
      "  self._warn_if_super_not_called()\n"
     ]
    },
    {
     "name": "stdout",
     "output_type": "stream",
     "text": [
      "\u001b[1m81/81\u001b[0m \u001b[32m━━━━━━━━━━━━━━━━━━━━\u001b[0m\u001b[37m\u001b[0m \u001b[1m2s\u001b[0m 7ms/step\n"
     ]
    },
    {
     "ename": "ValueError",
     "evalue": "Length mismatch: Expected axis has 81 elements, new values have 1 elements",
     "output_type": "error",
     "traceback": [
      "\u001b[31m---------------------------------------------------------------------------\u001b[39m",
      "\u001b[31mValueError\u001b[39m                                Traceback (most recent call last)",
      "\u001b[36mCell\u001b[39m\u001b[36m \u001b[39m\u001b[32mIn[3]\u001b[39m\u001b[32m, line 2\u001b[39m\n\u001b[32m      1\u001b[39m \u001b[38;5;28;01mfrom\u001b[39;00m\u001b[38;5;250m \u001b[39m\u001b[34;01msrc\u001b[39;00m\u001b[34;01m.\u001b[39;00m\u001b[34;01mmodeling\u001b[39;00m\u001b[38;5;250m \u001b[39m\u001b[38;5;28;01mimport\u001b[39;00m predict\n\u001b[32m----> \u001b[39m\u001b[32m2\u001b[39m \u001b[43mpredict\u001b[49m\u001b[43m.\u001b[49m\u001b[43mmain\u001b[49m\u001b[43m(\u001b[49m\n\u001b[32m      3\u001b[39m \u001b[43m    \u001b[49m\u001b[38;5;66;43;03m# ---- REPLACE DEFAULT PATHS AS APPROPRIATE ----\u001b[39;49;00m\n\u001b[32m      4\u001b[39m \u001b[43m    \u001b[49m\u001b[43minput_path\u001b[49m\u001b[43m \u001b[49m\u001b[43m=\u001b[49m\u001b[43m \u001b[49m\u001b[43mconfig\u001b[49m\u001b[43m.\u001b[49m\u001b[43mPROCESSED_DATA_DIR\u001b[49m\u001b[43m \u001b[49m\u001b[43m/\u001b[49m\u001b[43m \u001b[49m\u001b[33;43m\"\u001b[39;49m\u001b[33;43mdataset.csv\u001b[39;49m\u001b[33;43m\"\u001b[39;49m\u001b[43m,\u001b[49m\n\u001b[32m      5\u001b[39m \u001b[43m    \u001b[49m\u001b[43mpreprocessor_path\u001b[49m\u001b[43m \u001b[49m\u001b[43m=\u001b[49m\u001b[43m \u001b[49m\u001b[43mconfig\u001b[49m\u001b[43m.\u001b[49m\u001b[43mPROCESSED_DATA_DIR\u001b[49m\u001b[43m \u001b[49m\u001b[43m/\u001b[49m\u001b[43m \u001b[49m\u001b[33;43m\"\u001b[39;49m\u001b[33;43mpreprocessor.pkl\u001b[39;49m\u001b[33;43m\"\u001b[39;49m\u001b[43m,\u001b[49m\n\u001b[32m      6\u001b[39m \u001b[43m    \u001b[49m\u001b[43mmodel_path\u001b[49m\u001b[43m \u001b[49m\u001b[43m=\u001b[49m\u001b[43m \u001b[49m\u001b[43mconfig\u001b[49m\u001b[43m.\u001b[49m\u001b[43mMODELS_DIR\u001b[49m\u001b[43m \u001b[49m\u001b[43m/\u001b[49m\u001b[43m \u001b[49m\u001b[33;43m\"\u001b[39;49m\u001b[33;43mSequential_epoch36_loss0.1808.keras\u001b[39;49m\u001b[33;43m\"\u001b[39;49m\u001b[43m,\u001b[49m\u001b[43m  \u001b[49m\u001b[38;5;66;43;03m# Select the best model  \u001b[39;49;00m\n\u001b[32m      7\u001b[39m \u001b[43m    \u001b[49m\u001b[43mpostprocessor_path\u001b[49m\u001b[43m \u001b[49m\u001b[43m=\u001b[49m\u001b[43m \u001b[49m\u001b[43mconfig\u001b[49m\u001b[43m.\u001b[49m\u001b[43mPROCESSED_DATA_DIR\u001b[49m\u001b[43m \u001b[49m\u001b[43m/\u001b[49m\u001b[43m \u001b[49m\u001b[33;43m\"\u001b[39;49m\u001b[33;43mpostprocessor.pkl\u001b[39;49m\u001b[33;43m\"\u001b[39;49m\u001b[43m,\u001b[49m\n\u001b[32m      8\u001b[39m \u001b[43m    \u001b[49m\u001b[43moutput_path\u001b[49m\u001b[43m \u001b[49m\u001b[43m=\u001b[49m\u001b[43m \u001b[49m\u001b[43mconfig\u001b[49m\u001b[43m.\u001b[49m\u001b[43mPROCESSED_DATA_DIR\u001b[49m\u001b[43m \u001b[49m\u001b[43m/\u001b[49m\u001b[43m \u001b[49m\u001b[33;43m\"\u001b[39;49m\u001b[33;43mdataset_report.csv\u001b[39;49m\u001b[33;43m\"\u001b[39;49m\u001b[43m,\u001b[49m\n\u001b[32m      9\u001b[39m \u001b[43m    \u001b[49m\u001b[38;5;66;43;03m# -----------------------------------------\u001b[39;49;00m\n\u001b[32m     10\u001b[39m \u001b[43m)\u001b[49m\n",
      "\u001b[36mFile \u001b[39m\u001b[32mC:\\Repositories\\ds-lstm-ibov\\src\\modeling\\predict.py:57\u001b[39m, in \u001b[36mmain\u001b[39m\u001b[34m(input_path, preprocessor_path, model_path, postprocessor_path, output_path)\u001b[39m\n\u001b[32m     55\u001b[39m last_index = df.index[-\u001b[32m1\u001b[39m]\n\u001b[32m     56\u001b[39m new_index = last_index + pd.Timedelta(days=\u001b[32m1\u001b[39m)\n\u001b[32m---> \u001b[39m\u001b[32m57\u001b[39m \u001b[43mdf_predicted\u001b[49m\u001b[43m.\u001b[49m\u001b[43mindex\u001b[49m = [new_index]\n\u001b[32m     59\u001b[39m df[\u001b[33m'\u001b[39m\u001b[33mtype\u001b[39m\u001b[33m'\u001b[39m] = \u001b[33m'\u001b[39m\u001b[33mTrue\u001b[39m\u001b[33m'\u001b[39m\n\u001b[32m     60\u001b[39m df_report = pd.concat([df, df_predicted])\n",
      "\u001b[36mFile \u001b[39m\u001b[32mc:\\Repositories\\ds-lstm-ibov\\.venv\\Lib\\site-packages\\pandas\\core\\generic.py:6313\u001b[39m, in \u001b[36mNDFrame.__setattr__\u001b[39m\u001b[34m(self, name, value)\u001b[39m\n\u001b[32m   6311\u001b[39m \u001b[38;5;28;01mtry\u001b[39;00m:\n\u001b[32m   6312\u001b[39m     \u001b[38;5;28mobject\u001b[39m.\u001b[34m__getattribute__\u001b[39m(\u001b[38;5;28mself\u001b[39m, name)\n\u001b[32m-> \u001b[39m\u001b[32m6313\u001b[39m     \u001b[38;5;28;01mreturn\u001b[39;00m \u001b[38;5;28;43mobject\u001b[39;49m\u001b[43m.\u001b[49m\u001b[34;43m__setattr__\u001b[39;49m\u001b[43m(\u001b[49m\u001b[38;5;28;43mself\u001b[39;49m\u001b[43m,\u001b[49m\u001b[43m \u001b[49m\u001b[43mname\u001b[49m\u001b[43m,\u001b[49m\u001b[43m \u001b[49m\u001b[43mvalue\u001b[49m\u001b[43m)\u001b[49m\n\u001b[32m   6314\u001b[39m \u001b[38;5;28;01mexcept\u001b[39;00m \u001b[38;5;167;01mAttributeError\u001b[39;00m:\n\u001b[32m   6315\u001b[39m     \u001b[38;5;28;01mpass\u001b[39;00m\n",
      "\u001b[36mFile \u001b[39m\u001b[32mproperties.pyx:69\u001b[39m, in \u001b[36mpandas._libs.properties.AxisProperty.__set__\u001b[39m\u001b[34m()\u001b[39m\n",
      "\u001b[36mFile \u001b[39m\u001b[32mc:\\Repositories\\ds-lstm-ibov\\.venv\\Lib\\site-packages\\pandas\\core\\generic.py:814\u001b[39m, in \u001b[36mNDFrame._set_axis\u001b[39m\u001b[34m(self, axis, labels)\u001b[39m\n\u001b[32m    809\u001b[39m \u001b[38;5;250m\u001b[39m\u001b[33;03m\"\"\"\u001b[39;00m\n\u001b[32m    810\u001b[39m \u001b[33;03mThis is called from the cython code when we set the `index` attribute\u001b[39;00m\n\u001b[32m    811\u001b[39m \u001b[33;03mdirectly, e.g. `series.index = [1, 2, 3]`.\u001b[39;00m\n\u001b[32m    812\u001b[39m \u001b[33;03m\"\"\"\u001b[39;00m\n\u001b[32m    813\u001b[39m labels = ensure_index(labels)\n\u001b[32m--> \u001b[39m\u001b[32m814\u001b[39m \u001b[38;5;28;43mself\u001b[39;49m\u001b[43m.\u001b[49m\u001b[43m_mgr\u001b[49m\u001b[43m.\u001b[49m\u001b[43mset_axis\u001b[49m\u001b[43m(\u001b[49m\u001b[43maxis\u001b[49m\u001b[43m,\u001b[49m\u001b[43m \u001b[49m\u001b[43mlabels\u001b[49m\u001b[43m)\u001b[49m\n\u001b[32m    815\u001b[39m \u001b[38;5;28mself\u001b[39m._clear_item_cache()\n",
      "\u001b[36mFile \u001b[39m\u001b[32mc:\\Repositories\\ds-lstm-ibov\\.venv\\Lib\\site-packages\\pandas\\core\\internals\\managers.py:238\u001b[39m, in \u001b[36mBaseBlockManager.set_axis\u001b[39m\u001b[34m(self, axis, new_labels)\u001b[39m\n\u001b[32m    236\u001b[39m \u001b[38;5;28;01mdef\u001b[39;00m\u001b[38;5;250m \u001b[39m\u001b[34mset_axis\u001b[39m(\u001b[38;5;28mself\u001b[39m, axis: AxisInt, new_labels: Index) -> \u001b[38;5;28;01mNone\u001b[39;00m:\n\u001b[32m    237\u001b[39m     \u001b[38;5;66;03m# Caller is responsible for ensuring we have an Index object.\u001b[39;00m\n\u001b[32m--> \u001b[39m\u001b[32m238\u001b[39m     \u001b[38;5;28;43mself\u001b[39;49m\u001b[43m.\u001b[49m\u001b[43m_validate_set_axis\u001b[49m\u001b[43m(\u001b[49m\u001b[43maxis\u001b[49m\u001b[43m,\u001b[49m\u001b[43m \u001b[49m\u001b[43mnew_labels\u001b[49m\u001b[43m)\u001b[49m\n\u001b[32m    239\u001b[39m     \u001b[38;5;28mself\u001b[39m.axes[axis] = new_labels\n",
      "\u001b[36mFile \u001b[39m\u001b[32mc:\\Repositories\\ds-lstm-ibov\\.venv\\Lib\\site-packages\\pandas\\core\\internals\\base.py:98\u001b[39m, in \u001b[36mDataManager._validate_set_axis\u001b[39m\u001b[34m(self, axis, new_labels)\u001b[39m\n\u001b[32m     95\u001b[39m     \u001b[38;5;28;01mpass\u001b[39;00m\n\u001b[32m     97\u001b[39m \u001b[38;5;28;01melif\u001b[39;00m new_len != old_len:\n\u001b[32m---> \u001b[39m\u001b[32m98\u001b[39m     \u001b[38;5;28;01mraise\u001b[39;00m \u001b[38;5;167;01mValueError\u001b[39;00m(\n\u001b[32m     99\u001b[39m         \u001b[33mf\u001b[39m\u001b[33m\"\u001b[39m\u001b[33mLength mismatch: Expected axis has \u001b[39m\u001b[38;5;132;01m{\u001b[39;00mold_len\u001b[38;5;132;01m}\u001b[39;00m\u001b[33m elements, new \u001b[39m\u001b[33m\"\u001b[39m\n\u001b[32m    100\u001b[39m         \u001b[33mf\u001b[39m\u001b[33m\"\u001b[39m\u001b[33mvalues have \u001b[39m\u001b[38;5;132;01m{\u001b[39;00mnew_len\u001b[38;5;132;01m}\u001b[39;00m\u001b[33m elements\u001b[39m\u001b[33m\"\u001b[39m\n\u001b[32m    101\u001b[39m     )\n",
      "\u001b[31mValueError\u001b[39m: Length mismatch: Expected axis has 81 elements, new values have 1 elements"
     ]
    }
   ],
   "source": [
    "from src.modeling import predict\n",
    "predict.main(\n",
    "    # ---- REPLACE DEFAULT PATHS AS APPROPRIATE ----\n",
    "    input_path = config.PROCESSED_DATA_DIR / \"dataset.csv\",\n",
    "    preprocessor_path = config.PROCESSED_DATA_DIR / \"preprocessor.pkl\",\n",
    "    model_path = config.MODELS_DIR / \"Sequential_epoch36_loss0.1808.keras\",  # Select the best model  \n",
    "    postprocessor_path = config.PROCESSED_DATA_DIR / \"postprocessor.pkl\",\n",
    "    output_path = config.PROCESSED_DATA_DIR / \"dataset_report.csv\",\n",
    "    # -----------------------------------------\n",
    ")"
   ]
  },
  {
   "cell_type": "markdown",
   "id": "340ef876",
   "metadata": {},
   "source": [
    "## Plot\n",
    "\n",
    "Open the [Power BI Report]((../reports/pbi/amp-fynance.pbip)) and refresh data."
   ]
  }
 ],
 "metadata": {
  "kernelspec": {
   "display_name": ".venv",
   "language": "python",
   "name": "python3"
  },
  "language_info": {
   "codemirror_mode": {
    "name": "ipython",
    "version": 3
   },
   "file_extension": ".py",
   "mimetype": "text/x-python",
   "name": "python",
   "nbconvert_exporter": "python",
   "pygments_lexer": "ipython3",
   "version": "3.12.10"
  }
 },
 "nbformat": 4,
 "nbformat_minor": 5
}
