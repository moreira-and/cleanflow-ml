{
 "cells": [
  {
   "cell_type": "markdown",
   "id": "9f58e5c2",
   "metadata": {},
   "source": [
    "## Import libraries"
   ]
  },
  {
   "cell_type": "code",
   "execution_count": 1,
   "id": "e16446b8",
   "metadata": {},
   "outputs": [
    {
     "name": "stderr",
     "output_type": "stream",
     "text": [
      "\u001b[32m2025-07-09 13:55:59.990\u001b[0m | \u001b[1mINFO    \u001b[0m | \u001b[36msrc.config\u001b[0m:\u001b[36m<module>\u001b[0m:\u001b[36m11\u001b[0m - \u001b[1mPROJ_ROOT path is: C:\\Repositories\\time-series-prediction-rnn\u001b[0m\n"
     ]
    }
   ],
   "source": [
    "import sys\n",
    "import os\n",
    "\n",
    "# Adiciona a pasta raiz do projeto ao sys.path\n",
    "project_root = os.path.abspath(os.path.join(os.getcwd(), '..'))\n",
    "if project_root not in sys.path:\n",
    "    sys.path.insert(0, project_root)\n",
    "\n",
    "import src.config as config\n"
   ]
  },
  {
   "cell_type": "markdown",
   "id": "9bfd6425",
   "metadata": {},
   "source": [
    "## ETL — Extract, Transform, Load of Raw Dataset\n",
    "\n",
    "This section is responsible for the Extraction phase of the ETL process, pulling historical financial data from multiple sources as defined in the configuration file [dataset.yaml](../configs/dataset.yaml).\n",
    "\n",
    "- Data Storage: Each dataset is stored locally in the data/raw/ directory, organized and saved individually as .csv files for traceability and versioning.\n",
    "- Data Cleaning:\n",
    "  - Missing values are treated using a standard cleaning strategy.\n",
    "  - Features with low variance (threshold < 0.01) are removed to reduce noise and improve modeling efficiency. In this execution, no low-variance columns were found."
   ]
  },
  {
   "cell_type": "code",
   "execution_count": 2,
   "id": "7fdcd420",
   "metadata": {},
   "outputs": [
    {
     "name": "stdout",
     "output_type": "stream",
     "text": [
      "\u001b[32m2025-07-09 13:56:03.522\u001b[0m | \u001b[1mINFO    \u001b[0m | \u001b[36msrc.dataset\u001b[0m:\u001b[36mmain\u001b[0m:\u001b[36m33\u001b[0m - \u001b[1mStarting raw data loading...\u001b[0m\n",
      "\u001b[32m2025-07-09 13:56:03.523\u001b[0m | \u001b[1mINFO    \u001b[0m | \u001b[36msrc.dataset\u001b[0m:\u001b[36mmain\u001b[0m:\u001b[36m39\u001b[0m - \u001b[1mRequesting information between 2022-07-10 and 2025-07-09\u001b[0m\n",
      "\u001b[32m2025-07-09 13:56:03.529\u001b[0m | \u001b[1mINFO    \u001b[0m | \u001b[36msrc.utils.dataset.dataset_loading_strategy\u001b[0m:\u001b[36m_load_from_yfinance\u001b[0m:\u001b[36m56\u001b[0m - \u001b[1mDownloading BOVESPA (^BVSP) from yfinance...\u001b[0m\n"
     ]
    },
    {
     "name": "stderr",
     "output_type": "stream",
     "text": [
      "[*********************100%***********************]  1 of 1 completed\n"
     ]
    },
    {
     "name": "stdout",
     "output_type": "stream",
     "text": [
      "\u001b[32m2025-07-09 13:56:06.571\u001b[0m | \u001b[1mINFO    \u001b[0m | \u001b[36msrc.utils.dataset.dataset_loading_strategy\u001b[0m:\u001b[36m_load_from_yfinance\u001b[0m:\u001b[36m56\u001b[0m - \u001b[1mDownloading S&P500 (^GSPC) from yfinance...\u001b[0m\n"
     ]
    },
    {
     "name": "stderr",
     "output_type": "stream",
     "text": [
      "[*********************100%***********************]  1 of 1 completed\n"
     ]
    },
    {
     "name": "stdout",
     "output_type": "stream",
     "text": [
      "\u001b[32m2025-07-09 13:56:09.077\u001b[0m | \u001b[1mINFO    \u001b[0m | \u001b[36msrc.utils.dataset.dataset_loading_strategy\u001b[0m:\u001b[36m_load_from_yfinance\u001b[0m:\u001b[36m56\u001b[0m - \u001b[1mDownloading BITCOIN (BTC-USD) from yfinance...\u001b[0m\n"
     ]
    },
    {
     "name": "stderr",
     "output_type": "stream",
     "text": [
      "[*********************100%***********************]  1 of 1 completed\n"
     ]
    },
    {
     "name": "stdout",
     "output_type": "stream",
     "text": [
      "\u001b[32m2025-07-09 13:56:11.639\u001b[0m | \u001b[1mINFO    \u001b[0m | \u001b[36msrc.utils.dataset.dataset_loading_strategy\u001b[0m:\u001b[36m_load_from_yfinance\u001b[0m:\u001b[36m56\u001b[0m - \u001b[1mDownloading OURO (GC=F) from yfinance...\u001b[0m\n"
     ]
    },
    {
     "name": "stderr",
     "output_type": "stream",
     "text": [
      "[*********************100%***********************]  1 of 1 completed\n"
     ]
    },
    {
     "name": "stdout",
     "output_type": "stream",
     "text": [
      "\u001b[32m2025-07-09 13:56:14.040\u001b[0m | \u001b[1mINFO    \u001b[0m | \u001b[36msrc.utils.dataset.dataset_loading_strategy\u001b[0m:\u001b[36m_load_from_yfinance\u001b[0m:\u001b[36m56\u001b[0m - \u001b[1mDownloading PETROLEO (CL=F) from yfinance...\u001b[0m\n"
     ]
    },
    {
     "name": "stderr",
     "output_type": "stream",
     "text": [
      "[*********************100%***********************]  1 of 1 completed\n"
     ]
    },
    {
     "name": "stdout",
     "output_type": "stream",
     "text": [
      "\u001b[32m2025-07-09 13:56:16.438\u001b[0m | \u001b[1mINFO    \u001b[0m | \u001b[36msrc.utils.dataset.dataset_loading_strategy\u001b[0m:\u001b[36m_load_from_yfinance\u001b[0m:\u001b[36m56\u001b[0m - \u001b[1mDownloading ACUCAR (SB=F) from yfinance...\u001b[0m\n"
     ]
    },
    {
     "name": "stderr",
     "output_type": "stream",
     "text": [
      "[*********************100%***********************]  1 of 1 completed\n"
     ]
    },
    {
     "name": "stdout",
     "output_type": "stream",
     "text": [
      "\u001b[32m2025-07-09 13:56:19.031\u001b[0m | \u001b[1mINFO    \u001b[0m | \u001b[36msrc.utils.dataset.dataset_loading_strategy\u001b[0m:\u001b[36mload\u001b[0m:\u001b[36m81\u001b[0m - \u001b[1mDownloading SELIC (11) from the Central Bank of Brazil API...\u001b[0m\n",
      "\u001b[32m2025-07-09 13:56:23.661\u001b[0m | \u001b[1mINFO    \u001b[0m | \u001b[36msrc.utils.dataset.dataset_loading_strategy\u001b[0m:\u001b[36mload\u001b[0m:\u001b[36m81\u001b[0m - \u001b[1mDownloading CDI (12) from the Central Bank of Brazil API...\u001b[0m\n",
      "\u001b[32m2025-07-09 13:56:28.452\u001b[0m | \u001b[1mINFO    \u001b[0m | \u001b[36msrc.utils.dataset.dataset_loading_strategy\u001b[0m:\u001b[36mload\u001b[0m:\u001b[36m81\u001b[0m - \u001b[1mDownloading SELIC_Anual (1178) from the Central Bank of Brazil API...\u001b[0m\n",
      "\u001b[32m2025-07-09 13:56:33.334\u001b[0m | \u001b[1mINFO    \u001b[0m | \u001b[36msrc.utils.dataset.dataset_loading_strategy\u001b[0m:\u001b[36mload\u001b[0m:\u001b[36m81\u001b[0m - \u001b[1mDownloading SELIC_Meta_Anual (432) from the Central Bank of Brazil API...\u001b[0m\n",
      "\u001b[32m2025-07-09 13:56:40.356\u001b[0m | \u001b[1mINFO    \u001b[0m | \u001b[36msrc.utils.dataset.dataset_loading_strategy\u001b[0m:\u001b[36mload\u001b[0m:\u001b[36m81\u001b[0m - \u001b[1mDownloading IPCA_Mensal (433) from the Central Bank of Brazil API...\u001b[0m\n",
      "\u001b[32m2025-07-09 13:56:42.801\u001b[0m | \u001b[1mINFO    \u001b[0m | \u001b[36msrc.utils.dataset.dataset_loading_strategy\u001b[0m:\u001b[36mload\u001b[0m:\u001b[36m81\u001b[0m - \u001b[1mDownloading IGP_M_Mensal (189) from the Central Bank of Brazil API...\u001b[0m\n",
      "\u001b[32m2025-07-09 13:56:45.258\u001b[0m | \u001b[1mINFO    \u001b[0m | \u001b[36msrc.utils.dataset.dataset_loading_strategy\u001b[0m:\u001b[36mload\u001b[0m:\u001b[36m81\u001b[0m - \u001b[1mDownloading INCC_Mensal (192) from the Central Bank of Brazil API...\u001b[0m\n",
      "\u001b[32m2025-07-09 13:56:47.697\u001b[0m | \u001b[1mINFO    \u001b[0m | \u001b[36msrc.utils.dataset.dataset_loading_strategy\u001b[0m:\u001b[36mload\u001b[0m:\u001b[36m81\u001b[0m - \u001b[1mDownloading Indice_Condicoes_Econ_BR (27574) from the Central Bank of Brazil API...\u001b[0m\n",
      "\u001b[32m2025-07-09 13:56:50.741\u001b[0m | \u001b[1mINFO    \u001b[0m | \u001b[36msrc.utils.dataset.dataset_loading_strategy\u001b[0m:\u001b[36mload\u001b[0m:\u001b[36m81\u001b[0m - \u001b[1mDownloading Indice_Condicoes_Econ_BR_USD (29042) from the Central Bank of Brazil API...\u001b[0m\n",
      "\u001b[32m2025-07-09 13:56:54.313\u001b[0m | \u001b[1mINFO    \u001b[0m | \u001b[36msrc.utils.dataset.dataset_loading_strategy\u001b[0m:\u001b[36mload\u001b[0m:\u001b[36m81\u001b[0m - \u001b[1mDownloading Salario_Minimo (1619) from the Central Bank of Brazil API...\u001b[0m\n",
      "\u001b[32m2025-07-09 13:56:56.889\u001b[0m | \u001b[1mINFO    \u001b[0m | \u001b[36msrc.utils.dataset.dataset_loading_strategy\u001b[0m:\u001b[36mload\u001b[0m:\u001b[36m81\u001b[0m - \u001b[1mDownloading IBC_BR (24363) from the Central Bank of Brazil API...\u001b[0m\n",
      "\u001b[32m2025-07-09 13:56:59.305\u001b[0m | \u001b[1mINFO    \u001b[0m | \u001b[36msrc.utils.dataset.dataset_loading_strategy\u001b[0m:\u001b[36mload\u001b[0m:\u001b[36m81\u001b[0m - \u001b[1mDownloading Populacao_BR (21774) from the Central Bank of Brazil API...\u001b[0m\n",
      "\u001b[32m2025-07-09 13:57:01.646\u001b[0m | \u001b[1mINFO    \u001b[0m | \u001b[36msrc.utils.dataset.dataset_loading_strategy\u001b[0m:\u001b[36mload\u001b[0m:\u001b[36m81\u001b[0m - \u001b[1mDownloading PIB_Trimestral_Real (4380) from the Central Bank of Brazil API...\u001b[0m\n",
      "\u001b[32m2025-07-09 13:57:04.174\u001b[0m | \u001b[1mINFO    \u001b[0m | \u001b[36msrc.utils.dataset.dataset_loading_strategy\u001b[0m:\u001b[36mload\u001b[0m:\u001b[36m81\u001b[0m - \u001b[1mDownloading PIB_Anual_Corrente (7326) from the Central Bank of Brazil API...\u001b[0m\n",
      "\u001b[32m2025-07-09 13:57:06.774\u001b[0m | \u001b[1mINFO    \u001b[0m | \u001b[36msrc.utils.dataset.dataset_loading_strategy\u001b[0m:\u001b[36mload\u001b[0m:\u001b[36m81\u001b[0m - \u001b[1mDownloading Deflator_Implicito_PIB (1211) from the Central Bank of Brazil API...\u001b[0m\n",
      "\u001b[32m2025-07-09 13:57:09.151\u001b[0m | \u001b[1mINFO    \u001b[0m | \u001b[36msrc.utils.dataset.dataset_loading_strategy\u001b[0m:\u001b[36mload\u001b[0m:\u001b[36m136\u001b[0m - \u001b[1mDownloading BRL_USD (DEXBZUS) from DataReader...\u001b[0m\n",
      "\u001b[32m2025-07-09 13:57:19.649\u001b[0m | \u001b[1mINFO    \u001b[0m | \u001b[36msrc.utils.dataset.dataset_loading_strategy\u001b[0m:\u001b[36mload\u001b[0m:\u001b[36m136\u001b[0m - \u001b[1mDownloading CPI_USA (CPIAUCSL) from DataReader...\u001b[0m\n",
      "\u001b[32m2025-07-09 13:57:22.169\u001b[0m | \u001b[1mINFO    \u001b[0m | \u001b[36msrc.dataset\u001b[0m:\u001b[36mmain\u001b[0m:\u001b[36m58\u001b[0m - \u001b[1mSaved Yfinance_BOVESPA dataset to C:\\Repositories\\time-series-prediction-rnn\\data\\raw\\Yfinance_BOVESPA.csv\u001b[0m\n",
      "\u001b[32m2025-07-09 13:57:22.182\u001b[0m | \u001b[1mINFO    \u001b[0m | \u001b[36msrc.dataset\u001b[0m:\u001b[36mmain\u001b[0m:\u001b[36m58\u001b[0m - \u001b[1mSaved Yfinance_S&P500 dataset to C:\\Repositories\\time-series-prediction-rnn\\data\\raw\\Yfinance_S&P500.csv\u001b[0m\n",
      "\u001b[32m2025-07-09 13:57:22.197\u001b[0m | \u001b[1mINFO    \u001b[0m | \u001b[36msrc.dataset\u001b[0m:\u001b[36mmain\u001b[0m:\u001b[36m58\u001b[0m - \u001b[1mSaved Yfinance_BITCOIN dataset to C:\\Repositories\\time-series-prediction-rnn\\data\\raw\\Yfinance_BITCOIN.csv\u001b[0m\n",
      "\u001b[32m2025-07-09 13:57:22.205\u001b[0m | \u001b[1mINFO    \u001b[0m | \u001b[36msrc.dataset\u001b[0m:\u001b[36mmain\u001b[0m:\u001b[36m58\u001b[0m - \u001b[1mSaved Yfinance_OURO dataset to C:\\Repositories\\time-series-prediction-rnn\\data\\raw\\Yfinance_OURO.csv\u001b[0m\n",
      "\u001b[32m2025-07-09 13:57:22.218\u001b[0m | \u001b[1mINFO    \u001b[0m | \u001b[36msrc.dataset\u001b[0m:\u001b[36mmain\u001b[0m:\u001b[36m58\u001b[0m - \u001b[1mSaved Yfinance_PETROLEO dataset to C:\\Repositories\\time-series-prediction-rnn\\data\\raw\\Yfinance_PETROLEO.csv\u001b[0m\n",
      "\u001b[32m2025-07-09 13:57:22.231\u001b[0m | \u001b[1mINFO    \u001b[0m | \u001b[36msrc.dataset\u001b[0m:\u001b[36mmain\u001b[0m:\u001b[36m58\u001b[0m - \u001b[1mSaved Yfinance_ACUCAR dataset to C:\\Repositories\\time-series-prediction-rnn\\data\\raw\\Yfinance_ACUCAR.csv\u001b[0m\n",
      "\u001b[32m2025-07-09 13:57:22.236\u001b[0m | \u001b[1mINFO    \u001b[0m | \u001b[36msrc.dataset\u001b[0m:\u001b[36mmain\u001b[0m:\u001b[36m58\u001b[0m - \u001b[1mSaved Bcb_SELIC dataset to C:\\Repositories\\time-series-prediction-rnn\\data\\raw\\Bcb_SELIC.csv\u001b[0m\n",
      "\u001b[32m2025-07-09 13:57:22.244\u001b[0m | \u001b[1mINFO    \u001b[0m | \u001b[36msrc.dataset\u001b[0m:\u001b[36mmain\u001b[0m:\u001b[36m58\u001b[0m - \u001b[1mSaved Bcb_CDI dataset to C:\\Repositories\\time-series-prediction-rnn\\data\\raw\\Bcb_CDI.csv\u001b[0m\n",
      "\u001b[32m2025-07-09 13:57:22.249\u001b[0m | \u001b[1mINFO    \u001b[0m | \u001b[36msrc.dataset\u001b[0m:\u001b[36mmain\u001b[0m:\u001b[36m58\u001b[0m - \u001b[1mSaved Bcb_SELIC_Anual dataset to C:\\Repositories\\time-series-prediction-rnn\\data\\raw\\Bcb_SELIC_Anual.csv\u001b[0m\n",
      "\u001b[32m2025-07-09 13:57:22.254\u001b[0m | \u001b[1mINFO    \u001b[0m | \u001b[36msrc.dataset\u001b[0m:\u001b[36mmain\u001b[0m:\u001b[36m58\u001b[0m - \u001b[1mSaved Bcb_SELIC_Meta_Anual dataset to C:\\Repositories\\time-series-prediction-rnn\\data\\raw\\Bcb_SELIC_Meta_Anual.csv\u001b[0m\n",
      "\u001b[32m2025-07-09 13:57:22.261\u001b[0m | \u001b[1mINFO    \u001b[0m | \u001b[36msrc.dataset\u001b[0m:\u001b[36mmain\u001b[0m:\u001b[36m58\u001b[0m - \u001b[1mSaved Bcb_IPCA_Mensal dataset to C:\\Repositories\\time-series-prediction-rnn\\data\\raw\\Bcb_IPCA_Mensal.csv\u001b[0m\n",
      "\u001b[32m2025-07-09 13:57:22.265\u001b[0m | \u001b[1mINFO    \u001b[0m | \u001b[36msrc.dataset\u001b[0m:\u001b[36mmain\u001b[0m:\u001b[36m58\u001b[0m - \u001b[1mSaved Bcb_IGP_M_Mensal dataset to C:\\Repositories\\time-series-prediction-rnn\\data\\raw\\Bcb_IGP_M_Mensal.csv\u001b[0m\n",
      "\u001b[32m2025-07-09 13:57:22.268\u001b[0m | \u001b[1mINFO    \u001b[0m | \u001b[36msrc.dataset\u001b[0m:\u001b[36mmain\u001b[0m:\u001b[36m58\u001b[0m - \u001b[1mSaved Bcb_INCC_Mensal dataset to C:\\Repositories\\time-series-prediction-rnn\\data\\raw\\Bcb_INCC_Mensal.csv\u001b[0m\n",
      "\u001b[32m2025-07-09 13:57:22.271\u001b[0m | \u001b[1mINFO    \u001b[0m | \u001b[36msrc.dataset\u001b[0m:\u001b[36mmain\u001b[0m:\u001b[36m58\u001b[0m - \u001b[1mSaved Bcb_Indice_Condicoes_Econ_BR dataset to C:\\Repositories\\time-series-prediction-rnn\\data\\raw\\Bcb_Indice_Condicoes_Econ_BR.csv\u001b[0m\n",
      "\u001b[32m2025-07-09 13:57:22.276\u001b[0m | \u001b[1mINFO    \u001b[0m | \u001b[36msrc.dataset\u001b[0m:\u001b[36mmain\u001b[0m:\u001b[36m58\u001b[0m - \u001b[1mSaved Bcb_Indice_Condicoes_Econ_BR_USD dataset to C:\\Repositories\\time-series-prediction-rnn\\data\\raw\\Bcb_Indice_Condicoes_Econ_BR_USD.csv\u001b[0m\n",
      "\u001b[32m2025-07-09 13:57:22.280\u001b[0m | \u001b[1mINFO    \u001b[0m | \u001b[36msrc.dataset\u001b[0m:\u001b[36mmain\u001b[0m:\u001b[36m58\u001b[0m - \u001b[1mSaved Bcb_Salario_Minimo dataset to C:\\Repositories\\time-series-prediction-rnn\\data\\raw\\Bcb_Salario_Minimo.csv\u001b[0m\n",
      "\u001b[32m2025-07-09 13:57:22.283\u001b[0m | \u001b[1mINFO    \u001b[0m | \u001b[36msrc.dataset\u001b[0m:\u001b[36mmain\u001b[0m:\u001b[36m58\u001b[0m - \u001b[1mSaved Bcb_IBC_BR dataset to C:\\Repositories\\time-series-prediction-rnn\\data\\raw\\Bcb_IBC_BR.csv\u001b[0m\n",
      "\u001b[32m2025-07-09 13:57:22.286\u001b[0m | \u001b[1mINFO    \u001b[0m | \u001b[36msrc.dataset\u001b[0m:\u001b[36mmain\u001b[0m:\u001b[36m58\u001b[0m - \u001b[1mSaved Bcb_Populacao_BR dataset to C:\\Repositories\\time-series-prediction-rnn\\data\\raw\\Bcb_Populacao_BR.csv\u001b[0m\n",
      "\u001b[32m2025-07-09 13:57:22.289\u001b[0m | \u001b[1mINFO    \u001b[0m | \u001b[36msrc.dataset\u001b[0m:\u001b[36mmain\u001b[0m:\u001b[36m58\u001b[0m - \u001b[1mSaved Bcb_PIB_Trimestral_Real dataset to C:\\Repositories\\time-series-prediction-rnn\\data\\raw\\Bcb_PIB_Trimestral_Real.csv\u001b[0m\n",
      "\u001b[32m2025-07-09 13:57:22.295\u001b[0m | \u001b[1mINFO    \u001b[0m | \u001b[36msrc.dataset\u001b[0m:\u001b[36mmain\u001b[0m:\u001b[36m58\u001b[0m - \u001b[1mSaved Bcb_PIB_Anual_Corrente dataset to C:\\Repositories\\time-series-prediction-rnn\\data\\raw\\Bcb_PIB_Anual_Corrente.csv\u001b[0m\n",
      "\u001b[32m2025-07-09 13:57:22.299\u001b[0m | \u001b[1mINFO    \u001b[0m | \u001b[36msrc.dataset\u001b[0m:\u001b[36mmain\u001b[0m:\u001b[36m58\u001b[0m - \u001b[1mSaved Bcb_Deflator_Implicito_PIB dataset to C:\\Repositories\\time-series-prediction-rnn\\data\\raw\\Bcb_Deflator_Implicito_PIB.csv\u001b[0m\n",
      "\u001b[32m2025-07-09 13:57:22.303\u001b[0m | \u001b[1mINFO    \u001b[0m | \u001b[36msrc.dataset\u001b[0m:\u001b[36mmain\u001b[0m:\u001b[36m58\u001b[0m - \u001b[1mSaved DataReader_BRL_USD dataset to C:\\Repositories\\time-series-prediction-rnn\\data\\raw\\DataReader_BRL_USD.csv\u001b[0m\n",
      "\u001b[32m2025-07-09 13:57:22.307\u001b[0m | \u001b[1mINFO    \u001b[0m | \u001b[36msrc.dataset\u001b[0m:\u001b[36mmain\u001b[0m:\u001b[36m58\u001b[0m - \u001b[1mSaved DataReader_CPI_USA dataset to C:\\Repositories\\time-series-prediction-rnn\\data\\raw\\DataReader_CPI_USA.csv\u001b[0m\n"
     ]
    },
    {
     "name": "stderr",
     "output_type": "stream",
     "text": [
      "INFO:src.utils.dataset.clean_strategy:Executing CleanMissingValues...\n",
      "INFO:src.utils.dataset.clean_strategy:Executing CleanLowVariance with threshold=0.01...\n",
      "INFO:src.utils.dataset.clean_strategy:Columns removed due to low variance: Index([], dtype='object')\n",
      "c:\\Repositories\\time-series-prediction-rnn\\.venv\\Lib\\site-packages\\sklearn\\utils\\validation.py:1408: DataConversionWarning: A column-vector y was passed when a 1d array was expected. Please change the shape of y to (n_samples, ), for example using ravel().\n",
      "  y = column_or_1d(y, warn=True)\n",
      "c:\\Repositories\\time-series-prediction-rnn\\.venv\\Lib\\site-packages\\sklearn\\feature_selection\\_univariate_selection.py:108: RuntimeWarning: invalid value encountered in divide\n",
      "  msw = sswn / float(dfwn)\n",
      "INFO:src.utils.dataset.clean_strategy:Columns removed by f_classif: ['INCC_Mensal']\n",
      "c:\\Repositories\\time-series-prediction-rnn\\.venv\\Lib\\site-packages\\sklearn\\utils\\validation.py:1408: DataConversionWarning: A column-vector y was passed when a 1d array was expected. Please change the shape of y to (n_samples, ), for example using ravel().\n",
      "  y = column_or_1d(y, warn=True)\n",
      "INFO:src.utils.dataset.clean_strategy:Columns removed by f_regression: ['Volume_SB=F']\n"
     ]
    },
    {
     "name": "stdout",
     "output_type": "stream",
     "text": [
      "            Close_^BVSP  High_^BVSP  Low_^BVSP  Open_^BVSP  Volume_^BVSP  \\\n",
      "2025-07-03     140928.0    141304.0   139051.0    139051.0     6082200.0   \n",
      "2025-07-04     141478.0    141537.0   140597.0    140928.0     2114300.0   \n",
      "2025-07-05          NaN         NaN        NaN         NaN           NaN   \n",
      "2025-07-06          NaN         NaN        NaN         NaN           NaN   \n",
      "2025-07-07     139490.0    141342.0   139295.0    141265.0     6117300.0   \n",
      "2025-07-08     139303.0    139591.0   138770.0    139491.0     6750100.0   \n",
      "2025-07-09          NaN         NaN        NaN         NaN           NaN   \n",
      "\n",
      "            Close_^GSPC   High_^GSPC    Low_^GSPC   Open_^GSPC  Volume_^GSPC  \\\n",
      "2025-07-03  6279.350098  6284.649902  6246.459961  6246.459961  3.378110e+09   \n",
      "2025-07-04          NaN          NaN          NaN          NaN           NaN   \n",
      "2025-07-05          NaN          NaN          NaN          NaN           NaN   \n",
      "2025-07-06          NaN          NaN          NaN          NaN           NaN   \n",
      "2025-07-07  6229.979980  6262.069824  6201.000000  6259.040039  5.236740e+09   \n",
      "2025-07-08  6225.520020  6242.700195  6217.750000  6234.029785  5.739030e+09   \n",
      "2025-07-09          NaN          NaN          NaN          NaN           NaN   \n",
      "\n",
      "            ...  Indice_Condicoes_Econ_BR  Indice_Condicoes_Econ_BR_USD  \\\n",
      "2025-07-03  ...                       NaN                           NaN   \n",
      "2025-07-04  ...                       NaN                           NaN   \n",
      "2025-07-05  ...                       NaN                           NaN   \n",
      "2025-07-06  ...                       NaN                           NaN   \n",
      "2025-07-07  ...                       NaN                           NaN   \n",
      "2025-07-08  ...                       NaN                           NaN   \n",
      "2025-07-09  ...                       NaN                           NaN   \n",
      "\n",
      "            Salario_Minimo  IBC_BR  Populacao_BR  PIB_Trimestral_Real  \\\n",
      "2025-07-03             NaN     NaN           NaN                  NaN   \n",
      "2025-07-04             NaN     NaN           NaN                  NaN   \n",
      "2025-07-05             NaN     NaN           NaN                  NaN   \n",
      "2025-07-06             NaN     NaN           NaN                  NaN   \n",
      "2025-07-07             NaN     NaN           NaN                  NaN   \n",
      "2025-07-08             NaN     NaN           NaN                  NaN   \n",
      "2025-07-09             NaN     NaN           NaN                  NaN   \n",
      "\n",
      "            PIB_Anual_Corrente  Deflator_Implicito_PIB  DEXBZUS  CPIAUCSL  \n",
      "2025-07-03                 NaN                     NaN   5.4178       NaN  \n",
      "2025-07-04                 NaN                     NaN      NaN       NaN  \n",
      "2025-07-05                 NaN                     NaN      NaN       NaN  \n",
      "2025-07-06                 NaN                     NaN      NaN       NaN  \n",
      "2025-07-07                 NaN                     NaN      NaN       NaN  \n",
      "2025-07-08                 NaN                     NaN      NaN       NaN  \n",
      "2025-07-09                 NaN                     NaN      NaN       NaN  \n",
      "\n",
      "[7 rows x 47 columns]\n",
      "\u001b[32m2025-07-09 13:57:22.468\u001b[0m | \u001b[32m\u001b[1mSUCCESS \u001b[0m | \u001b[36msrc.dataset\u001b[0m:\u001b[36mmain\u001b[0m:\u001b[36m69\u001b[0m - \u001b[32m\u001b[1mRaw data successfully loaded...\u001b[0m\n",
      "            Close_^BVSP  High_^BVSP  Low_^BVSP  Open_^BVSP  Volume_^BVSP  \\\n",
      "2025-06-30     0.014532    0.013804  -0.000286   -0.001809      0.229930   \n",
      "2025-07-01     0.004998    0.004256   0.017775    0.014540     -0.173769   \n",
      "2025-07-02    -0.003569    0.002534  -0.003392    0.005264      0.388641   \n",
      "2025-07-03     0.013499    0.008961   0.004820   -0.003833     -0.309774   \n",
      "2025-07-04     0.003903    0.001649   0.011118    0.013499     -0.652379   \n",
      "2025-07-07    -0.014052   -0.001378  -0.009261    0.002391      1.893298   \n",
      "2025-07-08    -0.001341   -0.012388  -0.003769   -0.012558      0.103444   \n",
      "\n",
      "            Close_^GSPC  High_^GSPC  Low_^GSPC  Open_^GSPC  Volume_^GSPC  ...  \\\n",
      "2025-06-30     0.005164    0.004428   0.006950    0.006936     -0.266999  ...   \n",
      "2025-07-01    -0.001119   -0.000692   0.000486   -0.000987      0.085149  ...   \n",
      "2025-07-02     0.004745    0.002708   0.001670    0.001072     -0.100330  ...   \n",
      "2025-07-03     0.008339    0.009161   0.009400    0.008489     -0.401650  ...   \n",
      "2025-07-04     0.000000    0.000000   0.000000    0.000000      0.000000  ...   \n",
      "2025-07-07    -0.007862   -0.003593  -0.007278    0.002014      0.550198  ...   \n",
      "2025-07-08    -0.000716   -0.003093   0.002701   -0.003996      0.095917  ...   \n",
      "\n",
      "            Indice_Condicoes_Econ_BR  Indice_Condicoes_Econ_BR_USD  \\\n",
      "2025-06-30                       0.0                           0.0   \n",
      "2025-07-01                       0.0                           0.0   \n",
      "2025-07-02                       0.0                           0.0   \n",
      "2025-07-03                       0.0                           0.0   \n",
      "2025-07-04                       0.0                           0.0   \n",
      "2025-07-07                       0.0                           0.0   \n",
      "2025-07-08                       0.0                           0.0   \n",
      "\n",
      "            Salario_Minimo  IBC_BR  Populacao_BR  PIB_Trimestral_Real  \\\n",
      "2025-06-30             0.0     0.0           0.0                  0.0   \n",
      "2025-07-01             0.0     0.0           0.0                  0.0   \n",
      "2025-07-02             0.0     0.0           0.0                  0.0   \n",
      "2025-07-03             0.0     0.0           0.0                  0.0   \n",
      "2025-07-04             0.0     0.0           0.0                  0.0   \n",
      "2025-07-07             0.0     0.0           0.0                  0.0   \n",
      "2025-07-08             0.0     0.0           0.0                  0.0   \n",
      "\n",
      "            PIB_Anual_Corrente  Deflator_Implicito_PIB   DEXBZUS  CPIAUCSL  \n",
      "2025-06-30                 0.0                     0.0 -0.009252       0.0  \n",
      "2025-07-01                 0.0                     0.0  0.005433       0.0  \n",
      "2025-07-02                 0.0                     0.0 -0.005551       0.0  \n",
      "2025-07-03                 0.0                     0.0 -0.001989       0.0  \n",
      "2025-07-04                 0.0                     0.0  0.000000       0.0  \n",
      "2025-07-07                 0.0                     0.0  0.000000       0.0  \n",
      "2025-07-08                 0.0                     0.0  0.000000       0.0  \n",
      "\n",
      "[7 rows x 47 columns]\n",
      "            Close_^BVSP  Volume_^BVSP  Volume_^GSPC  Volume_BTC-USD  \\\n",
      "2025-06-30     0.014532      0.229930     -0.266999       -0.072516   \n",
      "2025-07-01     0.004998     -0.173769      0.085149        0.048637   \n",
      "2025-07-02    -0.003569      0.388641     -0.100330        0.275171   \n",
      "2025-07-03     0.013499     -0.309774     -0.401650       -0.102294   \n",
      "2025-07-04     0.003903     -0.652379      0.000000       -0.156022   \n",
      "2025-07-07    -0.014052      1.893298      0.550198        0.065685   \n",
      "2025-07-08    -0.001341      0.103444      0.095917       -0.024958   \n",
      "\n",
      "            Volume_GC=F  Volume_CL=F  IPCA_Mensal  IGP_M_Mensal  \n",
      "2025-06-30     3.373239    -0.181963          0.0           0.0  \n",
      "2025-07-01    -0.701288    -0.000657          0.0           0.0  \n",
      "2025-07-02    -0.894879     0.372941          0.0           0.0  \n",
      "2025-07-03    -1.000000    -1.000000          0.0           0.0  \n",
      "2025-07-04     0.000000     0.000000          0.0           0.0  \n",
      "2025-07-07     0.000000     0.000000          0.0           0.0  \n",
      "2025-07-08     0.000000     0.000000          0.0           0.0  \n",
      "            Close_^BVSP  Volume_^BVSP  Volume_^GSPC  Volume_BTC-USD  \\\n",
      "2025-06-30     0.014532      0.229930     -0.266999       -0.072516   \n",
      "2025-07-01     0.004998     -0.173769      0.085149        0.048637   \n",
      "2025-07-02    -0.003569      0.388641     -0.100330        0.275171   \n",
      "2025-07-03     0.013499     -0.309774     -0.401650       -0.102294   \n",
      "2025-07-04     0.003903     -0.652379      0.000000       -0.156022   \n",
      "2025-07-07    -0.014052      1.893298      0.550198        0.065685   \n",
      "2025-07-08    -0.001341      0.103444      0.095917       -0.024958   \n",
      "\n",
      "            Volume_GC=F  Volume_CL=F  IPCA_Mensal  IGP_M_Mensal month_name  \\\n",
      "2025-06-30     3.373239    -0.181963          0.0           0.0       June   \n",
      "2025-07-01    -0.701288    -0.000657          0.0           0.0       July   \n",
      "2025-07-02    -0.894879     0.372941          0.0           0.0       July   \n",
      "2025-07-03    -1.000000    -1.000000          0.0           0.0       July   \n",
      "2025-07-04     0.000000     0.000000          0.0           0.0       July   \n",
      "2025-07-07     0.000000     0.000000          0.0           0.0       July   \n",
      "2025-07-08     0.000000     0.000000          0.0           0.0       July   \n",
      "\n",
      "            week_of_month day_of_week  is_weekend  is_holiday  \n",
      "2025-06-30              6      Monday           0           0  \n",
      "2025-07-01              1     Tuesday           0           0  \n",
      "2025-07-02              1   Wednesday           0           0  \n",
      "2025-07-03              1    Thursday           0           0  \n",
      "2025-07-04              1      Friday           0           0  \n",
      "2025-07-07              2      Monday           0           0  \n",
      "2025-07-08              2     Tuesday           0           0  \n",
      "\u001b[32m2025-07-09 13:57:22.994\u001b[0m | \u001b[32m\u001b[1mSUCCESS \u001b[0m | \u001b[36msrc.dataset\u001b[0m:\u001b[36mmain\u001b[0m:\u001b[36m109\u001b[0m - \u001b[32m\u001b[1mClean data successfully loaded...\u001b[0m\n",
      "\u001b[32m2025-07-09 13:57:22.994\u001b[0m | \u001b[1mINFO    \u001b[0m | \u001b[36msrc.dataset\u001b[0m:\u001b[36mmain\u001b[0m:\u001b[36m113\u001b[0m - \u001b[1mTotal time taken: 79.47 seconds\u001b[0m\n"
     ]
    }
   ],
   "source": [
    "from src import dataset\n",
    "\n",
    "dataset.main(\n",
    "    # ---- REPLACE DEFAULT AS APPROPRIATE ----\n",
    "    asset = '^BVSP',\n",
    "    asset_focus = 'Close',\n",
    "    years = 3\n",
    "    # -----------------------------------------\n",
    "    )"
   ]
  },
  {
   "cell_type": "markdown",
   "id": "31fce4b8",
   "metadata": {},
   "source": [
    "## Feature Engineering — Time Series Preparation\n",
    "\n",
    "This part of the pipeline is responsible for transforming the cleaned dataset into structured features suitable for training time series models. It includes the following key steps:\n",
    "- Feature Generation: Constructs relevant features based on historical market data.\n",
    "- Dataset Splitting: The dataset is split into training and testing sets using a consistent strategy to preserve temporal structure.\n",
    "- Time Series Windowing: Converts the sequential data into overlapping windows, enabling the model to learn temporal dependencies.\n",
    "- Saving Artifacts: Both training and testing sets are stored for reproducibility, along with the transformation pipelines applied during preprocessing."
   ]
  },
  {
   "cell_type": "code",
   "execution_count": 3,
   "id": "64946194",
   "metadata": {},
   "outputs": [
    {
     "name": "stdout",
     "output_type": "stream",
     "text": [
      "\u001b[32m2025-07-09 13:57:27.454\u001b[0m | \u001b[1mINFO    \u001b[0m | \u001b[36msrc.features\u001b[0m:\u001b[36mmain\u001b[0m:\u001b[36m36\u001b[0m - \u001b[1mGenerating features from dataset...\u001b[0m\n",
      "\u001b[32m2025-07-09 13:57:27.476\u001b[0m | \u001b[1mINFO    \u001b[0m | \u001b[36msrc.utils.features.splitter_strategy\u001b[0m:\u001b[36msplit\u001b[0m:\u001b[36m15\u001b[0m - \u001b[1mSplitting dataset into training and testing sets...\u001b[0m\n",
      "\u001b[32m2025-07-09 13:57:27.485\u001b[0m | \u001b[1mINFO    \u001b[0m | \u001b[36msrc.utils.features.generator_strategy\u001b[0m:\u001b[36mgenerate\u001b[0m:\u001b[36m18\u001b[0m - \u001b[1mGenerating Timeseries from dataset...\u001b[0m\n",
      "\u001b[32m2025-07-09 13:57:27.502\u001b[0m | \u001b[32m\u001b[1mSUCCESS \u001b[0m | \u001b[36msrc.features\u001b[0m:\u001b[36mmain\u001b[0m:\u001b[36m51\u001b[0m - \u001b[32m\u001b[1mSaving train features in C:\\Repositories\\time-series-prediction-rnn\\data\\processed...\u001b[0m\n",
      "\u001b[32m2025-07-09 13:57:27.505\u001b[0m | \u001b[32m\u001b[1mSUCCESS \u001b[0m | \u001b[36msrc.features\u001b[0m:\u001b[36mmain\u001b[0m:\u001b[36m55\u001b[0m - \u001b[32m\u001b[1mSaving test features in C:\\Repositories\\time-series-prediction-rnn\\data\\processed...\u001b[0m\n",
      "\u001b[32m2025-07-09 13:57:27.509\u001b[0m | \u001b[32m\u001b[1mSUCCESS \u001b[0m | \u001b[36msrc.features\u001b[0m:\u001b[36mmain\u001b[0m:\u001b[36m59\u001b[0m - \u001b[32m\u001b[1mFeatures generation complete.\u001b[0m\n",
      "\u001b[32m2025-07-09 13:57:27.509\u001b[0m | \u001b[1mINFO    \u001b[0m | \u001b[36msrc.features\u001b[0m:\u001b[36mmain\u001b[0m:\u001b[36m61\u001b[0m - \u001b[1mSaving transformers...\u001b[0m\n",
      "\u001b[32m2025-07-09 13:57:27.510\u001b[0m | \u001b[1mINFO    \u001b[0m | \u001b[36msrc.utils.features.splitter_strategy\u001b[0m:\u001b[36msplit\u001b[0m:\u001b[36m15\u001b[0m - \u001b[1mSplitting dataset into training and testing sets...\u001b[0m\n",
      "\u001b[32m2025-07-09 13:57:27.514\u001b[0m | \u001b[1mINFO    \u001b[0m | \u001b[36msrc.features\u001b[0m:\u001b[36mmain\u001b[0m:\u001b[36m77\u001b[0m - \u001b[1mTotal time taken: 0.06 seconds\u001b[0m\n"
     ]
    }
   ],
   "source": [
    "from src import config\n",
    "from src import features\n",
    "\n",
    "features.main(\n",
    "    # ---- REPLACE DEFAULT PATHS AS APPROPRIATE ----\n",
    "    dataset_path = config.PROCESSED_DATA_DIR / \"dataset.csv\",\n",
    "    train_dir = config.PROCESSED_DATA_DIR,\n",
    "    test_dir = config.PROCESSED_DATA_DIR,\n",
    "    targets = [\"^BVSP\"],\n",
    "    train_size_ratio = 1,\n",
    "    batch_size = 1,\n",
    "    sequence_length = 20\n",
    "    # -----------------------------------------\n",
    ")"
   ]
  },
  {
   "cell_type": "markdown",
   "id": "2a66434c",
   "metadata": {},
   "source": [
    "## Modeling\n",
    "\n",
    "The modeling process begins with loading the training dataset. Next, the base model is constructed, and both the compilation and training strategies are defined. With the pipeline structure in place, the model is trained over 100 epochs using an iterative approach to adjust the weights.\n",
    "\n",
    "During training, key metrics are monitored, including accuracy, loss (error), validation accuracy and loss (on unseen data), as well as the learning rate."
   ]
  },
  {
   "cell_type": "code",
   "execution_count": 4,
   "id": "6ff11608",
   "metadata": {},
   "outputs": [
    {
     "name": "stdout",
     "output_type": "stream",
     "text": [
      "\u001b[32m2025-07-09 13:57:30.539\u001b[0m | \u001b[1mINFO    \u001b[0m | \u001b[36msrc.modeling.train\u001b[0m:\u001b[36mmain\u001b[0m:\u001b[36m48\u001b[0m - \u001b[1mLoading training dataset...\u001b[0m\n",
      "\u001b[32m2025-07-09 13:57:30.562\u001b[0m | \u001b[1mINFO    \u001b[0m | \u001b[36msrc.modeling.train\u001b[0m:\u001b[36mmain\u001b[0m:\u001b[36m56\u001b[0m - \u001b[1mSelecting builder strategy...\u001b[0m\n",
      "\u001b[32m2025-07-09 13:57:30.562\u001b[0m | \u001b[1mINFO    \u001b[0m | \u001b[36msrc.modeling.train\u001b[0m:\u001b[36mmain\u001b[0m:\u001b[36m62\u001b[0m - \u001b[1mSelecting compile strategy...\u001b[0m\n",
      "\u001b[32m2025-07-09 13:57:30.562\u001b[0m | \u001b[1mINFO    \u001b[0m | \u001b[36msrc.modeling.train\u001b[0m:\u001b[36mmain\u001b[0m:\u001b[36m65\u001b[0m - \u001b[1mSelecting training strategy...\u001b[0m\n",
      "\u001b[32m2025-07-09 13:57:30.562\u001b[0m | \u001b[1mINFO    \u001b[0m | \u001b[36msrc.modeling.train\u001b[0m:\u001b[36mmain\u001b[0m:\u001b[36m73\u001b[0m - \u001b[1mBuilding model training pipeline template...\u001b[0m\n",
      "\u001b[32m2025-07-09 13:57:30.562\u001b[0m | \u001b[1mINFO    \u001b[0m | \u001b[36msrc.modeling.train\u001b[0m:\u001b[36mmain\u001b[0m:\u001b[36m80\u001b[0m - \u001b[1mTraining model...\u001b[0m\n",
      "Epoch 1/256\n",
      "\u001b[1m10/10\u001b[0m \u001b[32m━━━━━━━━━━━━━━━━━━━━\u001b[0m\u001b[37m\u001b[0m \u001b[1m12s\u001b[0m 250ms/step - loss: 0.4218 - mae: 0.7453 - mse: 1.0439 - r2_score: -0.0176 - rmse: 1.0173 - smape: 171.1780 - val_loss: 0.4002 - val_mae: 0.7065 - val_mse: 1.0802 - val_r2_score: -0.0067 - val_rmse: 1.0370 - val_smape: 175.9849 - learning_rate: 0.0010\n",
      "Epoch 2/256\n",
      "\u001b[1m10/10\u001b[0m \u001b[32m━━━━━━━━━━━━━━━━━━━━\u001b[0m\u001b[37m\u001b[0m \u001b[1m1s\u001b[0m 55ms/step - loss: 0.4203 - mae: 0.7426 - mse: 1.0461 - r2_score: -0.0185 - rmse: 1.0181 - smape: 174.6175 - val_loss: 0.3996 - val_mae: 0.7067 - val_mse: 1.0766 - val_r2_score: -0.0037 - val_rmse: 1.0353 - val_smape: 180.6887 - learning_rate: 0.0010\n",
      "Epoch 3/256\n",
      "\u001b[1m10/10\u001b[0m \u001b[32m━━━━━━━━━━━━━━━━━━━━\u001b[0m\u001b[37m\u001b[0m \u001b[1m1s\u001b[0m 54ms/step - loss: 0.4160 - mae: 0.7368 - mse: 1.0259 - r2_score: 0.0010 - rmse: 1.0084 - smape: 175.7850 - val_loss: 0.3995 - val_mae: 0.7076 - val_mse: 1.0772 - val_r2_score: -0.0045 - val_rmse: 1.0357 - val_smape: 181.0369 - learning_rate: 0.0010\n",
      "Epoch 4/256\n",
      "\u001b[1m10/10\u001b[0m \u001b[32m━━━━━━━━━━━━━━━━━━━━\u001b[0m\u001b[37m\u001b[0m \u001b[1m1s\u001b[0m 50ms/step - loss: 0.4157 - mae: 0.7380 - mse: 1.0295 - r2_score: -0.0029 - rmse: 1.0102 - smape: 179.4778 - val_loss: 0.3999 - val_mae: 0.7086 - val_mse: 1.0827 - val_r2_score: -0.0099 - val_rmse: 1.0384 - val_smape: 182.3313 - learning_rate: 0.0010\n",
      "Epoch 5/256\n",
      "\u001b[1m10/10\u001b[0m \u001b[32m━━━━━━━━━━━━━━━━━━━━\u001b[0m\u001b[37m\u001b[0m \u001b[1m1s\u001b[0m 69ms/step - loss: 0.4144 - mae: 0.7367 - mse: 1.0282 - r2_score: -4.3103e-04 - rmse: 1.0093 - smape: 178.2772 - val_loss: 0.3993 - val_mae: 0.7080 - val_mse: 1.0832 - val_r2_score: -0.0103 - val_rmse: 1.0386 - val_smape: 180.3163 - learning_rate: 0.0010\n",
      "Epoch 6/256\n",
      "\u001b[1m10/10\u001b[0m \u001b[32m━━━━━━━━━━━━━━━━━━━━\u001b[0m\u001b[37m\u001b[0m \u001b[1m2s\u001b[0m 99ms/step - loss: 0.4119 - mae: 0.7324 - mse: 1.0238 - r2_score: 0.0018 - rmse: 1.0077 - smape: 175.6265 - val_loss: 0.3977 - val_mae: 0.7074 - val_mse: 1.0774 - val_r2_score: -0.0049 - val_rmse: 1.0358 - val_smape: 179.5690 - learning_rate: 0.0010\n",
      "Epoch 7/256\n",
      "\u001b[1m10/10\u001b[0m \u001b[32m━━━━━━━━━━━━━━━━━━━━\u001b[0m\u001b[37m\u001b[0m \u001b[1m1s\u001b[0m 58ms/step - loss: 0.4080 - mae: 0.7292 - mse: 1.0086 - r2_score: 0.0179 - rmse: 0.9998 - smape: 174.4587 - val_loss: 0.3976 - val_mae: 0.7085 - val_mse: 1.0771 - val_r2_score: -0.0048 - val_rmse: 1.0357 - val_smape: 179.2758 - learning_rate: 0.0010\n",
      "Epoch 8/256\n",
      "\u001b[1m10/10\u001b[0m \u001b[32m━━━━━━━━━━━━━━━━━━━━\u001b[0m\u001b[37m\u001b[0m \u001b[1m1s\u001b[0m 54ms/step - loss: 0.4076 - mae: 0.7289 - mse: 1.0121 - r2_score: 0.0162 - rmse: 1.0010 - smape: 174.7939 - val_loss: 0.3963 - val_mae: 0.7085 - val_mse: 1.0745 - val_r2_score: -0.0022 - val_rmse: 1.0344 - val_smape: 178.6866 - learning_rate: 0.0010\n",
      "Epoch 9/256\n",
      "\u001b[1m10/10\u001b[0m \u001b[32m━━━━━━━━━━━━━━━━━━━━\u001b[0m\u001b[37m\u001b[0m \u001b[1m1s\u001b[0m 54ms/step - loss: 0.4065 - mae: 0.7264 - mse: 1.0104 - r2_score: 0.0166 - rmse: 1.0006 - smape: 168.9880 - val_loss: 0.3943 - val_mae: 0.7065 - val_mse: 1.0683 - val_r2_score: 0.0038 - val_rmse: 1.0314 - val_smape: 175.8158 - learning_rate: 0.0010\n",
      "Epoch 10/256\n",
      "\u001b[1m10/10\u001b[0m \u001b[32m━━━━━━━━━━━━━━━━━━━━\u001b[0m\u001b[37m\u001b[0m \u001b[1m1s\u001b[0m 73ms/step - loss: 0.4046 - mae: 0.7226 - mse: 1.0052 - r2_score: 0.0211 - rmse: 0.9979 - smape: 164.6310 - val_loss: 0.3923 - val_mae: 0.7031 - val_mse: 1.0623 - val_r2_score: 0.0095 - val_rmse: 1.0285 - val_smape: 171.1326 - learning_rate: 0.0010\n",
      "Epoch 11/256\n",
      "\u001b[1m10/10\u001b[0m \u001b[32m━━━━━━━━━━━━━━━━━━━━\u001b[0m\u001b[37m\u001b[0m \u001b[1m1s\u001b[0m 61ms/step - loss: 0.4038 - mae: 0.7237 - mse: 1.0023 - r2_score: 0.0252 - rmse: 0.9962 - smape: 165.6543 - val_loss: 0.3910 - val_mae: 0.7005 - val_mse: 1.0633 - val_r2_score: 0.0090 - val_rmse: 1.0289 - val_smape: 171.1007 - learning_rate: 0.0010\n",
      "Epoch 12/256\n",
      "\u001b[1m10/10\u001b[0m \u001b[32m━━━━━━━━━━━━━━━━━━━━\u001b[0m\u001b[37m\u001b[0m \u001b[1m1s\u001b[0m 62ms/step - loss: 0.3972 - mae: 0.7161 - mse: 0.9840 - r2_score: 0.0425 - rmse: 0.9869 - smape: 163.1386 - val_loss: 0.3895 - val_mae: 0.6976 - val_mse: 1.0640 - val_r2_score: 0.0088 - val_rmse: 1.0291 - val_smape: 169.9944 - learning_rate: 0.0010\n",
      "Epoch 13/256\n",
      "\u001b[1m10/10\u001b[0m \u001b[32m━━━━━━━━━━━━━━━━━━━━\u001b[0m\u001b[37m\u001b[0m \u001b[1m1s\u001b[0m 74ms/step - loss: 0.3971 - mae: 0.7124 - mse: 0.9844 - r2_score: 0.0436 - rmse: 0.9869 - smape: 157.9285 - val_loss: 0.3859 - val_mae: 0.6930 - val_mse: 1.0508 - val_r2_score: 0.0211 - val_rmse: 1.0227 - val_smape: 163.7264 - learning_rate: 0.0010\n",
      "Epoch 14/256\n",
      "\u001b[1m10/10\u001b[0m \u001b[32m━━━━━━━━━━━━━━━━━━━━\u001b[0m\u001b[37m\u001b[0m \u001b[1m1s\u001b[0m 54ms/step - loss: 0.4006 - mae: 0.7194 - mse: 0.9957 - r2_score: 0.0320 - rmse: 0.9929 - smape: 156.5641 - val_loss: 0.3855 - val_mae: 0.6919 - val_mse: 1.0541 - val_r2_score: 0.0188 - val_rmse: 1.0241 - val_smape: 162.5499 - learning_rate: 0.0010\n",
      "Epoch 15/256\n",
      "\u001b[1m10/10\u001b[0m \u001b[32m━━━━━━━━━━━━━━━━━━━━\u001b[0m\u001b[37m\u001b[0m \u001b[1m1s\u001b[0m 56ms/step - loss: 0.3935 - mae: 0.7080 - mse: 0.9718 - r2_score: 0.0536 - rmse: 0.9812 - smape: 154.1201 - val_loss: 0.3839 - val_mae: 0.6937 - val_mse: 1.0386 - val_r2_score: 0.0328 - val_rmse: 1.0166 - val_smape: 162.0477 - learning_rate: 0.0010\n",
      "Epoch 16/256\n",
      "\u001b[1m10/10\u001b[0m \u001b[32m━━━━━━━━━━━━━━━━━━━━\u001b[0m\u001b[37m\u001b[0m \u001b[1m1s\u001b[0m 60ms/step - loss: 0.3883 - mae: 0.7080 - mse: 0.9585 - r2_score: 0.0675 - rmse: 0.9742 - smape: 154.5005 - val_loss: 0.3805 - val_mae: 0.6914 - val_mse: 1.0172 - val_r2_score: 0.0520 - val_rmse: 1.0063 - val_smape: 160.1767 - learning_rate: 0.0010\n",
      "Epoch 17/256\n",
      "\u001b[1m10/10\u001b[0m \u001b[32m━━━━━━━━━━━━━━━━━━━━\u001b[0m\u001b[37m\u001b[0m \u001b[1m1s\u001b[0m 64ms/step - loss: 0.3816 - mae: 0.6947 - mse: 0.9243 - r2_score: 0.1006 - rmse: 0.9561 - smape: 148.4859 - val_loss: 0.3771 - val_mae: 0.6889 - val_mse: 1.0079 - val_r2_score: 0.0611 - val_rmse: 1.0016 - val_smape: 157.1246 - learning_rate: 0.0010\n",
      "Epoch 18/256\n",
      "\u001b[1m10/10\u001b[0m \u001b[32m━━━━━━━━━━━━━━━━━━━━\u001b[0m\u001b[37m\u001b[0m \u001b[1m1s\u001b[0m 51ms/step - loss: 0.3781 - mae: 0.6859 - mse: 0.9246 - r2_score: 0.1002 - rmse: 0.9568 - smape: 142.7603 - val_loss: 0.3774 - val_mae: 0.6865 - val_mse: 1.0166 - val_r2_score: 0.0541 - val_rmse: 1.0056 - val_smape: 149.6331 - learning_rate: 0.0010\n",
      "Epoch 19/256\n",
      "\u001b[1m10/10\u001b[0m \u001b[32m━━━━━━━━━━━━━━━━━━━━\u001b[0m\u001b[37m\u001b[0m \u001b[1m1s\u001b[0m 55ms/step - loss: 0.3748 - mae: 0.6855 - mse: 0.9142 - r2_score: 0.1095 - rmse: 0.9516 - smape: 141.8728 - val_loss: 0.3779 - val_mae: 0.6945 - val_mse: 1.0098 - val_r2_score: 0.0595 - val_rmse: 1.0025 - val_smape: 149.7719 - learning_rate: 0.0010\n",
      "Epoch 20/256\n",
      "\u001b[1m10/10\u001b[0m \u001b[32m━━━━━━━━━━━━━━━━━━━━\u001b[0m\u001b[37m\u001b[0m \u001b[1m1s\u001b[0m 62ms/step - loss: 0.3773 - mae: 0.6933 - mse: 0.9310 - r2_score: 0.0933 - rmse: 0.9598 - smape: 144.9254 - val_loss: 0.3667 - val_mae: 0.6774 - val_mse: 0.9809 - val_r2_score: 0.0896 - val_rmse: 0.9870 - val_smape: 152.4136 - learning_rate: 0.0010\n",
      "Epoch 21/256\n",
      "\u001b[1m10/10\u001b[0m \u001b[32m━━━━━━━━━━━━━━━━━━━━\u001b[0m\u001b[37m\u001b[0m \u001b[1m1s\u001b[0m 69ms/step - loss: 0.3650 - mae: 0.6741 - mse: 0.8847 - r2_score: 0.1447 - rmse: 0.9340 - smape: 141.1197 - val_loss: 0.3680 - val_mae: 0.6787 - val_mse: 0.9888 - val_r2_score: 0.0823 - val_rmse: 0.9910 - val_smape: 147.2038 - learning_rate: 0.0010\n",
      "Epoch 22/256\n",
      "\u001b[1m10/10\u001b[0m \u001b[32m━━━━━━━━━━━━━━━━━━━━\u001b[0m\u001b[37m\u001b[0m \u001b[1m1s\u001b[0m 67ms/step - loss: 0.3628 - mae: 0.6724 - mse: 0.8794 - r2_score: 0.1478 - rmse: 0.9317 - smape: 137.1878 - val_loss: 0.3693 - val_mae: 0.6776 - val_mse: 0.9945 - val_r2_score: 0.0760 - val_rmse: 0.9942 - val_smape: 144.1987 - learning_rate: 0.0010\n",
      "Epoch 23/256\n",
      "\u001b[1m10/10\u001b[0m \u001b[32m━━━━━━━━━━━━━━━━━━━━\u001b[0m\u001b[37m\u001b[0m \u001b[1m1s\u001b[0m 89ms/step - loss: 0.3617 - mae: 0.6683 - mse: 0.8684 - r2_score: 0.1589 - rmse: 0.9260 - smape: 131.9668 - val_loss: 0.3663 - val_mae: 0.6741 - val_mse: 0.9632 - val_r2_score: 0.1037 - val_rmse: 0.9788 - val_smape: 141.9452 - learning_rate: 0.0010\n",
      "Epoch 24/256\n",
      "\u001b[1m10/10\u001b[0m \u001b[32m━━━━━━━━━━━━━━━━━━━━\u001b[0m\u001b[37m\u001b[0m \u001b[1m1s\u001b[0m 61ms/step - loss: 0.3615 - mae: 0.6756 - mse: 0.8726 - r2_score: 0.1537 - rmse: 0.9279 - smape: 135.3883 - val_loss: 0.3674 - val_mae: 0.6744 - val_mse: 0.9818 - val_r2_score: 0.0869 - val_rmse: 0.9881 - val_smape: 144.7215 - learning_rate: 0.0010\n",
      "Epoch 25/256\n",
      "\u001b[1m10/10\u001b[0m \u001b[32m━━━━━━━━━━━━━━━━━━━━\u001b[0m\u001b[37m\u001b[0m \u001b[1m1s\u001b[0m 77ms/step - loss: 0.3431 - mae: 0.6382 - mse: 0.8170 - r2_score: 0.2059 - rmse: 0.8990 - smape: 127.2566 - val_loss: 0.3602 - val_mae: 0.6647 - val_mse: 0.9648 - val_r2_score: 0.1058 - val_rmse: 0.9785 - val_smape: 140.2319 - learning_rate: 0.0010\n",
      "Epoch 26/256\n",
      "\u001b[1m10/10\u001b[0m \u001b[32m━━━━━━━━━━━━━━━━━━━━\u001b[0m\u001b[37m\u001b[0m \u001b[1m1s\u001b[0m 60ms/step - loss: 0.3524 - mae: 0.6625 - mse: 0.8361 - r2_score: 0.1870 - rmse: 0.9095 - smape: 132.4593 - val_loss: 0.3595 - val_mae: 0.6639 - val_mse: 0.9569 - val_r2_score: 0.1119 - val_rmse: 0.9749 - val_smape: 140.1216 - learning_rate: 0.0010\n",
      "Epoch 27/256\n",
      "\u001b[1m10/10\u001b[0m \u001b[32m━━━━━━━━━━━━━━━━━━━━\u001b[0m\u001b[37m\u001b[0m \u001b[1m1s\u001b[0m 107ms/step - loss: 0.3447 - mae: 0.6422 - mse: 0.8321 - r2_score: 0.1948 - rmse: 0.9055 - smape: 129.2197 - val_loss: 0.3670 - val_mae: 0.6760 - val_mse: 0.9812 - val_r2_score: 0.0860 - val_rmse: 0.9882 - val_smape: 142.1372 - learning_rate: 0.0010\n",
      "Epoch 28/256\n",
      "\u001b[1m10/10\u001b[0m \u001b[32m━━━━━━━━━━━━━━━━━━━━\u001b[0m\u001b[37m\u001b[0m \u001b[1m1s\u001b[0m 59ms/step - loss: 0.3379 - mae: 0.6378 - mse: 0.8085 - r2_score: 0.2172 - rmse: 0.8930 - smape: 128.3278 - val_loss: 0.3540 - val_mae: 0.6618 - val_mse: 0.9265 - val_r2_score: 0.1394 - val_rmse: 0.9595 - val_smape: 136.6738 - learning_rate: 0.0010\n",
      "Epoch 29/256\n",
      "\u001b[1m10/10\u001b[0m \u001b[32m━━━━━━━━━━━━━━━━━━━━\u001b[0m\u001b[37m\u001b[0m \u001b[1m1s\u001b[0m 58ms/step - loss: 0.3327 - mae: 0.6326 - mse: 0.7806 - r2_score: 0.2389 - rmse: 0.8782 - smape: 125.0962 - val_loss: 0.3509 - val_mae: 0.6544 - val_mse: 0.9219 - val_r2_score: 0.1437 - val_rmse: 0.9571 - val_smape: 136.1895 - learning_rate: 0.0010\n",
      "Epoch 30/256\n",
      "\u001b[1m10/10\u001b[0m \u001b[32m━━━━━━━━━━━━━━━━━━━━\u001b[0m\u001b[37m\u001b[0m \u001b[1m1s\u001b[0m 65ms/step - loss: 0.3295 - mae: 0.6328 - mse: 0.7644 - r2_score: 0.2566 - rmse: 0.8692 - smape: 126.5362 - val_loss: 0.3544 - val_mae: 0.6639 - val_mse: 0.9201 - val_r2_score: 0.1432 - val_rmse: 0.9569 - val_smape: 136.7993 - learning_rate: 0.0010\n",
      "Epoch 31/256\n",
      "\u001b[1m10/10\u001b[0m \u001b[32m━━━━━━━━━━━━━━━━━━━━\u001b[0m\u001b[37m\u001b[0m \u001b[1m1s\u001b[0m 57ms/step - loss: 0.3190 - mae: 0.6210 - mse: 0.7403 - r2_score: 0.2817 - rmse: 0.8553 - smape: 124.7493 - val_loss: 0.3526 - val_mae: 0.6633 - val_mse: 0.9113 - val_r2_score: 0.1507 - val_rmse: 0.9525 - val_smape: 136.4385 - learning_rate: 0.0010\n",
      "Epoch 32/256\n",
      "\u001b[1m10/10\u001b[0m \u001b[32m━━━━━━━━━━━━━━━━━━━━\u001b[0m\u001b[37m\u001b[0m \u001b[1m1s\u001b[0m 59ms/step - loss: 0.3141 - mae: 0.6127 - mse: 0.7212 - r2_score: 0.2965 - rmse: 0.8438 - smape: 122.7982 - val_loss: 0.3607 - val_mae: 0.6744 - val_mse: 0.9397 - val_r2_score: 0.1203 - val_rmse: 0.9681 - val_smape: 135.4828 - learning_rate: 0.0010\n",
      "Epoch 33/256\n",
      "\u001b[1m10/10\u001b[0m \u001b[32m━━━━━━━━━━━━━━━━━━━━\u001b[0m\u001b[37m\u001b[0m \u001b[1m1s\u001b[0m 53ms/step - loss: 0.3068 - mae: 0.6020 - mse: 0.7084 - r2_score: 0.3153 - rmse: 0.8342 - smape: 119.4885 - val_loss: 0.3514 - val_mae: 0.6623 - val_mse: 0.9081 - val_r2_score: 0.1514 - val_rmse: 0.9514 - val_smape: 134.1526 - learning_rate: 0.0010\n",
      "Epoch 34/256\n",
      "\u001b[1m10/10\u001b[0m \u001b[32m━━━━━━━━━━━━━━━━━━━━\u001b[0m\u001b[37m\u001b[0m \u001b[1m1s\u001b[0m 54ms/step - loss: 0.3216 - mae: 0.6085 - mse: 0.7617 - r2_score: 0.2647 - rmse: 0.8656 - smape: 115.9373 - val_loss: 0.3566 - val_mae: 0.6692 - val_mse: 0.9309 - val_r2_score: 0.1285 - val_rmse: 0.9636 - val_smape: 136.6518 - learning_rate: 0.0010\n",
      "Epoch 35/256\n",
      "\u001b[1m10/10\u001b[0m \u001b[32m━━━━━━━━━━━━━━━━━━━━\u001b[0m\u001b[37m\u001b[0m \u001b[1m1s\u001b[0m 52ms/step - loss: 0.3104 - mae: 0.6051 - mse: 0.7237 - r2_score: 0.2984 - rmse: 0.8438 - smape: 120.9045 - val_loss: 0.3557 - val_mae: 0.6649 - val_mse: 0.9365 - val_r2_score: 0.1250 - val_rmse: 0.9661 - val_smape: 138.8145 - learning_rate: 0.0010\n",
      "Epoch 36/256\n",
      "\u001b[1m10/10\u001b[0m \u001b[32m━━━━━━━━━━━━━━━━━━━━\u001b[0m\u001b[37m\u001b[0m \u001b[1m1s\u001b[0m 69ms/step - loss: 0.3160 - mae: 0.6156 - mse: 0.7376 - r2_score: 0.2857 - rmse: 0.8525 - smape: 124.3920 - val_loss: 0.3516 - val_mae: 0.6578 - val_mse: 0.9089 - val_r2_score: 0.1531 - val_rmse: 0.9512 - val_smape: 137.2526 - learning_rate: 0.0010\n",
      "Epoch 37/256\n",
      "\u001b[1m10/10\u001b[0m \u001b[32m━━━━━━━━━━━━━━━━━━━━\u001b[0m\u001b[37m\u001b[0m \u001b[1m1s\u001b[0m 53ms/step - loss: 0.3030 - mae: 0.5939 - mse: 0.7055 - r2_score: 0.3184 - rmse: 0.8336 - smape: 120.1261 - val_loss: 0.3626 - val_mae: 0.6734 - val_mse: 0.9395 - val_r2_score: 0.1216 - val_rmse: 0.9678 - val_smape: 134.3050 - learning_rate: 0.0010\n",
      "Epoch 38/256\n",
      "\u001b[1m10/10\u001b[0m \u001b[32m━━━━━━━━━━━━━━━━━━━━\u001b[0m\u001b[37m\u001b[0m \u001b[1m1s\u001b[0m 75ms/step - loss: 0.3061 - mae: 0.5990 - mse: 0.7051 - r2_score: 0.3221 - rmse: 0.8323 - smape: 118.9433 - val_loss: 0.3653 - val_mae: 0.6796 - val_mse: 0.9585 - val_r2_score: 0.1024 - val_rmse: 0.9778 - val_smape: 136.9381 - learning_rate: 0.0010\n",
      "Epoch 39/256\n",
      "\u001b[1m10/10\u001b[0m \u001b[32m━━━━━━━━━━━━━━━━━━━━\u001b[0m\u001b[37m\u001b[0m \u001b[1m1s\u001b[0m 61ms/step - loss: 0.2990 - mae: 0.5907 - mse: 0.6814 - r2_score: 0.3454 - rmse: 0.8169 - smape: 116.8961 - val_loss: 0.3602 - val_mae: 0.6761 - val_mse: 0.9336 - val_r2_score: 0.1264 - val_rmse: 0.9649 - val_smape: 137.2716 - learning_rate: 0.0010\n",
      "Epoch 40/256\n",
      "\u001b[1m10/10\u001b[0m \u001b[32m━━━━━━━━━━━━━━━━━━━━\u001b[0m\u001b[37m\u001b[0m \u001b[1m1s\u001b[0m 65ms/step - loss: 0.2924 - mae: 0.5851 - mse: 0.6548 - r2_score: 0.3629 - rmse: 0.8041 - smape: 116.9840 - val_loss: 0.3612 - val_mae: 0.6750 - val_mse: 0.9419 - val_r2_score: 0.1184 - val_rmse: 0.9692 - val_smape: 139.9729 - learning_rate: 0.0010\n",
      "Epoch 41/256\n",
      "\u001b[1m10/10\u001b[0m \u001b[32m━━━━━━━━━━━━━━━━━━━━\u001b[0m\u001b[37m\u001b[0m \u001b[1m1s\u001b[0m 56ms/step - loss: 0.2973 - mae: 0.5824 - mse: 0.6809 - r2_score: 0.3431 - rmse: 0.8184 - smape: 117.4269 - val_loss: 0.3547 - val_mae: 0.6648 - val_mse: 0.9224 - val_r2_score: 0.1376 - val_rmse: 0.9590 - val_smape: 137.3585 - learning_rate: 0.0010\n",
      "Epoch 42/256\n",
      "\u001b[1m10/10\u001b[0m \u001b[32m━━━━━━━━━━━━━━━━━━━━\u001b[0m\u001b[37m\u001b[0m \u001b[1m1s\u001b[0m 53ms/step - loss: 0.2960 - mae: 0.5770 - mse: 0.6819 - r2_score: 0.3435 - rmse: 0.8167 - smape: 113.3105 - val_loss: 0.3513 - val_mae: 0.6637 - val_mse: 0.9065 - val_r2_score: 0.1547 - val_rmse: 0.9501 - val_smape: 135.8818 - learning_rate: 0.0010\n",
      "Epoch 43/256\n",
      "\u001b[1m10/10\u001b[0m \u001b[32m━━━━━━━━━━━━━━━━━━━━\u001b[0m\u001b[37m\u001b[0m \u001b[1m1s\u001b[0m 57ms/step - loss: 0.2857 - mae: 0.5709 - mse: 0.6405 - r2_score: 0.3778 - rmse: 0.7941 - smape: 116.5438 - val_loss: 0.3558 - val_mae: 0.6694 - val_mse: 0.9256 - val_r2_score: 0.1376 - val_rmse: 0.9598 - val_smape: 136.9031 - learning_rate: 0.0010\n",
      "Epoch 44/256\n",
      "\u001b[1m10/10\u001b[0m \u001b[32m━━━━━━━━━━━━━━━━━━━━\u001b[0m\u001b[37m\u001b[0m \u001b[1m1s\u001b[0m 61ms/step - loss: 0.2805 - mae: 0.5621 - mse: 0.6469 - r2_score: 0.3739 - rmse: 0.7981 - smape: 112.7639 - val_loss: 0.3606 - val_mae: 0.6699 - val_mse: 0.9433 - val_r2_score: 0.1204 - val_rmse: 0.9692 - val_smape: 137.1606 - learning_rate: 0.0010\n",
      "Epoch 45/256\n",
      "\u001b[1m10/10\u001b[0m \u001b[32m━━━━━━━━━━━━━━━━━━━━\u001b[0m\u001b[37m\u001b[0m \u001b[1m1s\u001b[0m 56ms/step - loss: 0.2720 - mae: 0.5517 - mse: 0.6123 - r2_score: 0.4077 - rmse: 0.7758 - smape: 111.1717 - val_loss: 0.3573 - val_mae: 0.6646 - val_mse: 0.9312 - val_r2_score: 0.1298 - val_rmse: 0.9634 - val_smape: 136.4099 - learning_rate: 0.0010\n",
      "Epoch 46/256\n",
      "\u001b[1m10/10\u001b[0m \u001b[32m━━━━━━━━━━━━━━━━━━━━\u001b[0m\u001b[37m\u001b[0m \u001b[1m1s\u001b[0m 54ms/step - loss: 0.2798 - mae: 0.5628 - mse: 0.6295 - r2_score: 0.3933 - rmse: 0.7850 - smape: 111.9004 - val_loss: 0.3535 - val_mae: 0.6582 - val_mse: 0.9174 - val_r2_score: 0.1419 - val_rmse: 0.9564 - val_smape: 136.5406 - learning_rate: 5.0000e-04\n",
      "Epoch 47/256\n",
      "\u001b[1m10/10\u001b[0m \u001b[32m━━━━━━━━━━━━━━━━━━━━\u001b[0m\u001b[37m\u001b[0m \u001b[1m1s\u001b[0m 64ms/step - loss: 0.2742 - mae: 0.5612 - mse: 0.6237 - r2_score: 0.3998 - rmse: 0.7805 - smape: 111.7618 - val_loss: 0.3513 - val_mae: 0.6569 - val_mse: 0.9102 - val_r2_score: 0.1501 - val_rmse: 0.9523 - val_smape: 136.6337 - learning_rate: 5.0000e-04\n",
      "Epoch 48/256\n",
      "\u001b[1m10/10\u001b[0m \u001b[32m━━━━━━━━━━━━━━━━━━━━\u001b[0m\u001b[37m\u001b[0m \u001b[1m1s\u001b[0m 53ms/step - loss: 0.2710 - mae: 0.5548 - mse: 0.5953 - r2_score: 0.4261 - rmse: 0.7647 - smape: 112.8371 - val_loss: 0.3479 - val_mae: 0.6537 - val_mse: 0.8973 - val_r2_score: 0.1638 - val_rmse: 0.9451 - val_smape: 135.6381 - learning_rate: 5.0000e-04\n",
      "Epoch 49/256\n",
      "\u001b[1m10/10\u001b[0m \u001b[32m━━━━━━━━━━━━━━━━━━━━\u001b[0m\u001b[37m\u001b[0m \u001b[1m1s\u001b[0m 56ms/step - loss: 0.2667 - mae: 0.5523 - mse: 0.5848 - r2_score: 0.4271 - rmse: 0.7569 - smape: 112.2681 - val_loss: 0.3494 - val_mae: 0.6586 - val_mse: 0.9023 - val_r2_score: 0.1595 - val_rmse: 0.9477 - val_smape: 135.6643 - learning_rate: 5.0000e-04\n",
      "Epoch 50/256\n",
      "\u001b[1m10/10\u001b[0m \u001b[32m━━━━━━━━━━━━━━━━━━━━\u001b[0m\u001b[37m\u001b[0m \u001b[1m1s\u001b[0m 55ms/step - loss: 0.2591 - mae: 0.5416 - mse: 0.5662 - r2_score: 0.4531 - rmse: 0.7459 - smape: 107.9916 - val_loss: 0.3496 - val_mae: 0.6571 - val_mse: 0.8997 - val_r2_score: 0.1615 - val_rmse: 0.9464 - val_smape: 135.5123 - learning_rate: 5.0000e-04\n",
      "Epoch 51/256\n",
      "\u001b[1m10/10\u001b[0m \u001b[32m━━━━━━━━━━━━━━━━━━━━\u001b[0m\u001b[37m\u001b[0m \u001b[1m1s\u001b[0m 61ms/step - loss: 0.2496 - mae: 0.5203 - mse: 0.5553 - r2_score: 0.4608 - rmse: 0.7396 - smape: 104.9237 - val_loss: 0.3511 - val_mae: 0.6567 - val_mse: 0.9102 - val_r2_score: 0.1530 - val_rmse: 0.9515 - val_smape: 136.1696 - learning_rate: 5.0000e-04\n",
      "Epoch 52/256\n",
      "\u001b[1m10/10\u001b[0m \u001b[32m━━━━━━━━━━━━━━━━━━━━\u001b[0m\u001b[37m\u001b[0m \u001b[1m1s\u001b[0m 58ms/step - loss: 0.2600 - mae: 0.5356 - mse: 0.5745 - r2_score: 0.4461 - rmse: 0.7517 - smape: 108.4311 - val_loss: 0.3522 - val_mae: 0.6577 - val_mse: 0.9082 - val_r2_score: 0.1554 - val_rmse: 0.9503 - val_smape: 135.2226 - learning_rate: 5.0000e-04\n",
      "Epoch 53/256\n",
      "\u001b[1m10/10\u001b[0m \u001b[32m━━━━━━━━━━━━━━━━━━━━\u001b[0m\u001b[37m\u001b[0m \u001b[1m1s\u001b[0m 59ms/step - loss: 0.2578 - mae: 0.5273 - mse: 0.5682 - r2_score: 0.4467 - rmse: 0.7473 - smape: 105.1293 - val_loss: 0.3517 - val_mae: 0.6574 - val_mse: 0.9025 - val_r2_score: 0.1608 - val_rmse: 0.9473 - val_smape: 134.2281 - learning_rate: 5.0000e-04\n",
      "Epoch 54/256\n",
      "\u001b[1m10/10\u001b[0m \u001b[32m━━━━━━━━━━━━━━━━━━━━\u001b[0m\u001b[37m\u001b[0m \u001b[1m1s\u001b[0m 66ms/step - loss: 0.2573 - mae: 0.5354 - mse: 0.5529 - r2_score: 0.4577 - rmse: 0.7401 - smape: 108.6720 - val_loss: 0.3525 - val_mae: 0.6568 - val_mse: 0.9191 - val_r2_score: 0.1450 - val_rmse: 0.9561 - val_smape: 136.4940 - learning_rate: 5.0000e-04\n",
      "Epoch 55/256\n",
      "\u001b[1m10/10\u001b[0m \u001b[32m━━━━━━━━━━━━━━━━━━━━\u001b[0m\u001b[37m\u001b[0m \u001b[1m1s\u001b[0m 63ms/step - loss: 0.2394 - mae: 0.5134 - mse: 0.5227 - r2_score: 0.4952 - rmse: 0.7159 - smape: 104.7383 - val_loss: 0.3569 - val_mae: 0.6624 - val_mse: 0.9363 - val_r2_score: 0.1290 - val_rmse: 0.9650 - val_smape: 137.0875 - learning_rate: 5.0000e-04\n",
      "Epoch 56/256\n",
      "\u001b[1m10/10\u001b[0m \u001b[32m━━━━━━━━━━━━━━━━━━━━\u001b[0m\u001b[37m\u001b[0m \u001b[1m1s\u001b[0m 61ms/step - loss: 0.2407 - mae: 0.5099 - mse: 0.5232 - r2_score: 0.4956 - rmse: 0.7162 - smape: 105.4720 - val_loss: 0.3541 - val_mae: 0.6629 - val_mse: 0.9150 - val_r2_score: 0.1509 - val_rmse: 0.9533 - val_smape: 137.0239 - learning_rate: 5.0000e-04\n",
      "Epoch 57/256\n",
      "\u001b[1m10/10\u001b[0m \u001b[32m━━━━━━━━━━━━━━━━━━━━\u001b[0m\u001b[37m\u001b[0m \u001b[1m1s\u001b[0m 51ms/step - loss: 0.2430 - mae: 0.5154 - mse: 0.5306 - r2_score: 0.4879 - rmse: 0.7199 - smape: 105.6021 - val_loss: 0.3527 - val_mae: 0.6609 - val_mse: 0.9137 - val_r2_score: 0.1523 - val_rmse: 0.9525 - val_smape: 136.9307 - learning_rate: 5.0000e-04\n",
      "Epoch 58/256\n",
      "\u001b[1m10/10\u001b[0m \u001b[32m━━━━━━━━━━━━━━━━━━━━\u001b[0m\u001b[37m\u001b[0m \u001b[1m1s\u001b[0m 49ms/step - loss: 0.2441 - mae: 0.5191 - mse: 0.5299 - r2_score: 0.4882 - rmse: 0.7218 - smape: 106.6982 - val_loss: 0.3544 - val_mae: 0.6610 - val_mse: 0.9288 - val_r2_score: 0.1374 - val_rmse: 0.9606 - val_smape: 135.2329 - learning_rate: 5.0000e-04\n",
      "Epoch 59/256\n",
      "\u001b[1m10/10\u001b[0m \u001b[32m━━━━━━━━━━━━━━━━━━━━\u001b[0m\u001b[37m\u001b[0m \u001b[1m1s\u001b[0m 54ms/step - loss: 0.2549 - mae: 0.5313 - mse: 0.5688 - r2_score: 0.4479 - rmse: 0.7478 - smape: 107.1876 - val_loss: 0.3536 - val_mae: 0.6605 - val_mse: 0.9211 - val_r2_score: 0.1459 - val_rmse: 0.9562 - val_smape: 135.7991 - learning_rate: 5.0000e-04\n",
      "Epoch 60/256\n",
      "\u001b[1m10/10\u001b[0m \u001b[32m━━━━━━━━━━━━━━━━━━━━\u001b[0m\u001b[37m\u001b[0m \u001b[1m1s\u001b[0m 54ms/step - loss: 0.2311 - mae: 0.4964 - mse: 0.5031 - r2_score: 0.5146 - rmse: 0.6997 - smape: 103.1975 - val_loss: 0.3555 - val_mae: 0.6619 - val_mse: 0.9272 - val_r2_score: 0.1399 - val_rmse: 0.9595 - val_smape: 133.7161 - learning_rate: 5.0000e-04\n",
      "Epoch 61/256\n",
      "\u001b[1m10/10\u001b[0m \u001b[32m━━━━━━━━━━━━━━━━━━━━\u001b[0m\u001b[37m\u001b[0m \u001b[1m1s\u001b[0m 56ms/step - loss: 0.2402 - mae: 0.5189 - mse: 0.5328 - r2_score: 0.4862 - rmse: 0.7227 - smape: 106.5591 - val_loss: 0.3565 - val_mae: 0.6612 - val_mse: 0.9386 - val_r2_score: 0.1282 - val_rmse: 0.9658 - val_smape: 134.2647 - learning_rate: 5.0000e-04\n",
      "Epoch 62/256\n",
      "\u001b[1m10/10\u001b[0m \u001b[32m━━━━━━━━━━━━━━━━━━━━\u001b[0m\u001b[37m\u001b[0m \u001b[1m1s\u001b[0m 71ms/step - loss: 0.2430 - mae: 0.5160 - mse: 0.5417 - r2_score: 0.4716 - rmse: 0.7309 - smape: 103.0254 - val_loss: 0.3606 - val_mae: 0.6671 - val_mse: 0.9488 - val_r2_score: 0.1181 - val_rmse: 0.9712 - val_smape: 132.8426 - learning_rate: 5.0000e-04\n",
      "Epoch 63/256\n",
      "\u001b[1m10/10\u001b[0m \u001b[32m━━━━━━━━━━━━━━━━━━━━\u001b[0m\u001b[37m\u001b[0m \u001b[1m1s\u001b[0m 58ms/step - loss: 0.2420 - mae: 0.5149 - mse: 0.5156 - r2_score: 0.5029 - rmse: 0.7111 - smape: 105.1506 - val_loss: 0.3588 - val_mae: 0.6681 - val_mse: 0.9374 - val_r2_score: 0.1291 - val_rmse: 0.9652 - val_smape: 133.0883 - learning_rate: 5.0000e-04\n",
      "Epoch 64/256\n",
      "\u001b[1m10/10\u001b[0m \u001b[32m━━━━━━━━━━━━━━━━━━━━\u001b[0m\u001b[37m\u001b[0m \u001b[1m1s\u001b[0m 63ms/step - loss: 0.2302 - mae: 0.4936 - mse: 0.4979 - r2_score: 0.5158 - rmse: 0.6988 - smape: 103.9402 - val_loss: 0.3581 - val_mae: 0.6665 - val_mse: 0.9397 - val_r2_score: 0.1267 - val_rmse: 0.9665 - val_smape: 133.2610 - learning_rate: 5.0000e-04\n",
      "Epoch 65/256\n",
      "\u001b[1m10/10\u001b[0m \u001b[32m━━━━━━━━━━━━━━━━━━━━\u001b[0m\u001b[37m\u001b[0m \u001b[1m1s\u001b[0m 59ms/step - loss: 0.2500 - mae: 0.5241 - mse: 0.5593 - r2_score: 0.4600 - rmse: 0.7413 - smape: 104.8419 - val_loss: 0.3586 - val_mae: 0.6640 - val_mse: 0.9452 - val_r2_score: 0.1217 - val_rmse: 0.9693 - val_smape: 133.1415 - learning_rate: 2.5000e-04\n",
      "Epoch 66/256\n",
      "\u001b[1m10/10\u001b[0m \u001b[32m━━━━━━━━━━━━━━━━━━━━\u001b[0m\u001b[37m\u001b[0m \u001b[1m1s\u001b[0m 59ms/step - loss: 0.2356 - mae: 0.5101 - mse: 0.4908 - r2_score: 0.5211 - rmse: 0.6948 - smape: 105.7112 - val_loss: 0.3581 - val_mae: 0.6627 - val_mse: 0.9433 - val_r2_score: 0.1233 - val_rmse: 0.9683 - val_smape: 132.6130 - learning_rate: 2.5000e-04\n",
      "Epoch 67/256\n",
      "\u001b[1m10/10\u001b[0m \u001b[32m━━━━━━━━━━━━━━━━━━━━\u001b[0m\u001b[37m\u001b[0m \u001b[1m1s\u001b[0m 58ms/step - loss: 0.2467 - mae: 0.5170 - mse: 0.5471 - r2_score: 0.4754 - rmse: 0.7317 - smape: 100.3984 - val_loss: 0.3577 - val_mae: 0.6616 - val_mse: 0.9414 - val_r2_score: 0.1248 - val_rmse: 0.9674 - val_smape: 133.3630 - learning_rate: 2.5000e-04\n",
      "Epoch 68/256\n",
      "\u001b[1m10/10\u001b[0m \u001b[32m━━━━━━━━━━━━━━━━━━━━\u001b[0m\u001b[37m\u001b[0m \u001b[1m1s\u001b[0m 57ms/step - loss: 0.2250 - mae: 0.4893 - mse: 0.4769 - r2_score: 0.5352 - rmse: 0.6855 - smape: 101.4927 - val_loss: 0.3584 - val_mae: 0.6624 - val_mse: 0.9404 - val_r2_score: 0.1257 - val_rmse: 0.9669 - val_smape: 132.7606 - learning_rate: 2.5000e-04\n",
      "Epoch 69/256\n",
      "\u001b[1m10/10\u001b[0m \u001b[32m━━━━━━━━━━━━━━━━━━━━\u001b[0m\u001b[37m\u001b[0m \u001b[1m1s\u001b[0m 54ms/step - loss: 0.2291 - mae: 0.4943 - mse: 0.4983 - r2_score: 0.5205 - rmse: 0.6982 - smape: 100.9172 - val_loss: 0.3614 - val_mae: 0.6677 - val_mse: 0.9465 - val_r2_score: 0.1194 - val_rmse: 0.9703 - val_smape: 132.3846 - learning_rate: 2.5000e-04\n",
      "Epoch 70/256\n",
      "\u001b[1m10/10\u001b[0m \u001b[32m━━━━━━━━━━━━━━━━━━━━\u001b[0m\u001b[37m\u001b[0m \u001b[1m1s\u001b[0m 57ms/step - loss: 0.2251 - mae: 0.4893 - mse: 0.4816 - r2_score: 0.5321 - rmse: 0.6862 - smape: 98.7641 - val_loss: 0.3623 - val_mae: 0.6687 - val_mse: 0.9498 - val_r2_score: 0.1162 - val_rmse: 0.9720 - val_smape: 132.1248 - learning_rate: 2.5000e-04\n",
      "Epoch 71/256\n",
      "\u001b[1m10/10\u001b[0m \u001b[32m━━━━━━━━━━━━━━━━━━━━\u001b[0m\u001b[37m\u001b[0m \u001b[1m1s\u001b[0m 54ms/step - loss: 0.2114 - mae: 0.4693 - mse: 0.4500 - r2_score: 0.5684 - rmse: 0.6629 - smape: 97.9913 - val_loss: 0.3619 - val_mae: 0.6682 - val_mse: 0.9496 - val_r2_score: 0.1164 - val_rmse: 0.9719 - val_smape: 131.6002 - learning_rate: 2.5000e-04\n",
      "Epoch 72/256\n",
      "\u001b[1m10/10\u001b[0m \u001b[32m━━━━━━━━━━━━━━━━━━━━\u001b[0m\u001b[37m\u001b[0m \u001b[1m1s\u001b[0m 53ms/step - loss: 0.2339 - mae: 0.5035 - mse: 0.4990 - r2_score: 0.5194 - rmse: 0.6999 - smape: 101.6297 - val_loss: 0.3612 - val_mae: 0.6673 - val_mse: 0.9503 - val_r2_score: 0.1160 - val_rmse: 0.9722 - val_smape: 132.2419 - learning_rate: 2.5000e-04\n",
      "Epoch 73/256\n",
      "\u001b[1m10/10\u001b[0m \u001b[32m━━━━━━━━━━━━━━━━━━━━\u001b[0m\u001b[37m\u001b[0m \u001b[1m1s\u001b[0m 55ms/step - loss: 0.2137 - mae: 0.4784 - mse: 0.4370 - r2_score: 0.5765 - rmse: 0.6566 - smape: 98.4880 - val_loss: 0.3608 - val_mae: 0.6676 - val_mse: 0.9508 - val_r2_score: 0.1158 - val_rmse: 0.9723 - val_smape: 131.9365 - learning_rate: 2.5000e-04\n",
      "Epoch 74/256\n",
      "\u001b[1m10/10\u001b[0m \u001b[32m━━━━━━━━━━━━━━━━━━━━\u001b[0m\u001b[37m\u001b[0m \u001b[1m1s\u001b[0m 75ms/step - loss: 0.2225 - mae: 0.4867 - mse: 0.4828 - r2_score: 0.5405 - rmse: 0.6837 - smape: 99.1918 - val_loss: 0.3606 - val_mae: 0.6676 - val_mse: 0.9488 - val_r2_score: 0.1180 - val_rmse: 0.9712 - val_smape: 131.6822 - learning_rate: 2.5000e-04\n",
      "Epoch 75/256\n",
      "\u001b[1m10/10\u001b[0m \u001b[32m━━━━━━━━━━━━━━━━━━━━\u001b[0m\u001b[37m\u001b[0m \u001b[1m1s\u001b[0m 53ms/step - loss: 0.2207 - mae: 0.4866 - mse: 0.4589 - r2_score: 0.5520 - rmse: 0.6724 - smape: 100.2714 - val_loss: 0.3603 - val_mae: 0.6689 - val_mse: 0.9451 - val_r2_score: 0.1220 - val_rmse: 0.9691 - val_smape: 132.8836 - learning_rate: 2.5000e-04\n",
      "Epoch 76/256\n",
      "\u001b[1m10/10\u001b[0m \u001b[32m━━━━━━━━━━━━━━━━━━━━\u001b[0m\u001b[37m\u001b[0m \u001b[1m1s\u001b[0m 63ms/step - loss: 0.2280 - mae: 0.4920 - mse: 0.4810 - r2_score: 0.5344 - rmse: 0.6869 - smape: 99.4067 - val_loss: 0.3604 - val_mae: 0.6692 - val_mse: 0.9451 - val_r2_score: 0.1220 - val_rmse: 0.9691 - val_smape: 132.8627 - learning_rate: 2.5000e-04\n",
      "Epoch 77/256\n",
      "\u001b[1m10/10\u001b[0m \u001b[32m━━━━━━━━━━━━━━━━━━━━\u001b[0m\u001b[37m\u001b[0m \u001b[1m1s\u001b[0m 75ms/step - loss: 0.2072 - mae: 0.4672 - mse: 0.4277 - r2_score: 0.5829 - rmse: 0.6498 - smape: 100.5912 - val_loss: 0.3601 - val_mae: 0.6693 - val_mse: 0.9467 - val_r2_score: 0.1207 - val_rmse: 0.9699 - val_smape: 133.7207 - learning_rate: 2.5000e-04\n",
      "Epoch 78/256\n",
      "\u001b[1m10/10\u001b[0m \u001b[32m━━━━━━━━━━━━━━━━━━━━\u001b[0m\u001b[37m\u001b[0m \u001b[1m1s\u001b[0m 54ms/step - loss: 0.2266 - mae: 0.4912 - mse: 0.4813 - r2_score: 0.5339 - rmse: 0.6875 - smape: 100.5049 - val_loss: 0.3609 - val_mae: 0.6705 - val_mse: 0.9516 - val_r2_score: 0.1164 - val_rmse: 0.9723 - val_smape: 134.8639 - learning_rate: 2.5000e-04\n",
      "Epoch 79/256\n",
      "\u001b[1m10/10\u001b[0m \u001b[32m━━━━━━━━━━━━━━━━━━━━\u001b[0m\u001b[37m\u001b[0m \u001b[1m1s\u001b[0m 53ms/step - loss: 0.2183 - mae: 0.4802 - mse: 0.4547 - r2_score: 0.5604 - rmse: 0.6683 - smape: 97.7747 - val_loss: 0.3620 - val_mae: 0.6724 - val_mse: 0.9533 - val_r2_score: 0.1152 - val_rmse: 0.9731 - val_smape: 134.3753 - learning_rate: 2.5000e-04\n",
      "Epoch 80/256\n",
      "\u001b[1m10/10\u001b[0m \u001b[32m━━━━━━━━━━━━━━━━━━━━\u001b[0m\u001b[37m\u001b[0m \u001b[1m1s\u001b[0m 56ms/step - loss: 0.2172 - mae: 0.4858 - mse: 0.4482 - r2_score: 0.5613 - rmse: 0.6650 - smape: 101.1377 - val_loss: 0.3627 - val_mae: 0.6737 - val_mse: 0.9528 - val_r2_score: 0.1157 - val_rmse: 0.9728 - val_smape: 135.9103 - learning_rate: 2.5000e-04\n",
      "Epoch 81/256\n",
      "\u001b[1m10/10\u001b[0m \u001b[32m━━━━━━━━━━━━━━━━━━━━\u001b[0m\u001b[37m\u001b[0m \u001b[1m1s\u001b[0m 64ms/step - loss: 0.2212 - mae: 0.4864 - mse: 0.4744 - r2_score: 0.5391 - rmse: 0.6835 - smape: 102.2067 - val_loss: 0.3623 - val_mae: 0.6734 - val_mse: 0.9495 - val_r2_score: 0.1187 - val_rmse: 0.9711 - val_smape: 135.8633 - learning_rate: 1.2500e-04\n",
      "Epoch 82/256\n",
      "\u001b[1m10/10\u001b[0m \u001b[32m━━━━━━━━━━━━━━━━━━━━\u001b[0m\u001b[37m\u001b[0m \u001b[1m1s\u001b[0m 60ms/step - loss: 0.2255 - mae: 0.4934 - mse: 0.4808 - r2_score: 0.5311 - rmse: 0.6880 - smape: 102.3515 - val_loss: 0.3628 - val_mae: 0.6729 - val_mse: 0.9525 - val_r2_score: 0.1152 - val_rmse: 0.9729 - val_smape: 135.8661 - learning_rate: 1.2500e-04\n",
      "Epoch 83/256\n",
      "\u001b[1m10/10\u001b[0m \u001b[32m━━━━━━━━━━━━━━━━━━━━\u001b[0m\u001b[37m\u001b[0m \u001b[1m1s\u001b[0m 55ms/step - loss: 0.2270 - mae: 0.4893 - mse: 0.4915 - r2_score: 0.5236 - rmse: 0.6945 - smape: 100.5052 - val_loss: 0.3627 - val_mae: 0.6723 - val_mse: 0.9521 - val_r2_score: 0.1153 - val_rmse: 0.9728 - val_smape: 135.8089 - learning_rate: 1.2500e-04\n",
      "Epoch 84/256\n",
      "\u001b[1m10/10\u001b[0m \u001b[32m━━━━━━━━━━━━━━━━━━━━\u001b[0m\u001b[37m\u001b[0m \u001b[1m1s\u001b[0m 59ms/step - loss: 0.2155 - mae: 0.4809 - mse: 0.4600 - r2_score: 0.5510 - rmse: 0.6724 - smape: 100.1938 - val_loss: 0.3630 - val_mae: 0.6725 - val_mse: 0.9510 - val_r2_score: 0.1165 - val_rmse: 0.9722 - val_smape: 134.9817 - learning_rate: 1.2500e-04\n",
      "Epoch 85/256\n",
      "\u001b[1m10/10\u001b[0m \u001b[32m━━━━━━━━━━━━━━━━━━━━\u001b[0m\u001b[37m\u001b[0m \u001b[1m1s\u001b[0m 58ms/step - loss: 0.2292 - mae: 0.4971 - mse: 0.4914 - r2_score: 0.5288 - rmse: 0.6919 - smape: 102.2268 - val_loss: 0.3636 - val_mae: 0.6725 - val_mse: 0.9528 - val_r2_score: 0.1150 - val_rmse: 0.9730 - val_smape: 133.8073 - learning_rate: 1.2500e-04\n",
      "Epoch 86/256\n",
      "\u001b[1m10/10\u001b[0m \u001b[32m━━━━━━━━━━━━━━━━━━━━\u001b[0m\u001b[37m\u001b[0m \u001b[1m1s\u001b[0m 53ms/step - loss: 0.2267 - mae: 0.4954 - mse: 0.4833 - r2_score: 0.5340 - rmse: 0.6872 - smape: 100.9099 - val_loss: 0.3636 - val_mae: 0.6726 - val_mse: 0.9519 - val_r2_score: 0.1160 - val_rmse: 0.9725 - val_smape: 134.9031 - learning_rate: 1.2500e-04\n",
      "Epoch 87/256\n",
      "\u001b[1m10/10\u001b[0m \u001b[32m━━━━━━━━━━━━━━━━━━━━\u001b[0m\u001b[37m\u001b[0m \u001b[1m1s\u001b[0m 59ms/step - loss: 0.2173 - mae: 0.4826 - mse: 0.4544 - r2_score: 0.5569 - rmse: 0.6693 - smape: 100.5308 - val_loss: 0.3639 - val_mae: 0.6726 - val_mse: 0.9529 - val_r2_score: 0.1152 - val_rmse: 0.9730 - val_smape: 134.9228 - learning_rate: 1.2500e-04\n",
      "Epoch 88/256\n",
      "\u001b[1m10/10\u001b[0m \u001b[32m━━━━━━━━━━━━━━━━━━━━\u001b[0m\u001b[37m\u001b[0m \u001b[1m1s\u001b[0m 60ms/step - loss: 0.2288 - mae: 0.4971 - mse: 0.4879 - r2_score: 0.5273 - rmse: 0.6914 - smape: 102.9747 - val_loss: 0.3642 - val_mae: 0.6731 - val_mse: 0.9540 - val_r2_score: 0.1142 - val_rmse: 0.9735 - val_smape: 135.2127 - learning_rate: 1.2500e-04\n",
      "Epoch 89/256\n",
      "\u001b[1m10/10\u001b[0m \u001b[32m━━━━━━━━━━━━━━━━━━━━\u001b[0m\u001b[37m\u001b[0m \u001b[1m1s\u001b[0m 64ms/step - loss: 0.2267 - mae: 0.4953 - mse: 0.4828 - r2_score: 0.5323 - rmse: 0.6889 - smape: 101.6449 - val_loss: 0.3643 - val_mae: 0.6736 - val_mse: 0.9554 - val_r2_score: 0.1129 - val_rmse: 0.9742 - val_smape: 135.5692 - learning_rate: 1.2500e-04\n",
      "Epoch 90/256\n",
      "\u001b[1m10/10\u001b[0m \u001b[32m━━━━━━━━━━━━━━━━━━━━\u001b[0m\u001b[37m\u001b[0m \u001b[1m1s\u001b[0m 61ms/step - loss: 0.2267 - mae: 0.4921 - mse: 0.4835 - r2_score: 0.5351 - rmse: 0.6875 - smape: 99.2890 - val_loss: 0.3650 - val_mae: 0.6747 - val_mse: 0.9581 - val_r2_score: 0.1106 - val_rmse: 0.9756 - val_smape: 135.5974 - learning_rate: 1.2500e-04\n",
      "Epoch 91/256\n",
      "\u001b[1m10/10\u001b[0m \u001b[32m━━━━━━━━━━━━━━━━━━━━\u001b[0m\u001b[37m\u001b[0m \u001b[1m1s\u001b[0m 55ms/step - loss: 0.2167 - mae: 0.4892 - mse: 0.4453 - r2_score: 0.5718 - rmse: 0.6601 - smape: 100.0192 - val_loss: 0.3646 - val_mae: 0.6738 - val_mse: 0.9588 - val_r2_score: 0.1103 - val_rmse: 0.9758 - val_smape: 134.9790 - learning_rate: 1.2500e-04\n",
      "Epoch 92/256\n",
      "\u001b[1m10/10\u001b[0m \u001b[32m━━━━━━━━━━━━━━━━━━━━\u001b[0m\u001b[37m\u001b[0m \u001b[1m1s\u001b[0m 52ms/step - loss: 0.2075 - mae: 0.4686 - mse: 0.4265 - r2_score: 0.5902 - rmse: 0.6449 - smape: 97.1499 - val_loss: 0.3640 - val_mae: 0.6734 - val_mse: 0.9571 - val_r2_score: 0.1120 - val_rmse: 0.9749 - val_smape: 135.1694 - learning_rate: 1.2500e-04\n",
      "Epoch 93/256\n",
      "\u001b[1m10/10\u001b[0m \u001b[32m━━━━━━━━━━━━━━━━━━━━\u001b[0m\u001b[37m\u001b[0m \u001b[1m1s\u001b[0m 52ms/step - loss: 0.2090 - mae: 0.4648 - mse: 0.4377 - r2_score: 0.5690 - rmse: 0.6567 - smape: 96.7863 - val_loss: 0.3637 - val_mae: 0.6736 - val_mse: 0.9561 - val_r2_score: 0.1129 - val_rmse: 0.9744 - val_smape: 136.2259 - learning_rate: 1.2500e-04\n",
      "Epoch 94/256\n",
      "\u001b[1m10/10\u001b[0m \u001b[32m━━━━━━━━━━━━━━━━━━━━\u001b[0m\u001b[37m\u001b[0m \u001b[1m1s\u001b[0m 57ms/step - loss: 0.2226 - mae: 0.4888 - mse: 0.4602 - r2_score: 0.5513 - rmse: 0.6734 - smape: 102.5943 - val_loss: 0.3637 - val_mae: 0.6732 - val_mse: 0.9561 - val_r2_score: 0.1130 - val_rmse: 0.9744 - val_smape: 135.9023 - learning_rate: 1.2500e-04\n",
      "Epoch 95/256\n",
      "\u001b[1m10/10\u001b[0m \u001b[32m━━━━━━━━━━━━━━━━━━━━\u001b[0m\u001b[37m\u001b[0m \u001b[1m1s\u001b[0m 69ms/step - loss: 0.2132 - mae: 0.4802 - mse: 0.4418 - r2_score: 0.5686 - rmse: 0.6600 - smape: 101.3452 - val_loss: 0.3640 - val_mae: 0.6729 - val_mse: 0.9572 - val_r2_score: 0.1119 - val_rmse: 0.9750 - val_smape: 135.1882 - learning_rate: 1.2500e-04\n",
      "Epoch 96/256\n",
      "\u001b[1m10/10\u001b[0m \u001b[32m━━━━━━━━━━━━━━━━━━━━\u001b[0m\u001b[37m\u001b[0m \u001b[1m1s\u001b[0m 53ms/step - loss: 0.2155 - mae: 0.4872 - mse: 0.4445 - r2_score: 0.5698 - rmse: 0.6610 - smape: 103.2252 - val_loss: 0.3640 - val_mae: 0.6724 - val_mse: 0.9572 - val_r2_score: 0.1119 - val_rmse: 0.9749 - val_smape: 134.3273 - learning_rate: 1.2500e-04\n",
      "Epoch 97/256\n",
      "\u001b[1m10/10\u001b[0m \u001b[32m━━━━━━━━━━━━━━━━━━━━\u001b[0m\u001b[37m\u001b[0m \u001b[1m1s\u001b[0m 66ms/step - loss: 0.2056 - mae: 0.4648 - mse: 0.4293 - r2_score: 0.5836 - rmse: 0.6494 - smape: 97.5430 - val_loss: 0.3643 - val_mae: 0.6726 - val_mse: 0.9575 - val_r2_score: 0.1116 - val_rmse: 0.9751 - val_smape: 134.2448 - learning_rate: 6.2500e-05\n",
      "Epoch 98/256\n",
      "\u001b[1m10/10\u001b[0m \u001b[32m━━━━━━━━━━━━━━━━━━━━\u001b[0m\u001b[37m\u001b[0m \u001b[1m1s\u001b[0m 58ms/step - loss: 0.2075 - mae: 0.4594 - mse: 0.4323 - r2_score: 0.5772 - rmse: 0.6510 - smape: 95.3908 - val_loss: 0.3646 - val_mae: 0.6729 - val_mse: 0.9586 - val_r2_score: 0.1106 - val_rmse: 0.9757 - val_smape: 134.3256 - learning_rate: 6.2500e-05\n",
      "Epoch 99/256\n",
      "\u001b[1m10/10\u001b[0m \u001b[32m━━━━━━━━━━━━━━━━━━━━\u001b[0m\u001b[37m\u001b[0m \u001b[1m1s\u001b[0m 54ms/step - loss: 0.2037 - mae: 0.4541 - mse: 0.4333 - r2_score: 0.5849 - rmse: 0.6495 - smape: 92.8986 - val_loss: 0.3649 - val_mae: 0.6732 - val_mse: 0.9595 - val_r2_score: 0.1099 - val_rmse: 0.9761 - val_smape: 134.2293 - learning_rate: 6.2500e-05\n",
      "Epoch 100/256\n",
      "\u001b[1m10/10\u001b[0m \u001b[32m━━━━━━━━━━━━━━━━━━━━\u001b[0m\u001b[37m\u001b[0m \u001b[1m1s\u001b[0m 57ms/step - loss: 0.2012 - mae: 0.4606 - mse: 0.4088 - r2_score: 0.6028 - rmse: 0.6348 - smape: 96.7260 - val_loss: 0.3652 - val_mae: 0.6737 - val_mse: 0.9605 - val_r2_score: 0.1090 - val_rmse: 0.9766 - val_smape: 134.2971 - learning_rate: 6.2500e-05\n",
      "Epoch 101/256\n",
      "\u001b[1m10/10\u001b[0m \u001b[32m━━━━━━━━━━━━━━━━━━━━\u001b[0m\u001b[37m\u001b[0m \u001b[1m1s\u001b[0m 66ms/step - loss: 0.1945 - mae: 0.4439 - mse: 0.4129 - r2_score: 0.5969 - rmse: 0.6372 - smape: 94.3330 - val_loss: 0.3656 - val_mae: 0.6742 - val_mse: 0.9620 - val_r2_score: 0.1076 - val_rmse: 0.9773 - val_smape: 134.0960 - learning_rate: 6.2500e-05\n",
      "Epoch 102/256\n",
      "\u001b[1m10/10\u001b[0m \u001b[32m━━━━━━━━━━━━━━━━━━━━\u001b[0m\u001b[37m\u001b[0m \u001b[1m1s\u001b[0m 54ms/step - loss: 0.2090 - mae: 0.4691 - mse: 0.4344 - r2_score: 0.5803 - rmse: 0.6528 - smape: 98.7504 - val_loss: 0.3661 - val_mae: 0.6747 - val_mse: 0.9638 - val_r2_score: 0.1059 - val_rmse: 0.9783 - val_smape: 134.0713 - learning_rate: 6.2500e-05\n",
      "Epoch 103/256\n",
      "\u001b[1m10/10\u001b[0m \u001b[32m━━━━━━━━━━━━━━━━━━━━\u001b[0m\u001b[37m\u001b[0m \u001b[1m1s\u001b[0m 52ms/step - loss: 0.2227 - mae: 0.4843 - mse: 0.4943 - r2_score: 0.5229 - rmse: 0.6945 - smape: 99.3427 - val_loss: 0.3662 - val_mae: 0.6751 - val_mse: 0.9648 - val_r2_score: 0.1051 - val_rmse: 0.9787 - val_smape: 134.3951 - learning_rate: 6.2500e-05\n",
      "Epoch 104/256\n",
      "\u001b[1m10/10\u001b[0m \u001b[32m━━━━━━━━━━━━━━━━━━━━\u001b[0m\u001b[37m\u001b[0m \u001b[1m1s\u001b[0m 71ms/step - loss: 0.2087 - mae: 0.4642 - mse: 0.4443 - r2_score: 0.5654 - rmse: 0.6602 - smape: 98.5470 - val_loss: 0.3662 - val_mae: 0.6754 - val_mse: 0.9644 - val_r2_score: 0.1056 - val_rmse: 0.9785 - val_smape: 134.3203 - learning_rate: 6.2500e-05\n",
      "Epoch 105/256\n",
      "\u001b[1m10/10\u001b[0m \u001b[32m━━━━━━━━━━━━━━━━━━━━\u001b[0m\u001b[37m\u001b[0m \u001b[1m1s\u001b[0m 52ms/step - loss: 0.2078 - mae: 0.4623 - mse: 0.4313 - r2_score: 0.5825 - rmse: 0.6516 - smape: 98.0430 - val_loss: 0.3663 - val_mae: 0.6756 - val_mse: 0.9647 - val_r2_score: 0.1052 - val_rmse: 0.9787 - val_smape: 134.3825 - learning_rate: 6.2500e-05\n",
      "Epoch 106/256\n",
      "\u001b[1m10/10\u001b[0m \u001b[32m━━━━━━━━━━━━━━━━━━━━\u001b[0m\u001b[37m\u001b[0m \u001b[1m1s\u001b[0m 50ms/step - loss: 0.2204 - mae: 0.4880 - mse: 0.4510 - r2_score: 0.5603 - rmse: 0.6670 - smape: 100.1346 - val_loss: 0.3660 - val_mae: 0.6754 - val_mse: 0.9623 - val_r2_score: 0.1075 - val_rmse: 0.9774 - val_smape: 134.3620 - learning_rate: 6.2500e-05\n",
      "Epoch 107/256\n",
      "\u001b[1m10/10\u001b[0m \u001b[32m━━━━━━━━━━━━━━━━━━━━\u001b[0m\u001b[37m\u001b[0m \u001b[1m1s\u001b[0m 50ms/step - loss: 0.2087 - mae: 0.4646 - mse: 0.4336 - r2_score: 0.5801 - rmse: 0.6531 - smape: 96.6670 - val_loss: 0.3657 - val_mae: 0.6752 - val_mse: 0.9603 - val_r2_score: 0.1091 - val_rmse: 0.9765 - val_smape: 134.1674 - learning_rate: 6.2500e-05\n",
      "Epoch 108/256\n",
      "\u001b[1m10/10\u001b[0m \u001b[32m━━━━━━━━━━━━━━━━━━━━\u001b[0m\u001b[37m\u001b[0m \u001b[1m1s\u001b[0m 54ms/step - loss: 0.2006 - mae: 0.4617 - mse: 0.4065 - r2_score: 0.6052 - rmse: 0.6337 - smape: 98.4795 - val_loss: 0.3661 - val_mae: 0.6754 - val_mse: 0.9612 - val_r2_score: 0.1083 - val_rmse: 0.9769 - val_smape: 133.8783 - learning_rate: 6.2500e-05\n",
      "Epoch 109/256\n",
      "\u001b[1m10/10\u001b[0m \u001b[32m━━━━━━━━━━━━━━━━━━━━\u001b[0m\u001b[37m\u001b[0m \u001b[1m1s\u001b[0m 50ms/step - loss: 0.2154 - mae: 0.4737 - mse: 0.4558 - r2_score: 0.5614 - rmse: 0.6675 - smape: 97.1760 - val_loss: 0.3663 - val_mae: 0.6755 - val_mse: 0.9612 - val_r2_score: 0.1084 - val_rmse: 0.9769 - val_smape: 133.6099 - learning_rate: 6.2500e-05\n",
      "Epoch 110/256\n",
      "\u001b[1m10/10\u001b[0m \u001b[32m━━━━━━━━━━━━━━━━━━━━\u001b[0m\u001b[37m\u001b[0m \u001b[1m1s\u001b[0m 50ms/step - loss: 0.2128 - mae: 0.4712 - mse: 0.4384 - r2_score: 0.5728 - rmse: 0.6567 - smape: 98.2682 - val_loss: 0.3664 - val_mae: 0.6758 - val_mse: 0.9611 - val_r2_score: 0.1085 - val_rmse: 0.9768 - val_smape: 133.8752 - learning_rate: 6.2500e-05\n",
      "Epoch 111/256\n",
      "\u001b[1m10/10\u001b[0m \u001b[32m━━━━━━━━━━━━━━━━━━━━\u001b[0m\u001b[37m\u001b[0m \u001b[1m1s\u001b[0m 49ms/step - loss: 0.2114 - mae: 0.4718 - mse: 0.4327 - r2_score: 0.5798 - rmse: 0.6522 - smape: 98.2262 - val_loss: 0.3667 - val_mae: 0.6760 - val_mse: 0.9626 - val_r2_score: 0.1071 - val_rmse: 0.9776 - val_smape: 133.8500 - learning_rate: 6.2500e-05\n",
      "Epoch 112/256\n",
      "\u001b[1m10/10\u001b[0m \u001b[32m━━━━━━━━━━━━━━━━━━━━\u001b[0m\u001b[37m\u001b[0m \u001b[1m1s\u001b[0m 57ms/step - loss: 0.2104 - mae: 0.4682 - mse: 0.4334 - r2_score: 0.5785 - rmse: 0.6539 - smape: 96.1304 - val_loss: 0.3669 - val_mae: 0.6762 - val_mse: 0.9631 - val_r2_score: 0.1065 - val_rmse: 0.9779 - val_smape: 133.6037 - learning_rate: 6.2500e-05\n",
      "\u001b[32m2025-07-09 13:59:01.947\u001b[0m | \u001b[1mINFO    \u001b[0m | \u001b[36msrc.modeling.train\u001b[0m:\u001b[36mmain\u001b[0m:\u001b[36m89\u001b[0m - \u001b[1mSaving 'default_model.keras' in 'C:\\Repositories\\time-series-prediction-rnn\\models'...\u001b[0m\n",
      "\u001b[32m2025-07-09 13:59:02.034\u001b[0m | \u001b[32m\u001b[1mSUCCESS \u001b[0m | \u001b[36msrc.modeling.train\u001b[0m:\u001b[36mmain\u001b[0m:\u001b[36m93\u001b[0m - \u001b[32m\u001b[1mModeling training complete.\u001b[0m\n",
      "\u001b[32m2025-07-09 13:59:02.034\u001b[0m | \u001b[1mINFO    \u001b[0m | \u001b[36msrc.modeling.train\u001b[0m:\u001b[36mmain\u001b[0m:\u001b[36m96\u001b[0m - \u001b[1mElapsed time: 91.50 seconds\u001b[0m\n",
      "\u001b[32m2025-07-09 13:59:02.036\u001b[0m | \u001b[1mINFO    \u001b[0m | \u001b[36msrc.modeling.train\u001b[0m:\u001b[36mmain\u001b[0m:\u001b[36m98\u001b[0m - \u001b[1mLogging experiment into mlflow.\u001b[0m\n",
      "\u001b[32m2025-07-09 13:59:02.053\u001b[0m | \u001b[1mINFO    \u001b[0m | \u001b[36msrc.utils.log.log_strategy\u001b[0m:\u001b[36mrun\u001b[0m:\u001b[36m84\u001b[0m - \u001b[1mStarting MLflow run 'Sequential' in experiment '0.0-amp-main-notebook'\u001b[0m\n"
     ]
    },
    {
     "name": "stderr",
     "output_type": "stream",
     "text": [
      "2025/07/09 13:59:02 WARNING mlflow.keras.save: You are saving a Keras model without specifying model signature.\n"
     ]
    },
    {
     "name": "stdout",
     "output_type": "stream",
     "text": [
      "\u001b[32m2025-07-09 13:59:02.421\u001b[0m | \u001b[1mINFO    \u001b[0m | \u001b[36msrc.utils.log.log_strategy\u001b[0m:\u001b[36mlog_environment\u001b[0m:\u001b[36m57\u001b[0m - \u001b[1mLogging environment details...\u001b[0m\n",
      "\u001b[32m2025-07-09 13:59:02.442\u001b[0m | \u001b[1mINFO    \u001b[0m | \u001b[36msrc.utils.log.log_strategy\u001b[0m:\u001b[36mrun\u001b[0m:\u001b[36m103\u001b[0m - \u001b[1mLogging Keras model...\u001b[0m\n"
     ]
    },
    {
     "name": "stderr",
     "output_type": "stream",
     "text": [
      "2025/07/09 13:59:16 WARNING mlflow.utils.environment: Encountered an unexpected error while inferring pip requirements (model URI: C:\\Users\\SAMSUNG\\AppData\\Local\\Temp\\tmp5__5ouzi\\model, flavor: keras). Fall back to return ['keras==3.9.2']. Set logging level to DEBUG to see the full traceback. \n",
      "2025/07/09 13:59:16 WARNING mlflow.models.model: Model logged without a signature and input example. Please set `input_example` parameter when logging the model to auto infer the model signature.\n",
      "Registered model '2025-amp-rnn' already exists. Creating a new version of this model...\n",
      "Created version '3' of model '2025-amp-rnn'.\n",
      "WARNING:absl:You are saving your model as an HDF5 file via `model.save()` or `keras.saving.save_model(model)`. This file format is considered legacy. We recommend using instead the native Keras format, e.g. `model.save('my_model.keras')` or `keras.saving.save_model(model, 'my_model.keras')`. \n"
     ]
    },
    {
     "name": "stdout",
     "output_type": "stream",
     "text": [
      "\u001b[32m2025-07-09 13:59:16.915\u001b[0m | \u001b[1mINFO    \u001b[0m | \u001b[36msrc.utils.log.log_strategy\u001b[0m:\u001b[36mrun\u001b[0m:\u001b[36m131\u001b[0m - \u001b[1mLogging final and aggregate metrics...\u001b[0m\n",
      "\u001b[32m2025-07-09 13:59:21.600\u001b[0m | \u001b[1mINFO    \u001b[0m | \u001b[36msrc.utils.log.log_strategy\u001b[0m:\u001b[36mrun\u001b[0m:\u001b[36m141\u001b[0m - \u001b[1mLogging artifacts...\u001b[0m\n",
      "\u001b[32m2025-07-09 13:59:21.957\u001b[0m | \u001b[32m\u001b[1mSUCCESS \u001b[0m | \u001b[36msrc.utils.log.log_strategy\u001b[0m:\u001b[36mrun\u001b[0m:\u001b[36m162\u001b[0m - \u001b[32m\u001b[1mMLflow logging complete.\u001b[0m\n",
      "\u001b[32m2025-07-09 13:59:21.961\u001b[0m | \u001b[32m\u001b[1mSUCCESS \u001b[0m | \u001b[36msrc.modeling.train\u001b[0m:\u001b[36mmain\u001b[0m:\u001b[36m113\u001b[0m - \u001b[32m\u001b[1mExperiment logged successfully.\u001b[0m\n"
     ]
    }
   ],
   "source": [
    "from src import config\n",
    "from src.modeling import train\n",
    "\n",
    "train.main(\n",
    "    # ---- REPLACE DEFAULT PATHS AS APPROPRIATE ----\n",
    "    X_path = config.PROCESSED_DATA_DIR / \"X_train.npy\",\n",
    "    y_path = config.PROCESSED_DATA_DIR / \"y_train.npy\",\n",
    "    # -----------------------------------------\n",
    "    optimizer =  None,  # Use default optimizer\n",
    "    loss = None,  # Use default loss\n",
    "    metrics = None,  # Use default metrics\n",
    "    # -----------------------------------------\n",
    "    epochs = 2**8,    \n",
    "    validation_len = 2**7,\n",
    "    batch_size = 2**6,    \n",
    "    # -----------------------------------------\n",
    "    experiment_name = \"0.0-amp-main-notebook\",\n",
    ")"
   ]
  },
  {
   "cell_type": "markdown",
   "id": "ab6162b6",
   "metadata": {},
   "source": [
    "## Predict\n",
    "\n",
    "In the prediction stage, the trained model is loaded along with the input data. The model then performs inference, generating predictions based on the provided data.\n"
   ]
  },
  {
   "cell_type": "code",
   "execution_count": 5,
   "id": "55f922aa",
   "metadata": {},
   "outputs": [
    {
     "name": "stdout",
     "output_type": "stream",
     "text": [
      "\u001b[32m2025-07-09 13:59:21.978\u001b[0m | \u001b[1mINFO    \u001b[0m | \u001b[36msrc.modeling.predict\u001b[0m:\u001b[36mmain\u001b[0m:\u001b[36m28\u001b[0m - \u001b[1mPerforming inference for model...\u001b[0m\n",
      "\u001b[32m2025-07-09 13:59:22.274\u001b[0m | \u001b[1mINFO    \u001b[0m | \u001b[36msrc.modeling.predict\u001b[0m:\u001b[36mmain\u001b[0m:\u001b[36m43\u001b[0m - \u001b[1mInput data shape: (20, 13)\u001b[0m\n",
      "\u001b[32m2025-07-09 13:59:22.280\u001b[0m | \u001b[1mINFO    \u001b[0m | \u001b[36msrc.utils.features.generator_strategy\u001b[0m:\u001b[36mgenerate\u001b[0m:\u001b[36m18\u001b[0m - \u001b[1mGenerating Timeseries from dataset...\u001b[0m\n"
     ]
    },
    {
     "name": "stderr",
     "output_type": "stream",
     "text": [
      "c:\\Repositories\\time-series-prediction-rnn\\.venv\\Lib\\site-packages\\keras\\src\\trainers\\data_adapters\\py_dataset_adapter.py:121: UserWarning: Your `PyDataset` class should call `super().__init__(**kwargs)` in its constructor. `**kwargs` can include `workers`, `use_multiprocessing`, `max_queue_size`. Do not pass these arguments to `fit()`, as they will be ignored.\n",
      "  self._warn_if_super_not_called()\n"
     ]
    },
    {
     "name": "stdout",
     "output_type": "stream",
     "text": [
      "\u001b[1m1/1\u001b[0m \u001b[32m━━━━━━━━━━━━━━━━━━━━\u001b[0m\u001b[37m\u001b[0m \u001b[1m2s\u001b[0m 2s/step\n",
      "            Close_^BVSP  Volume_^BVSP       type\n",
      "2025-07-07    -0.014052      1.893298       True\n",
      "2025-07-08    -0.001341      0.103444       True\n",
      "2025-07-09     0.001660     -0.210624  Predicted\n",
      "\u001b[32m2025-07-09 13:59:24.557\u001b[0m | \u001b[32m\u001b[1mSUCCESS \u001b[0m | \u001b[36msrc.modeling.predict\u001b[0m:\u001b[36mmain\u001b[0m:\u001b[36m78\u001b[0m - \u001b[32m\u001b[1mInference complete.\u001b[0m\n"
     ]
    }
   ],
   "source": [
    "from src import config\n",
    "from src.modeling import predict\n",
    "\n",
    "predict.main(\n",
    "    # ---- REPLACE DEFAULT PATHS AS APPROPRIATE ----\n",
    "    input_path = config.PROCESSED_DATA_DIR / \"dataset.csv\"\n",
    "    ,preprocessor_path = config.PROCESSED_DATA_DIR / \"preprocessor.pkl\"\n",
    "    ,postprocessor_path = config.PROCESSED_DATA_DIR / \"postprocessor.pkl\"\n",
    "    ,output_path = config.PREDICTED_DATA_DIR / \"dataset_report.csv\"\n",
    "    ,model_path = config.MODELS_DIR / \"default_model.keras\"  # Select the best model  \n",
    "    # -----------------------------------------\n",
    ")"
   ]
  },
  {
   "cell_type": "markdown",
   "id": "340ef876",
   "metadata": {},
   "source": [
    "## Plot\n",
    "\n",
    "Open the [Power BI Report]((../reports/pbi/amp-fynance.pbip)) and refresh data."
   ]
  }
 ],
 "metadata": {
  "kernelspec": {
   "display_name": ".venv",
   "language": "python",
   "name": "python3"
  },
  "language_info": {
   "codemirror_mode": {
    "name": "ipython",
    "version": 3
   },
   "file_extension": ".py",
   "mimetype": "text/x-python",
   "name": "python",
   "nbconvert_exporter": "python",
   "pygments_lexer": "ipython3",
   "version": "3.12.10"
  }
 },
 "nbformat": 4,
 "nbformat_minor": 5
}
