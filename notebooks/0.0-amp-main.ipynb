{
 "cells": [
  {
   "cell_type": "markdown",
   "id": "9f58e5c2",
   "metadata": {},
   "source": [
    "## Import libraries"
   ]
  },
  {
   "cell_type": "code",
   "execution_count": 1,
   "id": "42021f93",
   "metadata": {},
   "outputs": [
    {
     "name": "stderr",
     "output_type": "stream",
     "text": [
      "\u001b[32m2025-06-25 13:08:08.949\u001b[0m | \u001b[1mINFO    \u001b[0m | \u001b[36msrc.config\u001b[0m:\u001b[36m<module>\u001b[0m:\u001b[36m11\u001b[0m - \u001b[1mPROJ_ROOT path is: C:\\Repositories\\ds-lstm-ibov\u001b[0m\n"
     ]
    }
   ],
   "source": [
    "import src.config as config"
   ]
  },
  {
   "cell_type": "markdown",
   "id": "9bfd6425",
   "metadata": {},
   "source": [
    "## ETL — Extract, Transform, Load of Raw Dataset\n",
    "\n",
    "This section is responsible for the Extraction phase of the ETL process, pulling historical financial data from multiple sources as defined in the configuration file [dataset.yaml](../configs/dataset.yaml).\n",
    "\n",
    "- Data Storage: Each dataset is stored locally in the data/raw/ directory, organized and saved individually as .csv files for traceability and versioning.\n",
    "- Data Cleaning:\n",
    "  - Missing values are treated using a standard cleaning strategy.\n",
    "  - Features with low variance (threshold < 0.01) are removed to reduce noise and improve modeling efficiency. In this execution, no low-variance columns were found."
   ]
  },
  {
   "cell_type": "code",
   "execution_count": 2,
   "id": "7fdcd420",
   "metadata": {},
   "outputs": [
    {
     "name": "stdout",
     "output_type": "stream",
     "text": [
      "\u001b[32m2025-06-25 13:08:12.455\u001b[0m | \u001b[1mINFO    \u001b[0m | \u001b[36msrc.dataset\u001b[0m:\u001b[36mmain\u001b[0m:\u001b[36m33\u001b[0m - \u001b[1mStarting raw data loading...\u001b[0m\n",
      "\u001b[32m2025-06-25 13:08:12.455\u001b[0m | \u001b[1mINFO    \u001b[0m | \u001b[36msrc.dataset\u001b[0m:\u001b[36mmain\u001b[0m:\u001b[36m39\u001b[0m - \u001b[1mRequesting information between 2016-06-27 and 2025-06-25\u001b[0m\n",
      "\u001b[32m2025-06-25 13:08:12.455\u001b[0m | \u001b[1mINFO    \u001b[0m | \u001b[36msrc.utils.dataset.dataset_loading_strategy\u001b[0m:\u001b[36m_load_from_yfinance\u001b[0m:\u001b[36m56\u001b[0m - \u001b[1mDownloading BOVESPA (^BVSP) from yfinance...\u001b[0m\n"
     ]
    },
    {
     "name": "stderr",
     "output_type": "stream",
     "text": [
      "[*********************100%***********************]  1 of 1 completed\n"
     ]
    },
    {
     "name": "stdout",
     "output_type": "stream",
     "text": [
      "\u001b[32m2025-06-25 13:08:15.875\u001b[0m | \u001b[1mINFO    \u001b[0m | \u001b[36msrc.utils.dataset.dataset_loading_strategy\u001b[0m:\u001b[36m_load_from_yfinance\u001b[0m:\u001b[36m56\u001b[0m - \u001b[1mDownloading S&P500 (^GSPC) from yfinance...\u001b[0m\n"
     ]
    },
    {
     "name": "stderr",
     "output_type": "stream",
     "text": [
      "[*********************100%***********************]  1 of 1 completed\n"
     ]
    },
    {
     "name": "stdout",
     "output_type": "stream",
     "text": [
      "\u001b[32m2025-06-25 13:08:18.529\u001b[0m | \u001b[1mINFO    \u001b[0m | \u001b[36msrc.utils.dataset.dataset_loading_strategy\u001b[0m:\u001b[36m_load_from_yfinance\u001b[0m:\u001b[36m56\u001b[0m - \u001b[1mDownloading BITCOIN (BTC-USD) from yfinance...\u001b[0m\n"
     ]
    },
    {
     "name": "stderr",
     "output_type": "stream",
     "text": [
      "[*********************100%***********************]  1 of 1 completed\n"
     ]
    },
    {
     "name": "stdout",
     "output_type": "stream",
     "text": [
      "\u001b[32m2025-06-25 13:08:21.423\u001b[0m | \u001b[1mINFO    \u001b[0m | \u001b[36msrc.utils.dataset.dataset_loading_strategy\u001b[0m:\u001b[36m_load_from_yfinance\u001b[0m:\u001b[36m56\u001b[0m - \u001b[1mDownloading OURO (GC=F) from yfinance...\u001b[0m\n"
     ]
    },
    {
     "name": "stderr",
     "output_type": "stream",
     "text": [
      "[*********************100%***********************]  1 of 1 completed\n"
     ]
    },
    {
     "name": "stdout",
     "output_type": "stream",
     "text": [
      "\u001b[32m2025-06-25 13:08:24.070\u001b[0m | \u001b[1mINFO    \u001b[0m | \u001b[36msrc.utils.dataset.dataset_loading_strategy\u001b[0m:\u001b[36m_load_from_yfinance\u001b[0m:\u001b[36m56\u001b[0m - \u001b[1mDownloading PETROLEO (CL=F) from yfinance...\u001b[0m\n"
     ]
    },
    {
     "name": "stderr",
     "output_type": "stream",
     "text": [
      "[*********************100%***********************]  1 of 1 completed\n"
     ]
    },
    {
     "name": "stdout",
     "output_type": "stream",
     "text": [
      "\u001b[32m2025-06-25 13:08:26.866\u001b[0m | \u001b[1mINFO    \u001b[0m | \u001b[36msrc.utils.dataset.dataset_loading_strategy\u001b[0m:\u001b[36m_load_from_yfinance\u001b[0m:\u001b[36m56\u001b[0m - \u001b[1mDownloading ACUCAR (SB=F) from yfinance...\u001b[0m\n"
     ]
    },
    {
     "name": "stderr",
     "output_type": "stream",
     "text": [
      "[*********************100%***********************]  1 of 1 completed\n"
     ]
    },
    {
     "name": "stdout",
     "output_type": "stream",
     "text": [
      "\u001b[32m2025-06-25 13:08:29.529\u001b[0m | \u001b[1mINFO    \u001b[0m | \u001b[36msrc.utils.dataset.dataset_loading_strategy\u001b[0m:\u001b[36mload\u001b[0m:\u001b[36m81\u001b[0m - \u001b[1mDownloading SELIC (11) from the Central Bank of Brazil API...\u001b[0m\n",
      "\u001b[32m2025-06-25 13:08:48.143\u001b[0m | \u001b[1mINFO    \u001b[0m | \u001b[36msrc.utils.dataset.dataset_loading_strategy\u001b[0m:\u001b[36mload\u001b[0m:\u001b[36m81\u001b[0m - \u001b[1mDownloading CDI (12) from the Central Bank of Brazil API...\u001b[0m\n",
      "\u001b[32m2025-06-25 13:08:50.356\u001b[0m | \u001b[1mINFO    \u001b[0m | \u001b[36msrc.utils.dataset.dataset_loading_strategy\u001b[0m:\u001b[36mload\u001b[0m:\u001b[36m81\u001b[0m - \u001b[1mDownloading SELIC_Anual (1178) from the Central Bank of Brazil API...\u001b[0m\n",
      "\u001b[32m2025-06-25 13:09:10.349\u001b[0m | \u001b[1mINFO    \u001b[0m | \u001b[36msrc.utils.dataset.dataset_loading_strategy\u001b[0m:\u001b[36mload\u001b[0m:\u001b[36m81\u001b[0m - \u001b[1mDownloading SELIC_Meta_Anual (432) from the Central Bank of Brazil API...\u001b[0m\n",
      "\u001b[32m2025-06-25 13:09:40.755\u001b[0m | \u001b[33m\u001b[1mWARNING \u001b[0m | \u001b[36msrc.utils.dataset.dataset_loading_strategy\u001b[0m:\u001b[36m_request_bcb_series\u001b[0m:\u001b[36m118\u001b[0m - \u001b[33m\u001b[1mErro ao conectar à API do BCB: Expecting value: line 1 column 1 (char 0)\u001b[0m\n",
      "\u001b[32m2025-06-25 13:09:40.758\u001b[0m | \u001b[33m\u001b[1mWARNING \u001b[0m | \u001b[36msrc.utils.dataset.dataset_loading_strategy\u001b[0m:\u001b[36m_load_single_ticker\u001b[0m:\u001b[36m94\u001b[0m - \u001b[33m\u001b[1mNo data returned for SELIC_Meta_Anual (432)\u001b[0m\n",
      "\u001b[32m2025-06-25 13:09:42.760\u001b[0m | \u001b[1mINFO    \u001b[0m | \u001b[36msrc.utils.dataset.dataset_loading_strategy\u001b[0m:\u001b[36mload\u001b[0m:\u001b[36m81\u001b[0m - \u001b[1mDownloading IPCA_Mensal (433) from the Central Bank of Brazil API...\u001b[0m\n",
      "\u001b[32m2025-06-25 13:09:47.597\u001b[0m | \u001b[33m\u001b[1mWARNING \u001b[0m | \u001b[36msrc.utils.dataset.dataset_loading_strategy\u001b[0m:\u001b[36m_request_bcb_series\u001b[0m:\u001b[36m118\u001b[0m - \u001b[33m\u001b[1mErro ao conectar à API do BCB: 502 Server Error: Bad Gateway for url: https://api.bcb.gov.br/dados/serie/bcdata.sgs.433/dados?formato=json&dataInicial=27%2F06%2F2016&dataFinal=25%2F06%2F2025\u001b[0m\n",
      "\u001b[32m2025-06-25 13:09:47.600\u001b[0m | \u001b[33m\u001b[1mWARNING \u001b[0m | \u001b[36msrc.utils.dataset.dataset_loading_strategy\u001b[0m:\u001b[36m_load_single_ticker\u001b[0m:\u001b[36m94\u001b[0m - \u001b[33m\u001b[1mNo data returned for IPCA_Mensal (433)\u001b[0m\n",
      "\u001b[32m2025-06-25 13:09:49.601\u001b[0m | \u001b[1mINFO    \u001b[0m | \u001b[36msrc.utils.dataset.dataset_loading_strategy\u001b[0m:\u001b[36mload\u001b[0m:\u001b[36m81\u001b[0m - \u001b[1mDownloading IGP_M_Mensal (189) from the Central Bank of Brazil API...\u001b[0m\n",
      "\u001b[32m2025-06-25 13:09:52.297\u001b[0m | \u001b[1mINFO    \u001b[0m | \u001b[36msrc.utils.dataset.dataset_loading_strategy\u001b[0m:\u001b[36mload\u001b[0m:\u001b[36m81\u001b[0m - \u001b[1mDownloading INCC_Mensal (192) from the Central Bank of Brazil API...\u001b[0m\n",
      "\u001b[32m2025-06-25 13:09:54.860\u001b[0m | \u001b[1mINFO    \u001b[0m | \u001b[36msrc.utils.dataset.dataset_loading_strategy\u001b[0m:\u001b[36mload\u001b[0m:\u001b[36m81\u001b[0m - \u001b[1mDownloading Indice_Condicoes_Econ_BR (27574) from the Central Bank of Brazil API...\u001b[0m\n",
      "\u001b[32m2025-06-25 13:09:57.450\u001b[0m | \u001b[1mINFO    \u001b[0m | \u001b[36msrc.utils.dataset.dataset_loading_strategy\u001b[0m:\u001b[36mload\u001b[0m:\u001b[36m81\u001b[0m - \u001b[1mDownloading Indice_Condicoes_Econ_BR_USD (29042) from the Central Bank of Brazil API...\u001b[0m\n",
      "\u001b[32m2025-06-25 13:10:00.067\u001b[0m | \u001b[1mINFO    \u001b[0m | \u001b[36msrc.utils.dataset.dataset_loading_strategy\u001b[0m:\u001b[36mload\u001b[0m:\u001b[36m81\u001b[0m - \u001b[1mDownloading Salario_Minimo (1619) from the Central Bank of Brazil API...\u001b[0m\n",
      "\u001b[32m2025-06-25 13:10:02.602\u001b[0m | \u001b[1mINFO    \u001b[0m | \u001b[36msrc.utils.dataset.dataset_loading_strategy\u001b[0m:\u001b[36mload\u001b[0m:\u001b[36m81\u001b[0m - \u001b[1mDownloading IBC_BR (24363) from the Central Bank of Brazil API...\u001b[0m\n",
      "\u001b[32m2025-06-25 13:10:05.228\u001b[0m | \u001b[1mINFO    \u001b[0m | \u001b[36msrc.utils.dataset.dataset_loading_strategy\u001b[0m:\u001b[36mload\u001b[0m:\u001b[36m81\u001b[0m - \u001b[1mDownloading Populacao_BR (21774) from the Central Bank of Brazil API...\u001b[0m\n",
      "\u001b[32m2025-06-25 13:10:11.265\u001b[0m | \u001b[1mINFO    \u001b[0m | \u001b[36msrc.utils.dataset.dataset_loading_strategy\u001b[0m:\u001b[36mload\u001b[0m:\u001b[36m81\u001b[0m - \u001b[1mDownloading PIB_Trimestral_Real (4380) from the Central Bank of Brazil API...\u001b[0m\n",
      "\u001b[32m2025-06-25 13:10:13.828\u001b[0m | \u001b[1mINFO    \u001b[0m | \u001b[36msrc.utils.dataset.dataset_loading_strategy\u001b[0m:\u001b[36mload\u001b[0m:\u001b[36m81\u001b[0m - \u001b[1mDownloading PIB_Anual_Corrente (7326) from the Central Bank of Brazil API...\u001b[0m\n",
      "\u001b[32m2025-06-25 13:10:16.400\u001b[0m | \u001b[1mINFO    \u001b[0m | \u001b[36msrc.utils.dataset.dataset_loading_strategy\u001b[0m:\u001b[36mload\u001b[0m:\u001b[36m81\u001b[0m - \u001b[1mDownloading Deflator_Implicito_PIB (1211) from the Central Bank of Brazil API...\u001b[0m\n",
      "\u001b[32m2025-06-25 13:10:18.779\u001b[0m | \u001b[1mINFO    \u001b[0m | \u001b[36msrc.utils.dataset.dataset_loading_strategy\u001b[0m:\u001b[36mload\u001b[0m:\u001b[36m136\u001b[0m - \u001b[1mDownloading BRL_USD (DEXBZUS) from DataReader...\u001b[0m\n",
      "\u001b[32m2025-06-25 13:10:23.045\u001b[0m | \u001b[1mINFO    \u001b[0m | \u001b[36msrc.utils.dataset.dataset_loading_strategy\u001b[0m:\u001b[36mload\u001b[0m:\u001b[36m136\u001b[0m - \u001b[1mDownloading CPI_USA (CPIAUCSL) from DataReader...\u001b[0m\n",
      "\u001b[32m2025-06-25 13:10:25.655\u001b[0m | \u001b[1mINFO    \u001b[0m | \u001b[36msrc.dataset\u001b[0m:\u001b[36mmain\u001b[0m:\u001b[36m58\u001b[0m - \u001b[1mSaved Yfinance_BOVESPA dataset to C:\\Repositories\\ds-lstm-ibov\\data\\raw\\Yfinance_BOVESPA.csv\u001b[0m\n",
      "\u001b[32m2025-06-25 13:10:25.688\u001b[0m | \u001b[1mINFO    \u001b[0m | \u001b[36msrc.dataset\u001b[0m:\u001b[36mmain\u001b[0m:\u001b[36m58\u001b[0m - \u001b[1mSaved Yfinance_S&P500 dataset to C:\\Repositories\\ds-lstm-ibov\\data\\raw\\Yfinance_S&P500.csv\u001b[0m\n",
      "\u001b[32m2025-06-25 13:10:25.705\u001b[0m | \u001b[1mINFO    \u001b[0m | \u001b[36msrc.dataset\u001b[0m:\u001b[36mmain\u001b[0m:\u001b[36m58\u001b[0m - \u001b[1mSaved Yfinance_BITCOIN dataset to C:\\Repositories\\ds-lstm-ibov\\data\\raw\\Yfinance_BITCOIN.csv\u001b[0m\n",
      "\u001b[32m2025-06-25 13:10:25.722\u001b[0m | \u001b[1mINFO    \u001b[0m | \u001b[36msrc.dataset\u001b[0m:\u001b[36mmain\u001b[0m:\u001b[36m58\u001b[0m - \u001b[1mSaved Yfinance_OURO dataset to C:\\Repositories\\ds-lstm-ibov\\data\\raw\\Yfinance_OURO.csv\u001b[0m\n",
      "\u001b[32m2025-06-25 13:10:25.758\u001b[0m | \u001b[1mINFO    \u001b[0m | \u001b[36msrc.dataset\u001b[0m:\u001b[36mmain\u001b[0m:\u001b[36m58\u001b[0m - \u001b[1mSaved Yfinance_PETROLEO dataset to C:\\Repositories\\ds-lstm-ibov\\data\\raw\\Yfinance_PETROLEO.csv\u001b[0m\n",
      "\u001b[32m2025-06-25 13:10:25.772\u001b[0m | \u001b[1mINFO    \u001b[0m | \u001b[36msrc.dataset\u001b[0m:\u001b[36mmain\u001b[0m:\u001b[36m58\u001b[0m - \u001b[1mSaved Yfinance_ACUCAR dataset to C:\\Repositories\\ds-lstm-ibov\\data\\raw\\Yfinance_ACUCAR.csv\u001b[0m\n",
      "\u001b[32m2025-06-25 13:10:25.772\u001b[0m | \u001b[1mINFO    \u001b[0m | \u001b[36msrc.dataset\u001b[0m:\u001b[36mmain\u001b[0m:\u001b[36m58\u001b[0m - \u001b[1mSaved Bcb_SELIC dataset to C:\\Repositories\\ds-lstm-ibov\\data\\raw\\Bcb_SELIC.csv\u001b[0m\n",
      "\u001b[32m2025-06-25 13:10:25.788\u001b[0m | \u001b[1mINFO    \u001b[0m | \u001b[36msrc.dataset\u001b[0m:\u001b[36mmain\u001b[0m:\u001b[36m58\u001b[0m - \u001b[1mSaved Bcb_CDI dataset to C:\\Repositories\\ds-lstm-ibov\\data\\raw\\Bcb_CDI.csv\u001b[0m\n",
      "\u001b[32m2025-06-25 13:10:25.788\u001b[0m | \u001b[1mINFO    \u001b[0m | \u001b[36msrc.dataset\u001b[0m:\u001b[36mmain\u001b[0m:\u001b[36m58\u001b[0m - \u001b[1mSaved Bcb_SELIC_Anual dataset to C:\\Repositories\\ds-lstm-ibov\\data\\raw\\Bcb_SELIC_Anual.csv\u001b[0m\n",
      "\u001b[32m2025-06-25 13:10:25.788\u001b[0m | \u001b[1mINFO    \u001b[0m | \u001b[36msrc.dataset\u001b[0m:\u001b[36mmain\u001b[0m:\u001b[36m58\u001b[0m - \u001b[1mSaved Bcb_IGP_M_Mensal dataset to C:\\Repositories\\ds-lstm-ibov\\data\\raw\\Bcb_IGP_M_Mensal.csv\u001b[0m\n",
      "\u001b[32m2025-06-25 13:10:25.805\u001b[0m | \u001b[1mINFO    \u001b[0m | \u001b[36msrc.dataset\u001b[0m:\u001b[36mmain\u001b[0m:\u001b[36m58\u001b[0m - \u001b[1mSaved Bcb_INCC_Mensal dataset to C:\\Repositories\\ds-lstm-ibov\\data\\raw\\Bcb_INCC_Mensal.csv\u001b[0m\n",
      "\u001b[32m2025-06-25 13:10:25.805\u001b[0m | \u001b[1mINFO    \u001b[0m | \u001b[36msrc.dataset\u001b[0m:\u001b[36mmain\u001b[0m:\u001b[36m58\u001b[0m - \u001b[1mSaved Bcb_Indice_Condicoes_Econ_BR dataset to C:\\Repositories\\ds-lstm-ibov\\data\\raw\\Bcb_Indice_Condicoes_Econ_BR.csv\u001b[0m\n",
      "\u001b[32m2025-06-25 13:10:25.805\u001b[0m | \u001b[1mINFO    \u001b[0m | \u001b[36msrc.dataset\u001b[0m:\u001b[36mmain\u001b[0m:\u001b[36m58\u001b[0m - \u001b[1mSaved Bcb_Indice_Condicoes_Econ_BR_USD dataset to C:\\Repositories\\ds-lstm-ibov\\data\\raw\\Bcb_Indice_Condicoes_Econ_BR_USD.csv\u001b[0m\n",
      "\u001b[32m2025-06-25 13:10:25.805\u001b[0m | \u001b[1mINFO    \u001b[0m | \u001b[36msrc.dataset\u001b[0m:\u001b[36mmain\u001b[0m:\u001b[36m58\u001b[0m - \u001b[1mSaved Bcb_Salario_Minimo dataset to C:\\Repositories\\ds-lstm-ibov\\data\\raw\\Bcb_Salario_Minimo.csv\u001b[0m\n",
      "\u001b[32m2025-06-25 13:10:25.822\u001b[0m | \u001b[1mINFO    \u001b[0m | \u001b[36msrc.dataset\u001b[0m:\u001b[36mmain\u001b[0m:\u001b[36m58\u001b[0m - \u001b[1mSaved Bcb_IBC_BR dataset to C:\\Repositories\\ds-lstm-ibov\\data\\raw\\Bcb_IBC_BR.csv\u001b[0m\n",
      "\u001b[32m2025-06-25 13:10:25.822\u001b[0m | \u001b[1mINFO    \u001b[0m | \u001b[36msrc.dataset\u001b[0m:\u001b[36mmain\u001b[0m:\u001b[36m58\u001b[0m - \u001b[1mSaved Bcb_Populacao_BR dataset to C:\\Repositories\\ds-lstm-ibov\\data\\raw\\Bcb_Populacao_BR.csv\u001b[0m\n",
      "\u001b[32m2025-06-25 13:10:25.822\u001b[0m | \u001b[1mINFO    \u001b[0m | \u001b[36msrc.dataset\u001b[0m:\u001b[36mmain\u001b[0m:\u001b[36m58\u001b[0m - \u001b[1mSaved Bcb_PIB_Trimestral_Real dataset to C:\\Repositories\\ds-lstm-ibov\\data\\raw\\Bcb_PIB_Trimestral_Real.csv\u001b[0m\n",
      "\u001b[32m2025-06-25 13:10:25.822\u001b[0m | \u001b[1mINFO    \u001b[0m | \u001b[36msrc.dataset\u001b[0m:\u001b[36mmain\u001b[0m:\u001b[36m58\u001b[0m - \u001b[1mSaved Bcb_PIB_Anual_Corrente dataset to C:\\Repositories\\ds-lstm-ibov\\data\\raw\\Bcb_PIB_Anual_Corrente.csv\u001b[0m\n",
      "\u001b[32m2025-06-25 13:10:25.838\u001b[0m | \u001b[1mINFO    \u001b[0m | \u001b[36msrc.dataset\u001b[0m:\u001b[36mmain\u001b[0m:\u001b[36m58\u001b[0m - \u001b[1mSaved Bcb_Deflator_Implicito_PIB dataset to C:\\Repositories\\ds-lstm-ibov\\data\\raw\\Bcb_Deflator_Implicito_PIB.csv\u001b[0m\n",
      "\u001b[32m2025-06-25 13:10:25.838\u001b[0m | \u001b[1mINFO    \u001b[0m | \u001b[36msrc.dataset\u001b[0m:\u001b[36mmain\u001b[0m:\u001b[36m58\u001b[0m - \u001b[1mSaved DataReader_BRL_USD dataset to C:\\Repositories\\ds-lstm-ibov\\data\\raw\\DataReader_BRL_USD.csv\u001b[0m\n",
      "\u001b[32m2025-06-25 13:10:25.838\u001b[0m | \u001b[1mINFO    \u001b[0m | \u001b[36msrc.dataset\u001b[0m:\u001b[36mmain\u001b[0m:\u001b[36m58\u001b[0m - \u001b[1mSaved DataReader_CPI_USA dataset to C:\\Repositories\\ds-lstm-ibov\\data\\raw\\DataReader_CPI_USA.csv\u001b[0m\n"
     ]
    },
    {
     "name": "stderr",
     "output_type": "stream",
     "text": [
      "INFO:src.utils.dataset.clean_strategy:Executing CleanMissingValues...\n",
      "INFO:src.utils.dataset.clean_strategy:Executing CleanLowVariance with threshold=0.01...\n",
      "INFO:src.utils.dataset.clean_strategy:Columns removed due to low variance: Index([], dtype='object')\n",
      "c:\\Repositories\\ds-lstm-ibov\\.venv\\Lib\\site-packages\\sklearn\\utils\\validation.py:1408: DataConversionWarning: A column-vector y was passed when a 1d array was expected. Please change the shape of y to (n_samples, ), for example using ravel().\n",
      "  y = column_or_1d(y, warn=True)\n",
      "c:\\Repositories\\ds-lstm-ibov\\.venv\\Lib\\site-packages\\sklearn\\feature_selection\\_univariate_selection.py:112: RuntimeWarning: divide by zero encountered in divide\n",
      "  f = msb / msw\n",
      "INFO:src.utils.dataset.clean_strategy:Columns removed by f_classif: ['Volume_^GSPC']\n",
      "c:\\Repositories\\ds-lstm-ibov\\.venv\\Lib\\site-packages\\sklearn\\utils\\validation.py:1408: DataConversionWarning: A column-vector y was passed when a 1d array was expected. Please change the shape of y to (n_samples, ), for example using ravel().\n",
      "  y = column_or_1d(y, warn=True)\n",
      "INFO:src.utils.dataset.clean_strategy:Columns removed by f_regression: ['IGP_M_Mensal']\n"
     ]
    },
    {
     "name": "stdout",
     "output_type": "stream",
     "text": [
      "            Close_^BVSP  High_^BVSP  Low_^BVSP  Open_^BVSP  Volume_^BVSP  \\\n",
      "2025-06-18     138717.0    139161.0   138443.0    138844.0     8323400.0   \n",
      "2025-06-19          NaN         NaN        NaN         NaN           NaN   \n",
      "2025-06-20     137116.0    138719.0   136815.0    138715.0    11289300.0   \n",
      "2025-06-21          NaN         NaN        NaN         NaN           NaN   \n",
      "2025-06-22          NaN         NaN        NaN         NaN           NaN   \n",
      "2025-06-23     136551.0    137130.0   135835.0    137116.0     7727800.0   \n",
      "2025-06-24     137165.0    138156.0   136254.0    136552.0     8083700.0   \n",
      "\n",
      "            Close_^GSPC   High_^GSPC    Low_^GSPC   Open_^GSPC  Volume_^GSPC  \\\n",
      "2025-06-18  5980.870117  6018.250000  5971.890137  5987.930176  5.106470e+09   \n",
      "2025-06-19          NaN          NaN          NaN          NaN           NaN   \n",
      "2025-06-20  5967.839844  6018.200195  5952.560059  5999.669922  7.451500e+09   \n",
      "2025-06-21          NaN          NaN          NaN          NaN           NaN   \n",
      "2025-06-22          NaN          NaN          NaN          NaN           NaN   \n",
      "2025-06-23  6025.169922  6028.770020  5943.229980  5969.669922  5.597000e+09   \n",
      "2025-06-24  6092.180176  6101.759766  6059.250000  6061.209961  5.443690e+09   \n",
      "\n",
      "            ...  Indice_Condicoes_Econ_BR  Indice_Condicoes_Econ_BR_USD  \\\n",
      "2025-06-18  ...                       NaN                           NaN   \n",
      "2025-06-19  ...                       NaN                           NaN   \n",
      "2025-06-20  ...                       NaN                           NaN   \n",
      "2025-06-21  ...                       NaN                           NaN   \n",
      "2025-06-22  ...                       NaN                           NaN   \n",
      "2025-06-23  ...                       NaN                           NaN   \n",
      "2025-06-24  ...                       NaN                           NaN   \n",
      "\n",
      "            Salario_Minimo  IBC_BR  Populacao_BR  PIB_Trimestral_Real  \\\n",
      "2025-06-18             NaN     NaN           NaN                  NaN   \n",
      "2025-06-19             NaN     NaN           NaN                  NaN   \n",
      "2025-06-20             NaN     NaN           NaN                  NaN   \n",
      "2025-06-21             NaN     NaN           NaN                  NaN   \n",
      "2025-06-22             NaN     NaN           NaN                  NaN   \n",
      "2025-06-23             NaN     NaN           NaN                  NaN   \n",
      "2025-06-24             NaN     NaN           NaN                  NaN   \n",
      "\n",
      "            PIB_Anual_Corrente  Deflator_Implicito_PIB  DEXBZUS  CPIAUCSL  \n",
      "2025-06-18                 NaN                     NaN   5.4921       NaN  \n",
      "2025-06-19                 NaN                     NaN      NaN       NaN  \n",
      "2025-06-20                 NaN                     NaN   5.5035       NaN  \n",
      "2025-06-21                 NaN                     NaN      NaN       NaN  \n",
      "2025-06-22                 NaN                     NaN      NaN       NaN  \n",
      "2025-06-23                 NaN                     NaN      NaN       NaN  \n",
      "2025-06-24                 NaN                     NaN      NaN       NaN  \n",
      "\n",
      "[7 rows x 45 columns]\n",
      "\u001b[32m2025-06-25 13:10:26.022\u001b[0m | \u001b[32m\u001b[1mSUCCESS \u001b[0m | \u001b[36msrc.dataset\u001b[0m:\u001b[36mmain\u001b[0m:\u001b[36m69\u001b[0m - \u001b[32m\u001b[1mRaw data successfully loaded...\u001b[0m\n",
      "            Close_^BVSP  High_^BVSP  Low_^BVSP  Open_^BVSP  Volume_^BVSP  \\\n",
      "2025-06-13    -0.004260   -0.000950   0.003018    0.004908      0.211057   \n",
      "2025-06-16     0.014889    0.015878   0.004583   -0.004267     -0.116802   \n",
      "2025-06-17    -0.002987   -0.003507   0.007878    0.014897      0.099272   \n",
      "2025-06-18    -0.000886   -0.002409   0.001085   -0.002959     -0.006398   \n",
      "2025-06-20    -0.011541   -0.003176  -0.011759   -0.000929      0.356333   \n",
      "2025-06-23    -0.004121   -0.011455  -0.007163   -0.011527     -0.315476   \n",
      "2025-06-24     0.004496    0.007482   0.003085   -0.004113      0.046055   \n",
      "\n",
      "            Close_^GSPC  High_^GSPC  Low_^GSPC  Open_^GSPC  Volume_^GSPC  ...  \\\n",
      "2025-06-13    -0.011296   -0.003188  -0.006774   -0.001554      0.126226  ...   \n",
      "2025-06-16     0.009393    0.004094   0.006840    0.000573     -0.027991  ...   \n",
      "2025-06-17    -0.008352   -0.004558  -0.004863    0.001357     -0.030520  ...   \n",
      "2025-06-18    -0.000309   -0.000830  -0.000487   -0.004028      0.030424  ...   \n",
      "2025-06-20    -0.002179   -0.000008  -0.003237    0.001961      0.459227  ...   \n",
      "2025-06-23     0.009607    0.001756  -0.001567   -0.005000     -0.248876  ...   \n",
      "2025-06-24     0.011122    0.012107   0.019521    0.015334     -0.027391  ...   \n",
      "\n",
      "            Indice_Condicoes_Econ_BR  Indice_Condicoes_Econ_BR_USD  \\\n",
      "2025-06-13                       0.0                           0.0   \n",
      "2025-06-16                       0.0                           0.0   \n",
      "2025-06-17                       0.0                           0.0   \n",
      "2025-06-18                       0.0                           0.0   \n",
      "2025-06-20                       0.0                           0.0   \n",
      "2025-06-23                       0.0                           0.0   \n",
      "2025-06-24                       0.0                           0.0   \n",
      "\n",
      "            Salario_Minimo  IBC_BR  Populacao_BR  PIB_Trimestral_Real  \\\n",
      "2025-06-13             0.0     0.0           0.0                  0.0   \n",
      "2025-06-16             0.0     0.0           0.0                  0.0   \n",
      "2025-06-17             0.0     0.0           0.0                  0.0   \n",
      "2025-06-18             0.0     0.0           0.0                  0.0   \n",
      "2025-06-20             0.0     0.0           0.0                  0.0   \n",
      "2025-06-23             0.0     0.0           0.0                  0.0   \n",
      "2025-06-24             0.0     0.0           0.0                  0.0   \n",
      "\n",
      "            PIB_Anual_Corrente  Deflator_Implicito_PIB   DEXBZUS  CPIAUCSL  \n",
      "2025-06-13                 0.0                     0.0 -0.000108       0.0  \n",
      "2025-06-16                 0.0                     0.0 -0.005140       0.0  \n",
      "2025-06-17                 0.0                     0.0 -0.007124       0.0  \n",
      "2025-06-18                 0.0                     0.0  0.002720       0.0  \n",
      "2025-06-20                 0.0                     0.0  0.002076       0.0  \n",
      "2025-06-23                 0.0                     0.0  0.000000       0.0  \n",
      "2025-06-24                 0.0                     0.0  0.000000       0.0  \n",
      "\n",
      "[7 rows x 45 columns]\n",
      "            Close_^BVSP  Volume_^GSPC  Volume_BTC-USD  Volume_GC=F  \\\n",
      "2025-06-13    -0.004260      0.126226        0.268153    -0.725523   \n",
      "2025-06-16     0.014889     -0.027991       -0.275826    -0.038076   \n",
      "2025-06-17    -0.002987     -0.030520        0.111134     2.077083   \n",
      "2025-06-18    -0.000886      0.030424       -0.154492    -1.000000   \n",
      "2025-06-20    -0.011541      0.459227        0.076795     0.000000   \n",
      "2025-06-23    -0.004121     -0.248876        0.280380    -0.957687   \n",
      "2025-06-24     0.004496     -0.027391       -0.251615     0.000000   \n",
      "\n",
      "            Volume_CL=F  Volume_SB=F  IPCA_Mensal  IGP_M_Mensal month_name  \\\n",
      "2025-06-13     0.886303    -0.052937          0.0           0.0       June   \n",
      "2025-06-16    -0.486745     0.504464          0.0           0.0       June   \n",
      "2025-06-17    -0.580019    -0.489217          0.0           0.0       June   \n",
      "2025-06-18    -1.000000    -1.000000          0.0           0.0       June   \n",
      "2025-06-20     0.000000     0.000000          0.0           0.0       June   \n",
      "2025-06-23     0.074429     0.622250          0.0           0.0       June   \n",
      "2025-06-24     0.000000     0.000000          0.0           0.0       June   \n",
      "\n",
      "            week_of_month day_of_week  is_weekend  is_holiday  \n",
      "2025-06-13              3      Friday           0           0  \n",
      "2025-06-16              4      Monday           0           0  \n",
      "2025-06-17              4     Tuesday           0           0  \n",
      "2025-06-18              4   Wednesday           0           0  \n",
      "2025-06-20              4      Friday           0           0  \n",
      "2025-06-23              5      Monday           0           0  \n",
      "2025-06-24              5     Tuesday           0           0  \n",
      "            Close_^BVSP  Volume_^GSPC  Volume_BTC-USD  Volume_GC=F  \\\n",
      "2025-06-13    -0.004260      0.126226        0.268153    -0.725523   \n",
      "2025-06-16     0.014889     -0.027991       -0.275826    -0.038076   \n",
      "2025-06-17    -0.002987     -0.030520        0.111134     2.077083   \n",
      "2025-06-18    -0.000886      0.030424       -0.154492    -1.000000   \n",
      "2025-06-20    -0.011541      0.459227        0.076795     0.000000   \n",
      "2025-06-23    -0.004121     -0.248876        0.280380    -0.957687   \n",
      "2025-06-24     0.004496     -0.027391       -0.251615     0.000000   \n",
      "\n",
      "            Volume_CL=F  Volume_SB=F  IPCA_Mensal  IGP_M_Mensal month_name  \\\n",
      "2025-06-13     0.886303    -0.052937          0.0           0.0       June   \n",
      "2025-06-16    -0.486745     0.504464          0.0           0.0       June   \n",
      "2025-06-17    -0.580019    -0.489217          0.0           0.0       June   \n",
      "2025-06-18    -1.000000    -1.000000          0.0           0.0       June   \n",
      "2025-06-20     0.000000     0.000000          0.0           0.0       June   \n",
      "2025-06-23     0.074429     0.622250          0.0           0.0       June   \n",
      "2025-06-24     0.000000     0.000000          0.0           0.0       June   \n",
      "\n",
      "            week_of_month day_of_week  is_weekend  is_holiday  Volume_^BVSP  \\\n",
      "2025-06-13              3      Friday           0           0      0.085695   \n",
      "2025-06-16              4      Monday           0           0      0.085695   \n",
      "2025-06-17              4     Tuesday           0           0      0.085695   \n",
      "2025-06-18              4   Wednesday           0           0      0.085695   \n",
      "2025-06-20              4      Friday           0           0      0.085695   \n",
      "2025-06-23              5      Monday           0           0      0.085695   \n",
      "2025-06-24              5     Tuesday           0           0      0.085695   \n",
      "\n",
      "            INCC_Mensal  \n",
      "2025-06-13          0.0  \n",
      "2025-06-16          0.0  \n",
      "2025-06-17          0.0  \n",
      "2025-06-18          0.0  \n",
      "2025-06-20          0.0  \n",
      "2025-06-23          0.0  \n",
      "2025-06-24          0.0  \n",
      "\u001b[32m2025-06-25 13:10:26.455\u001b[0m | \u001b[32m\u001b[1mSUCCESS \u001b[0m | \u001b[36msrc.dataset\u001b[0m:\u001b[36mmain\u001b[0m:\u001b[36m109\u001b[0m - \u001b[32m\u001b[1mClean data successfully loaded...\u001b[0m\n",
      "\u001b[32m2025-06-25 13:10:26.455\u001b[0m | \u001b[1mINFO    \u001b[0m | \u001b[36msrc.dataset\u001b[0m:\u001b[36mmain\u001b[0m:\u001b[36m113\u001b[0m - \u001b[1mTotal time taken: 134.00 seconds\u001b[0m\n"
     ]
    }
   ],
   "source": [
    "from src import dataset\n",
    "\n",
    "dataset.main(\n",
    "    # ---- REPLACE DEFAULT AS APPROPRIATE ----\n",
    "    asset = '^BVSP',\n",
    "    asset_focus = 'Close',\n",
    "    years = 9\n",
    "    # -----------------------------------------\n",
    "    )"
   ]
  },
  {
   "cell_type": "markdown",
   "id": "31fce4b8",
   "metadata": {},
   "source": [
    "## Feature Engineering — Time Series Preparation\n",
    "\n",
    "This part of the pipeline is responsible for transforming the cleaned dataset into structured features suitable for training time series models. It includes the following key steps:\n",
    "- Feature Generation: Constructs relevant features based on historical market data.\n",
    "- Dataset Splitting: The dataset is split into training and testing sets using a consistent strategy to preserve temporal structure.\n",
    "- Time Series Windowing: Converts the sequential data into overlapping windows, enabling the model to learn temporal dependencies.\n",
    "- Saving Artifacts: Both training and testing sets are stored for reproducibility, along with the transformation pipelines applied during preprocessing."
   ]
  },
  {
   "cell_type": "code",
   "execution_count": 1,
   "id": "64946194",
   "metadata": {},
   "outputs": [
    {
     "name": "stderr",
     "output_type": "stream",
     "text": [
      "\u001b[32m2025-06-25 22:40:47.794\u001b[0m | \u001b[1mINFO    \u001b[0m | \u001b[36msrc.config\u001b[0m:\u001b[36m<module>\u001b[0m:\u001b[36m11\u001b[0m - \u001b[1mPROJ_ROOT path is: C:\\Repositories\\ds-lstm-ibov\u001b[0m\n"
     ]
    },
    {
     "name": "stdout",
     "output_type": "stream",
     "text": [
      "\u001b[32m2025-06-25 22:40:56.323\u001b[0m | \u001b[1mINFO    \u001b[0m | \u001b[36msrc.features\u001b[0m:\u001b[36mmain\u001b[0m:\u001b[36m36\u001b[0m - \u001b[1mGenerating features from dataset...\u001b[0m\n",
      "\u001b[32m2025-06-25 22:40:56.356\u001b[0m | \u001b[1mINFO    \u001b[0m | \u001b[36msrc.utils.features.splitter_strategy\u001b[0m:\u001b[36msplit\u001b[0m:\u001b[36m15\u001b[0m - \u001b[1mSplitting dataset into training and testing sets...\u001b[0m\n",
      "\u001b[32m2025-06-25 22:40:56.371\u001b[0m | \u001b[1mINFO    \u001b[0m | \u001b[36msrc.utils.features.generator_strategy\u001b[0m:\u001b[36mgenerate\u001b[0m:\u001b[36m18\u001b[0m - \u001b[1mGenerating Timeseries from dataset...\u001b[0m\n",
      "\u001b[32m2025-06-25 22:40:56.457\u001b[0m | \u001b[32m\u001b[1mSUCCESS \u001b[0m | \u001b[36msrc.features\u001b[0m:\u001b[36mmain\u001b[0m:\u001b[36m51\u001b[0m - \u001b[32m\u001b[1mSaving train features in C:\\Repositories\\ds-lstm-ibov\\data\\processed...\u001b[0m\n",
      "\u001b[32m2025-06-25 22:40:56.528\u001b[0m | \u001b[32m\u001b[1mSUCCESS \u001b[0m | \u001b[36msrc.features\u001b[0m:\u001b[36mmain\u001b[0m:\u001b[36m55\u001b[0m - \u001b[32m\u001b[1mSaving test features in C:\\Repositories\\ds-lstm-ibov\\data\\processed...\u001b[0m\n",
      "\u001b[32m2025-06-25 22:40:56.530\u001b[0m | \u001b[32m\u001b[1mSUCCESS \u001b[0m | \u001b[36msrc.features\u001b[0m:\u001b[36mmain\u001b[0m:\u001b[36m59\u001b[0m - \u001b[32m\u001b[1mFeatures generation complete.\u001b[0m\n",
      "\u001b[32m2025-06-25 22:40:56.531\u001b[0m | \u001b[1mINFO    \u001b[0m | \u001b[36msrc.features\u001b[0m:\u001b[36mmain\u001b[0m:\u001b[36m61\u001b[0m - \u001b[1mSaving transformers...\u001b[0m\n",
      "\u001b[32m2025-06-25 22:40:56.532\u001b[0m | \u001b[1mINFO    \u001b[0m | \u001b[36msrc.utils.features.splitter_strategy\u001b[0m:\u001b[36msplit\u001b[0m:\u001b[36m15\u001b[0m - \u001b[1mSplitting dataset into training and testing sets...\u001b[0m\n",
      "\u001b[32m2025-06-25 22:40:56.541\u001b[0m | \u001b[1mINFO    \u001b[0m | \u001b[36msrc.features\u001b[0m:\u001b[36mmain\u001b[0m:\u001b[36m77\u001b[0m - \u001b[1mTotal time taken: 0.22 seconds\u001b[0m\n"
     ]
    }
   ],
   "source": [
    "from src import config\n",
    "from src import features\n",
    "\n",
    "features.main(\n",
    "    # ---- REPLACE DEFAULT PATHS AS APPROPRIATE ----\n",
    "    dataset_path = config.PROCESSED_DATA_DIR / \"dataset.csv\",\n",
    "    train_dir = config.PROCESSED_DATA_DIR,\n",
    "    test_dir = config.PROCESSED_DATA_DIR,\n",
    "    targets = [\"^BVSP\"],\n",
    "    train_size_ratio = 1,\n",
    "    batch_size = 1,\n",
    "    sequence_length = 50\n",
    "    # -----------------------------------------\n",
    ")"
   ]
  },
  {
   "cell_type": "markdown",
   "id": "2a66434c",
   "metadata": {},
   "source": [
    "## Modeling\n",
    "\n",
    "The modeling process begins with loading the training dataset. Next, the base model is constructed, and both the compilation and training strategies are defined. With the pipeline structure in place, the model is trained over 100 epochs using an iterative approach to adjust the weights.\n",
    "\n",
    "During training, key metrics are monitored, including accuracy, loss (error), validation accuracy and loss (on unseen data), as well as the learning rate."
   ]
  },
  {
   "cell_type": "code",
   "execution_count": 2,
   "id": "6ff11608",
   "metadata": {},
   "outputs": [
    {
     "name": "stdout",
     "output_type": "stream",
     "text": [
      "\u001b[32m2025-06-25 13:17:54.796\u001b[0m | \u001b[1mINFO    \u001b[0m | \u001b[36msrc.modeling.train\u001b[0m:\u001b[36mmain\u001b[0m:\u001b[36m32\u001b[0m - \u001b[1mLoading training dataset...\u001b[0m\n",
      "\u001b[32m2025-06-25 13:17:54.829\u001b[0m | \u001b[1mINFO    \u001b[0m | \u001b[36msrc.modeling.train\u001b[0m:\u001b[36mmain\u001b[0m:\u001b[36m42\u001b[0m - \u001b[1mBuilding model...\u001b[0m\n",
      "\u001b[32m2025-06-25 13:17:54.829\u001b[0m | \u001b[1mINFO    \u001b[0m | \u001b[36msrc.modeling.train\u001b[0m:\u001b[36mmain\u001b[0m:\u001b[36m48\u001b[0m - \u001b[1mSelecting compile strategy...\u001b[0m\n",
      "\u001b[32m2025-06-25 13:17:54.829\u001b[0m | \u001b[1mINFO    \u001b[0m | \u001b[36msrc.modeling.train\u001b[0m:\u001b[36mmain\u001b[0m:\u001b[36m51\u001b[0m - \u001b[1mSelecting training strategy...\u001b[0m\n",
      "\u001b[32m2025-06-25 13:17:54.829\u001b[0m | \u001b[1mINFO    \u001b[0m | \u001b[36msrc.modeling.train\u001b[0m:\u001b[36mmain\u001b[0m:\u001b[36m54\u001b[0m - \u001b[1mBuilding model training pipeline template...\u001b[0m\n",
      "\u001b[32m2025-06-25 13:17:54.829\u001b[0m | \u001b[1mINFO    \u001b[0m | \u001b[36msrc.modeling.train\u001b[0m:\u001b[36mmain\u001b[0m:\u001b[36m61\u001b[0m - \u001b[1mTraining model...\u001b[0m\n",
      "Epoch 1/1000\n",
      "\u001b[1m219/219\u001b[0m \u001b[32m━━━━━━━━━━━━━━━━━━━━\u001b[0m\u001b[37m\u001b[0m \u001b[1m25s\u001b[0m 64ms/step - loss: 0.3953 - mae: 0.7143 - mse: 1.0558 - r2_score: -34.0047 - rmse: 0.8774 - smape: 173.2521 - val_loss: 0.1958 - val_mae: 0.4611 - val_mse: 0.3657 - val_r2_score: -0.1891 - val_rmse: 0.5771 - val_smape: 167.1959 - learning_rate: 0.0010\n",
      "Epoch 2/1000\n",
      "\u001b[1m219/219\u001b[0m \u001b[32m━━━━━━━━━━━━━━━━━━━━\u001b[0m\u001b[37m\u001b[0m \u001b[1m13s\u001b[0m 61ms/step - loss: 0.3920 - mae: 0.7118 - mse: 1.0482 - r2_score: -32.9935 - rmse: 0.8744 - smape: 175.6812 - val_loss: 0.1940 - val_mae: 0.4594 - val_mse: 0.3639 - val_r2_score: -0.1805 - val_rmse: 0.5764 - val_smape: 174.9738 - learning_rate: 0.0010\n",
      "Epoch 3/1000\n",
      "\u001b[1m219/219\u001b[0m \u001b[32m━━━━━━━━━━━━━━━━━━━━\u001b[0m\u001b[37m\u001b[0m \u001b[1m19s\u001b[0m 56ms/step - loss: 0.3848 - mae: 0.7015 - mse: 1.0320 - r2_score: -29.8718 - rmse: 0.8655 - smape: 169.6354 - val_loss: 0.1926 - val_mae: 0.4601 - val_mse: 0.3624 - val_r2_score: -0.1817 - val_rmse: 0.5755 - val_smape: 184.3576 - learning_rate: 0.0010\n",
      "Epoch 4/1000\n",
      "\u001b[1m219/219\u001b[0m \u001b[32m━━━━━━━━━━━━━━━━━━━━\u001b[0m\u001b[37m\u001b[0m \u001b[1m12s\u001b[0m 55ms/step - loss: 0.3848 - mae: 0.7063 - mse: 1.0366 - r2_score: -49.9722 - rmse: 0.8685 - smape: 179.4815 - val_loss: 0.1932 - val_mae: 0.4624 - val_mse: 0.3654 - val_r2_score: -0.1993 - val_rmse: 0.5786 - val_smape: 174.3127 - learning_rate: 0.0010\n",
      "Epoch 5/1000\n",
      "\u001b[1m219/219\u001b[0m \u001b[32m━━━━━━━━━━━━━━━━━━━━\u001b[0m\u001b[37m\u001b[0m \u001b[1m12s\u001b[0m 55ms/step - loss: 0.3813 - mae: 0.7018 - mse: 1.0334 - r2_score: -35.5811 - rmse: 0.8657 - smape: 170.9064 - val_loss: 0.1924 - val_mae: 0.4624 - val_mse: 0.3660 - val_r2_score: -0.2001 - val_rmse: 0.5790 - val_smape: 171.3109 - learning_rate: 0.0010\n",
      "Epoch 6/1000\n",
      "\u001b[1m219/219\u001b[0m \u001b[32m━━━━━━━━━━━━━━━━━━━━\u001b[0m\u001b[37m\u001b[0m \u001b[1m12s\u001b[0m 56ms/step - loss: 0.3799 - mae: 0.6993 - mse: 1.0301 - r2_score: -31.5137 - rmse: 0.8626 - smape: 169.7625 - val_loss: 0.1962 - val_mae: 0.4700 - val_mse: 0.3768 - val_r2_score: -0.2382 - val_rmse: 0.5866 - val_smape: 166.1617 - learning_rate: 0.0010\n",
      "Epoch 7/1000\n",
      "\u001b[1m219/219\u001b[0m \u001b[32m━━━━━━━━━━━━━━━━━━━━\u001b[0m\u001b[37m\u001b[0m \u001b[1m12s\u001b[0m 55ms/step - loss: 0.3802 - mae: 0.7016 - mse: 1.0273 - r2_score: -3.3498 - rmse: 0.8648 - smape: 167.7851 - val_loss: 0.2000 - val_mae: 0.4749 - val_mse: 0.3851 - val_r2_score: -0.2738 - val_rmse: 0.5933 - val_smape: 157.5406 - learning_rate: 0.0010\n",
      "Epoch 8/1000\n",
      "\u001b[1m219/219\u001b[0m \u001b[32m━━━━━━━━━━━━━━━━━━━━\u001b[0m\u001b[37m\u001b[0m \u001b[1m12s\u001b[0m 56ms/step - loss: 0.3764 - mae: 0.6948 - mse: 1.0276 - r2_score: -2.6519 - rmse: 0.8597 - smape: 158.5147 - val_loss: 0.2121 - val_mae: 0.4939 - val_mse: 0.4110 - val_r2_score: -0.3970 - val_rmse: 0.6153 - val_smape: 153.3430 - learning_rate: 0.0010\n",
      "Epoch 9/1000\n",
      "\u001b[1m219/219\u001b[0m \u001b[32m━━━━━━━━━━━━━━━━━━━━\u001b[0m\u001b[37m\u001b[0m \u001b[1m21s\u001b[0m 58ms/step - loss: 0.3724 - mae: 0.6901 - mse: 1.0169 - r2_score: -74.6570 - rmse: 0.8555 - smape: 154.5111 - val_loss: 0.2149 - val_mae: 0.4957 - val_mse: 0.4199 - val_r2_score: -0.4373 - val_rmse: 0.6196 - val_smape: 152.2495 - learning_rate: 0.0010\n",
      "Epoch 10/1000\n",
      "\u001b[1m219/219\u001b[0m \u001b[32m━━━━━━━━━━━━━━━━━━━━\u001b[0m\u001b[37m\u001b[0m \u001b[1m12s\u001b[0m 56ms/step - loss: 0.3640 - mae: 0.6825 - mse: 0.9824 - r2_score: -7.4746 - rmse: 0.8412 - smape: 149.2489 - val_loss: 0.2223 - val_mae: 0.5069 - val_mse: 0.4414 - val_r2_score: -0.5535 - val_rmse: 0.6326 - val_smape: 152.1386 - learning_rate: 0.0010\n",
      "Epoch 11/1000\n",
      "\u001b[1m219/219\u001b[0m \u001b[32m━━━━━━━━━━━━━━━━━━━━\u001b[0m\u001b[37m\u001b[0m \u001b[1m12s\u001b[0m 56ms/step - loss: 0.3656 - mae: 0.6822 - mse: 0.9883 - r2_score: -46.8461 - rmse: 0.8446 - smape: 149.3914 - val_loss: 0.2111 - val_mae: 0.4897 - val_mse: 0.4062 - val_r2_score: -0.4060 - val_rmse: 0.6124 - val_smape: 153.7000 - learning_rate: 0.0010\n",
      "Epoch 12/1000\n",
      "\u001b[1m219/219\u001b[0m \u001b[32m━━━━━━━━━━━━━━━━━━━━\u001b[0m\u001b[37m\u001b[0m \u001b[1m13s\u001b[0m 57ms/step - loss: 0.3556 - mae: 0.6670 - mse: 0.9661 - r2_score: -3.5935 - rmse: 0.8300 - smape: 145.0135 - val_loss: 0.2276 - val_mae: 0.5135 - val_mse: 0.4422 - val_r2_score: -0.5344 - val_rmse: 0.6366 - val_smape: 150.4419 - learning_rate: 0.0010\n",
      "Epoch 13/1000\n",
      "\u001b[1m219/219\u001b[0m \u001b[32m━━━━━━━━━━━━━━━━━━━━\u001b[0m\u001b[37m\u001b[0m \u001b[1m13s\u001b[0m 58ms/step - loss: 0.3433 - mae: 0.6545 - mse: 0.9271 - r2_score: -11.7604 - rmse: 0.8131 - smape: 141.1726 - val_loss: 0.2198 - val_mae: 0.5028 - val_mse: 0.4242 - val_r2_score: -0.4771 - val_rmse: 0.6231 - val_smape: 155.9262 - learning_rate: 0.0010\n",
      "Epoch 14/1000\n",
      "\u001b[1m219/219\u001b[0m \u001b[32m━━━━━━━━━━━━━━━━━━━━\u001b[0m\u001b[37m\u001b[0m \u001b[1m13s\u001b[0m 61ms/step - loss: 0.3413 - mae: 0.6457 - mse: 0.9182 - r2_score: -34.3188 - rmse: 0.8111 - smape: 140.2340 - val_loss: 0.2247 - val_mae: 0.5092 - val_mse: 0.4374 - val_r2_score: -0.4981 - val_rmse: 0.6299 - val_smape: 155.8624 - learning_rate: 0.0010\n",
      "Epoch 15/1000\n",
      "\u001b[1m219/219\u001b[0m \u001b[32m━━━━━━━━━━━━━━━━━━━━\u001b[0m\u001b[37m\u001b[0m \u001b[1m13s\u001b[0m 57ms/step - loss: 0.3347 - mae: 0.6401 - mse: 0.8879 - r2_score: -19.6289 - rmse: 0.7967 - smape: 136.5811 - val_loss: 0.2313 - val_mae: 0.5185 - val_mse: 0.4597 - val_r2_score: -0.5999 - val_rmse: 0.6439 - val_smape: 156.5598 - learning_rate: 0.0010\n",
      "Epoch 16/1000\n",
      "\u001b[1m219/219\u001b[0m \u001b[32m━━━━━━━━━━━━━━━━━━━━\u001b[0m\u001b[37m\u001b[0m \u001b[1m12s\u001b[0m 56ms/step - loss: 0.3381 - mae: 0.6470 - mse: 0.8757 - r2_score: -31.4055 - rmse: 0.8060 - smape: 137.7182 - val_loss: 0.2242 - val_mae: 0.5075 - val_mse: 0.4349 - val_r2_score: -0.5157 - val_rmse: 0.6302 - val_smape: 154.8372 - learning_rate: 0.0010\n",
      "Epoch 17/1000\n",
      "\u001b[1m219/219\u001b[0m \u001b[32m━━━━━━━━━━━━━━━━━━━━\u001b[0m\u001b[37m\u001b[0m \u001b[1m13s\u001b[0m 58ms/step - loss: 0.3412 - mae: 0.6485 - mse: 0.8974 - r2_score: -4.4889 - rmse: 0.8083 - smape: 139.1358 - val_loss: 0.2308 - val_mae: 0.5196 - val_mse: 0.4523 - val_r2_score: -0.6324 - val_rmse: 0.6438 - val_smape: 152.8260 - learning_rate: 0.0010\n",
      "Epoch 18/1000\n",
      "\u001b[1m219/219\u001b[0m \u001b[32m━━━━━━━━━━━━━━━━━━━━\u001b[0m\u001b[37m\u001b[0m \u001b[1m20s\u001b[0m 57ms/step - loss: 0.3189 - mae: 0.6135 - mse: 0.8317 - r2_score: 0.0496 - rmse: 0.7752 - smape: 131.8888 - val_loss: 0.2586 - val_mae: 0.5579 - val_mse: 0.5186 - val_r2_score: -0.9359 - val_rmse: 0.6863 - val_smape: 150.6269 - learning_rate: 5.0000e-04\n",
      "Epoch 19/1000\n",
      "\u001b[1m219/219\u001b[0m \u001b[32m━━━━━━━━━━━━━━━━━━━━\u001b[0m\u001b[37m\u001b[0m \u001b[1m12s\u001b[0m 57ms/step - loss: 0.3072 - mae: 0.5968 - mse: 0.8039 - r2_score: -37.6427 - rmse: 0.7607 - smape: 123.3865 - val_loss: 0.2531 - val_mae: 0.5508 - val_mse: 0.5045 - val_r2_score: -0.8399 - val_rmse: 0.6780 - val_smape: 150.4562 - learning_rate: 5.0000e-04\n",
      "Epoch 20/1000\n",
      "\u001b[1m219/219\u001b[0m \u001b[32m━━━━━━━━━━━━━━━━━━━━\u001b[0m\u001b[37m\u001b[0m \u001b[1m13s\u001b[0m 58ms/step - loss: 0.3025 - mae: 0.5997 - mse: 0.7643 - r2_score: -25.4917 - rmse: 0.7492 - smape: 126.7690 - val_loss: 0.2495 - val_mae: 0.5449 - val_mse: 0.4932 - val_r2_score: -0.7682 - val_rmse: 0.6693 - val_smape: 153.3901 - learning_rate: 5.0000e-04\n",
      "Epoch 21/1000\n",
      "\u001b[1m219/219\u001b[0m \u001b[32m━━━━━━━━━━━━━━━━━━━━\u001b[0m\u001b[37m\u001b[0m \u001b[1m12s\u001b[0m 57ms/step - loss: 0.3059 - mae: 0.6004 - mse: 0.8061 - r2_score: -24.3826 - rmse: 0.7511 - smape: 126.6553 - val_loss: 0.2492 - val_mae: 0.5405 - val_mse: 0.4922 - val_r2_score: -0.7665 - val_rmse: 0.6707 - val_smape: 150.4763 - learning_rate: 5.0000e-04\n",
      "Epoch 22/1000\n",
      "\u001b[1m219/219\u001b[0m \u001b[32m━━━━━━━━━━━━━━━━━━━━\u001b[0m\u001b[37m\u001b[0m \u001b[1m13s\u001b[0m 58ms/step - loss: 0.2948 - mae: 0.5787 - mse: 0.7639 - r2_score: -0.1176 - rmse: 0.7362 - smape: 119.3542 - val_loss: 0.2449 - val_mae: 0.5363 - val_mse: 0.4779 - val_r2_score: -0.6905 - val_rmse: 0.6631 - val_smape: 155.2534 - learning_rate: 5.0000e-04\n",
      "Epoch 23/1000\n",
      "\u001b[1m219/219\u001b[0m \u001b[32m━━━━━━━━━━━━━━━━━━━━\u001b[0m\u001b[37m\u001b[0m \u001b[1m20s\u001b[0m 56ms/step - loss: 0.2810 - mae: 0.5665 - mse: 0.7048 - r2_score: -11.3573 - rmse: 0.7102 - smape: 121.4807 - val_loss: 0.2651 - val_mae: 0.5673 - val_mse: 0.5312 - val_r2_score: -0.8549 - val_rmse: 0.6913 - val_smape: 151.2518 - learning_rate: 5.0000e-04\n",
      "Epoch 24/1000\n",
      "\u001b[1m219/219\u001b[0m \u001b[32m━━━━━━━━━━━━━━━━━━━━\u001b[0m\u001b[37m\u001b[0m \u001b[1m12s\u001b[0m 56ms/step - loss: 0.2930 - mae: 0.5804 - mse: 0.7519 - r2_score: -10.5014 - rmse: 0.7307 - smape: 121.4557 - val_loss: 0.2593 - val_mae: 0.5595 - val_mse: 0.5155 - val_r2_score: -0.8161 - val_rmse: 0.6845 - val_smape: 151.6706 - learning_rate: 5.0000e-04\n",
      "Epoch 25/1000\n",
      "\u001b[1m219/219\u001b[0m \u001b[32m━━━━━━━━━━━━━━━━━━━━\u001b[0m\u001b[37m\u001b[0m \u001b[1m20s\u001b[0m 56ms/step - loss: 0.2682 - mae: 0.5557 - mse: 0.6526 - r2_score: -8.3115 - rmse: 0.6918 - smape: 119.2693 - val_loss: 0.2522 - val_mae: 0.5494 - val_mse: 0.4950 - val_r2_score: -0.7453 - val_rmse: 0.6709 - val_smape: 152.0179 - learning_rate: 5.0000e-04\n",
      "Epoch 26/1000\n",
      "\u001b[1m219/219\u001b[0m \u001b[32m━━━━━━━━━━━━━━━━━━━━\u001b[0m\u001b[37m\u001b[0m \u001b[1m12s\u001b[0m 55ms/step - loss: 0.2782 - mae: 0.5636 - mse: 0.6636 - r2_score: -1.2099 - rmse: 0.7057 - smape: 119.4629 - val_loss: 0.2611 - val_mae: 0.5594 - val_mse: 0.5203 - val_r2_score: -0.7901 - val_rmse: 0.6839 - val_smape: 150.5922 - learning_rate: 5.0000e-04\n",
      "Epoch 27/1000\n",
      "\u001b[1m219/219\u001b[0m \u001b[32m━━━━━━━━━━━━━━━━━━━━\u001b[0m\u001b[37m\u001b[0m \u001b[1m12s\u001b[0m 55ms/step - loss: 0.2726 - mae: 0.5541 - mse: 0.6845 - r2_score: -22.9741 - rmse: 0.7067 - smape: 117.2752 - val_loss: 0.2538 - val_mae: 0.5497 - val_mse: 0.5027 - val_r2_score: -0.7268 - val_rmse: 0.6741 - val_smape: 150.6252 - learning_rate: 5.0000e-04\n",
      "Epoch 28/1000\n",
      "\u001b[1m219/219\u001b[0m \u001b[32m━━━━━━━━━━━━━━━━━━━━\u001b[0m\u001b[37m\u001b[0m \u001b[1m12s\u001b[0m 55ms/step - loss: 0.2637 - mae: 0.5415 - mse: 0.6525 - r2_score: -17.6885 - rmse: 0.6850 - smape: 118.3273 - val_loss: 0.2761 - val_mae: 0.5795 - val_mse: 0.5600 - val_r2_score: -0.9292 - val_rmse: 0.7087 - val_smape: 149.3849 - learning_rate: 5.0000e-04\n",
      "Epoch 29/1000\n",
      "\u001b[1m219/219\u001b[0m \u001b[32m━━━━━━━━━━━━━━━━━━━━\u001b[0m\u001b[37m\u001b[0m \u001b[1m13s\u001b[0m 57ms/step - loss: 0.2759 - mae: 0.5571 - mse: 0.6903 - r2_score: -7.1768 - rmse: 0.7078 - smape: 116.7591 - val_loss: 0.2524 - val_mae: 0.5522 - val_mse: 0.4986 - val_r2_score: -0.6772 - val_rmse: 0.6693 - val_smape: 159.0764 - learning_rate: 5.0000e-04\n",
      "Epoch 30/1000\n",
      "\u001b[1m219/219\u001b[0m \u001b[32m━━━━━━━━━━━━━━━━━━━━\u001b[0m\u001b[37m\u001b[0m \u001b[1m12s\u001b[0m 55ms/step - loss: 0.2548 - mae: 0.5333 - mse: 0.6162 - r2_score: -6.6744 - rmse: 0.6701 - smape: 117.1385 - val_loss: 0.2682 - val_mae: 0.5700 - val_mse: 0.5384 - val_r2_score: -0.8406 - val_rmse: 0.6941 - val_smape: 154.7372 - learning_rate: 2.5000e-04\n",
      "Epoch 31/1000\n",
      "\u001b[1m219/219\u001b[0m \u001b[32m━━━━━━━━━━━━━━━━━━━━\u001b[0m\u001b[37m\u001b[0m \u001b[1m12s\u001b[0m 56ms/step - loss: 0.2478 - mae: 0.5232 - mse: 0.6011 - r2_score: -5.4613 - rmse: 0.6603 - smape: 112.1903 - val_loss: 0.2747 - val_mae: 0.5772 - val_mse: 0.5539 - val_r2_score: -0.8991 - val_rmse: 0.7048 - val_smape: 152.3763 - learning_rate: 2.5000e-04\n",
      "Epoch 32/1000\n",
      "\u001b[1m219/219\u001b[0m \u001b[32m━━━━━━━━━━━━━━━━━━━━\u001b[0m\u001b[37m\u001b[0m \u001b[1m12s\u001b[0m 56ms/step - loss: 0.2528 - mae: 0.5287 - mse: 0.6010 - r2_score: -9.2927 - rmse: 0.6669 - smape: 112.3467 - val_loss: 0.2714 - val_mae: 0.5712 - val_mse: 0.5465 - val_r2_score: -0.8646 - val_rmse: 0.7003 - val_smape: 153.3991 - learning_rate: 2.5000e-04\n",
      "Epoch 33/1000\n",
      "\u001b[1m219/219\u001b[0m \u001b[32m━━━━━━━━━━━━━━━━━━━━\u001b[0m\u001b[37m\u001b[0m \u001b[1m12s\u001b[0m 56ms/step - loss: 0.2500 - mae: 0.5302 - mse: 0.6034 - r2_score: -78.2297 - rmse: 0.6612 - smape: 113.3154 - val_loss: 0.2621 - val_mae: 0.5575 - val_mse: 0.5262 - val_r2_score: -0.7611 - val_rmse: 0.6854 - val_smape: 152.3902 - learning_rate: 2.5000e-04\n",
      "Epoch 34/1000\n",
      "\u001b[1m219/219\u001b[0m \u001b[32m━━━━━━━━━━━━━━━━━━━━\u001b[0m\u001b[37m\u001b[0m \u001b[1m12s\u001b[0m 56ms/step - loss: 0.2576 - mae: 0.5388 - mse: 0.5976 - r2_score: -2.0007 - rmse: 0.6776 - smape: 114.7681 - val_loss: 0.2670 - val_mae: 0.5666 - val_mse: 0.5374 - val_r2_score: -0.8191 - val_rmse: 0.6937 - val_smape: 152.6972 - learning_rate: 2.5000e-04\n",
      "Epoch 35/1000\n",
      "\u001b[1m219/219\u001b[0m \u001b[32m━━━━━━━━━━━━━━━━━━━━\u001b[0m\u001b[37m\u001b[0m \u001b[1m21s\u001b[0m 56ms/step - loss: 0.2552 - mae: 0.5314 - mse: 0.6062 - r2_score: -63.6436 - rmse: 0.6682 - smape: 113.0959 - val_loss: 0.2639 - val_mae: 0.5601 - val_mse: 0.5313 - val_r2_score: -0.7923 - val_rmse: 0.6884 - val_smape: 151.3795 - learning_rate: 2.5000e-04\n",
      "Epoch 36/1000\n",
      "\u001b[1m219/219\u001b[0m \u001b[32m━━━━━━━━━━━━━━━━━━━━\u001b[0m\u001b[37m\u001b[0m \u001b[1m13s\u001b[0m 57ms/step - loss: 0.2369 - mae: 0.5136 - mse: 0.5696 - r2_score: -20.3339 - rmse: 0.6450 - smape: 113.0120 - val_loss: 0.2781 - val_mae: 0.5807 - val_mse: 0.5651 - val_r2_score: -0.9466 - val_rmse: 0.7123 - val_smape: 150.8354 - learning_rate: 2.5000e-04\n",
      "Epoch 37/1000\n",
      "\u001b[1m219/219\u001b[0m \u001b[32m━━━━━━━━━━━━━━━━━━━━\u001b[0m\u001b[37m\u001b[0m \u001b[1m20s\u001b[0m 56ms/step - loss: 0.2403 - mae: 0.5124 - mse: 0.5561 - r2_score: -2.5424 - rmse: 0.6464 - smape: 110.2688 - val_loss: 0.2640 - val_mae: 0.5637 - val_mse: 0.5292 - val_r2_score: -0.7973 - val_rmse: 0.6882 - val_smape: 153.7026 - learning_rate: 2.5000e-04\n",
      "Epoch 38/1000\n",
      "\u001b[1m219/219\u001b[0m \u001b[32m━━━━━━━━━━━━━━━━━━━━\u001b[0m\u001b[37m\u001b[0m \u001b[1m21s\u001b[0m 56ms/step - loss: 0.2377 - mae: 0.5113 - mse: 0.5791 - r2_score: -23.3517 - rmse: 0.6449 - smape: 112.3371 - val_loss: 0.2719 - val_mae: 0.5744 - val_mse: 0.5490 - val_r2_score: -0.8845 - val_rmse: 0.7011 - val_smape: 155.0593 - learning_rate: 2.5000e-04\n",
      "Epoch 39/1000\n",
      "\u001b[1m219/219\u001b[0m \u001b[32m━━━━━━━━━━━━━━━━━━━━\u001b[0m\u001b[37m\u001b[0m \u001b[1m12s\u001b[0m 55ms/step - loss: 0.2404 - mae: 0.5166 - mse: 0.5650 - r2_score: -3.8596 - rmse: 0.6473 - smape: 111.6527 - val_loss: 0.2681 - val_mae: 0.5705 - val_mse: 0.5368 - val_r2_score: -0.8463 - val_rmse: 0.6966 - val_smape: 155.5455 - learning_rate: 2.5000e-04\n",
      "Epoch 40/1000\n",
      "\u001b[1m219/219\u001b[0m \u001b[32m━━━━━━━━━━━━━━━━━━━━\u001b[0m\u001b[37m\u001b[0m \u001b[1m12s\u001b[0m 56ms/step - loss: 0.2282 - mae: 0.4969 - mse: 0.5140 - r2_score: -13.2512 - rmse: 0.6328 - smape: 107.6811 - val_loss: 0.2769 - val_mae: 0.5821 - val_mse: 0.5589 - val_r2_score: -0.9242 - val_rmse: 0.7097 - val_smape: 154.6073 - learning_rate: 2.5000e-04\n",
      "Epoch 41/1000\n",
      "\u001b[1m219/219\u001b[0m \u001b[32m━━━━━━━━━━━━━━━━━━━━\u001b[0m\u001b[37m\u001b[0m \u001b[1m12s\u001b[0m 55ms/step - loss: 0.2362 - mae: 0.5099 - mse: 0.5315 - r2_score: -13.1240 - rmse: 0.6424 - smape: 109.2366 - val_loss: 0.2723 - val_mae: 0.5740 - val_mse: 0.5502 - val_r2_score: -0.8767 - val_rmse: 0.7023 - val_smape: 154.0806 - learning_rate: 2.5000e-04\n",
      "Epoch 42/1000\n",
      "\u001b[1m219/219\u001b[0m \u001b[32m━━━━━━━━━━━━━━━━━━━━\u001b[0m\u001b[37m\u001b[0m \u001b[1m12s\u001b[0m 56ms/step - loss: 0.2376 - mae: 0.5101 - mse: 0.5671 - r2_score: -0.1372 - rmse: 0.6456 - smape: 110.2927 - val_loss: 0.2700 - val_mae: 0.5725 - val_mse: 0.5419 - val_r2_score: -0.8585 - val_rmse: 0.6989 - val_smape: 155.3007 - learning_rate: 1.2500e-04\n",
      "Epoch 43/1000\n",
      "\u001b[1m219/219\u001b[0m \u001b[32m━━━━━━━━━━━━━━━━━━━━\u001b[0m\u001b[37m\u001b[0m \u001b[1m12s\u001b[0m 56ms/step - loss: 0.2398 - mae: 0.5197 - mse: 0.5460 - r2_score: -17.0202 - rmse: 0.6513 - smape: 110.8942 - val_loss: 0.2676 - val_mae: 0.5689 - val_mse: 0.5336 - val_r2_score: -0.8552 - val_rmse: 0.6962 - val_smape: 154.1966 - learning_rate: 1.2500e-04\n",
      "Epoch 44/1000\n",
      "\u001b[1m219/219\u001b[0m \u001b[32m━━━━━━━━━━━━━━━━━━━━\u001b[0m\u001b[37m\u001b[0m \u001b[1m12s\u001b[0m 56ms/step - loss: 0.2367 - mae: 0.5023 - mse: 0.5579 - r2_score: -7.5726 - rmse: 0.6463 - smape: 107.4352 - val_loss: 0.2651 - val_mae: 0.5658 - val_mse: 0.5277 - val_r2_score: -0.8199 - val_rmse: 0.6914 - val_smape: 154.3800 - learning_rate: 1.2500e-04\n",
      "Epoch 45/1000\n",
      "\u001b[1m219/219\u001b[0m \u001b[32m━━━━━━━━━━━━━━━━━━━━\u001b[0m\u001b[37m\u001b[0m \u001b[1m12s\u001b[0m 57ms/step - loss: 0.2358 - mae: 0.5028 - mse: 0.5498 - r2_score: -2.5919 - rmse: 0.6454 - smape: 105.6681 - val_loss: 0.2827 - val_mae: 0.5871 - val_mse: 0.5727 - val_r2_score: -1.0141 - val_rmse: 0.7193 - val_smape: 152.6254 - learning_rate: 1.2500e-04\n",
      "\u001b[32m2025-06-25 13:28:38.652\u001b[0m | \u001b[1mINFO    \u001b[0m | \u001b[36msrc.modeling.train\u001b[0m:\u001b[36mmain\u001b[0m:\u001b[36m70\u001b[0m - \u001b[1mSaving 'Sequential_epoch44_loss0.2352.keras' in 'C:\\Repositories\\ds-lstm-ibov\\models'...\u001b[0m\n"
     ]
    },
    {
     "name": "stderr",
     "output_type": "stream",
     "text": [
      "2025/06/25 13:28:39 WARNING mlflow.keras.save: You are saving a Keras model without specifying model signature.\n",
      "2025/06/25 13:28:50 WARNING mlflow.utils.environment: Encountered an unexpected error while inferring pip requirements (model URI: C:\\Users\\SAMSUNG\\AppData\\Local\\Temp\\tmpzrj2l05p\\model, flavor: keras). Fall back to return ['keras==3.9.2']. Set logging level to DEBUG to see the full traceback. \n",
      "2025/06/25 13:28:50 WARNING mlflow.models.model: Model logged without a signature and input example. Please set `input_example` parameter when logging the model to auto infer the model signature.\n",
      "Registered model 'RegressionRobustModelBuilder' already exists. Creating a new version of this model...\n",
      "Created version '11' of model 'RegressionRobustModelBuilder'.\n"
     ]
    },
    {
     "name": "stdout",
     "output_type": "stream",
     "text": [
      "\u001b[32m2025-06-25 13:28:53.248\u001b[0m | \u001b[32m\u001b[1mSUCCESS \u001b[0m | \u001b[36msrc.modeling.train\u001b[0m:\u001b[36mmain\u001b[0m:\u001b[36m88\u001b[0m - \u001b[32m\u001b[1mModeling training complete.\u001b[0m\n",
      "\u001b[32m2025-06-25 13:28:53.249\u001b[0m | \u001b[1mINFO    \u001b[0m | \u001b[36msrc.modeling.train\u001b[0m:\u001b[36mmain\u001b[0m:\u001b[36m91\u001b[0m - \u001b[1mElapsed time: 658.45 seconds\u001b[0m\n"
     ]
    }
   ],
   "source": [
    "from src import config\n",
    "from src.modeling import train\n",
    "\n",
    "train.main(\n",
    "    # ---- REPLACE DEFAULT PATHS AS APPROPRIATE ----\n",
    "    X_path = config.PROCESSED_DATA_DIR / \"X_train.npy\",\n",
    "    y_path = config.PROCESSED_DATA_DIR / \"y_train.npy\",\n",
    "    batch_size = 8,\n",
    "    validation_split = 0.2 #~LastMonth\n",
    "    # -----------------------------------------\n",
    ")"
   ]
  },
  {
   "cell_type": "markdown",
   "id": "ab6162b6",
   "metadata": {},
   "source": [
    "## Predict\n",
    "\n",
    "In the prediction stage, the trained model is loaded along with the input data. The model then performs inference, generating predictions based on the provided data.\n"
   ]
  },
  {
   "cell_type": "code",
   "execution_count": 3,
   "id": "55f922aa",
   "metadata": {},
   "outputs": [
    {
     "name": "stdout",
     "output_type": "stream",
     "text": [
      "\u001b[32m2025-06-25 13:28:53.264\u001b[0m | \u001b[1mINFO    \u001b[0m | \u001b[36msrc.modeling.predict\u001b[0m:\u001b[36mmain\u001b[0m:\u001b[36m29\u001b[0m - \u001b[1mPerforming inference for model...\u001b[0m\n",
      "\u001b[32m2025-06-25 13:28:53.296\u001b[0m | \u001b[1mINFO    \u001b[0m | \u001b[36msrc.modeling.predict\u001b[0m:\u001b[36mmain\u001b[0m:\u001b[36m33\u001b[0m - \u001b[1mInput data shape: (51, 15)\u001b[0m\n",
      "\u001b[32m2025-06-25 13:28:53.319\u001b[0m | \u001b[1mINFO    \u001b[0m | \u001b[36msrc.utils.features.generator_strategy\u001b[0m:\u001b[36mgenerate\u001b[0m:\u001b[36m18\u001b[0m - \u001b[1mGenerating Timeseries from dataset...\u001b[0m\n"
     ]
    },
    {
     "name": "stderr",
     "output_type": "stream",
     "text": [
      "c:\\Repositories\\ds-lstm-ibov\\.venv\\Lib\\site-packages\\keras\\src\\trainers\\data_adapters\\py_dataset_adapter.py:121: UserWarning: Your `PyDataset` class should call `super().__init__(**kwargs)` in its constructor. `**kwargs` can include `workers`, `use_multiprocessing`, `max_queue_size`. Do not pass these arguments to `fit()`, as they will be ignored.\n",
      "  self._warn_if_super_not_called()\n"
     ]
    },
    {
     "name": "stdout",
     "output_type": "stream",
     "text": [
      "\u001b[1m1/1\u001b[0m \u001b[32m━━━━━━━━━━━━━━━━━━━━\u001b[0m\u001b[37m\u001b[0m \u001b[1m1s\u001b[0m 1s/step\n",
      "            Close_^BVSP       type\n",
      "2025-06-23    -0.004121       True\n",
      "2025-06-24     0.004496       True\n",
      "2025-06-25    -0.000232  Predicted\n",
      "\u001b[32m2025-06-25 13:28:55.044\u001b[0m | \u001b[32m\u001b[1mSUCCESS \u001b[0m | \u001b[36msrc.modeling.predict\u001b[0m:\u001b[36mmain\u001b[0m:\u001b[36m76\u001b[0m - \u001b[32m\u001b[1mInference complete.\u001b[0m\n"
     ]
    }
   ],
   "source": [
    "from src import config\n",
    "from src.modeling import predict\n",
    "\n",
    "predict.main(\n",
    "    # ---- REPLACE DEFAULT PATHS AS APPROPRIATE ----\n",
    "    input_path = config.PROCESSED_DATA_DIR / \"dataset.csv\",\n",
    "    preprocessor_path = config.PROCESSED_DATA_DIR / \"preprocessor.pkl\",\n",
    "    model_path = config.MODELS_DIR / \"Sequential_epoch47_loss0.2119.keras\",  # Select the best model  \n",
    "    postprocessor_path = config.PROCESSED_DATA_DIR / \"postprocessor.pkl\",\n",
    "    output_path = config.PROCESSED_DATA_DIR / \"dataset_report.csv\",\n",
    "    length = 50\n",
    "    # -----------------------------------------\n",
    ")"
   ]
  },
  {
   "cell_type": "markdown",
   "id": "340ef876",
   "metadata": {},
   "source": [
    "## Plot\n",
    "\n",
    "Open the [Power BI Report]((../reports/pbi/amp-fynance.pbip)) and refresh data."
   ]
  }
 ],
 "metadata": {
  "kernelspec": {
   "display_name": ".venv",
   "language": "python",
   "name": "python3"
  },
  "language_info": {
   "codemirror_mode": {
    "name": "ipython",
    "version": 3
   },
   "file_extension": ".py",
   "mimetype": "text/x-python",
   "name": "python",
   "nbconvert_exporter": "python",
   "pygments_lexer": "ipython3",
   "version": "3.12.10"
  }
 },
 "nbformat": 4,
 "nbformat_minor": 5
}
