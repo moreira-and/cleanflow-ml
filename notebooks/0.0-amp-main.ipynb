{
 "cells": [
  {
   "cell_type": "markdown",
   "id": "9f58e5c2",
   "metadata": {},
   "source": [
    "## Import libraries"
   ]
  },
  {
   "cell_type": "code",
   "execution_count": 1,
   "id": "42021f93",
   "metadata": {},
   "outputs": [
    {
     "name": "stderr",
     "output_type": "stream",
     "text": [
      "\u001b[32m2025-06-25 07:47:55.882\u001b[0m | \u001b[1mINFO    \u001b[0m | \u001b[36msrc.config\u001b[0m:\u001b[36m<module>\u001b[0m:\u001b[36m11\u001b[0m - \u001b[1mPROJ_ROOT path is: C:\\Repositories\\ds-lstm-ibov\u001b[0m\n"
     ]
    }
   ],
   "source": [
    "import src.config as config"
   ]
  },
  {
   "cell_type": "markdown",
   "id": "9bfd6425",
   "metadata": {},
   "source": [
    "## ETL — Extract, Transform, Load of Raw Dataset\n",
    "\n",
    "This section is responsible for the Extraction phase of the ETL process, pulling historical financial data from multiple sources as defined in the configuration file [dataset.yaml](../configs/dataset.yaml).\n",
    "\n",
    "- Data Storage: Each dataset is stored locally in the data/raw/ directory, organized and saved individually as .csv files for traceability and versioning.\n",
    "- Data Cleaning:\n",
    "  - Missing values are treated using a standard cleaning strategy.\n",
    "  - Features with low variance (threshold < 0.01) are removed to reduce noise and improve modeling efficiency. In this execution, no low-variance columns were found."
   ]
  },
  {
   "cell_type": "code",
   "execution_count": 2,
   "id": "7fdcd420",
   "metadata": {},
   "outputs": [
    {
     "name": "stdout",
     "output_type": "stream",
     "text": [
      "\u001b[32m2025-06-25 07:48:23.906\u001b[0m | \u001b[1mINFO    \u001b[0m | \u001b[36msrc.dataset\u001b[0m:\u001b[36mmain\u001b[0m:\u001b[36m33\u001b[0m - \u001b[1mStarting raw data loading...\u001b[0m\n",
      "\u001b[32m2025-06-25 07:48:23.906\u001b[0m | \u001b[1mINFO    \u001b[0m | \u001b[36msrc.dataset\u001b[0m:\u001b[36mmain\u001b[0m:\u001b[36m39\u001b[0m - \u001b[1mRequesting information between 2022-06-26 and 2025-06-25\u001b[0m\n",
      "\u001b[32m2025-06-25 07:48:23.939\u001b[0m | \u001b[1mINFO    \u001b[0m | \u001b[36msrc.utils.dataset.dataset_loading_strategy\u001b[0m:\u001b[36m_load_from_yfinance\u001b[0m:\u001b[36m56\u001b[0m - \u001b[1mDownloading BOVESPA (^BVSP) from yfinance...\u001b[0m\n"
     ]
    },
    {
     "name": "stderr",
     "output_type": "stream",
     "text": [
      "[*********************100%***********************]  1 of 1 completed\n"
     ]
    },
    {
     "name": "stdout",
     "output_type": "stream",
     "text": [
      "\u001b[32m2025-06-25 07:48:30.528\u001b[0m | \u001b[1mINFO    \u001b[0m | \u001b[36msrc.utils.dataset.dataset_loading_strategy\u001b[0m:\u001b[36m_load_from_yfinance\u001b[0m:\u001b[36m56\u001b[0m - \u001b[1mDownloading S&P500 (^GSPC) from yfinance...\u001b[0m\n"
     ]
    },
    {
     "name": "stderr",
     "output_type": "stream",
     "text": [
      "[*********************100%***********************]  1 of 1 completed\n"
     ]
    },
    {
     "name": "stdout",
     "output_type": "stream",
     "text": [
      "\u001b[32m2025-06-25 07:48:33.034\u001b[0m | \u001b[1mINFO    \u001b[0m | \u001b[36msrc.utils.dataset.dataset_loading_strategy\u001b[0m:\u001b[36m_load_from_yfinance\u001b[0m:\u001b[36m56\u001b[0m - \u001b[1mDownloading BITCOIN (BTC-USD) from yfinance...\u001b[0m\n"
     ]
    },
    {
     "name": "stderr",
     "output_type": "stream",
     "text": [
      "[*********************100%***********************]  1 of 1 completed\n"
     ]
    },
    {
     "name": "stdout",
     "output_type": "stream",
     "text": [
      "\u001b[32m2025-06-25 07:48:35.632\u001b[0m | \u001b[1mINFO    \u001b[0m | \u001b[36msrc.utils.dataset.dataset_loading_strategy\u001b[0m:\u001b[36m_load_from_yfinance\u001b[0m:\u001b[36m56\u001b[0m - \u001b[1mDownloading OURO (GC=F) from yfinance...\u001b[0m\n"
     ]
    },
    {
     "name": "stderr",
     "output_type": "stream",
     "text": [
      "[*********************100%***********************]  1 of 1 completed\n"
     ]
    },
    {
     "name": "stdout",
     "output_type": "stream",
     "text": [
      "\u001b[32m2025-06-25 07:48:38.215\u001b[0m | \u001b[1mINFO    \u001b[0m | \u001b[36msrc.utils.dataset.dataset_loading_strategy\u001b[0m:\u001b[36m_load_from_yfinance\u001b[0m:\u001b[36m56\u001b[0m - \u001b[1mDownloading PETROLEO (CL=F) from yfinance...\u001b[0m\n"
     ]
    },
    {
     "name": "stderr",
     "output_type": "stream",
     "text": [
      "[*********************100%***********************]  1 of 1 completed\n"
     ]
    },
    {
     "name": "stdout",
     "output_type": "stream",
     "text": [
      "\u001b[32m2025-06-25 07:48:40.804\u001b[0m | \u001b[1mINFO    \u001b[0m | \u001b[36msrc.utils.dataset.dataset_loading_strategy\u001b[0m:\u001b[36m_load_from_yfinance\u001b[0m:\u001b[36m56\u001b[0m - \u001b[1mDownloading ACUCAR (SB=F) from yfinance...\u001b[0m\n"
     ]
    },
    {
     "name": "stderr",
     "output_type": "stream",
     "text": [
      "[*********************100%***********************]  1 of 1 completed\n"
     ]
    },
    {
     "name": "stdout",
     "output_type": "stream",
     "text": [
      "\u001b[32m2025-06-25 07:48:43.343\u001b[0m | \u001b[1mINFO    \u001b[0m | \u001b[36msrc.utils.dataset.dataset_loading_strategy\u001b[0m:\u001b[36mload\u001b[0m:\u001b[36m81\u001b[0m - \u001b[1mDownloading SELIC (11) from the Central Bank of Brazil API...\u001b[0m\n",
      "\u001b[32m2025-06-25 07:48:47.982\u001b[0m | \u001b[1mINFO    \u001b[0m | \u001b[36msrc.utils.dataset.dataset_loading_strategy\u001b[0m:\u001b[36mload\u001b[0m:\u001b[36m81\u001b[0m - \u001b[1mDownloading CDI (12) from the Central Bank of Brazil API...\u001b[0m\n",
      "\u001b[32m2025-06-25 07:48:52.624\u001b[0m | \u001b[1mINFO    \u001b[0m | \u001b[36msrc.utils.dataset.dataset_loading_strategy\u001b[0m:\u001b[36mload\u001b[0m:\u001b[36m81\u001b[0m - \u001b[1mDownloading SELIC_Anual (1178) from the Central Bank of Brazil API...\u001b[0m\n",
      "\u001b[32m2025-06-25 07:48:57.498\u001b[0m | \u001b[1mINFO    \u001b[0m | \u001b[36msrc.utils.dataset.dataset_loading_strategy\u001b[0m:\u001b[36mload\u001b[0m:\u001b[36m81\u001b[0m - \u001b[1mDownloading SELIC_Meta_Anual (432) from the Central Bank of Brazil API...\u001b[0m\n",
      "\u001b[32m2025-06-25 07:49:03.835\u001b[0m | \u001b[1mINFO    \u001b[0m | \u001b[36msrc.utils.dataset.dataset_loading_strategy\u001b[0m:\u001b[36mload\u001b[0m:\u001b[36m81\u001b[0m - \u001b[1mDownloading IPCA_Mensal (433) from the Central Bank of Brazil API...\u001b[0m\n",
      "\u001b[32m2025-06-25 07:49:06.277\u001b[0m | \u001b[1mINFO    \u001b[0m | \u001b[36msrc.utils.dataset.dataset_loading_strategy\u001b[0m:\u001b[36mload\u001b[0m:\u001b[36m81\u001b[0m - \u001b[1mDownloading IGP_M_Mensal (189) from the Central Bank of Brazil API...\u001b[0m\n",
      "\u001b[32m2025-06-25 07:49:08.636\u001b[0m | \u001b[1mINFO    \u001b[0m | \u001b[36msrc.utils.dataset.dataset_loading_strategy\u001b[0m:\u001b[36mload\u001b[0m:\u001b[36m81\u001b[0m - \u001b[1mDownloading INCC_Mensal (192) from the Central Bank of Brazil API...\u001b[0m\n",
      "\u001b[32m2025-06-25 07:49:11.047\u001b[0m | \u001b[1mINFO    \u001b[0m | \u001b[36msrc.utils.dataset.dataset_loading_strategy\u001b[0m:\u001b[36mload\u001b[0m:\u001b[36m81\u001b[0m - \u001b[1mDownloading Indice_Condicoes_Econ_BR (27574) from the Central Bank of Brazil API...\u001b[0m\n",
      "\u001b[32m2025-06-25 07:49:13.460\u001b[0m | \u001b[1mINFO    \u001b[0m | \u001b[36msrc.utils.dataset.dataset_loading_strategy\u001b[0m:\u001b[36mload\u001b[0m:\u001b[36m81\u001b[0m - \u001b[1mDownloading Indice_Condicoes_Econ_BR_USD (29042) from the Central Bank of Brazil API...\u001b[0m\n",
      "\u001b[32m2025-06-25 07:49:15.861\u001b[0m | \u001b[1mINFO    \u001b[0m | \u001b[36msrc.utils.dataset.dataset_loading_strategy\u001b[0m:\u001b[36mload\u001b[0m:\u001b[36m81\u001b[0m - \u001b[1mDownloading Salario_Minimo (1619) from the Central Bank of Brazil API...\u001b[0m\n",
      "\u001b[32m2025-06-25 07:49:18.374\u001b[0m | \u001b[1mINFO    \u001b[0m | \u001b[36msrc.utils.dataset.dataset_loading_strategy\u001b[0m:\u001b[36mload\u001b[0m:\u001b[36m81\u001b[0m - \u001b[1mDownloading IBC_BR (24363) from the Central Bank of Brazil API...\u001b[0m\n",
      "\u001b[32m2025-06-25 07:49:20.786\u001b[0m | \u001b[1mINFO    \u001b[0m | \u001b[36msrc.utils.dataset.dataset_loading_strategy\u001b[0m:\u001b[36mload\u001b[0m:\u001b[36m81\u001b[0m - \u001b[1mDownloading Populacao_BR (21774) from the Central Bank of Brazil API...\u001b[0m\n",
      "\u001b[32m2025-06-25 07:49:23.107\u001b[0m | \u001b[1mINFO    \u001b[0m | \u001b[36msrc.utils.dataset.dataset_loading_strategy\u001b[0m:\u001b[36mload\u001b[0m:\u001b[36m81\u001b[0m - \u001b[1mDownloading PIB_Trimestral_Real (4380) from the Central Bank of Brazil API...\u001b[0m\n",
      "\u001b[32m2025-06-25 07:49:25.515\u001b[0m | \u001b[1mINFO    \u001b[0m | \u001b[36msrc.utils.dataset.dataset_loading_strategy\u001b[0m:\u001b[36mload\u001b[0m:\u001b[36m81\u001b[0m - \u001b[1mDownloading PIB_Anual_Corrente (7326) from the Central Bank of Brazil API...\u001b[0m\n",
      "\u001b[32m2025-06-25 07:49:27.816\u001b[0m | \u001b[1mINFO    \u001b[0m | \u001b[36msrc.utils.dataset.dataset_loading_strategy\u001b[0m:\u001b[36mload\u001b[0m:\u001b[36m81\u001b[0m - \u001b[1mDownloading Deflator_Implicito_PIB (1211) from the Central Bank of Brazil API...\u001b[0m\n",
      "\u001b[32m2025-06-25 07:49:30.141\u001b[0m | \u001b[1mINFO    \u001b[0m | \u001b[36msrc.utils.dataset.dataset_loading_strategy\u001b[0m:\u001b[36mload\u001b[0m:\u001b[36m136\u001b[0m - \u001b[1mDownloading BRL_USD (DEXBZUS) from DataReader...\u001b[0m\n",
      "\u001b[32m2025-06-25 07:49:33.672\u001b[0m | \u001b[1mINFO    \u001b[0m | \u001b[36msrc.utils.dataset.dataset_loading_strategy\u001b[0m:\u001b[36mload\u001b[0m:\u001b[36m136\u001b[0m - \u001b[1mDownloading CPI_USA (CPIAUCSL) from DataReader...\u001b[0m\n",
      "\u001b[32m2025-06-25 07:49:36.168\u001b[0m | \u001b[1mINFO    \u001b[0m | \u001b[36msrc.dataset\u001b[0m:\u001b[36mmain\u001b[0m:\u001b[36m58\u001b[0m - \u001b[1mSaved Yfinance_BOVESPA dataset to C:\\Repositories\\ds-lstm-ibov\\data\\raw\\Yfinance_BOVESPA.csv\u001b[0m\n",
      "\u001b[32m2025-06-25 07:49:36.182\u001b[0m | \u001b[1mINFO    \u001b[0m | \u001b[36msrc.dataset\u001b[0m:\u001b[36mmain\u001b[0m:\u001b[36m58\u001b[0m - \u001b[1mSaved Yfinance_S&P500 dataset to C:\\Repositories\\ds-lstm-ibov\\data\\raw\\Yfinance_S&P500.csv\u001b[0m\n",
      "\u001b[32m2025-06-25 07:49:36.199\u001b[0m | \u001b[1mINFO    \u001b[0m | \u001b[36msrc.dataset\u001b[0m:\u001b[36mmain\u001b[0m:\u001b[36m58\u001b[0m - \u001b[1mSaved Yfinance_BITCOIN dataset to C:\\Repositories\\ds-lstm-ibov\\data\\raw\\Yfinance_BITCOIN.csv\u001b[0m\n",
      "\u001b[32m2025-06-25 07:49:36.215\u001b[0m | \u001b[1mINFO    \u001b[0m | \u001b[36msrc.dataset\u001b[0m:\u001b[36mmain\u001b[0m:\u001b[36m58\u001b[0m - \u001b[1mSaved Yfinance_OURO dataset to C:\\Repositories\\ds-lstm-ibov\\data\\raw\\Yfinance_OURO.csv\u001b[0m\n",
      "\u001b[32m2025-06-25 07:49:36.215\u001b[0m | \u001b[1mINFO    \u001b[0m | \u001b[36msrc.dataset\u001b[0m:\u001b[36mmain\u001b[0m:\u001b[36m58\u001b[0m - \u001b[1mSaved Yfinance_PETROLEO dataset to C:\\Repositories\\ds-lstm-ibov\\data\\raw\\Yfinance_PETROLEO.csv\u001b[0m\n",
      "\u001b[32m2025-06-25 07:49:36.231\u001b[0m | \u001b[1mINFO    \u001b[0m | \u001b[36msrc.dataset\u001b[0m:\u001b[36mmain\u001b[0m:\u001b[36m58\u001b[0m - \u001b[1mSaved Yfinance_ACUCAR dataset to C:\\Repositories\\ds-lstm-ibov\\data\\raw\\Yfinance_ACUCAR.csv\u001b[0m\n",
      "\u001b[32m2025-06-25 07:49:36.248\u001b[0m | \u001b[1mINFO    \u001b[0m | \u001b[36msrc.dataset\u001b[0m:\u001b[36mmain\u001b[0m:\u001b[36m58\u001b[0m - \u001b[1mSaved Bcb_SELIC dataset to C:\\Repositories\\ds-lstm-ibov\\data\\raw\\Bcb_SELIC.csv\u001b[0m\n",
      "\u001b[32m2025-06-25 07:49:36.248\u001b[0m | \u001b[1mINFO    \u001b[0m | \u001b[36msrc.dataset\u001b[0m:\u001b[36mmain\u001b[0m:\u001b[36m58\u001b[0m - \u001b[1mSaved Bcb_CDI dataset to C:\\Repositories\\ds-lstm-ibov\\data\\raw\\Bcb_CDI.csv\u001b[0m\n",
      "\u001b[32m2025-06-25 07:49:36.248\u001b[0m | \u001b[1mINFO    \u001b[0m | \u001b[36msrc.dataset\u001b[0m:\u001b[36mmain\u001b[0m:\u001b[36m58\u001b[0m - \u001b[1mSaved Bcb_SELIC_Anual dataset to C:\\Repositories\\ds-lstm-ibov\\data\\raw\\Bcb_SELIC_Anual.csv\u001b[0m\n",
      "\u001b[32m2025-06-25 07:49:36.265\u001b[0m | \u001b[1mINFO    \u001b[0m | \u001b[36msrc.dataset\u001b[0m:\u001b[36mmain\u001b[0m:\u001b[36m58\u001b[0m - \u001b[1mSaved Bcb_SELIC_Meta_Anual dataset to C:\\Repositories\\ds-lstm-ibov\\data\\raw\\Bcb_SELIC_Meta_Anual.csv\u001b[0m\n",
      "\u001b[32m2025-06-25 07:49:36.265\u001b[0m | \u001b[1mINFO    \u001b[0m | \u001b[36msrc.dataset\u001b[0m:\u001b[36mmain\u001b[0m:\u001b[36m58\u001b[0m - \u001b[1mSaved Bcb_IPCA_Mensal dataset to C:\\Repositories\\ds-lstm-ibov\\data\\raw\\Bcb_IPCA_Mensal.csv\u001b[0m\n",
      "\u001b[32m2025-06-25 07:49:36.282\u001b[0m | \u001b[1mINFO    \u001b[0m | \u001b[36msrc.dataset\u001b[0m:\u001b[36mmain\u001b[0m:\u001b[36m58\u001b[0m - \u001b[1mSaved Bcb_IGP_M_Mensal dataset to C:\\Repositories\\ds-lstm-ibov\\data\\raw\\Bcb_IGP_M_Mensal.csv\u001b[0m\n",
      "\u001b[32m2025-06-25 07:49:36.282\u001b[0m | \u001b[1mINFO    \u001b[0m | \u001b[36msrc.dataset\u001b[0m:\u001b[36mmain\u001b[0m:\u001b[36m58\u001b[0m - \u001b[1mSaved Bcb_INCC_Mensal dataset to C:\\Repositories\\ds-lstm-ibov\\data\\raw\\Bcb_INCC_Mensal.csv\u001b[0m\n",
      "\u001b[32m2025-06-25 07:49:36.282\u001b[0m | \u001b[1mINFO    \u001b[0m | \u001b[36msrc.dataset\u001b[0m:\u001b[36mmain\u001b[0m:\u001b[36m58\u001b[0m - \u001b[1mSaved Bcb_Indice_Condicoes_Econ_BR dataset to C:\\Repositories\\ds-lstm-ibov\\data\\raw\\Bcb_Indice_Condicoes_Econ_BR.csv\u001b[0m\n",
      "\u001b[32m2025-06-25 07:49:36.282\u001b[0m | \u001b[1mINFO    \u001b[0m | \u001b[36msrc.dataset\u001b[0m:\u001b[36mmain\u001b[0m:\u001b[36m58\u001b[0m - \u001b[1mSaved Bcb_Indice_Condicoes_Econ_BR_USD dataset to C:\\Repositories\\ds-lstm-ibov\\data\\raw\\Bcb_Indice_Condicoes_Econ_BR_USD.csv\u001b[0m\n",
      "\u001b[32m2025-06-25 07:49:36.298\u001b[0m | \u001b[1mINFO    \u001b[0m | \u001b[36msrc.dataset\u001b[0m:\u001b[36mmain\u001b[0m:\u001b[36m58\u001b[0m - \u001b[1mSaved Bcb_Salario_Minimo dataset to C:\\Repositories\\ds-lstm-ibov\\data\\raw\\Bcb_Salario_Minimo.csv\u001b[0m\n",
      "\u001b[32m2025-06-25 07:49:36.298\u001b[0m | \u001b[1mINFO    \u001b[0m | \u001b[36msrc.dataset\u001b[0m:\u001b[36mmain\u001b[0m:\u001b[36m58\u001b[0m - \u001b[1mSaved Bcb_IBC_BR dataset to C:\\Repositories\\ds-lstm-ibov\\data\\raw\\Bcb_IBC_BR.csv\u001b[0m\n",
      "\u001b[32m2025-06-25 07:49:36.298\u001b[0m | \u001b[1mINFO    \u001b[0m | \u001b[36msrc.dataset\u001b[0m:\u001b[36mmain\u001b[0m:\u001b[36m58\u001b[0m - \u001b[1mSaved Bcb_Populacao_BR dataset to C:\\Repositories\\ds-lstm-ibov\\data\\raw\\Bcb_Populacao_BR.csv\u001b[0m\n",
      "\u001b[32m2025-06-25 07:49:36.298\u001b[0m | \u001b[1mINFO    \u001b[0m | \u001b[36msrc.dataset\u001b[0m:\u001b[36mmain\u001b[0m:\u001b[36m58\u001b[0m - \u001b[1mSaved Bcb_PIB_Trimestral_Real dataset to C:\\Repositories\\ds-lstm-ibov\\data\\raw\\Bcb_PIB_Trimestral_Real.csv\u001b[0m\n",
      "\u001b[32m2025-06-25 07:49:36.318\u001b[0m | \u001b[1mINFO    \u001b[0m | \u001b[36msrc.dataset\u001b[0m:\u001b[36mmain\u001b[0m:\u001b[36m58\u001b[0m - \u001b[1mSaved Bcb_PIB_Anual_Corrente dataset to C:\\Repositories\\ds-lstm-ibov\\data\\raw\\Bcb_PIB_Anual_Corrente.csv\u001b[0m\n",
      "\u001b[32m2025-06-25 07:49:36.322\u001b[0m | \u001b[1mINFO    \u001b[0m | \u001b[36msrc.dataset\u001b[0m:\u001b[36mmain\u001b[0m:\u001b[36m58\u001b[0m - \u001b[1mSaved Bcb_Deflator_Implicito_PIB dataset to C:\\Repositories\\ds-lstm-ibov\\data\\raw\\Bcb_Deflator_Implicito_PIB.csv\u001b[0m\n",
      "\u001b[32m2025-06-25 07:49:36.322\u001b[0m | \u001b[1mINFO    \u001b[0m | \u001b[36msrc.dataset\u001b[0m:\u001b[36mmain\u001b[0m:\u001b[36m58\u001b[0m - \u001b[1mSaved DataReader_BRL_USD dataset to C:\\Repositories\\ds-lstm-ibov\\data\\raw\\DataReader_BRL_USD.csv\u001b[0m\n",
      "\u001b[32m2025-06-25 07:49:36.335\u001b[0m | \u001b[1mINFO    \u001b[0m | \u001b[36msrc.dataset\u001b[0m:\u001b[36mmain\u001b[0m:\u001b[36m58\u001b[0m - \u001b[1mSaved DataReader_CPI_USA dataset to C:\\Repositories\\ds-lstm-ibov\\data\\raw\\DataReader_CPI_USA.csv\u001b[0m\n"
     ]
    },
    {
     "name": "stderr",
     "output_type": "stream",
     "text": [
      "INFO:src.utils.dataset.clean_strategy:Executing CleanMissingValues...\n",
      "INFO:src.utils.dataset.clean_strategy:Executing CleanLowVariance with threshold=0.01...\n",
      "INFO:src.utils.dataset.clean_strategy:Columns removed due to low variance: Index([], dtype='object')\n",
      "c:\\Repositories\\ds-lstm-ibov\\.venv\\Lib\\site-packages\\sklearn\\utils\\validation.py:1408: DataConversionWarning: A column-vector y was passed when a 1d array was expected. Please change the shape of y to (n_samples, ), for example using ravel().\n",
      "  y = column_or_1d(y, warn=True)\n",
      "c:\\Repositories\\ds-lstm-ibov\\.venv\\Lib\\site-packages\\sklearn\\feature_selection\\_univariate_selection.py:108: RuntimeWarning: invalid value encountered in divide\n",
      "  msw = sswn / float(dfwn)\n",
      "INFO:src.utils.dataset.clean_strategy:Columns removed by f_classif: ['INCC_Mensal']\n",
      "c:\\Repositories\\ds-lstm-ibov\\.venv\\Lib\\site-packages\\sklearn\\utils\\validation.py:1408: DataConversionWarning: A column-vector y was passed when a 1d array was expected. Please change the shape of y to (n_samples, ), for example using ravel().\n",
      "  y = column_or_1d(y, warn=True)\n",
      "INFO:src.utils.dataset.clean_strategy:Columns removed by f_regression: ['Volume_SB=F']\n"
     ]
    },
    {
     "name": "stdout",
     "output_type": "stream",
     "text": [
      "            Close_^BVSP  High_^BVSP  Low_^BVSP  Open_^BVSP  Volume_^BVSP  \\\n",
      "2025-06-19          NaN         NaN        NaN         NaN           NaN   \n",
      "2025-06-20     137116.0    138719.0   136815.0    138715.0    11289300.0   \n",
      "2025-06-21          NaN         NaN        NaN         NaN           NaN   \n",
      "2025-06-22          NaN         NaN        NaN         NaN           NaN   \n",
      "2025-06-23     136551.0    137130.0   135835.0    137116.0     7727800.0   \n",
      "2025-06-24     137165.0    138156.0   136254.0    136552.0     8083700.0   \n",
      "2025-06-25          NaN         NaN        NaN         NaN           NaN   \n",
      "\n",
      "            Close_^GSPC   High_^GSPC    Low_^GSPC   Open_^GSPC  Volume_^GSPC  \\\n",
      "2025-06-19          NaN          NaN          NaN          NaN           NaN   \n",
      "2025-06-20  5967.839844  6018.200195  5952.560059  5999.669922  7.451500e+09   \n",
      "2025-06-21          NaN          NaN          NaN          NaN           NaN   \n",
      "2025-06-22          NaN          NaN          NaN          NaN           NaN   \n",
      "2025-06-23  6025.169922  6028.770020  5943.229980  5969.669922  5.597000e+09   \n",
      "2025-06-24  6092.180176  6101.759766  6059.250000  6061.209961  5.443690e+09   \n",
      "2025-06-25          NaN          NaN          NaN          NaN           NaN   \n",
      "\n",
      "            ...  Indice_Condicoes_Econ_BR  Indice_Condicoes_Econ_BR_USD  \\\n",
      "2025-06-19  ...                       NaN                           NaN   \n",
      "2025-06-20  ...                       NaN                           NaN   \n",
      "2025-06-21  ...                       NaN                           NaN   \n",
      "2025-06-22  ...                       NaN                           NaN   \n",
      "2025-06-23  ...                       NaN                           NaN   \n",
      "2025-06-24  ...                       NaN                           NaN   \n",
      "2025-06-25  ...                       NaN                           NaN   \n",
      "\n",
      "            Salario_Minimo  IBC_BR  Populacao_BR  PIB_Trimestral_Real  \\\n",
      "2025-06-19             NaN     NaN           NaN                  NaN   \n",
      "2025-06-20             NaN     NaN           NaN                  NaN   \n",
      "2025-06-21             NaN     NaN           NaN                  NaN   \n",
      "2025-06-22             NaN     NaN           NaN                  NaN   \n",
      "2025-06-23             NaN     NaN           NaN                  NaN   \n",
      "2025-06-24             NaN     NaN           NaN                  NaN   \n",
      "2025-06-25             NaN     NaN           NaN                  NaN   \n",
      "\n",
      "            PIB_Anual_Corrente  Deflator_Implicito_PIB  DEXBZUS  CPIAUCSL  \n",
      "2025-06-19                 NaN                     NaN      NaN       NaN  \n",
      "2025-06-20                 NaN                     NaN   5.5035       NaN  \n",
      "2025-06-21                 NaN                     NaN      NaN       NaN  \n",
      "2025-06-22                 NaN                     NaN      NaN       NaN  \n",
      "2025-06-23                 NaN                     NaN      NaN       NaN  \n",
      "2025-06-24                 NaN                     NaN      NaN       NaN  \n",
      "2025-06-25                 NaN                     NaN      NaN       NaN  \n",
      "\n",
      "[7 rows x 47 columns]\n",
      "\u001b[32m2025-06-25 07:49:36.448\u001b[0m | \u001b[32m\u001b[1mSUCCESS \u001b[0m | \u001b[36msrc.dataset\u001b[0m:\u001b[36mmain\u001b[0m:\u001b[36m69\u001b[0m - \u001b[32m\u001b[1mRaw data successfully loaded...\u001b[0m\n",
      "            Close_^BVSP  High_^BVSP  Low_^BVSP  Open_^BVSP  Volume_^BVSP  \\\n",
      "2025-06-13    -0.004260   -0.000950   0.003018    0.004908      0.211057   \n",
      "2025-06-16     0.014889    0.015878   0.004583   -0.004267     -0.116802   \n",
      "2025-06-17    -0.002987   -0.003507   0.007878    0.014897      0.099272   \n",
      "2025-06-18    -0.000886   -0.002409   0.001085   -0.002959     -0.006398   \n",
      "2025-06-20    -0.011541   -0.003176  -0.011759   -0.000929      0.356333   \n",
      "2025-06-23    -0.004121   -0.011455  -0.007163   -0.011527     -0.315476   \n",
      "2025-06-24     0.004496    0.007482   0.003085   -0.004113      0.046055   \n",
      "\n",
      "            Close_^GSPC  High_^GSPC  Low_^GSPC  Open_^GSPC  Volume_^GSPC  ...  \\\n",
      "2025-06-13    -0.011296   -0.003188  -0.006774   -0.001554      0.126226  ...   \n",
      "2025-06-16     0.009393    0.004094   0.006840    0.000573     -0.027991  ...   \n",
      "2025-06-17    -0.008352   -0.004558  -0.004863    0.001357     -0.030520  ...   \n",
      "2025-06-18    -0.000309   -0.000830  -0.000487   -0.004028      0.030424  ...   \n",
      "2025-06-20    -0.002179   -0.000008  -0.003237    0.001961      0.459227  ...   \n",
      "2025-06-23     0.009607    0.001756  -0.001567   -0.005000     -0.248876  ...   \n",
      "2025-06-24     0.011122    0.012107   0.019521    0.015334     -0.027391  ...   \n",
      "\n",
      "            Indice_Condicoes_Econ_BR  Indice_Condicoes_Econ_BR_USD  \\\n",
      "2025-06-13                       0.0                           0.0   \n",
      "2025-06-16                       0.0                           0.0   \n",
      "2025-06-17                       0.0                           0.0   \n",
      "2025-06-18                       0.0                           0.0   \n",
      "2025-06-20                       0.0                           0.0   \n",
      "2025-06-23                       0.0                           0.0   \n",
      "2025-06-24                       0.0                           0.0   \n",
      "\n",
      "            Salario_Minimo  IBC_BR  Populacao_BR  PIB_Trimestral_Real  \\\n",
      "2025-06-13             0.0     0.0           0.0                  0.0   \n",
      "2025-06-16             0.0     0.0           0.0                  0.0   \n",
      "2025-06-17             0.0     0.0           0.0                  0.0   \n",
      "2025-06-18             0.0     0.0           0.0                  0.0   \n",
      "2025-06-20             0.0     0.0           0.0                  0.0   \n",
      "2025-06-23             0.0     0.0           0.0                  0.0   \n",
      "2025-06-24             0.0     0.0           0.0                  0.0   \n",
      "\n",
      "            PIB_Anual_Corrente  Deflator_Implicito_PIB   DEXBZUS  CPIAUCSL  \n",
      "2025-06-13                 0.0                     0.0 -0.000108       0.0  \n",
      "2025-06-16                 0.0                     0.0 -0.005140       0.0  \n",
      "2025-06-17                 0.0                     0.0 -0.007124       0.0  \n",
      "2025-06-18                 0.0                     0.0  0.002720       0.0  \n",
      "2025-06-20                 0.0                     0.0  0.002076       0.0  \n",
      "2025-06-23                 0.0                     0.0  0.000000       0.0  \n",
      "2025-06-24                 0.0                     0.0  0.000000       0.0  \n",
      "\n",
      "[7 rows x 47 columns]\n",
      "            Close_^BVSP  Volume_^BVSP  Volume_^GSPC  Volume_BTC-USD  \\\n",
      "2025-06-12     0.004901     -0.187348     -0.086481        0.078698   \n",
      "2025-06-13    -0.004260      0.211057      0.126226        0.268153   \n",
      "2025-06-16     0.014889     -0.116802     -0.027991       -0.275826   \n",
      "2025-06-17    -0.002987      0.099272     -0.030520        0.111134   \n",
      "2025-06-18    -0.000886     -0.006398      0.030424       -0.154492   \n",
      "2025-06-20    -0.011541      0.356333      0.459227        0.076795   \n",
      "2025-06-23    -0.004121     -0.315476     -0.248876        0.280380   \n",
      "\n",
      "            Volume_GC=F  Volume_CL=F  IPCA_Mensal  IGP_M_Mensal month_name  \\\n",
      "2025-06-12    -0.136752     0.002433          0.0           0.0       June   \n",
      "2025-06-13    -0.725523     0.886303          0.0           0.0       June   \n",
      "2025-06-16    -0.038076    -0.486745          0.0           0.0       June   \n",
      "2025-06-17     2.077083    -0.580019          0.0           0.0       June   \n",
      "2025-06-18    -1.000000    -1.000000          0.0           0.0       June   \n",
      "2025-06-20     0.000000     0.000000          0.0           0.0       June   \n",
      "2025-06-23     0.000000     0.000000          0.0           0.0       June   \n",
      "\n",
      "            week_of_month day_of_week  is_weekend  is_holiday  \n",
      "2025-06-12              3    Thursday           0           0  \n",
      "2025-06-13              3      Friday           0           0  \n",
      "2025-06-16              4      Monday           0           0  \n",
      "2025-06-17              4     Tuesday           0           0  \n",
      "2025-06-18              4   Wednesday           0           0  \n",
      "2025-06-20              4      Friday           0           0  \n",
      "2025-06-23              5      Monday           0           0  \n",
      "            Close_^BVSP  Volume_^BVSP  Volume_^GSPC  Volume_BTC-USD  \\\n",
      "2025-06-13    -0.004260      0.211057      0.126226        0.268153   \n",
      "2025-06-16     0.014889     -0.116802     -0.027991       -0.275826   \n",
      "2025-06-17    -0.002987      0.099272     -0.030520        0.111134   \n",
      "2025-06-18    -0.000886     -0.006398      0.030424       -0.154492   \n",
      "2025-06-20    -0.011541      0.356333      0.459227        0.076795   \n",
      "2025-06-23    -0.004121     -0.315476     -0.248876        0.280380   \n",
      "2025-06-24     0.004496      0.046055     -0.027391       -0.251615   \n",
      "\n",
      "            Volume_GC=F  Volume_CL=F  IPCA_Mensal  IGP_M_Mensal month_name  \\\n",
      "2025-06-13    -0.725523     0.886303          0.0           0.0       June   \n",
      "2025-06-16    -0.038076    -0.486745          0.0           0.0       June   \n",
      "2025-06-17     2.077083    -0.580019          0.0           0.0       June   \n",
      "2025-06-18    -1.000000    -1.000000          0.0           0.0       June   \n",
      "2025-06-20     0.000000     0.000000          0.0           0.0       June   \n",
      "2025-06-23    -0.957687     0.074429          0.0           0.0       June   \n",
      "2025-06-24     0.000000     0.000000          0.0           0.0       June   \n",
      "\n",
      "            week_of_month day_of_week  is_weekend  is_holiday  \n",
      "2025-06-13              3      Friday           0           0  \n",
      "2025-06-16              4      Monday           0           0  \n",
      "2025-06-17              4     Tuesday           0           0  \n",
      "2025-06-18              4   Wednesday           0           0  \n",
      "2025-06-20              4      Friday           0           0  \n",
      "2025-06-23              5      Monday           0           0  \n",
      "2025-06-24              5     Tuesday           0           0  \n",
      "\u001b[32m2025-06-25 07:49:39.066\u001b[0m | \u001b[32m\u001b[1mSUCCESS \u001b[0m | \u001b[36msrc.dataset\u001b[0m:\u001b[36mmain\u001b[0m:\u001b[36m109\u001b[0m - \u001b[32m\u001b[1mClean data successfully loaded...\u001b[0m\n",
      "\u001b[32m2025-06-25 07:49:39.066\u001b[0m | \u001b[1mINFO    \u001b[0m | \u001b[36msrc.dataset\u001b[0m:\u001b[36mmain\u001b[0m:\u001b[36m113\u001b[0m - \u001b[1mTotal time taken: 75.16 seconds\u001b[0m\n"
     ]
    }
   ],
   "source": [
    "from src import dataset\n",
    "\n",
    "dataset.main(\n",
    "    # ---- REPLACE DEFAULT AS APPROPRIATE ----\n",
    "    asset = '^BVSP',\n",
    "    asset_focus = 'Close',\n",
    "    years = 3\n",
    "    # -----------------------------------------\n",
    "    )"
   ]
  },
  {
   "cell_type": "markdown",
   "id": "31fce4b8",
   "metadata": {},
   "source": [
    "## Feature Engineering — Time Series Preparation\n",
    "\n",
    "This part of the pipeline is responsible for transforming the cleaned dataset into structured features suitable for training time series models. It includes the following key steps:\n",
    "- Feature Generation: Constructs relevant features based on historical market data.\n",
    "- Dataset Splitting: The dataset is split into training and testing sets using a consistent strategy to preserve temporal structure.\n",
    "- Time Series Windowing: Converts the sequential data into overlapping windows, enabling the model to learn temporal dependencies.\n",
    "- Saving Artifacts: Both training and testing sets are stored for reproducibility, along with the transformation pipelines applied during preprocessing."
   ]
  },
  {
   "cell_type": "code",
   "execution_count": 3,
   "id": "64946194",
   "metadata": {},
   "outputs": [
    {
     "name": "stdout",
     "output_type": "stream",
     "text": [
      "\u001b[32m2025-06-25 07:50:09.205\u001b[0m | \u001b[1mINFO    \u001b[0m | \u001b[36msrc.features\u001b[0m:\u001b[36mmain\u001b[0m:\u001b[36m34\u001b[0m - \u001b[1mGenerating features from dataset...\u001b[0m\n",
      "\u001b[32m2025-06-25 07:50:09.221\u001b[0m | \u001b[1mINFO    \u001b[0m | \u001b[36msrc.utils.features.splitter_strategy\u001b[0m:\u001b[36msplit\u001b[0m:\u001b[36m15\u001b[0m - \u001b[1mSplitting dataset into training and testing sets...\u001b[0m\n",
      "\u001b[32m2025-06-25 07:50:09.236\u001b[0m | \u001b[1mINFO    \u001b[0m | \u001b[36msrc.utils.features.generator_strategy\u001b[0m:\u001b[36mgenerate\u001b[0m:\u001b[36m18\u001b[0m - \u001b[1mGenerating Timeseries from dataset...\u001b[0m\n",
      "\u001b[32m2025-06-25 07:50:09.252\u001b[0m | \u001b[32m\u001b[1mSUCCESS \u001b[0m | \u001b[36msrc.features\u001b[0m:\u001b[36mmain\u001b[0m:\u001b[36m49\u001b[0m - \u001b[32m\u001b[1mSaving train features in C:\\Repositories\\ds-lstm-ibov\\data\\processed...\u001b[0m\n",
      "\u001b[32m2025-06-25 07:50:09.252\u001b[0m | \u001b[32m\u001b[1mSUCCESS \u001b[0m | \u001b[36msrc.features\u001b[0m:\u001b[36mmain\u001b[0m:\u001b[36m53\u001b[0m - \u001b[32m\u001b[1mSaving test features in C:\\Repositories\\ds-lstm-ibov\\data\\processed...\u001b[0m\n",
      "\u001b[32m2025-06-25 07:50:09.252\u001b[0m | \u001b[32m\u001b[1mSUCCESS \u001b[0m | \u001b[36msrc.features\u001b[0m:\u001b[36mmain\u001b[0m:\u001b[36m57\u001b[0m - \u001b[32m\u001b[1mFeatures generation complete.\u001b[0m\n",
      "\u001b[32m2025-06-25 07:50:09.252\u001b[0m | \u001b[1mINFO    \u001b[0m | \u001b[36msrc.features\u001b[0m:\u001b[36mmain\u001b[0m:\u001b[36m59\u001b[0m - \u001b[1mSaving transformers...\u001b[0m\n",
      "\u001b[32m2025-06-25 07:50:09.252\u001b[0m | \u001b[1mINFO    \u001b[0m | \u001b[36msrc.utils.features.splitter_strategy\u001b[0m:\u001b[36msplit\u001b[0m:\u001b[36m15\u001b[0m - \u001b[1mSplitting dataset into training and testing sets...\u001b[0m\n",
      "\u001b[32m2025-06-25 07:50:09.252\u001b[0m | \u001b[1mINFO    \u001b[0m | \u001b[36msrc.features\u001b[0m:\u001b[36mmain\u001b[0m:\u001b[36m75\u001b[0m - \u001b[1mTotal time taken: 0.05 seconds\u001b[0m\n"
     ]
    }
   ],
   "source": [
    "from src import config\n",
    "from src import features\n",
    "\n",
    "features.main(\n",
    "    # ---- REPLACE DEFAULT PATHS AS APPROPRIATE ----\n",
    "    input_path = config.PROCESSED_DATA_DIR / \"dataset.csv\",\n",
    "    train_dir = config.PROCESSED_DATA_DIR,\n",
    "    test_dir = config.PROCESSED_DATA_DIR,\n",
    "    targets = [\"Close_^BVSP\"],\n",
    "    sequence_length = 20\n",
    "    # -----------------------------------------\n",
    ")"
   ]
  },
  {
   "cell_type": "markdown",
   "id": "2a66434c",
   "metadata": {},
   "source": [
    "## Modeling\n",
    "\n",
    "The modeling process begins with loading the training dataset. Next, the base model is constructed, and both the compilation and training strategies are defined. With the pipeline structure in place, the model is trained over 100 epochs using an iterative approach to adjust the weights.\n",
    "\n",
    "During training, key metrics are monitored, including accuracy, loss (error), validation accuracy and loss (on unseen data), as well as the learning rate."
   ]
  },
  {
   "cell_type": "code",
   "execution_count": 4,
   "id": "6ff11608",
   "metadata": {},
   "outputs": [
    {
     "name": "stdout",
     "output_type": "stream",
     "text": [
      "\u001b[32m2025-06-25 07:50:16.816\u001b[0m | \u001b[1mINFO    \u001b[0m | \u001b[36msrc.modeling.train\u001b[0m:\u001b[36mmain\u001b[0m:\u001b[36m32\u001b[0m - \u001b[1mLoading training dataset...\u001b[0m\n",
      "\u001b[32m2025-06-25 07:50:16.832\u001b[0m | \u001b[1mINFO    \u001b[0m | \u001b[36msrc.modeling.train\u001b[0m:\u001b[36mmain\u001b[0m:\u001b[36m42\u001b[0m - \u001b[1mBuilding model...\u001b[0m\n",
      "\u001b[32m2025-06-25 07:50:16.832\u001b[0m | \u001b[1mINFO    \u001b[0m | \u001b[36msrc.modeling.train\u001b[0m:\u001b[36mmain\u001b[0m:\u001b[36m48\u001b[0m - \u001b[1mSelecting compile strategy...\u001b[0m\n",
      "\u001b[32m2025-06-25 07:50:16.832\u001b[0m | \u001b[1mINFO    \u001b[0m | \u001b[36msrc.modeling.train\u001b[0m:\u001b[36mmain\u001b[0m:\u001b[36m51\u001b[0m - \u001b[1mSelecting training strategy...\u001b[0m\n",
      "\u001b[32m2025-06-25 07:50:16.832\u001b[0m | \u001b[1mINFO    \u001b[0m | \u001b[36msrc.modeling.train\u001b[0m:\u001b[36mmain\u001b[0m:\u001b[36m54\u001b[0m - \u001b[1mBuilding model training pipeline template...\u001b[0m\n",
      "\u001b[32m2025-06-25 07:50:16.832\u001b[0m | \u001b[1mINFO    \u001b[0m | \u001b[36msrc.modeling.train\u001b[0m:\u001b[36mmain\u001b[0m:\u001b[36m61\u001b[0m - \u001b[1mTraining model...\u001b[0m\n",
      "Epoch 1/1000\n",
      "\u001b[1m178/178\u001b[0m \u001b[32m━━━━━━━━━━━━━━━━━━━━\u001b[0m\u001b[37m\u001b[0m \u001b[1m13s\u001b[0m 27ms/step - loss: 0.4538 - mae: 0.7960 - mse: 1.0509 - r2_score: -0.8899 - rmse: 0.9476 - smape: 179.3579 - val_loss: 0.1525 - val_mae: 0.4261 - val_mse: 0.2561 - val_r2_score: -0.2886 - val_rmse: 0.4970 - val_smape: 195.6044 - learning_rate: 0.0010\n",
      "Epoch 2/1000\n",
      "\u001b[1m178/178\u001b[0m \u001b[32m━━━━━━━━━━━━━━━━━━━━\u001b[0m\u001b[37m\u001b[0m \u001b[1m4s\u001b[0m 20ms/step - loss: 0.4433 - mae: 0.7848 - mse: 1.0239 - r2_score: -0.8496 - rmse: 0.9364 - smape: 184.5264 - val_loss: 0.1505 - val_mae: 0.4209 - val_mse: 0.2542 - val_r2_score: -0.3269 - val_rmse: 0.4973 - val_smape: 181.9226 - learning_rate: 0.0010\n",
      "Epoch 3/1000\n",
      "\u001b[1m178/178\u001b[0m \u001b[32m━━━━━━━━━━━━━━━━━━━━\u001b[0m\u001b[37m\u001b[0m \u001b[1m4s\u001b[0m 20ms/step - loss: 0.4426 - mae: 0.7837 - mse: 1.0241 - r2_score: -0.8425 - rmse: 0.9361 - smape: 183.0302 - val_loss: 0.1555 - val_mae: 0.4332 - val_mse: 0.2670 - val_r2_score: -0.3604 - val_rmse: 0.5084 - val_smape: 195.2213 - learning_rate: 0.0010\n",
      "Epoch 4/1000\n",
      "\u001b[1m178/178\u001b[0m \u001b[32m━━━━━━━━━━━━━━━━━━━━\u001b[0m\u001b[37m\u001b[0m \u001b[1m4s\u001b[0m 20ms/step - loss: 0.4440 - mae: 0.7856 - mse: 1.0339 - r2_score: -0.8266 - rmse: 0.9378 - smape: 176.4842 - val_loss: 0.1535 - val_mae: 0.4262 - val_mse: 0.2631 - val_r2_score: -0.2570 - val_rmse: 0.4996 - val_smape: 173.0088 - learning_rate: 0.0010\n",
      "Epoch 5/1000\n",
      "\u001b[1m178/178\u001b[0m \u001b[32m━━━━━━━━━━━━━━━━━━━━\u001b[0m\u001b[37m\u001b[0m \u001b[1m4s\u001b[0m 20ms/step - loss: 0.4399 - mae: 0.7800 - mse: 1.0211 - r2_score: -0.8382 - rmse: 0.9333 - smape: 168.5025 - val_loss: 0.1588 - val_mae: 0.4351 - val_mse: 0.2753 - val_r2_score: -0.3325 - val_rmse: 0.5125 - val_smape: 175.7289 - learning_rate: 0.0010\n",
      "Epoch 6/1000\n",
      "\u001b[1m178/178\u001b[0m \u001b[32m━━━━━━━━━━━━━━━━━━━━\u001b[0m\u001b[37m\u001b[0m \u001b[1m5s\u001b[0m 20ms/step - loss: 0.4348 - mae: 0.7725 - mse: 1.0076 - r2_score: -0.8107 - rmse: 0.9286 - smape: 167.3064 - val_loss: 0.1551 - val_mae: 0.4279 - val_mse: 0.2684 - val_r2_score: -0.3063 - val_rmse: 0.5066 - val_smape: 171.2406 - learning_rate: 0.0010\n",
      "Epoch 7/1000\n",
      "\u001b[1m178/178\u001b[0m \u001b[32m━━━━━━━━━━━━━━━━━━━━\u001b[0m\u001b[37m\u001b[0m \u001b[1m4s\u001b[0m 23ms/step - loss: 0.4276 - mae: 0.7630 - mse: 0.9868 - r2_score: -0.7835 - rmse: 0.9185 - smape: 158.8017 - val_loss: 0.1605 - val_mae: 0.4386 - val_mse: 0.2799 - val_r2_score: -0.3543 - val_rmse: 0.5168 - val_smape: 170.1953 - learning_rate: 0.0010\n",
      "Epoch 8/1000\n",
      "\u001b[1m178/178\u001b[0m \u001b[32m━━━━━━━━━━━━━━━━━━━━\u001b[0m\u001b[37m\u001b[0m \u001b[1m4s\u001b[0m 21ms/step - loss: 0.4199 - mae: 0.7546 - mse: 0.9717 - r2_score: -0.7152 - rmse: 0.9084 - smape: 151.9328 - val_loss: 0.1658 - val_mae: 0.4437 - val_mse: 0.2900 - val_r2_score: -0.3932 - val_rmse: 0.5248 - val_smape: 162.9887 - learning_rate: 0.0010\n",
      "Epoch 9/1000\n",
      "\u001b[1m178/178\u001b[0m \u001b[32m━━━━━━━━━━━━━━━━━━━━\u001b[0m\u001b[37m\u001b[0m \u001b[1m4s\u001b[0m 20ms/step - loss: 0.4131 - mae: 0.7439 - mse: 0.9561 - r2_score: -0.6301 - rmse: 0.8981 - smape: 150.8308 - val_loss: 0.1475 - val_mae: 0.4086 - val_mse: 0.2538 - val_r2_score: -0.1962 - val_rmse: 0.4883 - val_smape: 156.9231 - learning_rate: 0.0010\n",
      "Epoch 10/1000\n",
      "\u001b[1m178/178\u001b[0m \u001b[32m━━━━━━━━━━━━━━━━━━━━\u001b[0m\u001b[37m\u001b[0m \u001b[1m5s\u001b[0m 21ms/step - loss: 0.3994 - mae: 0.7290 - mse: 0.9238 - r2_score: -0.5823 - rmse: 0.8800 - smape: 146.9908 - val_loss: 0.1564 - val_mae: 0.4044 - val_mse: 0.2712 - val_r2_score: -0.2179 - val_rmse: 0.4994 - val_smape: 136.9801 - learning_rate: 0.0010\n",
      "Epoch 11/1000\n",
      "\u001b[1m178/178\u001b[0m \u001b[32m━━━━━━━━━━━━━━━━━━━━\u001b[0m\u001b[37m\u001b[0m \u001b[1m4s\u001b[0m 20ms/step - loss: 0.3861 - mae: 0.7138 - mse: 0.8598 - r2_score: -0.4918 - rmse: 0.8514 - smape: 137.3473 - val_loss: 0.1680 - val_mae: 0.4168 - val_mse: 0.2913 - val_r2_score: -0.3474 - val_rmse: 0.5208 - val_smape: 129.3718 - learning_rate: 0.0010\n",
      "Epoch 12/1000\n",
      "\u001b[1m178/178\u001b[0m \u001b[32m━━━━━━━━━━━━━━━━━━━━\u001b[0m\u001b[37m\u001b[0m \u001b[1m4s\u001b[0m 22ms/step - loss: 0.3805 - mae: 0.7065 - mse: 0.8554 - r2_score: -0.4424 - rmse: 0.8484 - smape: 132.3591 - val_loss: 0.1639 - val_mae: 0.4084 - val_mse: 0.2913 - val_r2_score: -0.4009 - val_rmse: 0.5232 - val_smape: 130.4350 - learning_rate: 0.0010\n",
      "Epoch 13/1000\n",
      "\u001b[1m178/178\u001b[0m \u001b[32m━━━━━━━━━━━━━━━━━━━━\u001b[0m\u001b[37m\u001b[0m \u001b[1m4s\u001b[0m 22ms/step - loss: 0.3765 - mae: 0.6935 - mse: 0.8508 - r2_score: -0.4301 - rmse: 0.8355 - smape: 130.4953 - val_loss: 0.1538 - val_mae: 0.3938 - val_mse: 0.2650 - val_r2_score: -0.2167 - val_rmse: 0.4943 - val_smape: 118.8643 - learning_rate: 0.0010\n",
      "Epoch 14/1000\n",
      "\u001b[1m178/178\u001b[0m \u001b[32m━━━━━━━━━━━━━━━━━━━━\u001b[0m\u001b[37m\u001b[0m \u001b[1m4s\u001b[0m 21ms/step - loss: 0.3565 - mae: 0.6732 - mse: 0.7916 - r2_score: -0.4879 - rmse: 0.8068 - smape: 122.1646 - val_loss: 0.1640 - val_mae: 0.4173 - val_mse: 0.2808 - val_r2_score: -0.3441 - val_rmse: 0.5111 - val_smape: 128.2624 - learning_rate: 0.0010\n",
      "Epoch 15/1000\n",
      "\u001b[1m178/178\u001b[0m \u001b[32m━━━━━━━━━━━━━━━━━━━━\u001b[0m\u001b[37m\u001b[0m \u001b[1m4s\u001b[0m 21ms/step - loss: 0.3627 - mae: 0.6738 - mse: 0.8097 - r2_score: -0.6001 - rmse: 0.8199 - smape: 123.1882 - val_loss: 0.1683 - val_mae: 0.4349 - val_mse: 0.2901 - val_r2_score: -0.3261 - val_rmse: 0.5182 - val_smape: 151.4582 - learning_rate: 0.0010\n",
      "Epoch 16/1000\n",
      "\u001b[1m178/178\u001b[0m \u001b[32m━━━━━━━━━━━━━━━━━━━━\u001b[0m\u001b[37m\u001b[0m \u001b[1m5s\u001b[0m 20ms/step - loss: 0.3460 - mae: 0.6506 - mse: 0.7734 - r2_score: -0.3576 - rmse: 0.7928 - smape: 117.0696 - val_loss: 0.1494 - val_mae: 0.4030 - val_mse: 0.2487 - val_r2_score: -0.1250 - val_rmse: 0.4783 - val_smape: 136.7198 - learning_rate: 0.0010\n",
      "Epoch 17/1000\n",
      "\u001b[1m178/178\u001b[0m \u001b[32m━━━━━━━━━━━━━━━━━━━━\u001b[0m\u001b[37m\u001b[0m \u001b[1m6s\u001b[0m 23ms/step - loss: 0.3326 - mae: 0.6450 - mse: 0.7340 - r2_score: -0.1851 - rmse: 0.7698 - smape: 118.5134 - val_loss: 0.1598 - val_mae: 0.4333 - val_mse: 0.2713 - val_r2_score: -0.4196 - val_rmse: 0.5056 - val_smape: 139.7640 - learning_rate: 0.0010\n",
      "Epoch 18/1000\n",
      "\u001b[1m178/178\u001b[0m \u001b[32m━━━━━━━━━━━━━━━━━━━━\u001b[0m\u001b[37m\u001b[0m \u001b[1m4s\u001b[0m 18ms/step - loss: 0.3294 - mae: 0.6424 - mse: 0.7110 - r2_score: -0.3059 - rmse: 0.7610 - smape: 118.3188 - val_loss: 0.1691 - val_mae: 0.4355 - val_mse: 0.2917 - val_r2_score: -0.5953 - val_rmse: 0.5298 - val_smape: 145.0381 - learning_rate: 0.0010\n",
      "Epoch 19/1000\n",
      "\u001b[1m178/178\u001b[0m \u001b[32m━━━━━━━━━━━━━━━━━━━━\u001b[0m\u001b[37m\u001b[0m \u001b[1m3s\u001b[0m 18ms/step - loss: 0.3217 - mae: 0.6176 - mse: 0.7026 - r2_score: -0.1943 - rmse: 0.7486 - smape: 111.8798 - val_loss: 0.1628 - val_mae: 0.4331 - val_mse: 0.2738 - val_r2_score: -0.4672 - val_rmse: 0.5125 - val_smape: 136.6246 - learning_rate: 0.0010\n",
      "Epoch 20/1000\n",
      "\u001b[1m178/178\u001b[0m \u001b[32m━━━━━━━━━━━━━━━━━━━━\u001b[0m\u001b[37m\u001b[0m \u001b[1m3s\u001b[0m 17ms/step - loss: 0.3242 - mae: 0.6312 - mse: 0.6969 - r2_score: -0.2875 - rmse: 0.7507 - smape: 115.5706 - val_loss: 0.1625 - val_mae: 0.4228 - val_mse: 0.2724 - val_r2_score: -0.4592 - val_rmse: 0.5119 - val_smape: 138.9492 - learning_rate: 0.0010\n",
      "Epoch 21/1000\n",
      "\u001b[1m178/178\u001b[0m \u001b[32m━━━━━━━━━━━━━━━━━━━━\u001b[0m\u001b[37m\u001b[0m \u001b[1m3s\u001b[0m 18ms/step - loss: 0.2902 - mae: 0.5815 - mse: 0.5965 - r2_score: -0.0826 - rmse: 0.6926 - smape: 106.1329 - val_loss: 0.1620 - val_mae: 0.4250 - val_mse: 0.2707 - val_r2_score: -0.3800 - val_rmse: 0.5082 - val_smape: 135.9103 - learning_rate: 0.0010\n",
      "Epoch 22/1000\n",
      "\u001b[1m178/178\u001b[0m \u001b[32m━━━━━━━━━━━━━━━━━━━━\u001b[0m\u001b[37m\u001b[0m \u001b[1m3s\u001b[0m 17ms/step - loss: 0.2891 - mae: 0.5742 - mse: 0.6036 - r2_score: -0.2518 - rmse: 0.6981 - smape: 106.3630 - val_loss: 0.1608 - val_mae: 0.4253 - val_mse: 0.2663 - val_r2_score: -0.3805 - val_rmse: 0.5036 - val_smape: 135.8447 - learning_rate: 5.0000e-04\n",
      "Epoch 23/1000\n",
      "\u001b[1m178/178\u001b[0m \u001b[32m━━━━━━━━━━━━━━━━━━━━\u001b[0m\u001b[37m\u001b[0m \u001b[1m3s\u001b[0m 16ms/step - loss: 0.2589 - mae: 0.5434 - mse: 0.5217 - r2_score: -0.0011 - rmse: 0.6481 - smape: 103.5025 - val_loss: 0.1737 - val_mae: 0.4410 - val_mse: 0.2966 - val_r2_score: -0.4063 - val_rmse: 0.5189 - val_smape: 131.0687 - learning_rate: 5.0000e-04\n",
      "Epoch 24/1000\n",
      "\u001b[1m178/178\u001b[0m \u001b[32m━━━━━━━━━━━━━━━━━━━━\u001b[0m\u001b[37m\u001b[0m \u001b[1m3s\u001b[0m 16ms/step - loss: 0.2577 - mae: 0.5463 - mse: 0.5239 - r2_score: -0.0346 - rmse: 0.6511 - smape: 99.5839 - val_loss: 0.1736 - val_mae: 0.4265 - val_mse: 0.2944 - val_r2_score: -0.4658 - val_rmse: 0.5215 - val_smape: 118.6814 - learning_rate: 5.0000e-04\n",
      "Epoch 25/1000\n",
      "\u001b[1m178/178\u001b[0m \u001b[32m━━━━━━━━━━━━━━━━━━━━\u001b[0m\u001b[37m\u001b[0m \u001b[1m3s\u001b[0m 17ms/step - loss: 0.2617 - mae: 0.5410 - mse: 0.5395 - r2_score: 0.0573 - rmse: 0.6555 - smape: 96.7352 - val_loss: 0.1746 - val_mae: 0.4454 - val_mse: 0.2938 - val_r2_score: -0.5202 - val_rmse: 0.5278 - val_smape: 128.6930 - learning_rate: 5.0000e-04\n",
      "Epoch 26/1000\n",
      "\u001b[1m178/178\u001b[0m \u001b[32m━━━━━━━━━━━━━━━━━━━━\u001b[0m\u001b[37m\u001b[0m \u001b[1m3s\u001b[0m 16ms/step - loss: 0.2594 - mae: 0.5489 - mse: 0.5241 - r2_score: -0.1239 - rmse: 0.6567 - smape: 103.1993 - val_loss: 0.1793 - val_mae: 0.4423 - val_mse: 0.3050 - val_r2_score: -0.6345 - val_rmse: 0.5396 - val_smape: 129.2039 - learning_rate: 5.0000e-04\n",
      "Epoch 27/1000\n",
      "\u001b[1m178/178\u001b[0m \u001b[32m━━━━━━━━━━━━━━━━━━━━\u001b[0m\u001b[37m\u001b[0m \u001b[1m3s\u001b[0m 17ms/step - loss: 0.2366 - mae: 0.5180 - mse: 0.4679 - r2_score: 0.0176 - rmse: 0.6202 - smape: 100.0093 - val_loss: 0.1773 - val_mae: 0.4373 - val_mse: 0.3016 - val_r2_score: -0.5465 - val_rmse: 0.5310 - val_smape: 123.9525 - learning_rate: 5.0000e-04\n",
      "Epoch 28/1000\n",
      "\u001b[1m178/178\u001b[0m \u001b[32m━━━━━━━━━━━━━━━━━━━━\u001b[0m\u001b[37m\u001b[0m \u001b[1m3s\u001b[0m 17ms/step - loss: 0.2418 - mae: 0.5168 - mse: 0.4906 - r2_score: 0.0163 - rmse: 0.6213 - smape: 98.1554 - val_loss: 0.1842 - val_mae: 0.4537 - val_mse: 0.3138 - val_r2_score: -0.7457 - val_rmse: 0.5504 - val_smape: 132.0367 - learning_rate: 5.0000e-04\n",
      "Epoch 29/1000\n",
      "\u001b[1m178/178\u001b[0m \u001b[32m━━━━━━━━━━━━━━━━━━━━\u001b[0m\u001b[37m\u001b[0m \u001b[1m3s\u001b[0m 19ms/step - loss: 0.2231 - mae: 0.4832 - mse: 0.4520 - r2_score: 0.1099 - rmse: 0.5856 - smape: 91.4248 - val_loss: 0.1824 - val_mae: 0.4480 - val_mse: 0.3087 - val_r2_score: -0.6557 - val_rmse: 0.5445 - val_smape: 121.5174 - learning_rate: 5.0000e-04\n",
      "Epoch 30/1000\n",
      "\u001b[1m178/178\u001b[0m \u001b[32m━━━━━━━━━━━━━━━━━━━━\u001b[0m\u001b[37m\u001b[0m \u001b[1m4s\u001b[0m 19ms/step - loss: 0.2204 - mae: 0.4831 - mse: 0.4328 - r2_score: 0.1238 - rmse: 0.5825 - smape: 92.5654 - val_loss: 0.1811 - val_mae: 0.4347 - val_mse: 0.3074 - val_r2_score: -0.6173 - val_rmse: 0.5444 - val_smape: 128.8107 - learning_rate: 5.0000e-04\n",
      "Epoch 31/1000\n",
      "\u001b[1m178/178\u001b[0m \u001b[32m━━━━━━━━━━━━━━━━━━━━\u001b[0m\u001b[37m\u001b[0m \u001b[1m4s\u001b[0m 24ms/step - loss: 0.2240 - mae: 0.4960 - mse: 0.4481 - r2_score: 0.1847 - rmse: 0.5914 - smape: 94.7248 - val_loss: 0.1736 - val_mae: 0.4306 - val_mse: 0.2928 - val_r2_score: -0.4402 - val_rmse: 0.5274 - val_smape: 130.7119 - learning_rate: 5.0000e-04\n",
      "Epoch 32/1000\n",
      "\u001b[1m178/178\u001b[0m \u001b[32m━━━━━━━━━━━━━━━━━━━━\u001b[0m\u001b[37m\u001b[0m \u001b[1m4s\u001b[0m 22ms/step - loss: 0.2027 - mae: 0.4651 - mse: 0.3953 - r2_score: 0.2009 - rmse: 0.5547 - smape: 88.0083 - val_loss: 0.1808 - val_mae: 0.4369 - val_mse: 0.3068 - val_r2_score: -0.4737 - val_rmse: 0.5372 - val_smape: 118.7405 - learning_rate: 5.0000e-04\n",
      "Epoch 33/1000\n",
      "\u001b[1m178/178\u001b[0m \u001b[32m━━━━━━━━━━━━━━━━━━━━\u001b[0m\u001b[37m\u001b[0m \u001b[1m4s\u001b[0m 23ms/step - loss: 0.2246 - mae: 0.4918 - mse: 0.4364 - r2_score: 0.0932 - rmse: 0.5969 - smape: 93.2486 - val_loss: 0.1821 - val_mae: 0.4380 - val_mse: 0.3103 - val_r2_score: -0.4825 - val_rmse: 0.5365 - val_smape: 123.1641 - learning_rate: 5.0000e-04\n",
      "Epoch 34/1000\n",
      "\u001b[1m178/178\u001b[0m \u001b[32m━━━━━━━━━━━━━━━━━━━━\u001b[0m\u001b[37m\u001b[0m \u001b[1m3s\u001b[0m 18ms/step - loss: 0.1999 - mae: 0.4500 - mse: 0.3681 - r2_score: 0.3100 - rmse: 0.5434 - smape: 85.2849 - val_loss: 0.1868 - val_mae: 0.4369 - val_mse: 0.3183 - val_r2_score: -0.5594 - val_rmse: 0.5468 - val_smape: 116.0570 - learning_rate: 2.5000e-04\n",
      "Epoch 35/1000\n",
      "\u001b[1m178/178\u001b[0m \u001b[32m━━━━━━━━━━━━━━━━━━━━\u001b[0m\u001b[37m\u001b[0m \u001b[1m3s\u001b[0m 16ms/step - loss: 0.1930 - mae: 0.4441 - mse: 0.3644 - r2_score: 0.2962 - rmse: 0.5379 - smape: 83.9908 - val_loss: 0.1796 - val_mae: 0.4188 - val_mse: 0.3046 - val_r2_score: -0.4632 - val_rmse: 0.5317 - val_smape: 113.6307 - learning_rate: 2.5000e-04\n",
      "Epoch 36/1000\n",
      "\u001b[1m178/178\u001b[0m \u001b[32m━━━━━━━━━━━━━━━━━━━━\u001b[0m\u001b[37m\u001b[0m \u001b[1m3s\u001b[0m 17ms/step - loss: 0.2013 - mae: 0.4620 - mse: 0.3844 - r2_score: 0.2526 - rmse: 0.5545 - smape: 89.4130 - val_loss: 0.1760 - val_mae: 0.4118 - val_mse: 0.2973 - val_r2_score: -0.4171 - val_rmse: 0.5270 - val_smape: 115.1042 - learning_rate: 2.5000e-04\n",
      "Epoch 37/1000\n",
      "\u001b[1m178/178\u001b[0m \u001b[32m━━━━━━━━━━━━━━━━━━━━\u001b[0m\u001b[37m\u001b[0m \u001b[1m3s\u001b[0m 17ms/step - loss: 0.1717 - mae: 0.4025 - mse: 0.3260 - r2_score: 0.2992 - rmse: 0.4968 - smape: 80.7695 - val_loss: 0.1836 - val_mae: 0.4275 - val_mse: 0.3132 - val_r2_score: -0.5028 - val_rmse: 0.5414 - val_smape: 117.6589 - learning_rate: 2.5000e-04\n",
      "Epoch 38/1000\n",
      "\u001b[1m178/178\u001b[0m \u001b[32m━━━━━━━━━━━━━━━━━━━━\u001b[0m\u001b[37m\u001b[0m \u001b[1m3s\u001b[0m 16ms/step - loss: 0.1939 - mae: 0.4534 - mse: 0.3570 - r2_score: 0.2682 - rmse: 0.5408 - smape: 88.4814 - val_loss: 0.1842 - val_mae: 0.4343 - val_mse: 0.3133 - val_r2_score: -0.5285 - val_rmse: 0.5430 - val_smape: 117.7140 - learning_rate: 2.5000e-04\n",
      "Epoch 39/1000\n",
      "\u001b[1m178/178\u001b[0m \u001b[32m━━━━━━━━━━━━━━━━━━━━\u001b[0m\u001b[37m\u001b[0m \u001b[1m3s\u001b[0m 16ms/step - loss: 0.1722 - mae: 0.4154 - mse: 0.3211 - r2_score: 0.3576 - rmse: 0.4995 - smape: 81.8255 - val_loss: 0.1925 - val_mae: 0.4516 - val_mse: 0.3308 - val_r2_score: -0.6177 - val_rmse: 0.5564 - val_smape: 121.0865 - learning_rate: 2.5000e-04\n",
      "Epoch 40/1000\n",
      "\u001b[1m178/178\u001b[0m \u001b[32m━━━━━━━━━━━━━━━━━━━━\u001b[0m\u001b[37m\u001b[0m \u001b[1m3s\u001b[0m 16ms/step - loss: 0.2023 - mae: 0.4658 - mse: 0.3851 - r2_score: 0.1910 - rmse: 0.5649 - smape: 91.4709 - val_loss: 0.1960 - val_mae: 0.4624 - val_mse: 0.3374 - val_r2_score: -0.6875 - val_rmse: 0.5651 - val_smape: 124.6147 - learning_rate: 2.5000e-04\n",
      "Epoch 41/1000\n",
      "\u001b[1m178/178\u001b[0m \u001b[32m━━━━━━━━━━━━━━━━━━━━\u001b[0m\u001b[37m\u001b[0m \u001b[1m3s\u001b[0m 17ms/step - loss: 0.1635 - mae: 0.4017 - mse: 0.2965 - r2_score: 0.3635 - rmse: 0.4823 - smape: 77.5955 - val_loss: 0.1884 - val_mae: 0.4574 - val_mse: 0.3237 - val_r2_score: -0.5767 - val_rmse: 0.5507 - val_smape: 131.3061 - learning_rate: 2.5000e-04\n",
      "Epoch 42/1000\n",
      "\u001b[1m178/178\u001b[0m \u001b[32m━━━━━━━━━━━━━━━━━━━━\u001b[0m\u001b[37m\u001b[0m \u001b[1m3s\u001b[0m 17ms/step - loss: 0.1778 - mae: 0.4187 - mse: 0.3386 - r2_score: 0.3146 - rmse: 0.5133 - smape: 78.5194 - val_loss: 0.1849 - val_mae: 0.4575 - val_mse: 0.3161 - val_r2_score: -0.6083 - val_rmse: 0.5510 - val_smape: 141.0870 - learning_rate: 2.5000e-04\n",
      "Epoch 43/1000\n",
      "\u001b[1m178/178\u001b[0m \u001b[32m━━━━━━━━━━━━━━━━━━━━\u001b[0m\u001b[37m\u001b[0m \u001b[1m3s\u001b[0m 16ms/step - loss: 0.1788 - mae: 0.4161 - mse: 0.3278 - r2_score: 0.1843 - rmse: 0.5107 - smape: 82.4270 - val_loss: 0.1886 - val_mae: 0.4596 - val_mse: 0.3239 - val_r2_score: -0.5905 - val_rmse: 0.5534 - val_smape: 135.5339 - learning_rate: 2.5000e-04\n",
      "Epoch 44/1000\n",
      "\u001b[1m178/178\u001b[0m \u001b[32m━━━━━━━━━━━━━━━━━━━━\u001b[0m\u001b[37m\u001b[0m \u001b[1m3s\u001b[0m 16ms/step - loss: 0.1609 - mae: 0.3986 - mse: 0.2883 - r2_score: 0.3742 - rmse: 0.4786 - smape: 81.7000 - val_loss: 0.1795 - val_mae: 0.4429 - val_mse: 0.3047 - val_r2_score: -0.5456 - val_rmse: 0.5394 - val_smape: 128.2000 - learning_rate: 2.5000e-04\n",
      "Epoch 45/1000\n",
      "\u001b[1m178/178\u001b[0m \u001b[32m━━━━━━━━━━━━━━━━━━━━\u001b[0m\u001b[37m\u001b[0m \u001b[1m3s\u001b[0m 17ms/step - loss: 0.1772 - mae: 0.4142 - mse: 0.3360 - r2_score: 0.3541 - rmse: 0.5058 - smape: 80.4304 - val_loss: 0.1896 - val_mae: 0.4518 - val_mse: 0.3252 - val_r2_score: -0.6014 - val_rmse: 0.5563 - val_smape: 128.1258 - learning_rate: 2.5000e-04\n",
      "Epoch 46/1000\n",
      "\u001b[1m178/178\u001b[0m \u001b[32m━━━━━━━━━━━━━━━━━━━━\u001b[0m\u001b[37m\u001b[0m \u001b[1m3s\u001b[0m 17ms/step - loss: 0.1847 - mae: 0.4394 - mse: 0.3420 - r2_score: 0.2380 - rmse: 0.5304 - smape: 87.3595 - val_loss: 0.1863 - val_mae: 0.4423 - val_mse: 0.3196 - val_r2_score: -0.5354 - val_rmse: 0.5484 - val_smape: 122.1365 - learning_rate: 1.2500e-04\n",
      "Epoch 47/1000\n",
      "\u001b[1m178/178\u001b[0m \u001b[32m━━━━━━━━━━━━━━━━━━━━\u001b[0m\u001b[37m\u001b[0m \u001b[1m3s\u001b[0m 17ms/step - loss: 0.1776 - mae: 0.4217 - mse: 0.3297 - r2_score: 0.3266 - rmse: 0.5120 - smape: 80.9774 - val_loss: 0.1902 - val_mae: 0.4463 - val_mse: 0.3264 - val_r2_score: -0.5998 - val_rmse: 0.5568 - val_smape: 124.9999 - learning_rate: 1.2500e-04\n",
      "Epoch 48/1000\n",
      "\u001b[1m178/178\u001b[0m \u001b[32m━━━━━━━━━━━━━━━━━━━━\u001b[0m\u001b[37m\u001b[0m \u001b[1m3s\u001b[0m 17ms/step - loss: 0.1630 - mae: 0.4000 - mse: 0.2888 - r2_score: 0.3302 - rmse: 0.4816 - smape: 78.8575 - val_loss: 0.1869 - val_mae: 0.4403 - val_mse: 0.3188 - val_r2_score: -0.5952 - val_rmse: 0.5524 - val_smape: 123.0725 - learning_rate: 1.2500e-04\n",
      "Epoch 49/1000\n",
      "\u001b[1m178/178\u001b[0m \u001b[32m━━━━━━━━━━━━━━━━━━━━\u001b[0m\u001b[37m\u001b[0m \u001b[1m3s\u001b[0m 17ms/step - loss: 0.1778 - mae: 0.4201 - mse: 0.3231 - r2_score: 0.3679 - rmse: 0.5038 - smape: 82.6282 - val_loss: 0.2016 - val_mae: 0.4639 - val_mse: 0.3490 - val_r2_score: -0.8008 - val_rmse: 0.5808 - val_smape: 123.6697 - learning_rate: 1.2500e-04\n",
      "\u001b[32m2025-06-25 07:53:18.220\u001b[0m | \u001b[1mINFO    \u001b[0m | \u001b[36msrc.modeling.train\u001b[0m:\u001b[36mmain\u001b[0m:\u001b[36m70\u001b[0m - \u001b[1mSaving 'Sequential_epoch48_loss0.1494.keras' in 'C:\\Repositories\\ds-lstm-ibov\\models'...\u001b[0m\n"
     ]
    },
    {
     "name": "stderr",
     "output_type": "stream",
     "text": [
      "2025/06/25 07:53:19 WARNING mlflow.keras.save: You are saving a Keras model without specifying model signature.\n",
      "2025/06/25 07:53:34 WARNING mlflow.utils.environment: Encountered an unexpected error while inferring pip requirements (model URI: C:\\Users\\SAMSUNG\\AppData\\Local\\Temp\\tmpr_39ch6p\\model, flavor: keras). Fall back to return ['keras==3.9.2']. Set logging level to DEBUG to see the full traceback. \n",
      "2025/06/25 07:53:34 WARNING mlflow.models.model: Model logged without a signature and input example. Please set `input_example` parameter when logging the model to auto infer the model signature.\n",
      "Registered model 'RegressionRobustModelBuilder' already exists. Creating a new version of this model...\n",
      "Created version '8' of model 'RegressionRobustModelBuilder'.\n"
     ]
    },
    {
     "name": "stdout",
     "output_type": "stream",
     "text": [
      "\u001b[32m2025-06-25 07:53:37.730\u001b[0m | \u001b[32m\u001b[1mSUCCESS \u001b[0m | \u001b[36msrc.modeling.train\u001b[0m:\u001b[36mmain\u001b[0m:\u001b[36m88\u001b[0m - \u001b[32m\u001b[1mModeling training complete.\u001b[0m\n",
      "\u001b[32m2025-06-25 07:53:37.731\u001b[0m | \u001b[1mINFO    \u001b[0m | \u001b[36msrc.modeling.train\u001b[0m:\u001b[36mmain\u001b[0m:\u001b[36m91\u001b[0m - \u001b[1mElapsed time: 200.92 seconds\u001b[0m\n"
     ]
    }
   ],
   "source": [
    "from src import config\n",
    "from src.modeling import train\n",
    "\n",
    "train.main(\n",
    "    # ---- REPLACE DEFAULT PATHS AS APPROPRIATE ----\n",
    "    X_path = config.PROCESSED_DATA_DIR / \"X_train.npy\",\n",
    "    y_path = config.PROCESSED_DATA_DIR / \"y_train.npy\",\n",
    "    batch_size = 4,\n",
    "    validation_split = 0.02 #~LastMonth\n",
    "    # -----------------------------------------\n",
    ")"
   ]
  },
  {
   "cell_type": "markdown",
   "id": "ab6162b6",
   "metadata": {},
   "source": [
    "## Predict\n",
    "\n",
    "In the prediction stage, the trained model is loaded along with the input data. The model then performs inference, generating predictions based on the provided data.\n"
   ]
  },
  {
   "cell_type": "code",
   "execution_count": null,
   "id": "55f922aa",
   "metadata": {},
   "outputs": [
    {
     "name": "stdout",
     "output_type": "stream",
     "text": [
      "\u001b[32m2025-06-25 07:53:37.757\u001b[0m | \u001b[1mINFO    \u001b[0m | \u001b[36msrc.modeling.predict\u001b[0m:\u001b[36mmain\u001b[0m:\u001b[36m29\u001b[0m - \u001b[1mPerforming inference for model...\u001b[0m\n",
      "\u001b[32m2025-06-25 07:53:37.770\u001b[0m | \u001b[1mINFO    \u001b[0m | \u001b[36msrc.modeling.predict\u001b[0m:\u001b[36mmain\u001b[0m:\u001b[36m33\u001b[0m - \u001b[1mInput data shape: (21, 13)\u001b[0m\n",
      "\u001b[32m2025-06-25 07:53:37.783\u001b[0m | \u001b[1mINFO    \u001b[0m | \u001b[36msrc.utils.features.generator_strategy\u001b[0m:\u001b[36mgenerate\u001b[0m:\u001b[36m18\u001b[0m - \u001b[1mGenerating Timeseries from dataset...\u001b[0m\n"
     ]
    },
    {
     "name": "stderr",
     "output_type": "stream",
     "text": [
      "c:\\Repositories\\ds-lstm-ibov\\.venv\\Lib\\site-packages\\keras\\src\\trainers\\data_adapters\\py_dataset_adapter.py:121: UserWarning: Your `PyDataset` class should call `super().__init__(**kwargs)` in its constructor. `**kwargs` can include `workers`, `use_multiprocessing`, `max_queue_size`. Do not pass these arguments to `fit()`, as they will be ignored.\n",
      "  self._warn_if_super_not_called()\n"
     ]
    },
    {
     "name": "stdout",
     "output_type": "stream",
     "text": [
      "\u001b[1m1/1\u001b[0m \u001b[32m━━━━━━━━━━━━━━━━━━━━\u001b[0m\u001b[37m\u001b[0m \u001b[1m1s\u001b[0m 919ms/step\n",
      "            Close_^BVSP       type\n",
      "2025-06-23    -0.004121       True\n",
      "2025-06-24     0.004496       True\n",
      "2025-06-25     0.001850  Predicted\n",
      "\u001b[32m2025-06-25 07:53:39.167\u001b[0m | \u001b[32m\u001b[1mSUCCESS \u001b[0m | \u001b[36msrc.modeling.predict\u001b[0m:\u001b[36mmain\u001b[0m:\u001b[36m76\u001b[0m - \u001b[32m\u001b[1mInference complete.\u001b[0m\n"
     ]
    }
   ],
   "source": [
    "from src import config\n",
    "from src.modeling import predict\n",
    "\n",
    "predict.main(\n",
    "    # ---- REPLACE DEFAULT PATHS AS APPROPRIATE ----\n",
    "    input_path = config.PROCESSED_DATA_DIR / \"dataset.csv\",\n",
    "    preprocessor_path = config.PROCESSED_DATA_DIR / \"preprocessor.pkl\",\n",
    "    model_path = config.MODELS_DIR / \"Sequential_epoch48_loss0.1494.keras\",  # Select the best model  \n",
    "    postprocessor_path = config.PROCESSED_DATA_DIR / \"postprocessor.pkl\",\n",
    "    output_path = config.PROCESSED_DATA_DIR / \"dataset_report.csv\",\n",
    "    length = 20\n",
    "    # -----------------------------------------\n",
    ")"
   ]
  },
  {
   "cell_type": "markdown",
   "id": "340ef876",
   "metadata": {},
   "source": [
    "## Plot\n",
    "\n",
    "Open the [Power BI Report]((../reports/pbi/amp-fynance.pbip)) and refresh data."
   ]
  }
 ],
 "metadata": {
  "kernelspec": {
   "display_name": ".venv",
   "language": "python",
   "name": "python3"
  },
  "language_info": {
   "codemirror_mode": {
    "name": "ipython",
    "version": 3
   },
   "file_extension": ".py",
   "mimetype": "text/x-python",
   "name": "python",
   "nbconvert_exporter": "python",
   "pygments_lexer": "ipython3",
   "version": "3.12.10"
  }
 },
 "nbformat": 4,
 "nbformat_minor": 5
}
