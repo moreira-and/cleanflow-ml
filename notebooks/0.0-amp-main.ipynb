{
 "cells": [
  {
   "cell_type": "markdown",
   "id": "9f58e5c2",
   "metadata": {},
   "source": [
    "## Import libraries"
   ]
  },
  {
   "cell_type": "code",
   "execution_count": 1,
   "id": "42021f93",
   "metadata": {},
   "outputs": [
    {
     "name": "stderr",
     "output_type": "stream",
     "text": [
      "\u001b[32m2025-06-20 14:43:47.077\u001b[0m | \u001b[1mINFO    \u001b[0m | \u001b[36msrc.config\u001b[0m:\u001b[36m<module>\u001b[0m:\u001b[36m11\u001b[0m - \u001b[1mPROJ_ROOT path is: C:\\Repositories\\ds-lstm-ibov\u001b[0m\n"
     ]
    }
   ],
   "source": [
    "import src.config as config"
   ]
  },
  {
   "cell_type": "markdown",
   "id": "9bfd6425",
   "metadata": {},
   "source": [
    "## ETL — Extract, Transform, Load of Raw Dataset\n",
    "\n",
    "This section is responsible for the Extraction phase of the ETL process, pulling historical financial data from multiple sources as defined in the configuration file [dataset.yaml](../configs/dataset.yaml).\n",
    "\n",
    "- Data Storage: Each dataset is stored locally in the data/raw/ directory, organized and saved individually as .csv files for traceability and versioning.\n",
    "- Data Cleaning:\n",
    "  - Missing values are treated using a standard cleaning strategy.\n",
    "  - Features with low variance (threshold < 0.01) are removed to reduce noise and improve modeling efficiency. In this execution, no low-variance columns were found."
   ]
  },
  {
   "cell_type": "code",
   "execution_count": 2,
   "id": "7fdcd420",
   "metadata": {},
   "outputs": [
    {
     "name": "stdout",
     "output_type": "stream",
     "text": [
      "\u001b[32m2025-06-20 14:43:50.195\u001b[0m | \u001b[1mINFO    \u001b[0m | \u001b[36msrc.dataset\u001b[0m:\u001b[36mmain\u001b[0m:\u001b[36m32\u001b[0m - \u001b[1mStarting raw data loading...\u001b[0m\n",
      "\u001b[32m2025-06-20 14:43:50.195\u001b[0m | \u001b[1mINFO    \u001b[0m | \u001b[36msrc.dataset\u001b[0m:\u001b[36mmain\u001b[0m:\u001b[36m38\u001b[0m - \u001b[1mRequesting information between 2015-06-23 and 2025-06-20\u001b[0m\n",
      "\u001b[32m2025-06-20 14:43:50.207\u001b[0m | \u001b[1mINFO    \u001b[0m | \u001b[36msrc.utils.dataset.dataset_loading_strategy\u001b[0m:\u001b[36m_load_from_yfinance\u001b[0m:\u001b[36m56\u001b[0m - \u001b[1mDownloading BOVESPA (^BVSP) from yfinance...\u001b[0m\n"
     ]
    },
    {
     "name": "stderr",
     "output_type": "stream",
     "text": [
      "[*********************100%***********************]  1 of 1 completed\n"
     ]
    },
    {
     "name": "stdout",
     "output_type": "stream",
     "text": [
      "\u001b[32m2025-06-20 14:43:53.638\u001b[0m | \u001b[1mINFO    \u001b[0m | \u001b[36msrc.utils.dataset.dataset_loading_strategy\u001b[0m:\u001b[36m_load_from_yfinance\u001b[0m:\u001b[36m56\u001b[0m - \u001b[1mDownloading S&P500 (^GSPC) from yfinance...\u001b[0m\n"
     ]
    },
    {
     "name": "stderr",
     "output_type": "stream",
     "text": [
      "[*********************100%***********************]  1 of 1 completed\n"
     ]
    },
    {
     "name": "stdout",
     "output_type": "stream",
     "text": [
      "\u001b[32m2025-06-20 14:43:56.474\u001b[0m | \u001b[1mINFO    \u001b[0m | \u001b[36msrc.utils.dataset.dataset_loading_strategy\u001b[0m:\u001b[36m_load_from_yfinance\u001b[0m:\u001b[36m56\u001b[0m - \u001b[1mDownloading BITCOIN (BTC-USD) from yfinance...\u001b[0m\n"
     ]
    },
    {
     "name": "stderr",
     "output_type": "stream",
     "text": [
      "[*********************100%***********************]  1 of 1 completed\n"
     ]
    },
    {
     "name": "stdout",
     "output_type": "stream",
     "text": [
      "\u001b[32m2025-06-20 14:43:59.415\u001b[0m | \u001b[1mINFO    \u001b[0m | \u001b[36msrc.utils.dataset.dataset_loading_strategy\u001b[0m:\u001b[36m_load_from_yfinance\u001b[0m:\u001b[36m56\u001b[0m - \u001b[1mDownloading OURO (GC=F) from yfinance...\u001b[0m\n"
     ]
    },
    {
     "name": "stderr",
     "output_type": "stream",
     "text": [
      "[*********************100%***********************]  1 of 1 completed\n"
     ]
    },
    {
     "name": "stdout",
     "output_type": "stream",
     "text": [
      "\u001b[32m2025-06-20 14:44:02.243\u001b[0m | \u001b[1mINFO    \u001b[0m | \u001b[36msrc.utils.dataset.dataset_loading_strategy\u001b[0m:\u001b[36m_load_from_yfinance\u001b[0m:\u001b[36m56\u001b[0m - \u001b[1mDownloading PETROLEO (CL=F) from yfinance...\u001b[0m\n"
     ]
    },
    {
     "name": "stderr",
     "output_type": "stream",
     "text": [
      "[*********************100%***********************]  1 of 1 completed\n"
     ]
    },
    {
     "name": "stdout",
     "output_type": "stream",
     "text": [
      "\u001b[32m2025-06-20 14:44:04.941\u001b[0m | \u001b[1mINFO    \u001b[0m | \u001b[36msrc.utils.dataset.dataset_loading_strategy\u001b[0m:\u001b[36m_load_from_yfinance\u001b[0m:\u001b[36m56\u001b[0m - \u001b[1mDownloading ACUCAR (SB=F) from yfinance...\u001b[0m\n"
     ]
    },
    {
     "name": "stderr",
     "output_type": "stream",
     "text": [
      "[*********************100%***********************]  1 of 1 completed\n"
     ]
    },
    {
     "name": "stdout",
     "output_type": "stream",
     "text": [
      "\u001b[32m2025-06-20 14:44:07.643\u001b[0m | \u001b[1mINFO    \u001b[0m | \u001b[36msrc.utils.dataset.dataset_loading_strategy\u001b[0m:\u001b[36mload\u001b[0m:\u001b[36m81\u001b[0m - \u001b[1mDownloading SELIC (11) from the Central Bank of Brazil API...\u001b[0m\n",
      "\u001b[32m2025-06-20 14:44:29.741\u001b[0m | \u001b[1mINFO    \u001b[0m | \u001b[36msrc.utils.dataset.dataset_loading_strategy\u001b[0m:\u001b[36mload\u001b[0m:\u001b[36m81\u001b[0m - \u001b[1mDownloading CDI (12) from the Central Bank of Brazil API...\u001b[0m\n",
      "\u001b[32m2025-06-20 14:44:32.022\u001b[0m | \u001b[1mINFO    \u001b[0m | \u001b[36msrc.utils.dataset.dataset_loading_strategy\u001b[0m:\u001b[36mload\u001b[0m:\u001b[36m81\u001b[0m - \u001b[1mDownloading SELIC_Anual (1178) from the Central Bank of Brazil API...\u001b[0m\n",
      "\u001b[32m2025-06-20 14:44:34.322\u001b[0m | \u001b[1mINFO    \u001b[0m | \u001b[36msrc.utils.dataset.dataset_loading_strategy\u001b[0m:\u001b[36mload\u001b[0m:\u001b[36m81\u001b[0m - \u001b[1mDownloading SELIC_Meta_Anual (432) from the Central Bank of Brazil API...\u001b[0m\n",
      "\u001b[32m2025-06-20 14:45:04.615\u001b[0m | \u001b[33m\u001b[1mWARNING \u001b[0m | \u001b[36msrc.utils.dataset.dataset_loading_strategy\u001b[0m:\u001b[36m_request_bcb_series\u001b[0m:\u001b[36m118\u001b[0m - \u001b[33m\u001b[1mErro ao conectar à API do BCB: Expecting value: line 1 column 1 (char 0)\u001b[0m\n",
      "\u001b[32m2025-06-20 14:45:04.615\u001b[0m | \u001b[33m\u001b[1mWARNING \u001b[0m | \u001b[36msrc.utils.dataset.dataset_loading_strategy\u001b[0m:\u001b[36m_load_single_ticker\u001b[0m:\u001b[36m94\u001b[0m - \u001b[33m\u001b[1mNo data returned for SELIC_Meta_Anual (432)\u001b[0m\n",
      "\u001b[32m2025-06-20 14:45:06.624\u001b[0m | \u001b[1mINFO    \u001b[0m | \u001b[36msrc.utils.dataset.dataset_loading_strategy\u001b[0m:\u001b[36mload\u001b[0m:\u001b[36m81\u001b[0m - \u001b[1mDownloading IPCA_Mensal (433) from the Central Bank of Brazil API...\u001b[0m\n",
      "\u001b[32m2025-06-20 14:45:09.219\u001b[0m | \u001b[1mINFO    \u001b[0m | \u001b[36msrc.utils.dataset.dataset_loading_strategy\u001b[0m:\u001b[36mload\u001b[0m:\u001b[36m81\u001b[0m - \u001b[1mDownloading IGP_M_Mensal (189) from the Central Bank of Brazil API...\u001b[0m\n",
      "\u001b[32m2025-06-20 14:45:11.819\u001b[0m | \u001b[1mINFO    \u001b[0m | \u001b[36msrc.utils.dataset.dataset_loading_strategy\u001b[0m:\u001b[36mload\u001b[0m:\u001b[36m81\u001b[0m - \u001b[1mDownloading INCC_Mensal (192) from the Central Bank of Brazil API...\u001b[0m\n",
      "\u001b[32m2025-06-20 14:45:14.409\u001b[0m | \u001b[1mINFO    \u001b[0m | \u001b[36msrc.utils.dataset.dataset_loading_strategy\u001b[0m:\u001b[36mload\u001b[0m:\u001b[36m81\u001b[0m - \u001b[1mDownloading Indice_Condicoes_Econ_BR (27574) from the Central Bank of Brazil API...\u001b[0m\n",
      "\u001b[32m2025-06-20 14:45:17.001\u001b[0m | \u001b[1mINFO    \u001b[0m | \u001b[36msrc.utils.dataset.dataset_loading_strategy\u001b[0m:\u001b[36mload\u001b[0m:\u001b[36m81\u001b[0m - \u001b[1mDownloading Indice_Condicoes_Econ_BR_USD (29042) from the Central Bank of Brazil API...\u001b[0m\n",
      "\u001b[32m2025-06-20 14:45:19.581\u001b[0m | \u001b[1mINFO    \u001b[0m | \u001b[36msrc.utils.dataset.dataset_loading_strategy\u001b[0m:\u001b[36mload\u001b[0m:\u001b[36m81\u001b[0m - \u001b[1mDownloading Salario_Minimo (1619) from the Central Bank of Brazil API...\u001b[0m\n",
      "\u001b[32m2025-06-20 14:45:22.265\u001b[0m | \u001b[1mINFO    \u001b[0m | \u001b[36msrc.utils.dataset.dataset_loading_strategy\u001b[0m:\u001b[36mload\u001b[0m:\u001b[36m81\u001b[0m - \u001b[1mDownloading IBC_BR (24363) from the Central Bank of Brazil API...\u001b[0m\n",
      "\u001b[32m2025-06-20 14:45:24.819\u001b[0m | \u001b[1mINFO    \u001b[0m | \u001b[36msrc.utils.dataset.dataset_loading_strategy\u001b[0m:\u001b[36mload\u001b[0m:\u001b[36m81\u001b[0m - \u001b[1mDownloading Populacao_BR (21774) from the Central Bank of Brazil API...\u001b[0m\n",
      "\u001b[32m2025-06-20 14:45:27.802\u001b[0m | \u001b[1mINFO    \u001b[0m | \u001b[36msrc.utils.dataset.dataset_loading_strategy\u001b[0m:\u001b[36mload\u001b[0m:\u001b[36m81\u001b[0m - \u001b[1mDownloading PIB_Trimestral_Real (4380) from the Central Bank of Brazil API...\u001b[0m\n",
      "\u001b[32m2025-06-20 14:45:30.412\u001b[0m | \u001b[1mINFO    \u001b[0m | \u001b[36msrc.utils.dataset.dataset_loading_strategy\u001b[0m:\u001b[36mload\u001b[0m:\u001b[36m81\u001b[0m - \u001b[1mDownloading PIB_Anual_Corrente (7326) from the Central Bank of Brazil API...\u001b[0m\n",
      "\u001b[32m2025-06-20 14:45:32.762\u001b[0m | \u001b[1mINFO    \u001b[0m | \u001b[36msrc.utils.dataset.dataset_loading_strategy\u001b[0m:\u001b[36mload\u001b[0m:\u001b[36m81\u001b[0m - \u001b[1mDownloading Deflator_Implicito_PIB (1211) from the Central Bank of Brazil API...\u001b[0m\n",
      "\u001b[32m2025-06-20 14:45:35.142\u001b[0m | \u001b[1mINFO    \u001b[0m | \u001b[36msrc.utils.dataset.dataset_loading_strategy\u001b[0m:\u001b[36mload\u001b[0m:\u001b[36m136\u001b[0m - \u001b[1mDownloading BRL_USD (DEXBZUS) from DataReader...\u001b[0m\n",
      "\u001b[32m2025-06-20 14:45:38.838\u001b[0m | \u001b[1mINFO    \u001b[0m | \u001b[36msrc.utils.dataset.dataset_loading_strategy\u001b[0m:\u001b[36mload\u001b[0m:\u001b[36m136\u001b[0m - \u001b[1mDownloading CPI_USA (CPIAUCSL) from DataReader...\u001b[0m\n",
      "\u001b[32m2025-06-20 14:45:41.360\u001b[0m | \u001b[1mINFO    \u001b[0m | \u001b[36msrc.dataset\u001b[0m:\u001b[36mmain\u001b[0m:\u001b[36m56\u001b[0m - \u001b[1mSaved Yfinance_BOVESPA dataset to C:\\Repositories\\ds-lstm-ibov\\data\\raw\\Yfinance_BOVESPA.csv\u001b[0m\n",
      "\u001b[32m2025-06-20 14:45:41.392\u001b[0m | \u001b[1mINFO    \u001b[0m | \u001b[36msrc.dataset\u001b[0m:\u001b[36mmain\u001b[0m:\u001b[36m56\u001b[0m - \u001b[1mSaved Yfinance_S&P500 dataset to C:\\Repositories\\ds-lstm-ibov\\data\\raw\\Yfinance_S&P500.csv\u001b[0m\n",
      "\u001b[32m2025-06-20 14:45:41.417\u001b[0m | \u001b[1mINFO    \u001b[0m | \u001b[36msrc.dataset\u001b[0m:\u001b[36mmain\u001b[0m:\u001b[36m56\u001b[0m - \u001b[1mSaved Yfinance_BITCOIN dataset to C:\\Repositories\\ds-lstm-ibov\\data\\raw\\Yfinance_BITCOIN.csv\u001b[0m\n",
      "\u001b[32m2025-06-20 14:45:41.434\u001b[0m | \u001b[1mINFO    \u001b[0m | \u001b[36msrc.dataset\u001b[0m:\u001b[36mmain\u001b[0m:\u001b[36m56\u001b[0m - \u001b[1mSaved Yfinance_OURO dataset to C:\\Repositories\\ds-lstm-ibov\\data\\raw\\Yfinance_OURO.csv\u001b[0m\n",
      "\u001b[32m2025-06-20 14:45:41.450\u001b[0m | \u001b[1mINFO    \u001b[0m | \u001b[36msrc.dataset\u001b[0m:\u001b[36mmain\u001b[0m:\u001b[36m56\u001b[0m - \u001b[1mSaved Yfinance_PETROLEO dataset to C:\\Repositories\\ds-lstm-ibov\\data\\raw\\Yfinance_PETROLEO.csv\u001b[0m\n",
      "\u001b[32m2025-06-20 14:45:41.484\u001b[0m | \u001b[1mINFO    \u001b[0m | \u001b[36msrc.dataset\u001b[0m:\u001b[36mmain\u001b[0m:\u001b[36m56\u001b[0m - \u001b[1mSaved Yfinance_ACUCAR dataset to C:\\Repositories\\ds-lstm-ibov\\data\\raw\\Yfinance_ACUCAR.csv\u001b[0m\n",
      "\u001b[32m2025-06-20 14:45:41.492\u001b[0m | \u001b[1mINFO    \u001b[0m | \u001b[36msrc.dataset\u001b[0m:\u001b[36mmain\u001b[0m:\u001b[36m56\u001b[0m - \u001b[1mSaved Bcb_SELIC dataset to C:\\Repositories\\ds-lstm-ibov\\data\\raw\\Bcb_SELIC.csv\u001b[0m\n",
      "\u001b[32m2025-06-20 14:45:41.500\u001b[0m | \u001b[1mINFO    \u001b[0m | \u001b[36msrc.dataset\u001b[0m:\u001b[36mmain\u001b[0m:\u001b[36m56\u001b[0m - \u001b[1mSaved Bcb_CDI dataset to C:\\Repositories\\ds-lstm-ibov\\data\\raw\\Bcb_CDI.csv\u001b[0m\n",
      "\u001b[32m2025-06-20 14:45:41.500\u001b[0m | \u001b[1mINFO    \u001b[0m | \u001b[36msrc.dataset\u001b[0m:\u001b[36mmain\u001b[0m:\u001b[36m56\u001b[0m - \u001b[1mSaved Bcb_SELIC_Anual dataset to C:\\Repositories\\ds-lstm-ibov\\data\\raw\\Bcb_SELIC_Anual.csv\u001b[0m\n",
      "\u001b[32m2025-06-20 14:45:41.500\u001b[0m | \u001b[1mINFO    \u001b[0m | \u001b[36msrc.dataset\u001b[0m:\u001b[36mmain\u001b[0m:\u001b[36m56\u001b[0m - \u001b[1mSaved Bcb_IPCA_Mensal dataset to C:\\Repositories\\ds-lstm-ibov\\data\\raw\\Bcb_IPCA_Mensal.csv\u001b[0m\n",
      "\u001b[32m2025-06-20 14:45:41.500\u001b[0m | \u001b[1mINFO    \u001b[0m | \u001b[36msrc.dataset\u001b[0m:\u001b[36mmain\u001b[0m:\u001b[36m56\u001b[0m - \u001b[1mSaved Bcb_IGP_M_Mensal dataset to C:\\Repositories\\ds-lstm-ibov\\data\\raw\\Bcb_IGP_M_Mensal.csv\u001b[0m\n",
      "\u001b[32m2025-06-20 14:45:41.517\u001b[0m | \u001b[1mINFO    \u001b[0m | \u001b[36msrc.dataset\u001b[0m:\u001b[36mmain\u001b[0m:\u001b[36m56\u001b[0m - \u001b[1mSaved Bcb_INCC_Mensal dataset to C:\\Repositories\\ds-lstm-ibov\\data\\raw\\Bcb_INCC_Mensal.csv\u001b[0m\n",
      "\u001b[32m2025-06-20 14:45:41.517\u001b[0m | \u001b[1mINFO    \u001b[0m | \u001b[36msrc.dataset\u001b[0m:\u001b[36mmain\u001b[0m:\u001b[36m56\u001b[0m - \u001b[1mSaved Bcb_Indice_Condicoes_Econ_BR dataset to C:\\Repositories\\ds-lstm-ibov\\data\\raw\\Bcb_Indice_Condicoes_Econ_BR.csv\u001b[0m\n",
      "\u001b[32m2025-06-20 14:45:41.517\u001b[0m | \u001b[1mINFO    \u001b[0m | \u001b[36msrc.dataset\u001b[0m:\u001b[36mmain\u001b[0m:\u001b[36m56\u001b[0m - \u001b[1mSaved Bcb_Indice_Condicoes_Econ_BR_USD dataset to C:\\Repositories\\ds-lstm-ibov\\data\\raw\\Bcb_Indice_Condicoes_Econ_BR_USD.csv\u001b[0m\n",
      "\u001b[32m2025-06-20 14:45:41.517\u001b[0m | \u001b[1mINFO    \u001b[0m | \u001b[36msrc.dataset\u001b[0m:\u001b[36mmain\u001b[0m:\u001b[36m56\u001b[0m - \u001b[1mSaved Bcb_Salario_Minimo dataset to C:\\Repositories\\ds-lstm-ibov\\data\\raw\\Bcb_Salario_Minimo.csv\u001b[0m\n",
      "\u001b[32m2025-06-20 14:45:41.534\u001b[0m | \u001b[1mINFO    \u001b[0m | \u001b[36msrc.dataset\u001b[0m:\u001b[36mmain\u001b[0m:\u001b[36m56\u001b[0m - \u001b[1mSaved Bcb_IBC_BR dataset to C:\\Repositories\\ds-lstm-ibov\\data\\raw\\Bcb_IBC_BR.csv\u001b[0m\n",
      "\u001b[32m2025-06-20 14:45:41.534\u001b[0m | \u001b[1mINFO    \u001b[0m | \u001b[36msrc.dataset\u001b[0m:\u001b[36mmain\u001b[0m:\u001b[36m56\u001b[0m - \u001b[1mSaved Bcb_Populacao_BR dataset to C:\\Repositories\\ds-lstm-ibov\\data\\raw\\Bcb_Populacao_BR.csv\u001b[0m\n",
      "\u001b[32m2025-06-20 14:45:41.534\u001b[0m | \u001b[1mINFO    \u001b[0m | \u001b[36msrc.dataset\u001b[0m:\u001b[36mmain\u001b[0m:\u001b[36m56\u001b[0m - \u001b[1mSaved Bcb_PIB_Trimestral_Real dataset to C:\\Repositories\\ds-lstm-ibov\\data\\raw\\Bcb_PIB_Trimestral_Real.csv\u001b[0m\n",
      "\u001b[32m2025-06-20 14:45:41.550\u001b[0m | \u001b[1mINFO    \u001b[0m | \u001b[36msrc.dataset\u001b[0m:\u001b[36mmain\u001b[0m:\u001b[36m56\u001b[0m - \u001b[1mSaved Bcb_PIB_Anual_Corrente dataset to C:\\Repositories\\ds-lstm-ibov\\data\\raw\\Bcb_PIB_Anual_Corrente.csv\u001b[0m\n",
      "\u001b[32m2025-06-20 14:45:41.550\u001b[0m | \u001b[1mINFO    \u001b[0m | \u001b[36msrc.dataset\u001b[0m:\u001b[36mmain\u001b[0m:\u001b[36m56\u001b[0m - \u001b[1mSaved Bcb_Deflator_Implicito_PIB dataset to C:\\Repositories\\ds-lstm-ibov\\data\\raw\\Bcb_Deflator_Implicito_PIB.csv\u001b[0m\n",
      "\u001b[32m2025-06-20 14:45:41.550\u001b[0m | \u001b[1mINFO    \u001b[0m | \u001b[36msrc.dataset\u001b[0m:\u001b[36mmain\u001b[0m:\u001b[36m56\u001b[0m - \u001b[1mSaved DataReader_BRL_USD dataset to C:\\Repositories\\ds-lstm-ibov\\data\\raw\\DataReader_BRL_USD.csv\u001b[0m\n",
      "\u001b[32m2025-06-20 14:45:41.567\u001b[0m | \u001b[1mINFO    \u001b[0m | \u001b[36msrc.dataset\u001b[0m:\u001b[36mmain\u001b[0m:\u001b[36m56\u001b[0m - \u001b[1mSaved DataReader_CPI_USA dataset to C:\\Repositories\\ds-lstm-ibov\\data\\raw\\DataReader_CPI_USA.csv\u001b[0m\n"
     ]
    },
    {
     "name": "stderr",
     "output_type": "stream",
     "text": [
      "INFO:src.utils.dataset.clean_strategy:Executing CleanMissingValues...\n",
      "INFO:src.utils.dataset.clean_strategy:Executing CleanLowVariance with threshold=0.01...\n",
      "INFO:src.utils.dataset.clean_strategy:Columns removed due to low variance: Index([], dtype='object')\n"
     ]
    },
    {
     "name": "stdout",
     "output_type": "stream",
     "text": [
      "\u001b[32m2025-06-20 14:45:41.799\u001b[0m | \u001b[32m\u001b[1mSUCCESS \u001b[0m | \u001b[36msrc.dataset\u001b[0m:\u001b[36mmain\u001b[0m:\u001b[36m64\u001b[0m - \u001b[32m\u001b[1mRaw data successfully loaded...\u001b[0m\n",
      "            ('Close', '^BVSP')  ('High', '^BVSP')  ('Low', '^BVSP')  \\\n",
      "2025-06-11            137128.0           137531.0          135628.0   \n",
      "2025-06-12            137800.0           137931.0          136175.0   \n",
      "2025-06-13            137213.0           137800.0          136586.0   \n",
      "2025-06-16            139256.0           139988.0          137212.0   \n",
      "2025-06-17            138840.0           139497.0          138293.0   \n",
      "2025-06-18            138717.0           139161.0          138443.0   \n",
      "2025-06-19            138717.0           139161.0          138443.0   \n",
      "\n",
      "            ('Open', '^BVSP')  ('Volume', '^BVSP')  ('Close', '^GSPC')  \\\n",
      "2025-06-11           136443.0            8767100.0         6022.240234   \n",
      "2025-06-12           137127.0            7124600.0         6045.259766   \n",
      "2025-06-13           137800.0            8628300.0         5976.970215   \n",
      "2025-06-16           137212.0            7620500.0         6033.109863   \n",
      "2025-06-17           139256.0            8377000.0         5982.720215   \n",
      "2025-06-18           138844.0            8323400.0         5980.870117   \n",
      "2025-06-19           138844.0            8323400.0         5980.870117   \n",
      "\n",
      "            ('High', '^GSPC')  ('Low', '^GSPC')  ('Open', '^GSPC')  \\\n",
      "2025-06-11        6059.399902       6002.319824        6049.379883   \n",
      "2025-06-12        6045.430176       6003.879883        6009.899902   \n",
      "2025-06-13        6026.160156       5963.209961        6000.560059   \n",
      "2025-06-16        6050.830078       6004.000000        6004.000000   \n",
      "2025-06-17        6023.250000       5974.799805        6012.149902   \n",
      "2025-06-18        6018.250000       5971.890137        5987.930176   \n",
      "2025-06-19        6018.250000       5971.890137        5987.930176   \n",
      "\n",
      "            ('Volume', '^GSPC')  ...  Populacao_BR  PIB_Trimestral_Real  \\\n",
      "2025-06-11         5.111550e+09  ...      212584.0            1050883.7   \n",
      "2025-06-12         4.669500e+09  ...      212584.0            1050883.7   \n",
      "2025-06-13         5.258910e+09  ...      212584.0            1050883.7   \n",
      "2025-06-16         5.111710e+09  ...      212584.0            1050883.7   \n",
      "2025-06-17         4.955700e+09  ...      212584.0            1050883.7   \n",
      "2025-06-18         5.106470e+09  ...      212584.0            1050883.7   \n",
      "2025-06-19         5.106470e+09  ...      212584.0            1050883.7   \n",
      "\n",
      "            PIB_Anual_Corrente  Deflator_Implicito_PIB  DEXBZUS  CPIAUCSL  \\\n",
      "2025-06-11                 3.4                     3.8   5.5288    320.58   \n",
      "2025-06-12                 3.4                     3.8   5.5456    320.58   \n",
      "2025-06-13                 3.4                     3.8   5.5450    320.58   \n",
      "2025-06-16                 3.4                     3.8   5.5450    320.58   \n",
      "2025-06-17                 3.4                     3.8   5.5450    320.58   \n",
      "2025-06-18                 3.4                     3.8   5.5450    320.58   \n",
      "2025-06-19                 3.4                     3.8   5.5450    320.58   \n",
      "\n",
      "            day_of_week  month  is_weekend  is_holiday  \n",
      "2025-06-11    Wednesday   June       False       False  \n",
      "2025-06-12     Thursday   June       False       False  \n",
      "2025-06-13       Friday   June       False       False  \n",
      "2025-06-16       Monday   June       False       False  \n",
      "2025-06-17      Tuesday   June       False       False  \n",
      "2025-06-18    Wednesday   June       False       False  \n",
      "2025-06-19     Thursday   June       False       False  \n",
      "\n",
      "[7 rows x 48 columns]\n",
      "\u001b[32m2025-06-20 14:45:42.232\u001b[0m | \u001b[32m\u001b[1mSUCCESS \u001b[0m | \u001b[36msrc.dataset\u001b[0m:\u001b[36mmain\u001b[0m:\u001b[36m92\u001b[0m - \u001b[32m\u001b[1mClean data successfully loaded...\u001b[0m\n",
      "\u001b[32m2025-06-20 14:45:42.232\u001b[0m | \u001b[1mINFO    \u001b[0m | \u001b[36msrc.dataset\u001b[0m:\u001b[36mmain\u001b[0m:\u001b[36m96\u001b[0m - \u001b[1mTotal time taken: 112.04 seconds\u001b[0m\n"
     ]
    }
   ],
   "source": [
    "from src import dataset\n",
    "\n",
    "dataset.main(\n",
    "    # ---- REPLACE DEFAULT PATHS AS APPROPRIATE ----\n",
    "    asset = '^BVSP',\n",
    "    asset_focus = 'Close',\n",
    "    years = 1\n",
    "    # -----------------------------------------\n",
    "    )"
   ]
  },
  {
   "cell_type": "markdown",
   "id": "31fce4b8",
   "metadata": {},
   "source": [
    "## Feature Engineering — Time Series Preparation\n",
    "\n",
    "This part of the pipeline is responsible for transforming the cleaned dataset into structured features suitable for training time series models. It includes the following key steps:\n",
    "- Feature Generation: Constructs relevant features based on historical market data.\n",
    "- Dataset Splitting: The dataset is split into training and testing sets using a consistent strategy to preserve temporal structure.\n",
    "- Time Series Windowing: Converts the sequential data into overlapping windows, enabling the model to learn temporal dependencies.\n",
    "- Saving Artifacts: Both training and testing sets are stored for reproducibility, along with the transformation pipelines applied during preprocessing."
   ]
  },
  {
   "cell_type": "code",
   "execution_count": 3,
   "id": "64946194",
   "metadata": {},
   "outputs": [
    {
     "name": "stdout",
     "output_type": "stream",
     "text": [
      "\u001b[32m2025-06-20 14:46:03.626\u001b[0m | \u001b[1mINFO    \u001b[0m | \u001b[36msrc.features\u001b[0m:\u001b[36mmain\u001b[0m:\u001b[36m31\u001b[0m - \u001b[1mGenerating features from dataset...\u001b[0m\n",
      "\u001b[32m2025-06-20 14:46:03.659\u001b[0m | \u001b[1mINFO    \u001b[0m | \u001b[36msrc.utils.features.splitter_strategy\u001b[0m:\u001b[36msplit\u001b[0m:\u001b[36m15\u001b[0m - \u001b[1mSplitting dataset into training and testing sets...\u001b[0m\n",
      "\u001b[32m2025-06-20 14:46:03.676\u001b[0m | \u001b[1mINFO    \u001b[0m | \u001b[36msrc.utils.features.generator_strategy\u001b[0m:\u001b[36mgenerate\u001b[0m:\u001b[36m18\u001b[0m - \u001b[1mGenerating Timeseries from dataset...\u001b[0m\n",
      "\u001b[32m2025-06-20 14:46:03.759\u001b[0m | \u001b[32m\u001b[1mSUCCESS \u001b[0m | \u001b[36msrc.features\u001b[0m:\u001b[36mmain\u001b[0m:\u001b[36m46\u001b[0m - \u001b[32m\u001b[1mSaving train features in C:\\Repositories\\ds-lstm-ibov\\data\\processed...\u001b[0m\n",
      "\u001b[32m2025-06-20 14:46:03.812\u001b[0m | \u001b[32m\u001b[1mSUCCESS \u001b[0m | \u001b[36msrc.features\u001b[0m:\u001b[36mmain\u001b[0m:\u001b[36m50\u001b[0m - \u001b[32m\u001b[1mSaving test features in C:\\Repositories\\ds-lstm-ibov\\data\\processed...\u001b[0m\n",
      "\u001b[32m2025-06-20 14:46:03.814\u001b[0m | \u001b[32m\u001b[1mSUCCESS \u001b[0m | \u001b[36msrc.features\u001b[0m:\u001b[36mmain\u001b[0m:\u001b[36m54\u001b[0m - \u001b[32m\u001b[1mFeatures generation complete.\u001b[0m\n",
      "\u001b[32m2025-06-20 14:46:03.815\u001b[0m | \u001b[1mINFO    \u001b[0m | \u001b[36msrc.features\u001b[0m:\u001b[36mmain\u001b[0m:\u001b[36m56\u001b[0m - \u001b[1mSaving transformers...\u001b[0m\n",
      "\u001b[32m2025-06-20 14:46:03.816\u001b[0m | \u001b[1mINFO    \u001b[0m | \u001b[36msrc.utils.features.splitter_strategy\u001b[0m:\u001b[36msplit\u001b[0m:\u001b[36m15\u001b[0m - \u001b[1mSplitting dataset into training and testing sets...\u001b[0m\n",
      "\u001b[32m2025-06-20 14:46:03.821\u001b[0m | \u001b[1mINFO    \u001b[0m | \u001b[36msrc.features\u001b[0m:\u001b[36mmain\u001b[0m:\u001b[36m72\u001b[0m - \u001b[1mTotal time taken: 0.20 seconds\u001b[0m\n"
     ]
    }
   ],
   "source": [
    "from src import features\n",
    "\n",
    "features.main(\n",
    "    # ---- REPLACE DEFAULT PATHS AS APPROPRIATE ----\n",
    "    input_path = config.PROCESSED_DATA_DIR / \"dataset.csv\",\n",
    "    train_dir = config.PROCESSED_DATA_DIR,\n",
    "    test_dir = config.PROCESSED_DATA_DIR,\n",
    "    # -----------------------------------------\n",
    ")"
   ]
  },
  {
   "cell_type": "markdown",
   "id": "2a66434c",
   "metadata": {},
   "source": [
    "## Modeling\n",
    "\n",
    "The modeling process begins with loading the training dataset. Next, the base model is constructed, and both the compilation and training strategies are defined. With the pipeline structure in place, the model is trained over 100 epochs using an iterative approach to adjust the weights.\n",
    "\n",
    "During training, key metrics are monitored, including accuracy, loss (error), validation accuracy and loss (on unseen data), as well as the learning rate."
   ]
  },
  {
   "cell_type": "code",
   "execution_count": 4,
   "id": "6ff11608",
   "metadata": {},
   "outputs": [
    {
     "name": "stdout",
     "output_type": "stream",
     "text": [
      "\u001b[32m2025-06-20 14:46:03.959\u001b[0m | \u001b[1mINFO    \u001b[0m | \u001b[36msrc.modeling.train\u001b[0m:\u001b[36mmain\u001b[0m:\u001b[36m29\u001b[0m - \u001b[1mLoading training dataset...\u001b[0m\n",
      "\u001b[32m2025-06-20 14:46:03.993\u001b[0m | \u001b[1mINFO    \u001b[0m | \u001b[36msrc.modeling.train\u001b[0m:\u001b[36mmain\u001b[0m:\u001b[36m37\u001b[0m - \u001b[1mBuilding model...\u001b[0m\n",
      "\u001b[32m2025-06-20 14:46:03.993\u001b[0m | \u001b[1mINFO    \u001b[0m | \u001b[36msrc.modeling.train\u001b[0m:\u001b[36mmain\u001b[0m:\u001b[36m43\u001b[0m - \u001b[1mSelecting compile strategy...\u001b[0m\n",
      "\u001b[32m2025-06-20 14:46:03.993\u001b[0m | \u001b[1mINFO    \u001b[0m | \u001b[36msrc.modeling.train\u001b[0m:\u001b[36mmain\u001b[0m:\u001b[36m46\u001b[0m - \u001b[1mSelecting training strategy...\u001b[0m\n",
      "\u001b[32m2025-06-20 14:46:03.993\u001b[0m | \u001b[1mINFO    \u001b[0m | \u001b[36msrc.modeling.train\u001b[0m:\u001b[36mmain\u001b[0m:\u001b[36m49\u001b[0m - \u001b[1mBuilding model training pipeline template...\u001b[0m\n",
      "\u001b[32m2025-06-20 14:46:03.993\u001b[0m | \u001b[1mINFO    \u001b[0m | \u001b[36msrc.modeling.train\u001b[0m:\u001b[36mmain\u001b[0m:\u001b[36m56\u001b[0m - \u001b[1mTraining model...\u001b[0m\n",
      "Epoch 1/1000\n",
      "\u001b[1m157/157\u001b[0m \u001b[32m━━━━━━━━━━━━━━━━━━━━\u001b[0m\u001b[37m\u001b[0m \u001b[1m11s\u001b[0m 25ms/step - loss: 0.1318 - mae: 0.3082 - mse: 0.1749 - r2_score: 0.4797 - rmse: 0.3988 - smape: 84.2287 - val_loss: 0.0660 - val_mae: 0.2022 - val_mse: 0.0521 - val_r2_score: 0.2572 - val_rmse: 0.2299 - val_smape: 40.0433 - learning_rate: 0.0010\n",
      "Epoch 2/1000\n",
      "\u001b[1m157/157\u001b[0m \u001b[32m━━━━━━━━━━━━━━━━━━━━\u001b[0m\u001b[37m\u001b[0m \u001b[1m3s\u001b[0m 19ms/step - loss: 0.0665 - mae: 0.1733 - mse: 0.0586 - r2_score: 0.8318 - rmse: 0.2383 - smape: 54.8257 - val_loss: 0.0575 - val_mae: 0.2072 - val_mse: 0.0508 - val_r2_score: 0.2849 - val_rmse: 0.2251 - val_smape: 40.8250 - learning_rate: 0.0010\n",
      "Epoch 3/1000\n",
      "\u001b[1m157/157\u001b[0m \u001b[32m━━━━━━━━━━━━━━━━━━━━\u001b[0m\u001b[37m\u001b[0m \u001b[1m4s\u001b[0m 22ms/step - loss: 0.0533 - mae: 0.1491 - mse: 0.0466 - r2_score: 0.8679 - rmse: 0.2122 - smape: 48.4127 - val_loss: 0.0455 - val_mae: 0.1703 - val_mse: 0.0387 - val_r2_score: 0.4508 - val_rmse: 0.1976 - val_smape: 35.3070 - learning_rate: 0.0010\n",
      "Epoch 4/1000\n",
      "\u001b[1m157/157\u001b[0m \u001b[32m━━━━━━━━━━━━━━━━━━━━\u001b[0m\u001b[37m\u001b[0m \u001b[1m3s\u001b[0m 19ms/step - loss: 0.0464 - mae: 0.1463 - mse: 0.0436 - r2_score: 0.8799 - rmse: 0.2046 - smape: 46.6061 - val_loss: 0.0435 - val_mae: 0.1839 - val_mse: 0.0433 - val_r2_score: 0.3801 - val_rmse: 0.2102 - val_smape: 37.4221 - learning_rate: 0.0010\n",
      "Epoch 5/1000\n",
      "\u001b[1m157/157\u001b[0m \u001b[32m━━━━━━━━━━━━━━━━━━━━\u001b[0m\u001b[37m\u001b[0m \u001b[1m3s\u001b[0m 19ms/step - loss: 0.0393 - mae: 0.1278 - mse: 0.0377 - r2_score: 0.8927 - rmse: 0.1896 - smape: 43.2853 - val_loss: 0.0370 - val_mae: 0.1584 - val_mse: 0.0371 - val_r2_score: 0.4599 - val_rmse: 0.1967 - val_smape: 34.1713 - learning_rate: 0.0010\n",
      "Epoch 6/1000\n",
      "\u001b[1m157/157\u001b[0m \u001b[32m━━━━━━━━━━━━━━━━━━━━\u001b[0m\u001b[37m\u001b[0m \u001b[1m3s\u001b[0m 20ms/step - loss: 0.0348 - mae: 0.1251 - mse: 0.0351 - r2_score: 0.9006 - rmse: 0.1825 - smape: 42.6475 - val_loss: 0.0414 - val_mae: 0.1511 - val_mse: 0.0512 - val_r2_score: 0.2340 - val_rmse: 0.2351 - val_smape: 32.3262 - learning_rate: 0.0010\n",
      "Epoch 7/1000\n",
      "\u001b[1m157/157\u001b[0m \u001b[32m━━━━━━━━━━━━━━━━━━━━\u001b[0m\u001b[37m\u001b[0m \u001b[1m3s\u001b[0m 19ms/step - loss: 0.0325 - mae: 0.1214 - mse: 0.0357 - r2_score: 0.8989 - rmse: 0.1829 - smape: 40.0586 - val_loss: 0.0289 - val_mae: 0.1410 - val_mse: 0.0302 - val_r2_score: 0.5623 - val_rmse: 0.1769 - val_smape: 31.5945 - learning_rate: 0.0010\n",
      "Epoch 8/1000\n",
      "\u001b[1m157/157\u001b[0m \u001b[32m━━━━━━━━━━━━━━━━━━━━\u001b[0m\u001b[37m\u001b[0m \u001b[1m3s\u001b[0m 19ms/step - loss: 0.0298 - mae: 0.1248 - mse: 0.0335 - r2_score: 0.9059 - rmse: 0.1797 - smape: 40.2052 - val_loss: 0.0406 - val_mae: 0.1960 - val_mse: 0.0571 - val_r2_score: 0.1499 - val_rmse: 0.2475 - val_smape: 38.9933 - learning_rate: 0.0010\n",
      "Epoch 9/1000\n",
      "\u001b[1m157/157\u001b[0m \u001b[32m━━━━━━━━━━━━━━━━━━━━\u001b[0m\u001b[37m\u001b[0m \u001b[1m3s\u001b[0m 20ms/step - loss: 0.0260 - mae: 0.1140 - mse: 0.0295 - r2_score: 0.9130 - rmse: 0.1680 - smape: 37.4889 - val_loss: 0.0315 - val_mae: 0.1608 - val_mse: 0.0418 - val_r2_score: 0.3865 - val_rmse: 0.2099 - val_smape: 34.1036 - learning_rate: 0.0010\n",
      "Epoch 10/1000\n",
      "\u001b[1m157/157\u001b[0m \u001b[32m━━━━━━━━━━━━━━━━━━━━\u001b[0m\u001b[37m\u001b[0m \u001b[1m3s\u001b[0m 19ms/step - loss: 0.0253 - mae: 0.1138 - mse: 0.0306 - r2_score: 0.9123 - rmse: 0.1702 - smape: 38.6247 - val_loss: 0.0307 - val_mae: 0.1562 - val_mse: 0.0425 - val_r2_score: 0.3803 - val_rmse: 0.2108 - val_smape: 33.3846 - learning_rate: 0.0010\n",
      "Epoch 11/1000\n",
      "\u001b[1m157/157\u001b[0m \u001b[32m━━━━━━━━━━━━━━━━━━━━\u001b[0m\u001b[37m\u001b[0m \u001b[1m3s\u001b[0m 19ms/step - loss: 0.0237 - mae: 0.1102 - mse: 0.0300 - r2_score: 0.9120 - rmse: 0.1679 - smape: 38.3788 - val_loss: 0.0233 - val_mae: 0.1357 - val_mse: 0.0298 - val_r2_score: 0.5793 - val_rmse: 0.1728 - val_smape: 30.5231 - learning_rate: 0.0010\n",
      "Epoch 12/1000\n",
      "\u001b[1m157/157\u001b[0m \u001b[32m━━━━━━━━━━━━━━━━━━━━\u001b[0m\u001b[37m\u001b[0m \u001b[1m3s\u001b[0m 21ms/step - loss: 0.0228 - mae: 0.1075 - mse: 0.0301 - r2_score: 0.9157 - rmse: 0.1684 - smape: 35.6948 - val_loss: 0.0345 - val_mae: 0.1902 - val_mse: 0.0538 - val_r2_score: 0.2234 - val_rmse: 0.2356 - val_smape: 37.7533 - learning_rate: 0.0010\n",
      "Epoch 13/1000\n",
      "\u001b[1m157/157\u001b[0m \u001b[32m━━━━━━━━━━━━━━━━━━━━\u001b[0m\u001b[37m\u001b[0m \u001b[1m3s\u001b[0m 20ms/step - loss: 0.0213 - mae: 0.1065 - mse: 0.0289 - r2_score: 0.9184 - rmse: 0.1635 - smape: 37.2465 - val_loss: 0.0254 - val_mae: 0.1626 - val_mse: 0.0373 - val_r2_score: 0.4533 - val_rmse: 0.1981 - val_smape: 34.9767 - learning_rate: 0.0010\n",
      "Epoch 14/1000\n",
      "\u001b[1m157/157\u001b[0m \u001b[32m━━━━━━━━━━━━━━━━━━━━\u001b[0m\u001b[37m\u001b[0m \u001b[1m3s\u001b[0m 20ms/step - loss: 0.0200 - mae: 0.1043 - mse: 0.0276 - r2_score: 0.9208 - rmse: 0.1615 - smape: 35.9732 - val_loss: 0.0269 - val_mae: 0.1488 - val_mse: 0.0414 - val_r2_score: 0.4010 - val_rmse: 0.2070 - val_smape: 32.6651 - learning_rate: 0.0010\n",
      "Epoch 15/1000\n",
      "\u001b[1m157/157\u001b[0m \u001b[32m━━━━━━━━━━━━━━━━━━━━\u001b[0m\u001b[37m\u001b[0m \u001b[1m3s\u001b[0m 20ms/step - loss: 0.0188 - mae: 0.1028 - mse: 0.0264 - r2_score: 0.9252 - rmse: 0.1574 - smape: 35.6471 - val_loss: 0.0390 - val_mae: 0.2008 - val_mse: 0.0666 - val_r2_score: 0.0354 - val_rmse: 0.2627 - val_smape: 38.4529 - learning_rate: 0.0010\n",
      "Epoch 16/1000\n",
      "\u001b[1m157/157\u001b[0m \u001b[32m━━━━━━━━━━━━━━━━━━━━\u001b[0m\u001b[37m\u001b[0m \u001b[1m3s\u001b[0m 19ms/step - loss: 0.0190 - mae: 0.1046 - mse: 0.0275 - r2_score: 0.9167 - rmse: 0.1611 - smape: 36.9069 - val_loss: 0.0150 - val_mae: 0.0911 - val_mse: 0.0197 - val_r2_score: 0.7313 - val_rmse: 0.1371 - val_smape: 24.4900 - learning_rate: 0.0010\n",
      "Epoch 17/1000\n",
      "\u001b[1m157/157\u001b[0m \u001b[32m━━━━━━━━━━━━━━━━━━━━\u001b[0m\u001b[37m\u001b[0m \u001b[1m3s\u001b[0m 20ms/step - loss: 0.0175 - mae: 0.1011 - mse: 0.0256 - r2_score: 0.9274 - rmse: 0.1547 - smape: 34.2231 - val_loss: 0.0302 - val_mae: 0.1805 - val_mse: 0.0509 - val_r2_score: 0.2501 - val_rmse: 0.2322 - val_smape: 36.7118 - learning_rate: 0.0010\n",
      "Epoch 18/1000\n",
      "\u001b[1m157/157\u001b[0m \u001b[32m━━━━━━━━━━━━━━━━━━━━\u001b[0m\u001b[37m\u001b[0m \u001b[1m3s\u001b[0m 21ms/step - loss: 0.0183 - mae: 0.1030 - mse: 0.0285 - r2_score: 0.9203 - rmse: 0.1624 - smape: 36.1817 - val_loss: 0.0295 - val_mae: 0.2074 - val_mse: 0.0501 - val_r2_score: 0.2752 - val_rmse: 0.2277 - val_smape: 41.1876 - learning_rate: 0.0010\n",
      "Epoch 19/1000\n",
      "\u001b[1m157/157\u001b[0m \u001b[32m━━━━━━━━━━━━━━━━━━━━\u001b[0m\u001b[37m\u001b[0m \u001b[1m3s\u001b[0m 20ms/step - loss: 0.0177 - mae: 0.1024 - mse: 0.0277 - r2_score: 0.9203 - rmse: 0.1606 - smape: 34.5584 - val_loss: 0.0284 - val_mae: 0.2042 - val_mse: 0.0484 - val_r2_score: 0.2838 - val_rmse: 0.2270 - val_smape: 41.4225 - learning_rate: 0.0010\n",
      "Epoch 20/1000\n",
      "\u001b[1m157/157\u001b[0m \u001b[32m━━━━━━━━━━━━━━━━━━━━\u001b[0m\u001b[37m\u001b[0m \u001b[1m3s\u001b[0m 20ms/step - loss: 0.0180 - mae: 0.1019 - mse: 0.0291 - r2_score: 0.9175 - rmse: 0.1627 - smape: 36.3276 - val_loss: 0.0313 - val_mae: 0.2242 - val_mse: 0.0548 - val_r2_score: 0.2198 - val_rmse: 0.2356 - val_smape: 43.6930 - learning_rate: 0.0010\n",
      "Epoch 21/1000\n",
      "\u001b[1m157/157\u001b[0m \u001b[32m━━━━━━━━━━━━━━━━━━━━\u001b[0m\u001b[37m\u001b[0m \u001b[1m3s\u001b[0m 20ms/step - loss: 0.0155 - mae: 0.0979 - mse: 0.0240 - r2_score: 0.9285 - rmse: 0.1491 - smape: 34.2380 - val_loss: 0.0324 - val_mae: 0.2248 - val_mse: 0.0577 - val_r2_score: 0.1605 - val_rmse: 0.2452 - val_smape: 44.0133 - learning_rate: 0.0010\n",
      "Epoch 22/1000\n",
      "\u001b[1m157/157\u001b[0m \u001b[32m━━━━━━━━━━━━━━━━━━━━\u001b[0m\u001b[37m\u001b[0m \u001b[1m3s\u001b[0m 20ms/step - loss: 0.0163 - mae: 0.1011 - mse: 0.0268 - r2_score: 0.9238 - rmse: 0.1571 - smape: 34.5227 - val_loss: 0.0210 - val_mae: 0.1039 - val_mse: 0.0352 - val_r2_score: 0.5029 - val_rmse: 0.1878 - val_smape: 24.9804 - learning_rate: 0.0010\n",
      "Epoch 23/1000\n",
      "\u001b[1m157/157\u001b[0m \u001b[32m━━━━━━━━━━━━━━━━━━━━\u001b[0m\u001b[37m\u001b[0m \u001b[1m3s\u001b[0m 20ms/step - loss: 0.0155 - mae: 0.1016 - mse: 0.0249 - r2_score: 0.9268 - rmse: 0.1525 - smape: 36.2010 - val_loss: 0.0208 - val_mae: 0.1400 - val_mse: 0.0352 - val_r2_score: 0.4902 - val_rmse: 0.1910 - val_smape: 31.5502 - learning_rate: 0.0010\n",
      "Epoch 24/1000\n",
      "\u001b[1m157/157\u001b[0m \u001b[32m━━━━━━━━━━━━━━━━━━━━\u001b[0m\u001b[37m\u001b[0m \u001b[1m3s\u001b[0m 20ms/step - loss: 0.0147 - mae: 0.0949 - mse: 0.0238 - r2_score: 0.9311 - rmse: 0.1487 - smape: 35.8070 - val_loss: 0.0191 - val_mae: 0.1503 - val_mse: 0.0321 - val_r2_score: 0.5376 - val_rmse: 0.1817 - val_smape: 32.8624 - learning_rate: 0.0010\n",
      "Epoch 25/1000\n",
      "\u001b[1m157/157\u001b[0m \u001b[32m━━━━━━━━━━━━━━━━━━━━\u001b[0m\u001b[37m\u001b[0m \u001b[1m3s\u001b[0m 20ms/step - loss: 0.0145 - mae: 0.0965 - mse: 0.0235 - r2_score: 0.9337 - rmse: 0.1488 - smape: 33.9605 - val_loss: 0.0187 - val_mae: 0.1607 - val_mse: 0.0314 - val_r2_score: 0.5677 - val_rmse: 0.1742 - val_smape: 33.0768 - learning_rate: 0.0010\n",
      "Epoch 26/1000\n",
      "\u001b[1m157/157\u001b[0m \u001b[32m━━━━━━━━━━━━━━━━━━━━\u001b[0m\u001b[37m\u001b[0m \u001b[1m3s\u001b[0m 20ms/step - loss: 0.0137 - mae: 0.0929 - mse: 0.0221 - r2_score: 0.9368 - rmse: 0.1436 - smape: 32.3223 - val_loss: 0.0185 - val_mae: 0.1585 - val_mse: 0.0314 - val_r2_score: 0.5639 - val_rmse: 0.1754 - val_smape: 33.2826 - learning_rate: 0.0010\n",
      "Epoch 27/1000\n",
      "\u001b[1m157/157\u001b[0m \u001b[32m━━━━━━━━━━━━━━━━━━━━\u001b[0m\u001b[37m\u001b[0m \u001b[1m3s\u001b[0m 20ms/step - loss: 0.0133 - mae: 0.0918 - mse: 0.0218 - r2_score: 0.9366 - rmse: 0.1411 - smape: 32.6102 - val_loss: 0.0193 - val_mae: 0.1619 - val_mse: 0.0332 - val_r2_score: 0.5214 - val_rmse: 0.1849 - val_smape: 34.5088 - learning_rate: 5.0000e-04\n",
      "Epoch 28/1000\n",
      "\u001b[1m157/157\u001b[0m \u001b[32m━━━━━━━━━━━━━━━━━━━━\u001b[0m\u001b[37m\u001b[0m \u001b[1m3s\u001b[0m 20ms/step - loss: 0.0129 - mae: 0.0885 - mse: 0.0209 - r2_score: 0.9399 - rmse: 0.1390 - smape: 31.6289 - val_loss: 0.0180 - val_mae: 0.1415 - val_mse: 0.0309 - val_r2_score: 0.5414 - val_rmse: 0.1817 - val_smape: 31.9457 - learning_rate: 5.0000e-04\n",
      "Epoch 29/1000\n",
      "\u001b[1m157/157\u001b[0m \u001b[32m━━━━━━━━━━━━━━━━━━━━\u001b[0m\u001b[37m\u001b[0m \u001b[1m3s\u001b[0m 20ms/step - loss: 0.0135 - mae: 0.0898 - mse: 0.0226 - r2_score: 0.9337 - rmse: 0.1441 - smape: 32.5802 - val_loss: 0.0188 - val_mae: 0.1545 - val_mse: 0.0326 - val_r2_score: 0.5280 - val_rmse: 0.1838 - val_smape: 33.4383 - learning_rate: 5.0000e-04\n",
      "Epoch 30/1000\n",
      "\u001b[1m157/157\u001b[0m \u001b[32m━━━━━━━━━━━━━━━━━━━━\u001b[0m\u001b[37m\u001b[0m \u001b[1m3s\u001b[0m 21ms/step - loss: 0.0127 - mae: 0.0901 - mse: 0.0212 - r2_score: 0.9392 - rmse: 0.1401 - smape: 32.2365 - val_loss: 0.0200 - val_mae: 0.1742 - val_mse: 0.0351 - val_r2_score: 0.5191 - val_rmse: 0.1836 - val_smape: 33.7243 - learning_rate: 5.0000e-04\n",
      "Epoch 31/1000\n",
      "\u001b[1m157/157\u001b[0m \u001b[32m━━━━━━━━━━━━━━━━━━━━\u001b[0m\u001b[37m\u001b[0m \u001b[1m3s\u001b[0m 20ms/step - loss: 0.0130 - mae: 0.0909 - mse: 0.0220 - r2_score: 0.9377 - rmse: 0.1421 - smape: 32.7082 - val_loss: 0.0162 - val_mae: 0.1389 - val_mse: 0.0276 - val_r2_score: 0.6179 - val_rmse: 0.1640 - val_smape: 30.6798 - learning_rate: 5.0000e-04\n",
      "Epoch 32/1000\n",
      "\u001b[1m157/157\u001b[0m \u001b[32m━━━━━━━━━━━━━━━━━━━━\u001b[0m\u001b[37m\u001b[0m \u001b[1m3s\u001b[0m 21ms/step - loss: 0.0128 - mae: 0.0875 - mse: 0.0214 - r2_score: 0.9396 - rmse: 0.1414 - smape: 30.7383 - val_loss: 0.0167 - val_mae: 0.1195 - val_mse: 0.0289 - val_r2_score: 0.5968 - val_rmse: 0.1688 - val_smape: 28.6820 - learning_rate: 5.0000e-04\n",
      "Epoch 33/1000\n",
      "\u001b[1m157/157\u001b[0m \u001b[32m━━━━━━━━━━━━━━━━━━━━\u001b[0m\u001b[37m\u001b[0m \u001b[1m3s\u001b[0m 20ms/step - loss: 0.0127 - mae: 0.0888 - mse: 0.0212 - r2_score: 0.9388 - rmse: 0.1398 - smape: 31.6673 - val_loss: 0.0259 - val_mae: 0.1522 - val_mse: 0.0474 - val_r2_score: 0.3123 - val_rmse: 0.2219 - val_smape: 32.1878 - learning_rate: 5.0000e-04\n",
      "Epoch 34/1000\n",
      "\u001b[1m157/157\u001b[0m \u001b[32m━━━━━━━━━━━━━━━━━━━━\u001b[0m\u001b[37m\u001b[0m \u001b[1m3s\u001b[0m 20ms/step - loss: 0.0127 - mae: 0.0902 - mse: 0.0215 - r2_score: 0.9408 - rmse: 0.1397 - smape: 32.8276 - val_loss: 0.0245 - val_mae: 0.1866 - val_mse: 0.0446 - val_r2_score: 0.3453 - val_rmse: 0.2168 - val_smape: 38.1690 - learning_rate: 5.0000e-04\n",
      "Epoch 35/1000\n",
      "\u001b[1m157/157\u001b[0m \u001b[32m━━━━━━━━━━━━━━━━━━━━\u001b[0m\u001b[37m\u001b[0m \u001b[1m3s\u001b[0m 20ms/step - loss: 0.0125 - mae: 0.0846 - mse: 0.0215 - r2_score: 0.9365 - rmse: 0.1392 - smape: 30.7827 - val_loss: 0.0182 - val_mae: 0.1444 - val_mse: 0.0320 - val_r2_score: 0.5344 - val_rmse: 0.1826 - val_smape: 31.8837 - learning_rate: 5.0000e-04\n",
      "Epoch 36/1000\n",
      "\u001b[1m157/157\u001b[0m \u001b[32m━━━━━━━━━━━━━━━━━━━━\u001b[0m\u001b[37m\u001b[0m \u001b[1m3s\u001b[0m 20ms/step - loss: 0.0117 - mae: 0.0855 - mse: 0.0196 - r2_score: 0.9405 - rmse: 0.1350 - smape: 30.2802 - val_loss: 0.0241 - val_mae: 0.1832 - val_mse: 0.0440 - val_r2_score: 0.3501 - val_rmse: 0.2162 - val_smape: 37.7290 - learning_rate: 5.0000e-04\n",
      "Epoch 37/1000\n",
      "\u001b[1m157/157\u001b[0m \u001b[32m━━━━━━━━━━━━━━━━━━━━\u001b[0m\u001b[37m\u001b[0m \u001b[1m3s\u001b[0m 20ms/step - loss: 0.0111 - mae: 0.0835 - mse: 0.0183 - r2_score: 0.9450 - rmse: 0.1319 - smape: 31.1403 - val_loss: 0.0160 - val_mae: 0.1409 - val_mse: 0.0279 - val_r2_score: 0.6098 - val_rmse: 0.1661 - val_smape: 30.9543 - learning_rate: 2.5000e-04\n",
      "Epoch 38/1000\n",
      "\u001b[1m157/157\u001b[0m \u001b[32m━━━━━━━━━━━━━━━━━━━━\u001b[0m\u001b[37m\u001b[0m \u001b[1m4s\u001b[0m 23ms/step - loss: 0.0111 - mae: 0.0829 - mse: 0.0185 - r2_score: 0.9471 - rmse: 0.1313 - smape: 30.5217 - val_loss: 0.0116 - val_mae: 0.1063 - val_mse: 0.0193 - val_r2_score: 0.7489 - val_rmse: 0.1308 - val_smape: 24.8821 - learning_rate: 2.5000e-04\n",
      "Epoch 39/1000\n",
      "\u001b[1m157/157\u001b[0m \u001b[32m━━━━━━━━━━━━━━━━━━━━\u001b[0m\u001b[37m\u001b[0m \u001b[1m3s\u001b[0m 19ms/step - loss: 0.0110 - mae: 0.0817 - mse: 0.0184 - r2_score: 0.9475 - rmse: 0.1305 - smape: 30.0420 - val_loss: 0.0180 - val_mae: 0.1492 - val_mse: 0.0321 - val_r2_score: 0.5396 - val_rmse: 0.1812 - val_smape: 32.7308 - learning_rate: 2.5000e-04\n",
      "Epoch 40/1000\n",
      "\u001b[1m157/157\u001b[0m \u001b[32m━━━━━━━━━━━━━━━━━━━━\u001b[0m\u001b[37m\u001b[0m \u001b[1m3s\u001b[0m 21ms/step - loss: 0.0107 - mae: 0.0812 - mse: 0.0179 - r2_score: 0.9469 - rmse: 0.1285 - smape: 29.6612 - val_loss: 0.0176 - val_mae: 0.1299 - val_mse: 0.0313 - val_r2_score: 0.5374 - val_rmse: 0.1824 - val_smape: 29.8358 - learning_rate: 2.5000e-04\n",
      "Epoch 41/1000\n",
      "\u001b[1m157/157\u001b[0m \u001b[32m━━━━━━━━━━━━━━━━━━━━\u001b[0m\u001b[37m\u001b[0m \u001b[1m3s\u001b[0m 20ms/step - loss: 0.0110 - mae: 0.0846 - mse: 0.0184 - r2_score: 0.9449 - rmse: 0.1318 - smape: 30.8213 - val_loss: 0.0159 - val_mae: 0.1112 - val_mse: 0.0281 - val_r2_score: 0.5960 - val_rmse: 0.1699 - val_smape: 26.9246 - learning_rate: 2.5000e-04\n",
      "Epoch 42/1000\n",
      "\u001b[1m157/157\u001b[0m \u001b[32m━━━━━━━━━━━━━━━━━━━━\u001b[0m\u001b[37m\u001b[0m \u001b[1m4s\u001b[0m 24ms/step - loss: 0.0104 - mae: 0.0809 - mse: 0.0172 - r2_score: 0.9498 - rmse: 0.1269 - smape: 30.6932 - val_loss: 0.0207 - val_mae: 0.1440 - val_mse: 0.0377 - val_r2_score: 0.4328 - val_rmse: 0.2024 - val_smape: 32.0242 - learning_rate: 2.5000e-04\n",
      "Epoch 43/1000\n",
      "\u001b[1m157/157\u001b[0m \u001b[32m━━━━━━━━━━━━━━━━━━━━\u001b[0m\u001b[37m\u001b[0m \u001b[1m3s\u001b[0m 21ms/step - loss: 0.0101 - mae: 0.0801 - mse: 0.0166 - r2_score: 0.9521 - rmse: 0.1249 - smape: 27.7653 - val_loss: 0.0189 - val_mae: 0.1387 - val_mse: 0.0341 - val_r2_score: 0.4864 - val_rmse: 0.1926 - val_smape: 31.2408 - learning_rate: 2.5000e-04\n",
      "Epoch 44/1000\n",
      "\u001b[1m157/157\u001b[0m \u001b[32m━━━━━━━━━━━━━━━━━━━━\u001b[0m\u001b[37m\u001b[0m \u001b[1m4s\u001b[0m 28ms/step - loss: 0.0110 - mae: 0.0838 - mse: 0.0185 - r2_score: 0.9481 - rmse: 0.1312 - smape: 31.1001 - val_loss: 0.0185 - val_mae: 0.1340 - val_mse: 0.0333 - val_r2_score: 0.4939 - val_rmse: 0.1914 - val_smape: 30.7614 - learning_rate: 2.5000e-04\n",
      "Epoch 45/1000\n",
      "\u001b[1m157/157\u001b[0m \u001b[32m━━━━━━━━━━━━━━━━━━━━\u001b[0m\u001b[37m\u001b[0m \u001b[1m4s\u001b[0m 27ms/step - loss: 0.0101 - mae: 0.0814 - mse: 0.0167 - r2_score: 0.9526 - rmse: 0.1255 - smape: 29.7229 - val_loss: 0.0194 - val_mae: 0.1400 - val_mse: 0.0352 - val_r2_score: 0.4606 - val_rmse: 0.1976 - val_smape: 31.6045 - learning_rate: 2.5000e-04\n",
      "Epoch 46/1000\n",
      "\u001b[1m157/157\u001b[0m \u001b[32m━━━━━━━━━━━━━━━━━━━━\u001b[0m\u001b[37m\u001b[0m \u001b[1m5s\u001b[0m 26ms/step - loss: 0.0102 - mae: 0.0803 - mse: 0.0172 - r2_score: 0.9507 - rmse: 0.1259 - smape: 30.9549 - val_loss: 0.0178 - val_mae: 0.1314 - val_mse: 0.0319 - val_r2_score: 0.5102 - val_rmse: 0.1884 - val_smape: 30.7617 - learning_rate: 2.5000e-04\n",
      "Epoch 47/1000\n",
      "\u001b[1m157/157\u001b[0m \u001b[32m━━━━━━━━━━━━━━━━━━━━\u001b[0m\u001b[37m\u001b[0m \u001b[1m4s\u001b[0m 26ms/step - loss: 0.0109 - mae: 0.0834 - mse: 0.0186 - r2_score: 0.9458 - rmse: 0.1322 - smape: 29.9224 - val_loss: 0.0314 - val_mae: 0.1983 - val_mse: 0.0592 - val_r2_score: 0.0882 - val_rmse: 0.2571 - val_smape: 39.7159 - learning_rate: 2.5000e-04\n",
      "Epoch 48/1000\n",
      "\u001b[1m157/157\u001b[0m \u001b[32m━━━━━━━━━━━━━━━━━━━━\u001b[0m\u001b[37m\u001b[0m \u001b[1m5s\u001b[0m 26ms/step - loss: 0.0107 - mae: 0.0828 - mse: 0.0181 - r2_score: 0.9471 - rmse: 0.1306 - smape: 31.2256 - val_loss: 0.0225 - val_mae: 0.1597 - val_mse: 0.0414 - val_r2_score: 0.3653 - val_rmse: 0.2144 - val_smape: 34.4518 - learning_rate: 2.5000e-04\n",
      "Epoch 49/1000\n",
      "\u001b[1m157/157\u001b[0m \u001b[32m━━━━━━━━━━━━━━━━━━━━\u001b[0m\u001b[37m\u001b[0m \u001b[1m4s\u001b[0m 25ms/step - loss: 0.0093 - mae: 0.0774 - mse: 0.0152 - r2_score: 0.9551 - rmse: 0.1201 - smape: 30.3589 - val_loss: 0.0156 - val_mae: 0.1265 - val_mse: 0.0277 - val_r2_score: 0.5778 - val_rmse: 0.1748 - val_smape: 30.0370 - learning_rate: 1.2500e-04\n",
      "Epoch 50/1000\n",
      "\u001b[1m157/157\u001b[0m \u001b[32m━━━━━━━━━━━━━━━━━━━━\u001b[0m\u001b[37m\u001b[0m \u001b[1m4s\u001b[0m 28ms/step - loss: 0.0102 - mae: 0.0801 - mse: 0.0173 - r2_score: 0.9466 - rmse: 0.1268 - smape: 28.5660 - val_loss: 0.0167 - val_mae: 0.1277 - val_mse: 0.0299 - val_r2_score: 0.5416 - val_rmse: 0.1822 - val_smape: 30.1603 - learning_rate: 1.2500e-04\n",
      "Epoch 51/1000\n",
      "\u001b[1m157/157\u001b[0m \u001b[32m━━━━━━━━━━━━━━━━━━━━\u001b[0m\u001b[37m\u001b[0m \u001b[1m5s\u001b[0m 30ms/step - loss: 0.0094 - mae: 0.0797 - mse: 0.0154 - r2_score: 0.9549 - rmse: 0.1205 - smape: 29.7227 - val_loss: 0.0196 - val_mae: 0.1661 - val_mse: 0.0358 - val_r2_score: 0.4593 - val_rmse: 0.1977 - val_smape: 35.7245 - learning_rate: 1.2500e-04\n",
      "Epoch 52/1000\n",
      "\u001b[1m157/157\u001b[0m \u001b[32m━━━━━━━━━━━━━━━━━━━━\u001b[0m\u001b[37m\u001b[0m \u001b[1m4s\u001b[0m 26ms/step - loss: 0.0103 - mae: 0.0798 - mse: 0.0176 - r2_score: 0.9513 - rmse: 0.1275 - smape: 29.1619 - val_loss: 0.0207 - val_mae: 0.1460 - val_mse: 0.0380 - val_r2_score: 0.4029 - val_rmse: 0.2083 - val_smape: 32.9364 - learning_rate: 1.2500e-04\n",
      "Epoch 53/1000\n",
      "\u001b[1m157/157\u001b[0m \u001b[32m━━━━━━━━━━━━━━━━━━━━\u001b[0m\u001b[37m\u001b[0m \u001b[1m4s\u001b[0m 26ms/step - loss: 0.0095 - mae: 0.0773 - mse: 0.0157 - r2_score: 0.9534 - rmse: 0.1217 - smape: 28.7239 - val_loss: 0.0178 - val_mae: 0.1466 - val_mse: 0.0323 - val_r2_score: 0.5109 - val_rmse: 0.1880 - val_smape: 32.6218 - learning_rate: 1.2500e-04\n",
      "Epoch 54/1000\n",
      "\u001b[1m157/157\u001b[0m \u001b[32m━━━━━━━━━━━━━━━━━━━━\u001b[0m\u001b[37m\u001b[0m \u001b[1m4s\u001b[0m 25ms/step - loss: 0.0091 - mae: 0.0759 - mse: 0.0151 - r2_score: 0.9553 - rmse: 0.1192 - smape: 29.0467 - val_loss: 0.0182 - val_mae: 0.1430 - val_mse: 0.0330 - val_r2_score: 0.4947 - val_rmse: 0.1913 - val_smape: 32.2688 - learning_rate: 1.2500e-04\n",
      "Epoch 55/1000\n",
      "\u001b[1m157/157\u001b[0m \u001b[32m━━━━━━━━━━━━━━━━━━━━\u001b[0m\u001b[37m\u001b[0m \u001b[1m4s\u001b[0m 27ms/step - loss: 0.0095 - mae: 0.0787 - mse: 0.0159 - r2_score: 0.9531 - rmse: 0.1220 - smape: 29.2832 - val_loss: 0.0176 - val_mae: 0.1440 - val_mse: 0.0318 - val_r2_score: 0.5129 - val_rmse: 0.1878 - val_smape: 32.2417 - learning_rate: 1.2500e-04\n",
      "Epoch 56/1000\n",
      "\u001b[1m157/157\u001b[0m \u001b[32m━━━━━━━━━━━━━━━━━━━━\u001b[0m\u001b[37m\u001b[0m \u001b[1m4s\u001b[0m 28ms/step - loss: 0.0096 - mae: 0.0788 - mse: 0.0160 - r2_score: 0.9542 - rmse: 0.1237 - smape: 29.6426 - val_loss: 0.0145 - val_mae: 0.1364 - val_mse: 0.0256 - val_r2_score: 0.6251 - val_rmse: 0.1640 - val_smape: 30.3288 - learning_rate: 1.2500e-04\n",
      "Epoch 57/1000\n",
      "\u001b[1m157/157\u001b[0m \u001b[32m━━━━━━━━━━━━━━━━━━━━\u001b[0m\u001b[37m\u001b[0m \u001b[1m5s\u001b[0m 26ms/step - loss: 0.0095 - mae: 0.0775 - mse: 0.0160 - r2_score: 0.9550 - rmse: 0.1219 - smape: 29.2699 - val_loss: 0.0212 - val_mae: 0.1798 - val_mse: 0.0391 - val_r2_score: 0.4190 - val_rmse: 0.2045 - val_smape: 37.0128 - learning_rate: 1.2500e-04\n",
      "Epoch 58/1000\n",
      "\u001b[1m157/157\u001b[0m \u001b[32m━━━━━━━━━━━━━━━━━━━━\u001b[0m\u001b[37m\u001b[0m \u001b[1m4s\u001b[0m 25ms/step - loss: 0.0095 - mae: 0.0779 - mse: 0.0162 - r2_score: 0.9549 - rmse: 0.1215 - smape: 29.0614 - val_loss: 0.0211 - val_mae: 0.1450 - val_mse: 0.0389 - val_r2_score: 0.3998 - val_rmse: 0.2086 - val_smape: 32.3688 - learning_rate: 1.2500e-04\n",
      "Epoch 59/1000\n",
      "\u001b[1m157/157\u001b[0m \u001b[32m━━━━━━━━━━━━━━━━━━━━\u001b[0m\u001b[37m\u001b[0m \u001b[1m4s\u001b[0m 26ms/step - loss: 0.0097 - mae: 0.0779 - mse: 0.0163 - r2_score: 0.9502 - rmse: 0.1229 - smape: 29.5392 - val_loss: 0.0198 - val_mae: 0.1486 - val_mse: 0.0363 - val_r2_score: 0.4421 - val_rmse: 0.2011 - val_smape: 32.8722 - learning_rate: 6.2500e-05\n",
      "Epoch 60/1000\n",
      "\u001b[1m157/157\u001b[0m \u001b[32m━━━━━━━━━━━━━━━━━━━━\u001b[0m\u001b[37m\u001b[0m \u001b[1m4s\u001b[0m 27ms/step - loss: 0.0088 - mae: 0.0755 - mse: 0.0146 - r2_score: 0.9582 - rmse: 0.1172 - smape: 27.9344 - val_loss: 0.0178 - val_mae: 0.1414 - val_mse: 0.0323 - val_r2_score: 0.5081 - val_rmse: 0.1887 - val_smape: 31.8112 - learning_rate: 6.2500e-05\n",
      "Epoch 61/1000\n",
      "\u001b[1m157/157\u001b[0m \u001b[32m━━━━━━━━━━━━━━━━━━━━\u001b[0m\u001b[37m\u001b[0m \u001b[1m4s\u001b[0m 26ms/step - loss: 0.0089 - mae: 0.0772 - mse: 0.0147 - r2_score: 0.9574 - rmse: 0.1182 - smape: 28.7509 - val_loss: 0.0171 - val_mae: 0.1441 - val_mse: 0.0310 - val_r2_score: 0.5357 - val_rmse: 0.1830 - val_smape: 32.0679 - learning_rate: 6.2500e-05\n",
      "Epoch 62/1000\n",
      "\u001b[1m157/157\u001b[0m \u001b[32m━━━━━━━━━━━━━━━━━━━━\u001b[0m\u001b[37m\u001b[0m \u001b[1m4s\u001b[0m 26ms/step - loss: 0.0088 - mae: 0.0757 - mse: 0.0146 - r2_score: 0.9584 - rmse: 0.1162 - smape: 29.1210 - val_loss: 0.0191 - val_mae: 0.1429 - val_mse: 0.0349 - val_r2_score: 0.4621 - val_rmse: 0.1975 - val_smape: 32.1363 - learning_rate: 6.2500e-05\n",
      "Epoch 63/1000\n",
      "\u001b[1m157/157\u001b[0m \u001b[32m━━━━━━━━━━━━━━━━━━━━\u001b[0m\u001b[37m\u001b[0m \u001b[1m4s\u001b[0m 26ms/step - loss: 0.0093 - mae: 0.0783 - mse: 0.0156 - r2_score: 0.9547 - rmse: 0.1216 - smape: 29.3904 - val_loss: 0.0171 - val_mae: 0.1372 - val_mse: 0.0309 - val_r2_score: 0.5292 - val_rmse: 0.1846 - val_smape: 31.2404 - learning_rate: 6.2500e-05\n",
      "Epoch 64/1000\n",
      "\u001b[1m157/157\u001b[0m \u001b[32m━━━━━━━━━━━━━━━━━━━━\u001b[0m\u001b[37m\u001b[0m \u001b[1m4s\u001b[0m 25ms/step - loss: 0.0088 - mae: 0.0772 - mse: 0.0144 - r2_score: 0.9585 - rmse: 0.1171 - smape: 30.2447 - val_loss: 0.0195 - val_mae: 0.1479 - val_mse: 0.0359 - val_r2_score: 0.4515 - val_rmse: 0.1993 - val_smape: 32.9404 - learning_rate: 6.2500e-05\n",
      "Epoch 65/1000\n",
      "\u001b[1m157/157\u001b[0m \u001b[32m━━━━━━━━━━━━━━━━━━━━\u001b[0m\u001b[37m\u001b[0m \u001b[1m4s\u001b[0m 27ms/step - loss: 0.0088 - mae: 0.0763 - mse: 0.0147 - r2_score: 0.9566 - rmse: 0.1173 - smape: 28.1383 - val_loss: 0.0188 - val_mae: 0.1526 - val_mse: 0.0344 - val_r2_score: 0.4710 - val_rmse: 0.1958 - val_smape: 33.5556 - learning_rate: 6.2500e-05\n",
      "Epoch 66/1000\n",
      "\u001b[1m157/157\u001b[0m \u001b[32m━━━━━━━━━━━━━━━━━━━━\u001b[0m\u001b[37m\u001b[0m \u001b[1m4s\u001b[0m 26ms/step - loss: 0.0088 - mae: 0.0743 - mse: 0.0147 - r2_score: 0.9589 - rmse: 0.1169 - smape: 28.9312 - val_loss: 0.0188 - val_mae: 0.1524 - val_mse: 0.0345 - val_r2_score: 0.4659 - val_rmse: 0.1968 - val_smape: 33.7440 - learning_rate: 6.2500e-05\n",
      "Epoch 67/1000\n",
      "\u001b[1m157/157\u001b[0m \u001b[32m━━━━━━━━━━━━━━━━━━━━\u001b[0m\u001b[37m\u001b[0m \u001b[1m5s\u001b[0m 29ms/step - loss: 0.0091 - mae: 0.0747 - mse: 0.0154 - r2_score: 0.9557 - rmse: 0.1185 - smape: 27.5718 - val_loss: 0.0166 - val_mae: 0.1402 - val_mse: 0.0301 - val_r2_score: 0.5413 - val_rmse: 0.1822 - val_smape: 31.6266 - learning_rate: 6.2500e-05\n",
      "Epoch 68/1000\n",
      "\u001b[1m157/157\u001b[0m \u001b[32m━━━━━━━━━━━━━━━━━━━━\u001b[0m\u001b[37m\u001b[0m \u001b[1m4s\u001b[0m 27ms/step - loss: 0.0084 - mae: 0.0726 - mse: 0.0138 - r2_score: 0.9590 - rmse: 0.1139 - smape: 28.8389 - val_loss: 0.0175 - val_mae: 0.1376 - val_mse: 0.0318 - val_r2_score: 0.5101 - val_rmse: 0.1884 - val_smape: 31.4147 - learning_rate: 6.2500e-05\n",
      "Epoch 69/1000\n",
      "\u001b[1m157/157\u001b[0m \u001b[32m━━━━━━━━━━━━━━━━━━━━\u001b[0m\u001b[37m\u001b[0m \u001b[1m5s\u001b[0m 26ms/step - loss: 0.0085 - mae: 0.0750 - mse: 0.0139 - r2_score: 0.9586 - rmse: 0.1148 - smape: 28.9587 - val_loss: 0.0178 - val_mae: 0.1457 - val_mse: 0.0325 - val_r2_score: 0.5006 - val_rmse: 0.1902 - val_smape: 32.4447 - learning_rate: 3.1250e-05\n",
      "Epoch 70/1000\n",
      "\u001b[1m157/157\u001b[0m \u001b[32m━━━━━━━━━━━━━━━━━━━━\u001b[0m\u001b[37m\u001b[0m \u001b[1m5s\u001b[0m 26ms/step - loss: 0.0089 - mae: 0.0739 - mse: 0.0149 - r2_score: 0.9573 - rmse: 0.1166 - smape: 28.9122 - val_loss: 0.0202 - val_mae: 0.1526 - val_mse: 0.0373 - val_r2_score: 0.4200 - val_rmse: 0.2052 - val_smape: 33.6363 - learning_rate: 3.1250e-05\n",
      "Epoch 71/1000\n",
      "\u001b[1m157/157\u001b[0m \u001b[32m━━━━━━━━━━━━━━━━━━━━\u001b[0m\u001b[37m\u001b[0m \u001b[1m4s\u001b[0m 25ms/step - loss: 0.0086 - mae: 0.0744 - mse: 0.0141 - r2_score: 0.9588 - rmse: 0.1154 - smape: 28.7536 - val_loss: 0.0189 - val_mae: 0.1481 - val_mse: 0.0347 - val_r2_score: 0.4631 - val_rmse: 0.1973 - val_smape: 32.8269 - learning_rate: 3.1250e-05\n",
      "Epoch 72/1000\n",
      "\u001b[1m157/157\u001b[0m \u001b[32m━━━━━━━━━━━━━━━━━━━━\u001b[0m\u001b[37m\u001b[0m \u001b[1m4s\u001b[0m 25ms/step - loss: 0.0089 - mae: 0.0756 - mse: 0.0150 - r2_score: 0.9571 - rmse: 0.1170 - smape: 28.5087 - val_loss: 0.0191 - val_mae: 0.1474 - val_mse: 0.0351 - val_r2_score: 0.4603 - val_rmse: 0.1978 - val_smape: 32.7209 - learning_rate: 3.1250e-05\n",
      "Epoch 73/1000\n",
      "\u001b[1m157/157\u001b[0m \u001b[32m━━━━━━━━━━━━━━━━━━━━\u001b[0m\u001b[37m\u001b[0m \u001b[1m5s\u001b[0m 25ms/step - loss: 0.0087 - mae: 0.0755 - mse: 0.0145 - r2_score: 0.9576 - rmse: 0.1167 - smape: 29.8003 - val_loss: 0.0175 - val_mae: 0.1406 - val_mse: 0.0319 - val_r2_score: 0.5114 - val_rmse: 0.1881 - val_smape: 31.6316 - learning_rate: 3.1250e-05\n",
      "Epoch 74/1000\n",
      "\u001b[1m157/157\u001b[0m \u001b[32m━━━━━━━━━━━━━━━━━━━━\u001b[0m\u001b[37m\u001b[0m \u001b[1m4s\u001b[0m 26ms/step - loss: 0.0084 - mae: 0.0728 - mse: 0.0138 - r2_score: 0.9591 - rmse: 0.1147 - smape: 29.1262 - val_loss: 0.0180 - val_mae: 0.1376 - val_mse: 0.0329 - val_r2_score: 0.4865 - val_rmse: 0.1931 - val_smape: 31.4789 - learning_rate: 3.1250e-05\n",
      "Epoch 75/1000\n",
      "\u001b[1m157/157\u001b[0m \u001b[32m━━━━━━━━━━━━━━━━━━━━\u001b[0m\u001b[37m\u001b[0m \u001b[1m4s\u001b[0m 26ms/step - loss: 0.0085 - mae: 0.0742 - mse: 0.0139 - r2_score: 0.9573 - rmse: 0.1151 - smape: 29.7301 - val_loss: 0.0164 - val_mae: 0.1324 - val_mse: 0.0297 - val_r2_score: 0.5433 - val_rmse: 0.1819 - val_smape: 30.4615 - learning_rate: 3.1250e-05\n",
      "Epoch 76/1000\n",
      "\u001b[1m157/157\u001b[0m \u001b[32m━━━━━━━━━━━━━━━━━━━━\u001b[0m\u001b[37m\u001b[0m \u001b[1m4s\u001b[0m 26ms/step - loss: 0.0084 - mae: 0.0745 - mse: 0.0137 - r2_score: 0.9602 - rmse: 0.1142 - smape: 27.9075 - val_loss: 0.0188 - val_mae: 0.1375 - val_mse: 0.0345 - val_r2_score: 0.4589 - val_rmse: 0.1982 - val_smape: 31.4290 - learning_rate: 3.1250e-05\n",
      "Epoch 77/1000\n",
      "\u001b[1m157/157\u001b[0m \u001b[32m━━━━━━━━━━━━━━━━━━━━\u001b[0m\u001b[37m\u001b[0m \u001b[1m5s\u001b[0m 32ms/step - loss: 0.0089 - mae: 0.0748 - mse: 0.0150 - r2_score: 0.9560 - rmse: 0.1179 - smape: 29.7180 - val_loss: 0.0176 - val_mae: 0.1351 - val_mse: 0.0321 - val_r2_score: 0.5008 - val_rmse: 0.1903 - val_smape: 31.0079 - learning_rate: 3.1250e-05\n",
      "Epoch 78/1000\n",
      "\u001b[1m157/157\u001b[0m \u001b[32m━━━━━━━━━━━━━━━━━━━━\u001b[0m\u001b[37m\u001b[0m \u001b[1m5s\u001b[0m 31ms/step - loss: 0.0087 - mae: 0.0754 - mse: 0.0143 - r2_score: 0.9575 - rmse: 0.1163 - smape: 28.3934 - val_loss: 0.0210 - val_mae: 0.1434 - val_mse: 0.0390 - val_r2_score: 0.3830 - val_rmse: 0.2118 - val_smape: 32.3259 - learning_rate: 3.1250e-05\n",
      "Epoch 79/1000\n",
      "\u001b[1m157/157\u001b[0m \u001b[32m━━━━━━━━━━━━━━━━━━━━\u001b[0m\u001b[37m\u001b[0m \u001b[1m5s\u001b[0m 32ms/step - loss: 0.0081 - mae: 0.0737 - mse: 0.0132 - r2_score: 0.9597 - rmse: 0.1114 - smape: 28.5913 - val_loss: 0.0173 - val_mae: 0.1364 - val_mse: 0.0316 - val_r2_score: 0.5106 - val_rmse: 0.1884 - val_smape: 31.1763 - learning_rate: 1.5625e-05\n",
      "Epoch 80/1000\n",
      "\u001b[1m157/157\u001b[0m \u001b[32m━━━━━━━━━━━━━━━━━━━━\u001b[0m\u001b[37m\u001b[0m \u001b[1m4s\u001b[0m 27ms/step - loss: 0.0089 - mae: 0.0742 - mse: 0.0147 - r2_score: 0.9546 - rmse: 0.1163 - smape: 29.1378 - val_loss: 0.0177 - val_mae: 0.1353 - val_mse: 0.0324 - val_r2_score: 0.4947 - val_rmse: 0.1915 - val_smape: 31.1237 - learning_rate: 1.5625e-05\n",
      "Epoch 81/1000\n",
      "\u001b[1m157/157\u001b[0m \u001b[32m━━━━━━━━━━━━━━━━━━━━\u001b[0m\u001b[37m\u001b[0m \u001b[1m4s\u001b[0m 26ms/step - loss: 0.0090 - mae: 0.0757 - mse: 0.0151 - r2_score: 0.9566 - rmse: 0.1182 - smape: 28.1221 - val_loss: 0.0169 - val_mae: 0.1327 - val_mse: 0.0307 - val_r2_score: 0.5250 - val_rmse: 0.1856 - val_smape: 30.6698 - learning_rate: 1.5625e-05\n",
      "Epoch 82/1000\n",
      "\u001b[1m157/157\u001b[0m \u001b[32m━━━━━━━━━━━━━━━━━━━━\u001b[0m\u001b[37m\u001b[0m \u001b[1m5s\u001b[0m 26ms/step - loss: 0.0082 - mae: 0.0740 - mse: 0.0134 - r2_score: 0.9607 - rmse: 0.1121 - smape: 29.1754 - val_loss: 0.0173 - val_mae: 0.1358 - val_mse: 0.0316 - val_r2_score: 0.5084 - val_rmse: 0.1889 - val_smape: 31.1525 - learning_rate: 1.5625e-05\n",
      "Epoch 83/1000\n",
      "\u001b[1m157/157\u001b[0m \u001b[32m━━━━━━━━━━━━━━━━━━━━\u001b[0m\u001b[37m\u001b[0m \u001b[1m4s\u001b[0m 26ms/step - loss: 0.0083 - mae: 0.0729 - mse: 0.0137 - r2_score: 0.9602 - rmse: 0.1131 - smape: 28.5152 - val_loss: 0.0181 - val_mae: 0.1428 - val_mse: 0.0331 - val_r2_score: 0.4864 - val_rmse: 0.1930 - val_smape: 32.1297 - learning_rate: 1.5625e-05\n",
      "Epoch 84/1000\n",
      "\u001b[1m157/157\u001b[0m \u001b[32m━━━━━━━━━━━━━━━━━━━━\u001b[0m\u001b[37m\u001b[0m \u001b[1m4s\u001b[0m 26ms/step - loss: 0.0087 - mae: 0.0744 - mse: 0.0144 - r2_score: 0.9572 - rmse: 0.1163 - smape: 28.5370 - val_loss: 0.0196 - val_mae: 0.1491 - val_mse: 0.0360 - val_r2_score: 0.4368 - val_rmse: 0.2022 - val_smape: 33.0863 - learning_rate: 1.5625e-05\n",
      "Epoch 85/1000\n",
      "\u001b[1m157/157\u001b[0m \u001b[32m━━━━━━━━━━━━━━━━━━━━\u001b[0m\u001b[37m\u001b[0m \u001b[1m5s\u001b[0m 26ms/step - loss: 0.0084 - mae: 0.0735 - mse: 0.0139 - r2_score: 0.9601 - rmse: 0.1142 - smape: 28.5696 - val_loss: 0.0185 - val_mae: 0.1353 - val_mse: 0.0339 - val_r2_score: 0.4677 - val_rmse: 0.1967 - val_smape: 31.1336 - learning_rate: 1.5625e-05\n",
      "Epoch 86/1000\n",
      "\u001b[1m157/157\u001b[0m \u001b[32m━━━━━━━━━━━━━━━━━━━━\u001b[0m\u001b[37m\u001b[0m \u001b[1m4s\u001b[0m 26ms/step - loss: 0.0090 - mae: 0.0763 - mse: 0.0151 - r2_score: 0.9582 - rmse: 0.1188 - smape: 28.7030 - val_loss: 0.0178 - val_mae: 0.1411 - val_mse: 0.0326 - val_r2_score: 0.4951 - val_rmse: 0.1914 - val_smape: 31.8174 - learning_rate: 1.5625e-05\n",
      "Epoch 87/1000\n",
      "\u001b[1m157/157\u001b[0m \u001b[32m━━━━━━━━━━━━━━━━━━━━\u001b[0m\u001b[37m\u001b[0m \u001b[1m4s\u001b[0m 26ms/step - loss: 0.0082 - mae: 0.0734 - mse: 0.0134 - r2_score: 0.9627 - rmse: 0.1126 - smape: 28.8260 - val_loss: 0.0188 - val_mae: 0.1390 - val_mse: 0.0345 - val_r2_score: 0.4623 - val_rmse: 0.1976 - val_smape: 31.6040 - learning_rate: 1.5625e-05\n",
      "Epoch 88/1000\n",
      "\u001b[1m157/157\u001b[0m \u001b[32m━━━━━━━━━━━━━━━━━━━━\u001b[0m\u001b[37m\u001b[0m \u001b[1m4s\u001b[0m 26ms/step - loss: 0.0081 - mae: 0.0740 - mse: 0.0131 - r2_score: 0.9624 - rmse: 0.1113 - smape: 27.6975 - val_loss: 0.0178 - val_mae: 0.1357 - val_mse: 0.0326 - val_r2_score: 0.4915 - val_rmse: 0.1921 - val_smape: 31.0905 - learning_rate: 1.5625e-05\n",
      "Epoch 89/1000\n",
      "\u001b[1m157/157\u001b[0m \u001b[32m━━━━━━━━━━━━━━━━━━━━\u001b[0m\u001b[37m\u001b[0m \u001b[1m4s\u001b[0m 26ms/step - loss: 0.0081 - mae: 0.0725 - mse: 0.0134 - r2_score: 0.9617 - rmse: 0.1125 - smape: 26.8300 - val_loss: 0.0182 - val_mae: 0.1396 - val_mse: 0.0333 - val_r2_score: 0.4813 - val_rmse: 0.1940 - val_smape: 31.6672 - learning_rate: 7.8125e-06\n",
      "Epoch 90/1000\n",
      "\u001b[1m157/157\u001b[0m \u001b[32m━━━━━━━━━━━━━━━━━━━━\u001b[0m\u001b[37m\u001b[0m \u001b[1m4s\u001b[0m 26ms/step - loss: 0.0080 - mae: 0.0726 - mse: 0.0130 - r2_score: 0.9616 - rmse: 0.1109 - smape: 28.2497 - val_loss: 0.0181 - val_mae: 0.1412 - val_mse: 0.0332 - val_r2_score: 0.4849 - val_rmse: 0.1933 - val_smape: 31.8733 - learning_rate: 7.8125e-06\n",
      "Epoch 91/1000\n",
      "\u001b[1m157/157\u001b[0m \u001b[32m━━━━━━━━━━━━━━━━━━━━\u001b[0m\u001b[37m\u001b[0m \u001b[1m4s\u001b[0m 27ms/step - loss: 0.0083 - mae: 0.0737 - mse: 0.0137 - r2_score: 0.9599 - rmse: 0.1135 - smape: 29.1035 - val_loss: 0.0179 - val_mae: 0.1416 - val_mse: 0.0326 - val_r2_score: 0.4946 - val_rmse: 0.1915 - val_smape: 31.8798 - learning_rate: 7.8125e-06\n",
      "Epoch 92/1000\n",
      "\u001b[1m157/157\u001b[0m \u001b[32m━━━━━━━━━━━━━━━━━━━━\u001b[0m\u001b[37m\u001b[0m \u001b[1m4s\u001b[0m 27ms/step - loss: 0.0083 - mae: 0.0743 - mse: 0.0136 - r2_score: 0.9618 - rmse: 0.1135 - smape: 28.3980 - val_loss: 0.0181 - val_mae: 0.1387 - val_mse: 0.0331 - val_r2_score: 0.4843 - val_rmse: 0.1935 - val_smape: 31.5333 - learning_rate: 7.8125e-06\n",
      "Epoch 93/1000\n",
      "\u001b[1m157/157\u001b[0m \u001b[32m━━━━━━━━━━━━━━━━━━━━\u001b[0m\u001b[37m\u001b[0m \u001b[1m4s\u001b[0m 26ms/step - loss: 0.0081 - mae: 0.0717 - mse: 0.0133 - r2_score: 0.9626 - rmse: 0.1109 - smape: 27.9809 - val_loss: 0.0180 - val_mae: 0.1404 - val_mse: 0.0329 - val_r2_score: 0.4891 - val_rmse: 0.1925 - val_smape: 31.7720 - learning_rate: 7.8125e-06\n",
      "Epoch 94/1000\n",
      "\u001b[1m157/157\u001b[0m \u001b[32m━━━━━━━━━━━━━━━━━━━━\u001b[0m\u001b[37m\u001b[0m \u001b[1m4s\u001b[0m 26ms/step - loss: 0.0079 - mae: 0.0719 - mse: 0.0129 - r2_score: 0.9641 - rmse: 0.1099 - smape: 27.9928 - val_loss: 0.0181 - val_mae: 0.1388 - val_mse: 0.0331 - val_r2_score: 0.4854 - val_rmse: 0.1932 - val_smape: 31.5880 - learning_rate: 7.8125e-06\n",
      "Epoch 95/1000\n",
      "\u001b[1m157/157\u001b[0m \u001b[32m━━━━━━━━━━━━━━━━━━━━\u001b[0m\u001b[37m\u001b[0m \u001b[1m5s\u001b[0m 32ms/step - loss: 0.0083 - mae: 0.0733 - mse: 0.0136 - r2_score: 0.9601 - rmse: 0.1132 - smape: 28.4419 - val_loss: 0.0181 - val_mae: 0.1428 - val_mse: 0.0331 - val_r2_score: 0.4856 - val_rmse: 0.1932 - val_smape: 32.1500 - learning_rate: 7.8125e-06\n",
      "Epoch 96/1000\n",
      "\u001b[1m157/157\u001b[0m \u001b[32m━━━━━━━━━━━━━━━━━━━━\u001b[0m\u001b[37m\u001b[0m \u001b[1m5s\u001b[0m 32ms/step - loss: 0.0079 - mae: 0.0733 - mse: 0.0129 - r2_score: 0.9624 - rmse: 0.1104 - smape: 28.7727 - val_loss: 0.0174 - val_mae: 0.1390 - val_mse: 0.0317 - val_r2_score: 0.5120 - val_rmse: 0.1881 - val_smape: 31.4974 - learning_rate: 7.8125e-06\n",
      "Epoch 97/1000\n",
      "\u001b[1m157/157\u001b[0m \u001b[32m━━━━━━━━━━━━━━━━━━━━\u001b[0m\u001b[37m\u001b[0m \u001b[1m6s\u001b[0m 34ms/step - loss: 0.0086 - mae: 0.0740 - mse: 0.0143 - r2_score: 0.9598 - rmse: 0.1156 - smape: 27.7704 - val_loss: 0.0181 - val_mae: 0.1416 - val_mse: 0.0331 - val_r2_score: 0.4888 - val_rmse: 0.1925 - val_smape: 31.9540 - learning_rate: 7.8125e-06\n",
      "Epoch 98/1000\n",
      "\u001b[1m157/157\u001b[0m \u001b[32m━━━━━━━━━━━━━━━━━━━━\u001b[0m\u001b[37m\u001b[0m \u001b[1m5s\u001b[0m 29ms/step - loss: 0.0081 - mae: 0.0722 - mse: 0.0133 - r2_score: 0.9584 - rmse: 0.1113 - smape: 29.1570 - val_loss: 0.0182 - val_mae: 0.1418 - val_mse: 0.0334 - val_r2_score: 0.4823 - val_rmse: 0.1938 - val_smape: 31.9907 - learning_rate: 7.8125e-06\n",
      "Epoch 99/1000\n",
      "\u001b[1m157/157\u001b[0m \u001b[32m━━━━━━━━━━━━━━━━━━━━\u001b[0m\u001b[37m\u001b[0m \u001b[1m4s\u001b[0m 25ms/step - loss: 0.0085 - mae: 0.0750 - mse: 0.0141 - r2_score: 0.9587 - rmse: 0.1148 - smape: 28.7271 - val_loss: 0.0179 - val_mae: 0.1399 - val_mse: 0.0327 - val_r2_score: 0.4933 - val_rmse: 0.1917 - val_smape: 31.6812 - learning_rate: 3.9063e-06\n",
      "Epoch 100/1000\n",
      "\u001b[1m157/157\u001b[0m \u001b[32m━━━━━━━━━━━━━━━━━━━━\u001b[0m\u001b[37m\u001b[0m \u001b[1m4s\u001b[0m 26ms/step - loss: 0.0085 - mae: 0.0735 - mse: 0.0141 - r2_score: 0.9581 - rmse: 0.1146 - smape: 27.9452 - val_loss: 0.0181 - val_mae: 0.1421 - val_mse: 0.0332 - val_r2_score: 0.4866 - val_rmse: 0.1930 - val_smape: 32.0020 - learning_rate: 3.9063e-06\n",
      "Epoch 101/1000\n",
      "\u001b[1m157/157\u001b[0m \u001b[32m━━━━━━━━━━━━━━━━━━━━\u001b[0m\u001b[37m\u001b[0m \u001b[1m5s\u001b[0m 26ms/step - loss: 0.0089 - mae: 0.0734 - mse: 0.0150 - r2_score: 0.9580 - rmse: 0.1171 - smape: 26.6205 - val_loss: 0.0182 - val_mae: 0.1424 - val_mse: 0.0334 - val_r2_score: 0.4809 - val_rmse: 0.1941 - val_smape: 32.0648 - learning_rate: 3.9063e-06\n",
      "Epoch 102/1000\n",
      "\u001b[1m157/157\u001b[0m \u001b[32m━━━━━━━━━━━━━━━━━━━━\u001b[0m\u001b[37m\u001b[0m \u001b[1m5s\u001b[0m 27ms/step - loss: 0.0084 - mae: 0.0736 - mse: 0.0139 - r2_score: 0.9611 - rmse: 0.1137 - smape: 27.3893 - val_loss: 0.0182 - val_mae: 0.1414 - val_mse: 0.0333 - val_r2_score: 0.4816 - val_rmse: 0.1940 - val_smape: 31.9529 - learning_rate: 3.9063e-06\n",
      "Epoch 103/1000\n",
      "\u001b[1m157/157\u001b[0m \u001b[32m━━━━━━━━━━━━━━━━━━━━\u001b[0m\u001b[37m\u001b[0m \u001b[1m4s\u001b[0m 26ms/step - loss: 0.0082 - mae: 0.0747 - mse: 0.0135 - r2_score: 0.9596 - rmse: 0.1130 - smape: 29.1870 - val_loss: 0.0181 - val_mae: 0.1416 - val_mse: 0.0332 - val_r2_score: 0.4842 - val_rmse: 0.1935 - val_smape: 31.9730 - learning_rate: 3.9063e-06\n",
      "Epoch 104/1000\n",
      "\u001b[1m157/157\u001b[0m \u001b[32m━━━━━━━━━━━━━━━━━━━━\u001b[0m\u001b[37m\u001b[0m \u001b[1m4s\u001b[0m 26ms/step - loss: 0.0086 - mae: 0.0757 - mse: 0.0143 - r2_score: 0.9558 - rmse: 0.1159 - smape: 29.9860 - val_loss: 0.0180 - val_mae: 0.1407 - val_mse: 0.0329 - val_r2_score: 0.4889 - val_rmse: 0.1926 - val_smape: 31.8391 - learning_rate: 3.9063e-06\n",
      "Epoch 105/1000\n",
      "\u001b[1m157/157\u001b[0m \u001b[32m━━━━━━━━━━━━━━━━━━━━\u001b[0m\u001b[37m\u001b[0m \u001b[1m5s\u001b[0m 26ms/step - loss: 0.0082 - mae: 0.0741 - mse: 0.0135 - r2_score: 0.9598 - rmse: 0.1126 - smape: 28.0026 - val_loss: 0.0176 - val_mae: 0.1381 - val_mse: 0.0321 - val_r2_score: 0.5022 - val_rmse: 0.1900 - val_smape: 31.3948 - learning_rate: 3.9063e-06\n",
      "Epoch 106/1000\n",
      "\u001b[1m157/157\u001b[0m \u001b[32m━━━━━━━━━━━━━━━━━━━━\u001b[0m\u001b[37m\u001b[0m \u001b[1m4s\u001b[0m 28ms/step - loss: 0.0079 - mae: 0.0724 - mse: 0.0128 - r2_score: 0.9627 - rmse: 0.1102 - smape: 28.0324 - val_loss: 0.0172 - val_mae: 0.1382 - val_mse: 0.0314 - val_r2_score: 0.5137 - val_rmse: 0.1878 - val_smape: 31.3750 - learning_rate: 3.9063e-06\n",
      "Epoch 107/1000\n",
      "\u001b[1m157/157\u001b[0m \u001b[32m━━━━━━━━━━━━━━━━━━━━\u001b[0m\u001b[37m\u001b[0m \u001b[1m5s\u001b[0m 30ms/step - loss: 0.0085 - mae: 0.0733 - mse: 0.0142 - r2_score: 0.9571 - rmse: 0.1154 - smape: 29.0289 - val_loss: 0.0176 - val_mae: 0.1387 - val_mse: 0.0322 - val_r2_score: 0.4994 - val_rmse: 0.1906 - val_smape: 31.5216 - learning_rate: 3.9063e-06\n",
      "Epoch 108/1000\n",
      "\u001b[1m157/157\u001b[0m \u001b[32m━━━━━━━━━━━━━━━━━━━━\u001b[0m\u001b[37m\u001b[0m \u001b[1m4s\u001b[0m 28ms/step - loss: 0.0080 - mae: 0.0731 - mse: 0.0131 - r2_score: 0.9606 - rmse: 0.1107 - smape: 28.3895 - val_loss: 0.0177 - val_mae: 0.1381 - val_mse: 0.0323 - val_r2_score: 0.4969 - val_rmse: 0.1911 - val_smape: 31.4278 - learning_rate: 3.9063e-06\n",
      "Epoch 109/1000\n",
      "\u001b[1m157/157\u001b[0m \u001b[32m━━━━━━━━━━━━━━━━━━━━\u001b[0m\u001b[37m\u001b[0m \u001b[1m4s\u001b[0m 27ms/step - loss: 0.0076 - mae: 0.0722 - mse: 0.0121 - r2_score: 0.9646 - rmse: 0.1073 - smape: 27.6877 - val_loss: 0.0178 - val_mae: 0.1398 - val_mse: 0.0326 - val_r2_score: 0.4927 - val_rmse: 0.1919 - val_smape: 31.6786 - learning_rate: 1.9531e-06\n",
      "Epoch 110/1000\n",
      "\u001b[1m157/157\u001b[0m \u001b[32m━━━━━━━━━━━━━━━━━━━━\u001b[0m\u001b[37m\u001b[0m \u001b[1m4s\u001b[0m 27ms/step - loss: 0.0081 - mae: 0.0735 - mse: 0.0133 - r2_score: 0.9622 - rmse: 0.1124 - smape: 28.3311 - val_loss: 0.0178 - val_mae: 0.1399 - val_mse: 0.0327 - val_r2_score: 0.4923 - val_rmse: 0.1919 - val_smape: 31.6927 - learning_rate: 1.9531e-06\n",
      "Epoch 111/1000\n",
      "\u001b[1m157/157\u001b[0m \u001b[32m━━━━━━━━━━━━━━━━━━━━\u001b[0m\u001b[37m\u001b[0m \u001b[1m4s\u001b[0m 27ms/step - loss: 0.0082 - mae: 0.0733 - mse: 0.0136 - r2_score: 0.9604 - rmse: 0.1127 - smape: 28.5712 - val_loss: 0.0176 - val_mae: 0.1378 - val_mse: 0.0321 - val_r2_score: 0.5016 - val_rmse: 0.1902 - val_smape: 31.3818 - learning_rate: 1.9531e-06\n",
      "Epoch 112/1000\n",
      "\u001b[1m157/157\u001b[0m \u001b[32m━━━━━━━━━━━━━━━━━━━━\u001b[0m\u001b[37m\u001b[0m \u001b[1m5s\u001b[0m 28ms/step - loss: 0.0083 - mae: 0.0746 - mse: 0.0138 - r2_score: 0.9581 - rmse: 0.1137 - smape: 28.2843 - val_loss: 0.0178 - val_mae: 0.1383 - val_mse: 0.0325 - val_r2_score: 0.4940 - val_rmse: 0.1916 - val_smape: 31.4845 - learning_rate: 1.9531e-06\n",
      "Epoch 113/1000\n",
      "\u001b[1m157/157\u001b[0m \u001b[32m━━━━━━━━━━━━━━━━━━━━\u001b[0m\u001b[37m\u001b[0m \u001b[1m4s\u001b[0m 27ms/step - loss: 0.0079 - mae: 0.0721 - mse: 0.0128 - r2_score: 0.9628 - rmse: 0.1098 - smape: 28.3118 - val_loss: 0.0178 - val_mae: 0.1391 - val_mse: 0.0325 - val_r2_score: 0.4947 - val_rmse: 0.1915 - val_smape: 31.5877 - learning_rate: 1.9531e-06\n",
      "Epoch 114/1000\n",
      "\u001b[1m157/157\u001b[0m \u001b[32m━━━━━━━━━━━━━━━━━━━━\u001b[0m\u001b[37m\u001b[0m \u001b[1m5s\u001b[0m 31ms/step - loss: 0.0082 - mae: 0.0726 - mse: 0.0134 - r2_score: 0.9614 - rmse: 0.1121 - smape: 27.7315 - val_loss: 0.0179 - val_mae: 0.1388 - val_mse: 0.0327 - val_r2_score: 0.4913 - val_rmse: 0.1921 - val_smape: 31.5672 - learning_rate: 1.9531e-06\n",
      "Epoch 115/1000\n",
      "\u001b[1m157/157\u001b[0m \u001b[32m━━━━━━━━━━━━━━━━━━━━\u001b[0m\u001b[37m\u001b[0m \u001b[1m5s\u001b[0m 33ms/step - loss: 0.0083 - mae: 0.0730 - mse: 0.0137 - r2_score: 0.9620 - rmse: 0.1135 - smape: 28.4157 - val_loss: 0.0180 - val_mae: 0.1399 - val_mse: 0.0329 - val_r2_score: 0.4873 - val_rmse: 0.1929 - val_smape: 31.7165 - learning_rate: 1.9531e-06\n",
      "Epoch 116/1000\n",
      "\u001b[1m157/157\u001b[0m \u001b[32m━━━━━━━━━━━━━━━━━━━━\u001b[0m\u001b[37m\u001b[0m \u001b[1m5s\u001b[0m 34ms/step - loss: 0.0077 - mae: 0.0724 - mse: 0.0124 - r2_score: 0.9641 - rmse: 0.1088 - smape: 28.9419 - val_loss: 0.0179 - val_mae: 0.1403 - val_mse: 0.0328 - val_r2_score: 0.4895 - val_rmse: 0.1925 - val_smape: 31.7558 - learning_rate: 1.9531e-06\n",
      "Epoch 117/1000\n",
      "\u001b[1m157/157\u001b[0m \u001b[32m━━━━━━━━━━━━━━━━━━━━\u001b[0m\u001b[37m\u001b[0m \u001b[1m6s\u001b[0m 36ms/step - loss: 0.0079 - mae: 0.0735 - mse: 0.0129 - r2_score: 0.9621 - rmse: 0.1104 - smape: 28.6916 - val_loss: 0.0180 - val_mae: 0.1395 - val_mse: 0.0329 - val_r2_score: 0.4881 - val_rmse: 0.1927 - val_smape: 31.6703 - learning_rate: 1.9531e-06\n",
      "Epoch 118/1000\n",
      "\u001b[1m157/157\u001b[0m \u001b[32m━━━━━━━━━━━━━━━━━━━━\u001b[0m\u001b[37m\u001b[0m \u001b[1m4s\u001b[0m 28ms/step - loss: 0.0078 - mae: 0.0731 - mse: 0.0127 - r2_score: 0.9633 - rmse: 0.1096 - smape: 28.0181 - val_loss: 0.0180 - val_mae: 0.1403 - val_mse: 0.0330 - val_r2_score: 0.4866 - val_rmse: 0.1930 - val_smape: 31.7734 - learning_rate: 1.9531e-06\n",
      "Epoch 119/1000\n",
      "\u001b[1m157/157\u001b[0m \u001b[32m━━━━━━━━━━━━━━━━━━━━\u001b[0m\u001b[37m\u001b[0m \u001b[1m4s\u001b[0m 28ms/step - loss: 0.0075 - mae: 0.0708 - mse: 0.0119 - r2_score: 0.9638 - rmse: 0.1066 - smape: 26.9458 - val_loss: 0.0181 - val_mae: 0.1406 - val_mse: 0.0332 - val_r2_score: 0.4837 - val_rmse: 0.1936 - val_smape: 31.8306 - learning_rate: 1.0000e-06\n",
      "Epoch 120/1000\n",
      "\u001b[1m157/157\u001b[0m \u001b[32m━━━━━━━━━━━━━━━━━━━━\u001b[0m\u001b[37m\u001b[0m \u001b[1m5s\u001b[0m 27ms/step - loss: 0.0084 - mae: 0.0754 - mse: 0.0139 - r2_score: 0.9595 - rmse: 0.1146 - smape: 29.0358 - val_loss: 0.0182 - val_mae: 0.1404 - val_mse: 0.0333 - val_r2_score: 0.4817 - val_rmse: 0.1940 - val_smape: 31.8152 - learning_rate: 1.0000e-06\n",
      "Epoch 121/1000\n",
      "\u001b[1m157/157\u001b[0m \u001b[32m━━━━━━━━━━━━━━━━━━━━\u001b[0m\u001b[37m\u001b[0m \u001b[1m4s\u001b[0m 28ms/step - loss: 0.0084 - mae: 0.0734 - mse: 0.0140 - r2_score: 0.9614 - rmse: 0.1140 - smape: 28.6669 - val_loss: 0.0181 - val_mae: 0.1398 - val_mse: 0.0331 - val_r2_score: 0.4847 - val_rmse: 0.1934 - val_smape: 31.7167 - learning_rate: 1.0000e-06\n",
      "Epoch 122/1000\n",
      "\u001b[1m157/157\u001b[0m \u001b[32m━━━━━━━━━━━━━━━━━━━━\u001b[0m\u001b[37m\u001b[0m \u001b[1m5s\u001b[0m 26ms/step - loss: 0.0079 - mae: 0.0722 - mse: 0.0128 - r2_score: 0.9634 - rmse: 0.1094 - smape: 27.1846 - val_loss: 0.0178 - val_mae: 0.1389 - val_mse: 0.0326 - val_r2_score: 0.4936 - val_rmse: 0.1917 - val_smape: 31.5672 - learning_rate: 1.0000e-06\n",
      "Epoch 123/1000\n",
      "\u001b[1m157/157\u001b[0m \u001b[32m━━━━━━━━━━━━━━━━━━━━\u001b[0m\u001b[37m\u001b[0m \u001b[1m4s\u001b[0m 26ms/step - loss: 0.0082 - mae: 0.0744 - mse: 0.0135 - r2_score: 0.9599 - rmse: 0.1117 - smape: 28.1979 - val_loss: 0.0177 - val_mae: 0.1395 - val_mse: 0.0324 - val_r2_score: 0.4973 - val_rmse: 0.1910 - val_smape: 31.6311 - learning_rate: 1.0000e-06\n",
      "Epoch 124/1000\n",
      "\u001b[1m157/157\u001b[0m \u001b[32m━━━━━━━━━━━━━━━━━━━━\u001b[0m\u001b[37m\u001b[0m \u001b[1m5s\u001b[0m 27ms/step - loss: 0.0079 - mae: 0.0725 - mse: 0.0127 - r2_score: 0.9639 - rmse: 0.1103 - smape: 29.2212 - val_loss: 0.0177 - val_mae: 0.1392 - val_mse: 0.0324 - val_r2_score: 0.4968 - val_rmse: 0.1911 - val_smape: 31.5935 - learning_rate: 1.0000e-06\n",
      "Epoch 125/1000\n",
      "\u001b[1m157/157\u001b[0m \u001b[32m━━━━━━━━━━━━━━━━━━━━\u001b[0m\u001b[37m\u001b[0m \u001b[1m4s\u001b[0m 26ms/step - loss: 0.0085 - mae: 0.0734 - mse: 0.0140 - r2_score: 0.9604 - rmse: 0.1141 - smape: 27.0042 - val_loss: 0.0178 - val_mae: 0.1395 - val_mse: 0.0326 - val_r2_score: 0.4934 - val_rmse: 0.1917 - val_smape: 31.6542 - learning_rate: 1.0000e-06\n",
      "Epoch 126/1000\n",
      "\u001b[1m157/157\u001b[0m \u001b[32m━━━━━━━━━━━━━━━━━━━━\u001b[0m\u001b[37m\u001b[0m \u001b[1m4s\u001b[0m 26ms/step - loss: 0.0082 - mae: 0.0731 - mse: 0.0135 - r2_score: 0.9604 - rmse: 0.1119 - smape: 28.8651 - val_loss: 0.0178 - val_mae: 0.1392 - val_mse: 0.0326 - val_r2_score: 0.4928 - val_rmse: 0.1918 - val_smape: 31.6124 - learning_rate: 1.0000e-06\n",
      "Epoch 127/1000\n",
      "\u001b[1m157/157\u001b[0m \u001b[32m━━━━━━━━━━━━━━━━━━━━\u001b[0m\u001b[37m\u001b[0m \u001b[1m4s\u001b[0m 26ms/step - loss: 0.0084 - mae: 0.0729 - mse: 0.0141 - r2_score: 0.9586 - rmse: 0.1143 - smape: 28.1547 - val_loss: 0.0178 - val_mae: 0.1387 - val_mse: 0.0326 - val_r2_score: 0.4925 - val_rmse: 0.1919 - val_smape: 31.5472 - learning_rate: 1.0000e-06\n",
      "Epoch 128/1000\n",
      "\u001b[1m157/157\u001b[0m \u001b[32m━━━━━━━━━━━━━━━━━━━━\u001b[0m\u001b[37m\u001b[0m \u001b[1m5s\u001b[0m 32ms/step - loss: 0.0082 - mae: 0.0722 - mse: 0.0135 - r2_score: 0.9603 - rmse: 0.1128 - smape: 27.5903 - val_loss: 0.0180 - val_mae: 0.1398 - val_mse: 0.0329 - val_r2_score: 0.4877 - val_rmse: 0.1928 - val_smape: 31.7133 - learning_rate: 1.0000e-06\n",
      "Epoch 129/1000\n",
      "\u001b[1m157/157\u001b[0m \u001b[32m━━━━━━━━━━━━━━━━━━━━\u001b[0m\u001b[37m\u001b[0m \u001b[1m5s\u001b[0m 33ms/step - loss: 0.0084 - mae: 0.0743 - mse: 0.0139 - r2_score: 0.9610 - rmse: 0.1141 - smape: 28.0293 - val_loss: 0.0180 - val_mae: 0.1402 - val_mse: 0.0330 - val_r2_score: 0.4872 - val_rmse: 0.1929 - val_smape: 31.7642 - learning_rate: 1.0000e-06\n",
      "Epoch 130/1000\n",
      "\u001b[1m157/157\u001b[0m \u001b[32m━━━━━━━━━━━━━━━━━━━━\u001b[0m\u001b[37m\u001b[0m \u001b[1m6s\u001b[0m 36ms/step - loss: 0.0078 - mae: 0.0727 - mse: 0.0126 - r2_score: 0.9631 - rmse: 0.1091 - smape: 27.7740 - val_loss: 0.0180 - val_mae: 0.1402 - val_mse: 0.0329 - val_r2_score: 0.4891 - val_rmse: 0.1925 - val_smape: 31.7609 - learning_rate: 1.0000e-06\n",
      "Epoch 131/1000\n",
      "\u001b[1m157/157\u001b[0m \u001b[32m━━━━━━━━━━━━━━━━━━━━\u001b[0m\u001b[37m\u001b[0m \u001b[1m5s\u001b[0m 31ms/step - loss: 0.0079 - mae: 0.0706 - mse: 0.0128 - r2_score: 0.9633 - rmse: 0.1087 - smape: 27.8660 - val_loss: 0.0179 - val_mae: 0.1395 - val_mse: 0.0328 - val_r2_score: 0.4893 - val_rmse: 0.1925 - val_smape: 31.6645 - learning_rate: 1.0000e-06\n",
      "Epoch 132/1000\n",
      "\u001b[1m157/157\u001b[0m \u001b[32m━━━━━━━━━━━━━━━━━━━━\u001b[0m\u001b[37m\u001b[0m \u001b[1m4s\u001b[0m 27ms/step - loss: 0.0081 - mae: 0.0742 - mse: 0.0132 - r2_score: 0.9608 - rmse: 0.1124 - smape: 27.0839 - val_loss: 0.0181 - val_mae: 0.1402 - val_mse: 0.0331 - val_r2_score: 0.4850 - val_rmse: 0.1933 - val_smape: 31.7728 - learning_rate: 1.0000e-06\n",
      "Epoch 133/1000\n",
      "\u001b[1m157/157\u001b[0m \u001b[32m━━━━━━━━━━━━━━━━━━━━\u001b[0m\u001b[37m\u001b[0m \u001b[1m5s\u001b[0m 26ms/step - loss: 0.0082 - mae: 0.0740 - mse: 0.0134 - r2_score: 0.9614 - rmse: 0.1126 - smape: 28.1771 - val_loss: 0.0180 - val_mae: 0.1397 - val_mse: 0.0329 - val_r2_score: 0.4875 - val_rmse: 0.1929 - val_smape: 31.6898 - learning_rate: 1.0000e-06\n",
      "Epoch 134/1000\n",
      "\u001b[1m157/157\u001b[0m \u001b[32m━━━━━━━━━━━━━━━━━━━━\u001b[0m\u001b[37m\u001b[0m \u001b[1m4s\u001b[0m 26ms/step - loss: 0.0080 - mae: 0.0719 - mse: 0.0131 - r2_score: 0.9604 - rmse: 0.1108 - smape: 27.1788 - val_loss: 0.0179 - val_mae: 0.1395 - val_mse: 0.0328 - val_r2_score: 0.4899 - val_rmse: 0.1924 - val_smape: 31.6538 - learning_rate: 1.0000e-06\n",
      "Epoch 135/1000\n",
      "\u001b[1m157/157\u001b[0m \u001b[32m━━━━━━━━━━━━━━━━━━━━\u001b[0m\u001b[37m\u001b[0m \u001b[1m4s\u001b[0m 26ms/step - loss: 0.0081 - mae: 0.0733 - mse: 0.0133 - r2_score: 0.9637 - rmse: 0.1115 - smape: 27.6751 - val_loss: 0.0178 - val_mae: 0.1396 - val_mse: 0.0325 - val_r2_score: 0.4952 - val_rmse: 0.1914 - val_smape: 31.6430 - learning_rate: 1.0000e-06\n",
      "Epoch 136/1000\n",
      "\u001b[1m157/157\u001b[0m \u001b[32m━━━━━━━━━━━━━━━━━━━━\u001b[0m\u001b[37m\u001b[0m \u001b[1m6s\u001b[0m 30ms/step - loss: 0.0081 - mae: 0.0739 - mse: 0.0133 - r2_score: 0.9607 - rmse: 0.1120 - smape: 28.3397 - val_loss: 0.0178 - val_mae: 0.1392 - val_mse: 0.0326 - val_r2_score: 0.4932 - val_rmse: 0.1918 - val_smape: 31.5984 - learning_rate: 1.0000e-06\n",
      "Epoch 137/1000\n",
      "\u001b[1m157/157\u001b[0m \u001b[32m━━━━━━━━━━━━━━━━━━━━\u001b[0m\u001b[37m\u001b[0m \u001b[1m4s\u001b[0m 26ms/step - loss: 0.0086 - mae: 0.0741 - mse: 0.0144 - r2_score: 0.9590 - rmse: 0.1155 - smape: 29.0329 - val_loss: 0.0177 - val_mae: 0.1379 - val_mse: 0.0324 - val_r2_score: 0.4971 - val_rmse: 0.1910 - val_smape: 31.4112 - learning_rate: 1.0000e-06\n",
      "Epoch 138/1000\n",
      "\u001b[1m157/157\u001b[0m \u001b[32m━━━━━━━━━━━━━━━━━━━━\u001b[0m\u001b[37m\u001b[0m \u001b[1m5s\u001b[0m 27ms/step - loss: 0.0087 - mae: 0.0742 - mse: 0.0145 - r2_score: 0.9597 - rmse: 0.1164 - smape: 28.0969 - val_loss: 0.0176 - val_mae: 0.1377 - val_mse: 0.0321 - val_r2_score: 0.5018 - val_rmse: 0.1901 - val_smape: 31.3518 - learning_rate: 1.0000e-06\n",
      "\u001b[32m2025-06-20 14:55:42.169\u001b[0m | \u001b[1mINFO    \u001b[0m | \u001b[36msrc.modeling.train\u001b[0m:\u001b[36mmain\u001b[0m:\u001b[36m65\u001b[0m - \u001b[1mSaving 'Sequential_epoch137_loss0.0081.keras' in 'C:\\Repositories\\ds-lstm-ibov\\models'...\u001b[0m\n",
      "\u001b[32m2025-06-20 14:55:42.253\u001b[0m | \u001b[32m\u001b[1mSUCCESS \u001b[0m | \u001b[36msrc.modeling.train\u001b[0m:\u001b[36mmain\u001b[0m:\u001b[36m69\u001b[0m - \u001b[32m\u001b[1mModeling training complete.\u001b[0m\n",
      "\u001b[32m2025-06-20 14:55:42.253\u001b[0m | \u001b[1mINFO    \u001b[0m | \u001b[36msrc.modeling.train\u001b[0m:\u001b[36mmain\u001b[0m:\u001b[36m72\u001b[0m - \u001b[1mElapsed time: 578.29 seconds\u001b[0m\n"
     ]
    }
   ],
   "source": [
    "from src.modeling import train\n",
    "\n",
    "train.main(\n",
    "    # ---- REPLACE DEFAULT PATHS AS APPROPRIATE ----\n",
    "    X_path = config.PROCESSED_DATA_DIR / \"X_train.npy\",\n",
    "    y_path = config.PROCESSED_DATA_DIR / \"y_train.npy\"\n",
    "    # -----------------------------------------\n",
    ")"
   ]
  },
  {
   "cell_type": "markdown",
   "id": "ab6162b6",
   "metadata": {},
   "source": [
    "## Predict\n",
    "\n",
    "In the prediction stage, the trained model is loaded along with the input data. The model then performs inference, generating predictions based on the provided data.\n"
   ]
  },
  {
   "cell_type": "code",
   "execution_count": 6,
   "id": "55f922aa",
   "metadata": {},
   "outputs": [
    {
     "name": "stdout",
     "output_type": "stream",
     "text": [
      "\u001b[32m2025-06-20 14:58:34.306\u001b[0m | \u001b[1mINFO    \u001b[0m | \u001b[36msrc.modeling.predict\u001b[0m:\u001b[36mmain\u001b[0m:\u001b[36m28\u001b[0m - \u001b[1mPerforming inference for model...\u001b[0m\n",
      "\u001b[32m2025-06-20 14:58:34.363\u001b[0m | \u001b[1mINFO    \u001b[0m | \u001b[36msrc.modeling.predict\u001b[0m:\u001b[36mmain\u001b[0m:\u001b[36m32\u001b[0m - \u001b[1mInput data shape: (21, 48)\u001b[0m\n",
      "\u001b[32m2025-06-20 14:58:34.382\u001b[0m | \u001b[1mINFO    \u001b[0m | \u001b[36msrc.utils.features.generator_strategy\u001b[0m:\u001b[36mgenerate\u001b[0m:\u001b[36m18\u001b[0m - \u001b[1mGenerating Timeseries from dataset...\u001b[0m\n"
     ]
    },
    {
     "name": "stderr",
     "output_type": "stream",
     "text": [
      "c:\\Repositories\\ds-lstm-ibov\\.venv\\Lib\\site-packages\\keras\\src\\trainers\\data_adapters\\py_dataset_adapter.py:121: UserWarning: Your `PyDataset` class should call `super().__init__(**kwargs)` in its constructor. `**kwargs` can include `workers`, `use_multiprocessing`, `max_queue_size`. Do not pass these arguments to `fit()`, as they will be ignored.\n",
      "  self._warn_if_super_not_called()\n"
     ]
    },
    {
     "name": "stdout",
     "output_type": "stream",
     "text": [
      "\u001b[1m1/1\u001b[0m \u001b[32m━━━━━━━━━━━━━━━━━━━━\u001b[0m\u001b[37m\u001b[0m \u001b[1m1s\u001b[0m 678ms/step\n",
      "            ('Close', '^BVSP')  ('High', '^BVSP')  ('Low', '^BVSP')  \\\n",
      "2025-06-19         138717.0000         139161.000     138443.000000   \n",
      "2025-06-20         135588.8125         136287.875     134823.609375   \n",
      "\n",
      "            ('Open', '^BVSP')  ('Volume', '^BVSP')       type  \n",
      "2025-06-19           138844.0            8323400.0       True  \n",
      "2025-06-20           135498.5           10258546.0  Predicted  \n",
      "\u001b[32m2025-06-20 14:58:35.575\u001b[0m | \u001b[32m\u001b[1mSUCCESS \u001b[0m | \u001b[36msrc.modeling.predict\u001b[0m:\u001b[36mmain\u001b[0m:\u001b[36m75\u001b[0m - \u001b[32m\u001b[1mInference complete.\u001b[0m\n"
     ]
    },
    {
     "name": "stderr",
     "output_type": "stream",
     "text": [
      "C:\\Repositories\\ds-lstm-ibov\\src\\modeling\\predict.py:61: FutureWarning: Downcasting object dtype arrays on .fillna, .ffill, .bfill is deprecated and will change in a future version. Call result.infer_objects(copy=False) instead. To opt-in to the future behavior, set `pd.set_option('future.no_silent_downcasting', True)`\n",
      "  df_report = df_report.ffill()\n"
     ]
    }
   ],
   "source": [
    "from src.modeling import predict\n",
    "predict.main(\n",
    "    # ---- REPLACE DEFAULT PATHS AS APPROPRIATE ----\n",
    "    input_path = config.PROCESSED_DATA_DIR / \"dataset.csv\",\n",
    "    preprocessor_path = config.PROCESSED_DATA_DIR / \"preprocessor.pkl\",\n",
    "    model_path = config.MODELS_DIR / \"Sequential_epoch137_loss0.0081.keras\",  # Select the best model  \n",
    "    postprocessor_path = config.PROCESSED_DATA_DIR / \"postprocessor.pkl\",\n",
    "    output_path = config.PROCESSED_DATA_DIR / \"dataset_report.csv\",\n",
    "    # -----------------------------------------\n",
    ")"
   ]
  },
  {
   "cell_type": "markdown",
   "id": "340ef876",
   "metadata": {},
   "source": [
    "## Plot\n",
    "\n",
    "Open the [Power BI Report]((../reports/pbi/amp-fynance.pbip)) and refresh data."
   ]
  }
 ],
 "metadata": {
  "kernelspec": {
   "display_name": ".venv",
   "language": "python",
   "name": "python3"
  },
  "language_info": {
   "codemirror_mode": {
    "name": "ipython",
    "version": 3
   },
   "file_extension": ".py",
   "mimetype": "text/x-python",
   "name": "python",
   "nbconvert_exporter": "python",
   "pygments_lexer": "ipython3",
   "version": "3.12.10"
  }
 },
 "nbformat": 4,
 "nbformat_minor": 5
}
