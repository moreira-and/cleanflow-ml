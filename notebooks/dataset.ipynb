{
 "cells": [
  {
   "cell_type": "markdown",
   "metadata": {},
   "source": [
    "# Import libraries"
   ]
  },
  {
   "cell_type": "code",
   "execution_count": null,
   "metadata": {},
   "outputs": [],
   "source": [
    "import numpy as np\n",
    "import pandas as pd\n",
    "\n",
    "import datetime as dt\n",
    "\n",
    "import requests\n",
    "import yfinance as yf\n",
    "import pandas_datareader.data as web"
   ]
  },
  {
   "cell_type": "markdown",
   "metadata": {},
   "source": [
    "# Extract data"
   ]
  },
  {
   "cell_type": "code",
   "execution_count": null,
   "metadata": {},
   "outputs": [],
   "source": [
    "years = 10\n",
    "dt_start = (dt.datetime.now() - dt.timedelta(days=years*365)).date()\n",
    "dt_end=dt.datetime.now().date()\n",
    "\n",
    "print('Extraindo informações de {} até {}'.format(dt_start, dt_end))"
   ]
  },
  {
   "cell_type": "markdown",
   "metadata": {},
   "source": [
    "### yfinance"
   ]
  },
  {
   "cell_type": "markdown",
   "metadata": {},
   "source": [
    "| **Indicator**        | **Ticker (Yahoo Finance)** | **Description** |\n",
    "|---------------------|--------------------------|-------------|\n",
    "| **IBOVESPA**       | `^BVSP`                   | Brazil Stock Market Index |\n",
    "| **Commodities**     | `GC=F`, `CL=F`, `SB=F`, `ZC=F` | Gold, Crude Oil, Sugar, Corn |\n",
    "| **Stock Market Index (S&P 500)** | `^GSPC` | Standard & Poor’s 500 (S&P 500) Index |\n",
    "| **Cryptocurrency (Bitcoin)** | `BTC-USD` | Bitcoin price in USD |"
   ]
  },
  {
   "cell_type": "code",
   "execution_count": null,
   "metadata": {},
   "outputs": [],
   "source": [
    "# Define the IBOVESPA ticker symbol used on Yahoo Finance\n",
    "tickers = [\"^BVSP\",\"^GSPC\",\"BTC-USD\", \"GC=F\", \"CL=F\", \"SB=F\"]"
   ]
  },
  {
   "cell_type": "code",
   "execution_count": null,
   "metadata": {},
   "outputs": [],
   "source": [
    "# Download historical data (default is daily interval)\n",
    "# You can adjust the period (e.g., '1y', '5y', 'max') or set specific dates\n",
    "df_yf = yf.download(tickers, start=dt_start, end=dt_end).ffill()\n",
    "\n",
    "# Ensure the 'Date' column exists and is in datetime format before setting it as the index\n",
    "if 'Date' in df_yf.columns:\n",
    "    df_yf['Date'] = pd.to_datetime(df_yf['Date'])\n",
    "    df_yf.set_index('Date', inplace=True)\n",
    "else:\n",
    "    print(\"The 'Date' column is not present in the dataset.\")\n",
    "\n",
    "# Display the first few rows\n",
    "df_yf.tail()"
   ]
  },
  {
   "cell_type": "markdown",
   "metadata": {},
   "source": [
    "| **Exchange Rate (Forex)** | `USDBRL=X`, `EURBRL=X` | USD/BRL (Dollar to Real), EUR/BRL (Euro to Real) |"
   ]
  },
  {
   "cell_type": "code",
   "execution_count": null,
   "metadata": {},
   "outputs": [],
   "source": [
    "# Flatten the multi-level column index\n",
    "df_yf.columns = ['_'.join(col).strip() for col in df_yf.columns.values]\n",
    "\n",
    "# Display the first few rows of the updated dataset\n",
    "df_yf.tail()"
   ]
  },
  {
   "cell_type": "markdown",
   "metadata": {},
   "source": [
    "### bcb - Banco Central do Brasil\n",
    "\n",
    "https://www3.bcb.gov.br/sgspub/localizarseries/localizarSeries.do?method=prepararTelaLocalizarSeries"
   ]
  },
  {
   "cell_type": "code",
   "execution_count": null,
   "metadata": {},
   "outputs": [],
   "source": [
    "series_br = {\n",
    "    'SELIC_Efetiva_Diaria': 11,\n",
    "    'SELIC_Meta_Anual': 432,\n",
    "    'IPCA_Mensal': 433,\n",
    "    'IGP_M_Mensal': 189,\n",
    "    'INCC_Mensal': 192,\n",
    "    'Indice_Condicoes_Econ_BR': 27574,\n",
    "    'Indice_Condicoes_Econ_BR_USD': 29042,\n",
    "    'Salario_Minimo': 1619,\n",
    "    'IBC_BR': 24363,\n",
    "    'Populacao_BR': 21774,\n",
    "    'PIB_Trimestral_Real': 4380,\n",
    "    'PIB_Anual_Corrente': 7326,\n",
    "    'Deflator_Implicito_PIB': 1211\n",
    "}\n"
   ]
  },
  {
   "cell_type": "code",
   "execution_count": null,
   "metadata": {},
   "outputs": [],
   "source": [
    "# Função para buscar uma série do SGS\n",
    "def get_bcb_series(sgs_code, start,end):\n",
    "    url = f'https://api.bcb.gov.br/dados/serie/bcdata.sgs.{sgs_code}/dados'\n",
    "    \n",
    "    # Monta os parâmetros corretamente no formato da API\n",
    "    params = {\n",
    "        'formato': 'json',\n",
    "        'dataInicial': start.strftime('%d/%m/%Y'),  # Formato dd/mm/yyyy\n",
    "        'dataFinal': end.strftime('%d/%m/%Y'),      # Formato dd/mm/yyyy\n",
    "    }\n",
    "\n",
    "    # Requisição\n",
    "    response = requests.get(url, params=params)\n",
    "    data = response.json()\n",
    "\n",
    "    # Verifica se a resposta está vazia\n",
    "    if not data:\n",
    "        print(f\"Warning: No data found for SGS code {sgs_code} between {start} and {end}.\")\n",
    "        return data\n",
    "    \n",
    "    return data"
   ]
  },
  {
   "cell_type": "code",
   "execution_count": null,
   "metadata": {},
   "outputs": [],
   "source": [
    "# Baixar todas as séries e armazenar num dicionário\n",
    "br_dataframes = {}\n",
    "for name, code in series_br.items():\n",
    "    print(f'Baixando {name} (código {code})...')\n",
    "    try:\n",
    "        br_dataframes[name] = pd.DataFrame(get_bcb_series(code, start=dt_start,end=dt_end))\n",
    "    except Exception as e:\n",
    "        print(f\"Erro ao baixar a série {name} (código {code}): {e}\")"
   ]
  },
  {
   "cell_type": "code",
   "execution_count": null,
   "metadata": {},
   "outputs": [],
   "source": [
    "# Combine all DataFrames in the dictionary into a single DataFrame\n",
    "df_br = pd.concat(\n",
    "    {key: df.assign(data=pd.to_datetime(df['data'], format='%d/%m/%Y'))\n",
    "          .set_index('data')['valor']\n",
    "     for key, df in br_dataframes.items()},\n",
    "    axis=1\n",
    ")\n",
    "\n",
    "# Sort the DataFrame by index (date)\n",
    "df_br.sort_index(inplace=True)\n",
    "\n",
    "# Display the resulting DataFrame\n",
    "df_br.ffill().tail()"
   ]
  },
  {
   "cell_type": "markdown",
   "metadata": {},
   "source": [
    "### pandas_datareader"
   ]
  },
  {
   "cell_type": "code",
   "execution_count": null,
   "metadata": {},
   "outputs": [],
   "source": [
    "# Dicionário com os códigos do FRED e nomes mais amigáveis\n",
    "series_usa = {\n",
    "    'DEXBZUS': 'BRL_USD',\n",
    "    'CPIAUCSL': 'CPI_USA',\n",
    "}"
   ]
  },
  {
   "cell_type": "code",
   "execution_count": null,
   "metadata": {},
   "outputs": [],
   "source": [
    "# Puxar todas as séries e juntar num único DataFrame\n",
    "df_usa = pd.concat(\n",
    "    [web.DataReader(code, 'fred', dt_start, dt_end).rename(columns={code: name})\n",
    "     for code, name in series_usa.items()],\n",
    "    axis=1\n",
    ")"
   ]
  },
  {
   "cell_type": "code",
   "execution_count": null,
   "metadata": {},
   "outputs": [],
   "source": [
    "df_usa.tail()"
   ]
  },
  {
   "cell_type": "markdown",
   "metadata": {},
   "source": [
    "## Load dataset"
   ]
  },
  {
   "cell_type": "code",
   "execution_count": null,
   "metadata": {},
   "outputs": [],
   "source": [
    "# Juntar os três DataFrames com base no índice\n",
    "dataset = df_yf.join([df_br, df_usa], how='left')\n",
    "\n",
    "dataset.ffill(inplace=True) # Preencher valores ausentes com o último valor conhecido\n",
    "dataset.bfill(inplace=True) # Preencher valores ausentes com o último valor conhecido\n",
    "\n",
    "# Exibir as primeiras linhas do DataFrame resultante\n",
    "print(dataset.tail())"
   ]
  },
  {
   "cell_type": "code",
   "execution_count": null,
   "metadata": {},
   "outputs": [],
   "source": [
    "dataset.loc['2025-01-02']"
   ]
  },
  {
   "cell_type": "code",
   "execution_count": null,
   "metadata": {},
   "outputs": [],
   "source": [
    "dataset.info(verbose=True)"
   ]
  },
  {
   "cell_type": "code",
   "execution_count": null,
   "metadata": {},
   "outputs": [],
   "source": [
    "# Save to a CSV file\n",
    "dataset.to_csv('../data/raw/dataset.csv')"
   ]
  }
 ],
 "metadata": {
  "kernelspec": {
   "display_name": ".venv",
   "language": "python",
   "name": "python3"
  },
  "language_info": {
   "codemirror_mode": {
    "name": "ipython",
    "version": 3
   },
   "file_extension": ".py",
   "mimetype": "text/x-python",
   "name": "python",
   "nbconvert_exporter": "python",
   "pygments_lexer": "ipython3",
   "version": "3.12.9"
  }
 },
 "nbformat": 4,
 "nbformat_minor": 2
}
